{
  "nbformat": 4,
  "nbformat_minor": 0,
  "metadata": {
    "colab": {
      "name": "Healthcare_II_Code.ipynb",
      "provenance": [],
      "collapsed_sections": [],
      "toc_visible": true,
      "include_colab_link": true
    },
    "kernelspec": {
      "name": "python3",
      "display_name": "Python 3"
    }
  },
  "cells": [
    {
      "cell_type": "markdown",
      "metadata": {
        "id": "view-in-github",
        "colab_type": "text"
      },
      "source": [
        "<a href=\"https://colab.research.google.com/github/anchhabra1305n/Data-Science-Practice-Problems/blob/master/Healthcare_II_Code.ipynb\" target=\"_parent\"><img src=\"https://colab.research.google.com/assets/colab-badge.svg\" alt=\"Open In Colab\"/></a>"
      ]
    },
    {
      "cell_type": "code",
      "metadata": {
        "id": "HicrPP-WCqEx",
        "outputId": "61944a98-4cf4-488b-a287-4291e0de8590",
        "colab": {
          "base_uri": "https://localhost:8080/",
          "height": 142
        }
      },
      "source": [
        "from google.colab import drive\n",
        "drive.mount('/content/drive/')\n",
        "\n",
        "project_path =  '/content/drive/My Drive/Healthcare_Analytics_Jantahack_AV/'\n",
        "project_path"
      ],
      "execution_count": null,
      "outputs": [
        {
          "output_type": "stream",
          "text": [
            "Go to this URL in a browser: https://accounts.google.com/o/oauth2/auth?client_id=947318989803-6bn6qk8qdgf4n4g3pfee6491hc0brc4i.apps.googleusercontent.com&redirect_uri=urn%3aietf%3awg%3aoauth%3a2.0%3aoob&scope=email%20https%3a%2f%2fwww.googleapis.com%2fauth%2fdocs.test%20https%3a%2f%2fwww.googleapis.com%2fauth%2fdrive%20https%3a%2f%2fwww.googleapis.com%2fauth%2fdrive.photos.readonly%20https%3a%2f%2fwww.googleapis.com%2fauth%2fpeopleapi.readonly&response_type=code\n",
            "\n",
            "Enter your authorization code:\n",
            "··········\n",
            "Mounted at /content/drive/\n"
          ],
          "name": "stdout"
        },
        {
          "output_type": "execute_result",
          "data": {
            "application/vnd.google.colaboratory.intrinsic+json": {
              "type": "string"
            },
            "text/plain": [
              "'/content/drive/My Drive/Healthcare_Analytics_Jantahack_AV/'"
            ]
          },
          "metadata": {
            "tags": []
          },
          "execution_count": 2
        }
      ]
    },
    {
      "cell_type": "code",
      "metadata": {
        "id": "WuOZWp57YIHM",
        "outputId": "f31605cb-af7e-4e04-bf76-66461a0cdf6e",
        "colab": {
          "base_uri": "https://localhost:8080/",
          "height": 72
        }
      },
      "source": [
        "import pandas as pd\n",
        "import numpy as np\n",
        "# from sklearn.datasets import load_boston\n",
        "import matplotlib.pyplot as plt\n",
        "%matplotlib inline\n",
        "import seaborn as sns\n",
        "\n",
        "# Decision Tree Classifier\n",
        "from sklearn.tree import DecisionTreeClassifier\n",
        "\n",
        "from IPython.core.interactiveshell import InteractiveShell\n",
        "InteractiveShell.ast_node_interactivity = \"all\"\n",
        "\n",
        "# Iris Dataset\n",
        "from sklearn.datasets import load_iris\n",
        "\n",
        "#Plotting Decision Tree\n",
        "# !pip install graphviz\n",
        "import graphviz\n",
        "\n"
      ],
      "execution_count": null,
      "outputs": [
        {
          "output_type": "stream",
          "text": [
            "/usr/local/lib/python3.6/dist-packages/statsmodels/tools/_testing.py:19: FutureWarning: pandas.util.testing is deprecated. Use the functions in the public API at pandas.testing instead.\n",
            "  import pandas.util.testing as tm\n"
          ],
          "name": "stderr"
        }
      ]
    },
    {
      "cell_type": "code",
      "metadata": {
        "id": "GwoERkW5Y3X1",
        "outputId": "55f1bce3-047c-4f2c-da50-c7215263c36c",
        "colab": {
          "base_uri": "https://localhost:8080/",
          "height": 488
        }
      },
      "source": [
        "!pip install sweetviz\n",
        "import sweetviz"
      ],
      "execution_count": null,
      "outputs": [
        {
          "output_type": "stream",
          "text": [
            "Collecting sweetviz\n",
            "\u001b[?25l  Downloading https://files.pythonhosted.org/packages/87/8a/a4025101bfc8141e3d9f2fd68b3861183dd165ee632af6bf4d9308c89229/sweetviz-1.0b6-py3-none-any.whl (325kB)\n",
            "\r\u001b[K     |█                               | 10kB 16.0MB/s eta 0:00:01\r\u001b[K     |██                              | 20kB 2.8MB/s eta 0:00:01\r\u001b[K     |███                             | 30kB 3.8MB/s eta 0:00:01\r\u001b[K     |████                            | 40kB 4.2MB/s eta 0:00:01\r\u001b[K     |█████                           | 51kB 3.3MB/s eta 0:00:01\r\u001b[K     |██████                          | 61kB 3.7MB/s eta 0:00:01\r\u001b[K     |███████                         | 71kB 4.0MB/s eta 0:00:01\r\u001b[K     |████████                        | 81kB 4.3MB/s eta 0:00:01\r\u001b[K     |█████████                       | 92kB 4.5MB/s eta 0:00:01\r\u001b[K     |██████████                      | 102kB 4.4MB/s eta 0:00:01\r\u001b[K     |███████████                     | 112kB 4.4MB/s eta 0:00:01\r\u001b[K     |████████████                    | 122kB 4.4MB/s eta 0:00:01\r\u001b[K     |█████████████                   | 133kB 4.4MB/s eta 0:00:01\r\u001b[K     |██████████████                  | 143kB 4.4MB/s eta 0:00:01\r\u001b[K     |███████████████                 | 153kB 4.4MB/s eta 0:00:01\r\u001b[K     |████████████████                | 163kB 4.4MB/s eta 0:00:01\r\u001b[K     |█████████████████▏              | 174kB 4.4MB/s eta 0:00:01\r\u001b[K     |██████████████████▏             | 184kB 4.4MB/s eta 0:00:01\r\u001b[K     |███████████████████▏            | 194kB 4.4MB/s eta 0:00:01\r\u001b[K     |████████████████████▏           | 204kB 4.4MB/s eta 0:00:01\r\u001b[K     |█████████████████████▏          | 215kB 4.4MB/s eta 0:00:01\r\u001b[K     |██████████████████████▏         | 225kB 4.4MB/s eta 0:00:01\r\u001b[K     |███████████████████████▏        | 235kB 4.4MB/s eta 0:00:01\r\u001b[K     |████████████████████████▏       | 245kB 4.4MB/s eta 0:00:01\r\u001b[K     |█████████████████████████▏      | 256kB 4.4MB/s eta 0:00:01\r\u001b[K     |██████████████████████████▏     | 266kB 4.4MB/s eta 0:00:01\r\u001b[K     |███████████████████████████▏    | 276kB 4.4MB/s eta 0:00:01\r\u001b[K     |████████████████████████████▏   | 286kB 4.4MB/s eta 0:00:01\r\u001b[K     |█████████████████████████████▏  | 296kB 4.4MB/s eta 0:00:01\r\u001b[K     |██████████████████████████████▏ | 307kB 4.4MB/s eta 0:00:01\r\u001b[K     |███████████████████████████████▏| 317kB 4.4MB/s eta 0:00:01\r\u001b[K     |████████████████████████████████| 327kB 4.4MB/s \n",
            "\u001b[?25hRequirement already satisfied: matplotlib>=3.1.3 in /usr/local/lib/python3.6/dist-packages (from sweetviz) (3.2.2)\n",
            "Collecting importlib-resources>=1.2.0\n",
            "  Downloading https://files.pythonhosted.org/packages/ba/03/0f9595c0c2ef12590877f3c47e5f579759ce5caf817f8256d5dcbd8a1177/importlib_resources-3.0.0-py2.py3-none-any.whl\n",
            "Collecting tqdm>=4.43.0\n",
            "\u001b[?25l  Downloading https://files.pythonhosted.org/packages/28/7e/281edb5bc3274dfb894d90f4dbacfceaca381c2435ec6187a2c6f329aed7/tqdm-4.48.2-py2.py3-none-any.whl (68kB)\n",
            "\u001b[K     |████████████████████████████████| 71kB 6.6MB/s \n",
            "\u001b[?25hRequirement already satisfied: scipy>=1.3.2 in /usr/local/lib/python3.6/dist-packages (from sweetviz) (1.4.1)\n",
            "Requirement already satisfied: numpy>=1.16.0 in /usr/local/lib/python3.6/dist-packages (from sweetviz) (1.18.5)\n",
            "Requirement already satisfied: jinja2>=2.11.1 in /usr/local/lib/python3.6/dist-packages (from sweetviz) (2.11.2)\n",
            "Requirement already satisfied: pandas!=1.0.0,!=1.0.1,!=1.0.2,>=0.25.3 in /usr/local/lib/python3.6/dist-packages (from sweetviz) (1.0.5)\n",
            "Requirement already satisfied: python-dateutil>=2.1 in /usr/local/lib/python3.6/dist-packages (from matplotlib>=3.1.3->sweetviz) (2.8.1)\n",
            "Requirement already satisfied: kiwisolver>=1.0.1 in /usr/local/lib/python3.6/dist-packages (from matplotlib>=3.1.3->sweetviz) (1.2.0)\n",
            "Requirement already satisfied: cycler>=0.10 in /usr/local/lib/python3.6/dist-packages (from matplotlib>=3.1.3->sweetviz) (0.10.0)\n",
            "Requirement already satisfied: pyparsing!=2.0.4,!=2.1.2,!=2.1.6,>=2.0.1 in /usr/local/lib/python3.6/dist-packages (from matplotlib>=3.1.3->sweetviz) (2.4.7)\n",
            "Requirement already satisfied: zipp>=0.4; python_version < \"3.8\" in /usr/local/lib/python3.6/dist-packages (from importlib-resources>=1.2.0->sweetviz) (3.1.0)\n",
            "Requirement already satisfied: MarkupSafe>=0.23 in /usr/local/lib/python3.6/dist-packages (from jinja2>=2.11.1->sweetviz) (1.1.1)\n",
            "Requirement already satisfied: pytz>=2017.2 in /usr/local/lib/python3.6/dist-packages (from pandas!=1.0.0,!=1.0.1,!=1.0.2,>=0.25.3->sweetviz) (2018.9)\n",
            "Requirement already satisfied: six>=1.5 in /usr/local/lib/python3.6/dist-packages (from python-dateutil>=2.1->matplotlib>=3.1.3->sweetviz) (1.15.0)\n",
            "Installing collected packages: importlib-resources, tqdm, sweetviz\n",
            "  Found existing installation: tqdm 4.41.1\n",
            "    Uninstalling tqdm-4.41.1:\n",
            "      Successfully uninstalled tqdm-4.41.1\n",
            "Successfully installed importlib-resources-3.0.0 sweetviz-1.0b6 tqdm-4.48.2\n"
          ],
          "name": "stdout"
        }
      ]
    },
    {
      "cell_type": "code",
      "metadata": {
        "id": "BetUh3JMHa5P"
      },
      "source": [
        "pd.options.display.max_columns = None"
      ],
      "execution_count": null,
      "outputs": []
    },
    {
      "cell_type": "code",
      "metadata": {
        "id": "s6X1-GGzY28o",
        "outputId": "ac119da9-80f9-4aaa-8bdd-aecf5c380608",
        "colab": {
          "base_uri": "https://localhost:8080/",
          "height": 243
        }
      },
      "source": [
        "train_main = pd.read_csv(project_path+'train.csv')\n",
        "test_main = pd.read_csv(project_path+'test.csv')\n",
        "train_main.columns\n",
        "test_main.columns"
      ],
      "execution_count": null,
      "outputs": [
        {
          "output_type": "execute_result",
          "data": {
            "text/plain": [
              "Index(['case_id', 'Hospital_code', 'Hospital_type_code', 'City_Code_Hospital',\n",
              "       'Hospital_region_code', 'Available Extra Rooms in Hospital',\n",
              "       'Department', 'Ward_Type', 'Ward_Facility_Code', 'Bed Grade',\n",
              "       'patientid', 'City_Code_Patient', 'Type of Admission',\n",
              "       'Severity of Illness', 'Visitors with Patient', 'Age',\n",
              "       'Admission_Deposit', 'Stay'],\n",
              "      dtype='object')"
            ]
          },
          "metadata": {
            "tags": []
          },
          "execution_count": 14
        },
        {
          "output_type": "execute_result",
          "data": {
            "text/plain": [
              "Index(['case_id', 'Hospital_code', 'Hospital_type_code', 'City_Code_Hospital',\n",
              "       'Hospital_region_code', 'Available Extra Rooms in Hospital',\n",
              "       'Department', 'Ward_Type', 'Ward_Facility_Code', 'Bed Grade',\n",
              "       'patientid', 'City_Code_Patient', 'Type of Admission',\n",
              "       'Severity of Illness', 'Visitors with Patient', 'Age',\n",
              "       'Admission_Deposit'],\n",
              "      dtype='object')"
            ]
          },
          "metadata": {
            "tags": []
          },
          "execution_count": 14
        }
      ]
    },
    {
      "cell_type": "code",
      "metadata": {
        "id": "Cf4S_d-3D1tM",
        "outputId": "780fd059-1516-4b4b-8a82-38babc8abe40",
        "colab": {
          "base_uri": "https://localhost:8080/",
          "height": 265
        }
      },
      "source": [
        "train_main.head(3)"
      ],
      "execution_count": null,
      "outputs": [
        {
          "output_type": "execute_result",
          "data": {
            "text/html": [
              "<div>\n",
              "<style scoped>\n",
              "    .dataframe tbody tr th:only-of-type {\n",
              "        vertical-align: middle;\n",
              "    }\n",
              "\n",
              "    .dataframe tbody tr th {\n",
              "        vertical-align: top;\n",
              "    }\n",
              "\n",
              "    .dataframe thead th {\n",
              "        text-align: right;\n",
              "    }\n",
              "</style>\n",
              "<table border=\"1\" class=\"dataframe\">\n",
              "  <thead>\n",
              "    <tr style=\"text-align: right;\">\n",
              "      <th></th>\n",
              "      <th>case_id</th>\n",
              "      <th>Hospital_code</th>\n",
              "      <th>Hospital_type_code</th>\n",
              "      <th>City_Code_Hospital</th>\n",
              "      <th>Hospital_region_code</th>\n",
              "      <th>Available Extra Rooms in Hospital</th>\n",
              "      <th>Department</th>\n",
              "      <th>Ward_Type</th>\n",
              "      <th>Ward_Facility_Code</th>\n",
              "      <th>Bed Grade</th>\n",
              "      <th>patientid</th>\n",
              "      <th>City_Code_Patient</th>\n",
              "      <th>Type of Admission</th>\n",
              "      <th>Severity of Illness</th>\n",
              "      <th>Visitors with Patient</th>\n",
              "      <th>Age</th>\n",
              "      <th>Admission_Deposit</th>\n",
              "      <th>Stay</th>\n",
              "    </tr>\n",
              "  </thead>\n",
              "  <tbody>\n",
              "    <tr>\n",
              "      <th>0</th>\n",
              "      <td>1</td>\n",
              "      <td>8</td>\n",
              "      <td>c</td>\n",
              "      <td>3</td>\n",
              "      <td>Z</td>\n",
              "      <td>3</td>\n",
              "      <td>radiotherapy</td>\n",
              "      <td>R</td>\n",
              "      <td>F</td>\n",
              "      <td>2.0</td>\n",
              "      <td>31397</td>\n",
              "      <td>7.0</td>\n",
              "      <td>Emergency</td>\n",
              "      <td>Extreme</td>\n",
              "      <td>2</td>\n",
              "      <td>51-60</td>\n",
              "      <td>4911.0</td>\n",
              "      <td>0-10</td>\n",
              "    </tr>\n",
              "    <tr>\n",
              "      <th>1</th>\n",
              "      <td>2</td>\n",
              "      <td>2</td>\n",
              "      <td>c</td>\n",
              "      <td>5</td>\n",
              "      <td>Z</td>\n",
              "      <td>2</td>\n",
              "      <td>radiotherapy</td>\n",
              "      <td>S</td>\n",
              "      <td>F</td>\n",
              "      <td>2.0</td>\n",
              "      <td>31397</td>\n",
              "      <td>7.0</td>\n",
              "      <td>Trauma</td>\n",
              "      <td>Extreme</td>\n",
              "      <td>2</td>\n",
              "      <td>51-60</td>\n",
              "      <td>5954.0</td>\n",
              "      <td>41-50</td>\n",
              "    </tr>\n",
              "    <tr>\n",
              "      <th>2</th>\n",
              "      <td>3</td>\n",
              "      <td>10</td>\n",
              "      <td>e</td>\n",
              "      <td>1</td>\n",
              "      <td>X</td>\n",
              "      <td>2</td>\n",
              "      <td>anesthesia</td>\n",
              "      <td>S</td>\n",
              "      <td>E</td>\n",
              "      <td>2.0</td>\n",
              "      <td>31397</td>\n",
              "      <td>7.0</td>\n",
              "      <td>Trauma</td>\n",
              "      <td>Extreme</td>\n",
              "      <td>2</td>\n",
              "      <td>51-60</td>\n",
              "      <td>4745.0</td>\n",
              "      <td>31-40</td>\n",
              "    </tr>\n",
              "  </tbody>\n",
              "</table>\n",
              "</div>"
            ],
            "text/plain": [
              "   case_id  Hospital_code Hospital_type_code  City_Code_Hospital  \\\n",
              "0        1              8                  c                   3   \n",
              "1        2              2                  c                   5   \n",
              "2        3             10                  e                   1   \n",
              "\n",
              "  Hospital_region_code  Available Extra Rooms in Hospital    Department  \\\n",
              "0                    Z                                  3  radiotherapy   \n",
              "1                    Z                                  2  radiotherapy   \n",
              "2                    X                                  2    anesthesia   \n",
              "\n",
              "  Ward_Type Ward_Facility_Code  Bed Grade  patientid  City_Code_Patient  \\\n",
              "0         R                  F        2.0      31397                7.0   \n",
              "1         S                  F        2.0      31397                7.0   \n",
              "2         S                  E        2.0      31397                7.0   \n",
              "\n",
              "  Type of Admission Severity of Illness  Visitors with Patient    Age  \\\n",
              "0         Emergency             Extreme                      2  51-60   \n",
              "1            Trauma             Extreme                      2  51-60   \n",
              "2            Trauma             Extreme                      2  51-60   \n",
              "\n",
              "   Admission_Deposit   Stay  \n",
              "0             4911.0   0-10  \n",
              "1             5954.0  41-50  \n",
              "2             4745.0  31-40  "
            ]
          },
          "metadata": {
            "tags": []
          },
          "execution_count": 15
        }
      ]
    },
    {
      "cell_type": "code",
      "metadata": {
        "id": "wI4OV7yfD7Ij",
        "outputId": "0992776f-6d64-4ff1-9e3c-9660f82b7307",
        "colab": {
          "base_uri": "https://localhost:8080/",
          "height": 451
        }
      },
      "source": [
        "train_main.info()"
      ],
      "execution_count": null,
      "outputs": [
        {
          "output_type": "stream",
          "text": [
            "<class 'pandas.core.frame.DataFrame'>\n",
            "RangeIndex: 318438 entries, 0 to 318437\n",
            "Data columns (total 18 columns):\n",
            " #   Column                             Non-Null Count   Dtype  \n",
            "---  ------                             --------------   -----  \n",
            " 0   case_id                            318438 non-null  int64  \n",
            " 1   Hospital_code                      318438 non-null  int64  \n",
            " 2   Hospital_type_code                 318438 non-null  object \n",
            " 3   City_Code_Hospital                 318438 non-null  int64  \n",
            " 4   Hospital_region_code               318438 non-null  object \n",
            " 5   Available Extra Rooms in Hospital  318438 non-null  int64  \n",
            " 6   Department                         318438 non-null  object \n",
            " 7   Ward_Type                          318438 non-null  object \n",
            " 8   Ward_Facility_Code                 318438 non-null  object \n",
            " 9   Bed Grade                          318325 non-null  float64\n",
            " 10  patientid                          318438 non-null  int64  \n",
            " 11  City_Code_Patient                  313906 non-null  float64\n",
            " 12  Type of Admission                  318438 non-null  object \n",
            " 13  Severity of Illness                318438 non-null  object \n",
            " 14  Visitors with Patient              318438 non-null  int64  \n",
            " 15  Age                                318438 non-null  object \n",
            " 16  Admission_Deposit                  318438 non-null  float64\n",
            " 17  Stay                               318438 non-null  object \n",
            "dtypes: float64(3), int64(6), object(9)\n",
            "memory usage: 43.7+ MB\n"
          ],
          "name": "stdout"
        }
      ]
    },
    {
      "cell_type": "code",
      "metadata": {
        "id": "IRUQ_y54D-5b",
        "outputId": "3f48e168-6b43-441f-d9ca-2413057f3116",
        "colab": {
          "base_uri": "https://localhost:8080/",
          "height": 1000
        }
      },
      "source": [
        "missing_train1 = train_main.isnull().sum()\n",
        "missing_train2 = train_main.isnull().sum()/len(train_main)\n",
        "missing_train3 = pd.concat([missing_train1, missing_train2],axis = 1)\n",
        "missing_train3 = missing_train3.rename(columns={0:'Missing_values',1: 'Missing_Values_Dis'})\n",
        "missing_train3\n",
        "\n",
        "missing_test1 = train_main.isnull().sum()\n",
        "missing_test2 = train_main.isnull().sum()/len(train_main)\n",
        "missing_test3 = pd.concat([missing_test1, missing_test2],axis = 1)\n",
        "missing_test3 = missing_test3.rename(columns={0:'Missing_values',1: 'Missing_Values_Dis'})\n",
        "missing_test3"
      ],
      "execution_count": null,
      "outputs": [
        {
          "output_type": "execute_result",
          "data": {
            "text/html": [
              "<div>\n",
              "<style scoped>\n",
              "    .dataframe tbody tr th:only-of-type {\n",
              "        vertical-align: middle;\n",
              "    }\n",
              "\n",
              "    .dataframe tbody tr th {\n",
              "        vertical-align: top;\n",
              "    }\n",
              "\n",
              "    .dataframe thead th {\n",
              "        text-align: right;\n",
              "    }\n",
              "</style>\n",
              "<table border=\"1\" class=\"dataframe\">\n",
              "  <thead>\n",
              "    <tr style=\"text-align: right;\">\n",
              "      <th></th>\n",
              "      <th>Missing_values</th>\n",
              "      <th>Missing_Values_Dis</th>\n",
              "    </tr>\n",
              "  </thead>\n",
              "  <tbody>\n",
              "    <tr>\n",
              "      <th>case_id</th>\n",
              "      <td>0</td>\n",
              "      <td>0.000000</td>\n",
              "    </tr>\n",
              "    <tr>\n",
              "      <th>Hospital_code</th>\n",
              "      <td>0</td>\n",
              "      <td>0.000000</td>\n",
              "    </tr>\n",
              "    <tr>\n",
              "      <th>Hospital_type_code</th>\n",
              "      <td>0</td>\n",
              "      <td>0.000000</td>\n",
              "    </tr>\n",
              "    <tr>\n",
              "      <th>City_Code_Hospital</th>\n",
              "      <td>0</td>\n",
              "      <td>0.000000</td>\n",
              "    </tr>\n",
              "    <tr>\n",
              "      <th>Hospital_region_code</th>\n",
              "      <td>0</td>\n",
              "      <td>0.000000</td>\n",
              "    </tr>\n",
              "    <tr>\n",
              "      <th>Available Extra Rooms in Hospital</th>\n",
              "      <td>0</td>\n",
              "      <td>0.000000</td>\n",
              "    </tr>\n",
              "    <tr>\n",
              "      <th>Department</th>\n",
              "      <td>0</td>\n",
              "      <td>0.000000</td>\n",
              "    </tr>\n",
              "    <tr>\n",
              "      <th>Ward_Type</th>\n",
              "      <td>0</td>\n",
              "      <td>0.000000</td>\n",
              "    </tr>\n",
              "    <tr>\n",
              "      <th>Ward_Facility_Code</th>\n",
              "      <td>0</td>\n",
              "      <td>0.000000</td>\n",
              "    </tr>\n",
              "    <tr>\n",
              "      <th>Bed Grade</th>\n",
              "      <td>113</td>\n",
              "      <td>0.000355</td>\n",
              "    </tr>\n",
              "    <tr>\n",
              "      <th>patientid</th>\n",
              "      <td>0</td>\n",
              "      <td>0.000000</td>\n",
              "    </tr>\n",
              "    <tr>\n",
              "      <th>City_Code_Patient</th>\n",
              "      <td>4532</td>\n",
              "      <td>0.014232</td>\n",
              "    </tr>\n",
              "    <tr>\n",
              "      <th>Type of Admission</th>\n",
              "      <td>0</td>\n",
              "      <td>0.000000</td>\n",
              "    </tr>\n",
              "    <tr>\n",
              "      <th>Severity of Illness</th>\n",
              "      <td>0</td>\n",
              "      <td>0.000000</td>\n",
              "    </tr>\n",
              "    <tr>\n",
              "      <th>Visitors with Patient</th>\n",
              "      <td>0</td>\n",
              "      <td>0.000000</td>\n",
              "    </tr>\n",
              "    <tr>\n",
              "      <th>Age</th>\n",
              "      <td>0</td>\n",
              "      <td>0.000000</td>\n",
              "    </tr>\n",
              "    <tr>\n",
              "      <th>Admission_Deposit</th>\n",
              "      <td>0</td>\n",
              "      <td>0.000000</td>\n",
              "    </tr>\n",
              "    <tr>\n",
              "      <th>Stay</th>\n",
              "      <td>0</td>\n",
              "      <td>0.000000</td>\n",
              "    </tr>\n",
              "  </tbody>\n",
              "</table>\n",
              "</div>"
            ],
            "text/plain": [
              "                                   Missing_values  Missing_Values_Dis\n",
              "case_id                                         0            0.000000\n",
              "Hospital_code                                   0            0.000000\n",
              "Hospital_type_code                              0            0.000000\n",
              "City_Code_Hospital                              0            0.000000\n",
              "Hospital_region_code                            0            0.000000\n",
              "Available Extra Rooms in Hospital               0            0.000000\n",
              "Department                                      0            0.000000\n",
              "Ward_Type                                       0            0.000000\n",
              "Ward_Facility_Code                              0            0.000000\n",
              "Bed Grade                                     113            0.000355\n",
              "patientid                                       0            0.000000\n",
              "City_Code_Patient                            4532            0.014232\n",
              "Type of Admission                               0            0.000000\n",
              "Severity of Illness                             0            0.000000\n",
              "Visitors with Patient                           0            0.000000\n",
              "Age                                             0            0.000000\n",
              "Admission_Deposit                               0            0.000000\n",
              "Stay                                            0            0.000000"
            ]
          },
          "metadata": {
            "tags": []
          },
          "execution_count": 17
        },
        {
          "output_type": "execute_result",
          "data": {
            "text/html": [
              "<div>\n",
              "<style scoped>\n",
              "    .dataframe tbody tr th:only-of-type {\n",
              "        vertical-align: middle;\n",
              "    }\n",
              "\n",
              "    .dataframe tbody tr th {\n",
              "        vertical-align: top;\n",
              "    }\n",
              "\n",
              "    .dataframe thead th {\n",
              "        text-align: right;\n",
              "    }\n",
              "</style>\n",
              "<table border=\"1\" class=\"dataframe\">\n",
              "  <thead>\n",
              "    <tr style=\"text-align: right;\">\n",
              "      <th></th>\n",
              "      <th>Missing_values</th>\n",
              "      <th>Missing_Values_Dis</th>\n",
              "    </tr>\n",
              "  </thead>\n",
              "  <tbody>\n",
              "    <tr>\n",
              "      <th>case_id</th>\n",
              "      <td>0</td>\n",
              "      <td>0.000000</td>\n",
              "    </tr>\n",
              "    <tr>\n",
              "      <th>Hospital_code</th>\n",
              "      <td>0</td>\n",
              "      <td>0.000000</td>\n",
              "    </tr>\n",
              "    <tr>\n",
              "      <th>Hospital_type_code</th>\n",
              "      <td>0</td>\n",
              "      <td>0.000000</td>\n",
              "    </tr>\n",
              "    <tr>\n",
              "      <th>City_Code_Hospital</th>\n",
              "      <td>0</td>\n",
              "      <td>0.000000</td>\n",
              "    </tr>\n",
              "    <tr>\n",
              "      <th>Hospital_region_code</th>\n",
              "      <td>0</td>\n",
              "      <td>0.000000</td>\n",
              "    </tr>\n",
              "    <tr>\n",
              "      <th>Available Extra Rooms in Hospital</th>\n",
              "      <td>0</td>\n",
              "      <td>0.000000</td>\n",
              "    </tr>\n",
              "    <tr>\n",
              "      <th>Department</th>\n",
              "      <td>0</td>\n",
              "      <td>0.000000</td>\n",
              "    </tr>\n",
              "    <tr>\n",
              "      <th>Ward_Type</th>\n",
              "      <td>0</td>\n",
              "      <td>0.000000</td>\n",
              "    </tr>\n",
              "    <tr>\n",
              "      <th>Ward_Facility_Code</th>\n",
              "      <td>0</td>\n",
              "      <td>0.000000</td>\n",
              "    </tr>\n",
              "    <tr>\n",
              "      <th>Bed Grade</th>\n",
              "      <td>113</td>\n",
              "      <td>0.000355</td>\n",
              "    </tr>\n",
              "    <tr>\n",
              "      <th>patientid</th>\n",
              "      <td>0</td>\n",
              "      <td>0.000000</td>\n",
              "    </tr>\n",
              "    <tr>\n",
              "      <th>City_Code_Patient</th>\n",
              "      <td>4532</td>\n",
              "      <td>0.014232</td>\n",
              "    </tr>\n",
              "    <tr>\n",
              "      <th>Type of Admission</th>\n",
              "      <td>0</td>\n",
              "      <td>0.000000</td>\n",
              "    </tr>\n",
              "    <tr>\n",
              "      <th>Severity of Illness</th>\n",
              "      <td>0</td>\n",
              "      <td>0.000000</td>\n",
              "    </tr>\n",
              "    <tr>\n",
              "      <th>Visitors with Patient</th>\n",
              "      <td>0</td>\n",
              "      <td>0.000000</td>\n",
              "    </tr>\n",
              "    <tr>\n",
              "      <th>Age</th>\n",
              "      <td>0</td>\n",
              "      <td>0.000000</td>\n",
              "    </tr>\n",
              "    <tr>\n",
              "      <th>Admission_Deposit</th>\n",
              "      <td>0</td>\n",
              "      <td>0.000000</td>\n",
              "    </tr>\n",
              "    <tr>\n",
              "      <th>Stay</th>\n",
              "      <td>0</td>\n",
              "      <td>0.000000</td>\n",
              "    </tr>\n",
              "  </tbody>\n",
              "</table>\n",
              "</div>"
            ],
            "text/plain": [
              "                                   Missing_values  Missing_Values_Dis\n",
              "case_id                                         0            0.000000\n",
              "Hospital_code                                   0            0.000000\n",
              "Hospital_type_code                              0            0.000000\n",
              "City_Code_Hospital                              0            0.000000\n",
              "Hospital_region_code                            0            0.000000\n",
              "Available Extra Rooms in Hospital               0            0.000000\n",
              "Department                                      0            0.000000\n",
              "Ward_Type                                       0            0.000000\n",
              "Ward_Facility_Code                              0            0.000000\n",
              "Bed Grade                                     113            0.000355\n",
              "patientid                                       0            0.000000\n",
              "City_Code_Patient                            4532            0.014232\n",
              "Type of Admission                               0            0.000000\n",
              "Severity of Illness                             0            0.000000\n",
              "Visitors with Patient                           0            0.000000\n",
              "Age                                             0            0.000000\n",
              "Admission_Deposit                               0            0.000000\n",
              "Stay                                            0            0.000000"
            ]
          },
          "metadata": {
            "tags": []
          },
          "execution_count": 17
        }
      ]
    },
    {
      "cell_type": "code",
      "metadata": {
        "id": "9izsbxnufSho"
      },
      "source": [
        "train_main['Bed Grade'] = train_main['Bed Grade'].astype(float)\n",
        "train_main['City_Code_Patient'] = train_main['City_Code_Patient'].astype(float)"
      ],
      "execution_count": null,
      "outputs": []
    },
    {
      "cell_type": "code",
      "metadata": {
        "id": "sd7jqaP-fWTu",
        "outputId": "6515724b-009f-4063-b102-04938748d766",
        "colab": {
          "base_uri": "https://localhost:8080/",
          "height": 347
        }
      },
      "source": [
        "train_main.isnull().sum()"
      ],
      "execution_count": null,
      "outputs": [
        {
          "output_type": "execute_result",
          "data": {
            "text/plain": [
              "case_id                                 0\n",
              "Hospital_code                           0\n",
              "Hospital_type_code                      0\n",
              "City_Code_Hospital                      0\n",
              "Hospital_region_code                    0\n",
              "Available Extra Rooms in Hospital       0\n",
              "Department                              0\n",
              "Ward_Type                               0\n",
              "Ward_Facility_Code                      0\n",
              "Bed Grade                             113\n",
              "patientid                               0\n",
              "City_Code_Patient                    4532\n",
              "Type of Admission                       0\n",
              "Severity of Illness                     0\n",
              "Visitors with Patient                   0\n",
              "Age                                     0\n",
              "Admission_Deposit                       0\n",
              "Stay                                    0\n",
              "dtype: int64"
            ]
          },
          "metadata": {
            "tags": []
          },
          "execution_count": 19
        }
      ]
    },
    {
      "cell_type": "code",
      "metadata": {
        "id": "KQghieaafrP6",
        "outputId": "e14efe95-5f9b-4212-c150-4f42bdd89e10",
        "colab": {
          "base_uri": "https://localhost:8080/",
          "height": 35
        }
      },
      "source": [
        "train_main.columns[train_main.isnull().any()]"
      ],
      "execution_count": null,
      "outputs": [
        {
          "output_type": "execute_result",
          "data": {
            "text/plain": [
              "Index(['Bed Grade', 'City_Code_Patient'], dtype='object')"
            ]
          },
          "metadata": {
            "tags": []
          },
          "execution_count": 20
        }
      ]
    },
    {
      "cell_type": "code",
      "metadata": {
        "id": "AevQlJh-Ey6l"
      },
      "source": [
        "train_main['Hospital_code'] = train_main['Hospital_code'].astype(str)\n",
        "# train_main['Bed Grade'] = train_main['Bed Grade'].astype(str)\n",
        "# train_main['City_Code_Patient'] = train_main['City_Code_Patient'].astype(str)\n",
        "train_main['Available Extra Rooms in Hospital'] = train_main['Available Extra Rooms in Hospital'].astype(str)\n",
        "train_main['City_Code_Hospital'] = train_main['City_Code_Hospital'].astype(str)\n",
        "\n",
        "test_main['Hospital_code'] = test_main['Hospital_code'].astype(str)\n",
        "test_main['Bed Grade'] = test_main['Bed Grade'].astype(str)\n",
        "# test_main['City_Code_Patient'] = test_main['City_Code_Patient'].astype(str)\n",
        "test_main['Available Extra Rooms in Hospital'] = test_main['Available Extra Rooms in Hospital'].astype(str)\n",
        "test_main['City_Code_Hospital'] = test_main['City_Code_Hospital'].astype(str)"
      ],
      "execution_count": null,
      "outputs": []
    },
    {
      "cell_type": "markdown",
      "metadata": {
        "id": "uDucswN9LjfD"
      },
      "source": [
        "### Missing Value Imputation \n",
        "-- KNN Imputer"
      ]
    },
    {
      "cell_type": "code",
      "metadata": {
        "id": "O-iEmUI_L6Kj",
        "outputId": "4798e8e7-cc9f-4ca0-d505-1f049135b482",
        "colab": {
          "base_uri": "https://localhost:8080/",
          "height": 72
        }
      },
      "source": [
        "from fancyimpute import KNN\n",
        "from sklearn.preprocessing import OrdinalEncoder"
      ],
      "execution_count": null,
      "outputs": [
        {
          "output_type": "stream",
          "text": [
            "/usr/local/lib/python3.6/dist-packages/sklearn/externals/six.py:31: FutureWarning: The module is deprecated in version 0.21 and will be removed in version 0.23 since we've dropped support for Python 2.7. Please rely on the official version of six (https://pypi.org/project/six/).\n",
            "  \"(https://pypi.org/project/six/).\", FutureWarning)\n"
          ],
          "name": "stderr"
        }
      ]
    },
    {
      "cell_type": "code",
      "metadata": {
        "id": "lLjQIk-TOnj3",
        "outputId": "3ff4b5c9-a192-4398-caa1-fec228feb59f",
        "colab": {
          "base_uri": "https://localhost:8080/",
          "height": 414
        }
      },
      "source": [
        "plt.rcParams['figure.figsize'] = (12, 6)\n",
        "sns.distplot(train_main['Admission_Deposit'], color = 'green')\n",
        "plt.title('Distribution of Amount Deposited by the Patients', fontsize = 20)\n",
        "plt.xlabel('Admission Deposit', fontsize = 15)\n",
        "plt.ylabel('count')\n",
        "plt.show();"
      ],
      "execution_count": null,
      "outputs": [
        {
          "output_type": "display_data",
          "data": {
            "image/png": "[encoded data removed]",
            "text/plain": [
              "<Figure size 864x432 with 1 Axes>"
            ]
          },
          "metadata": {
            "tags": [],
            "needs_background": "light"
          }
        }
      ]
    },
    {
      "cell_type": "code",
      "metadata": {
        "id": "Fb4PBoxWPTx4",
        "outputId": "581b0abc-9c0c-4f27-9115-f047eab9d54f",
        "colab": {
          "base_uri": "https://localhost:8080/",
          "height": 407
        }
      },
      "source": [
        "sns.boxplot(x =  train_main['Admission_Deposit'])\n",
        "# sns.boxplot(x=test_data['LoanAmount'])"
      ],
      "execution_count": null,
      "outputs": [
        {
          "output_type": "execute_result",
          "data": {
            "text/plain": [
              "<matplotlib.axes._subplots.AxesSubplot at 0x7fda40878b00>"
            ]
          },
          "metadata": {
            "tags": []
          },
          "execution_count": 24
        },
        {
          "output_type": "display_data",
          "data": {
            "image/png": "[encoded data removed]",
            "text/plain": [
              "<Figure size 864x432 with 1 Axes>"
            ]
          },
          "metadata": {
            "tags": [],
            "needs_background": "light"
          }
        }
      ]
    },
    {
      "cell_type": "code",
      "metadata": {
        "id": "WxXf_6nPTaHI",
        "outputId": "a42d7954-a909-4bc4-fe4e-2f128e696d4e",
        "colab": {
          "base_uri": "https://localhost:8080/",
          "height": 407
        }
      },
      "source": [
        "# a,b=plt.subplots(2,2,figsize=(8,10))\n",
        "sns.boxplot(train_main['Admission_Deposit'],train_main['Stay'])\n",
        "# sns.boxplot(df['Hospital_type_code'],df['Stay'],ax=b[0,1])"
      ],
      "execution_count": null,
      "outputs": [
        {
          "output_type": "execute_result",
          "data": {
            "text/plain": [
              "<matplotlib.axes._subplots.AxesSubplot at 0x7fda40245208>"
            ]
          },
          "metadata": {
            "tags": []
          },
          "execution_count": 25
        },
        {
          "output_type": "display_data",
          "data": {
            "image/png": "[encoded data removed]",
            "text/plain": [
              "<Figure size 864x432 with 1 Axes>"
            ]
          },
          "metadata": {
            "tags": [],
            "needs_background": "light"
          }
        }
      ]
    },
    {
      "cell_type": "code",
      "metadata": {
        "id": "FNhvu73MVrco"
      },
      "source": [
        "def bin_var(var1):\n",
        "  if var1 >= 1800 and var1 <=3000:\n",
        "    return '1800-3000'\n",
        "  elif var1 > 3000 and var1 <= 4000:\n",
        "    return '3000-4000'\n",
        "  elif var1 > 4000 and var1 <= 5000:\n",
        "    return '4000-5000'\n",
        "  elif var1 > 5000 and var1 <= 7000:\n",
        "    return '5000-7000'\n",
        "  elif var1 > 7000 and var1 <= 9000:\n",
        "    return '7000-9000'\n",
        "  else:\n",
        "    return '>9000'\n",
        "train_main['Admission_Deposit1']  = train_main[['Admission_Deposit']].apply(lambda x: bin_var(x['Admission_Deposit']),axis=1)\n",
        "test_main['Admission_Deposit1']  = test_main[['Admission_Deposit']].apply(lambda x: bin_var(x['Admission_Deposit']),axis=1)"
      ],
      "execution_count": null,
      "outputs": []
    },
    {
      "cell_type": "code",
      "metadata": {
        "id": "li8jTHDQbEsy"
      },
      "source": [
        "def bin_var(var1):\n",
        "  if var1 >= 0 and var1 <= 2:\n",
        "    return '0-2'\n",
        "  elif var1 > 2 and var1 <= 3:\n",
        "    return '2-3'\n",
        "  elif var1 > 3 and var1 <= 4:\n",
        "    return '3-4'\n",
        "  elif var1 > 4 and var1 <= 5:\n",
        "    return '4-5'\n",
        "  elif var1 > 5 and var1 <= 6:\n",
        "    return '5-6'\n",
        "  else:\n",
        "    return '>7'\n",
        "train_main['Visitors_with_Patient']  = train_main[['Visitors with Patient']].apply(lambda x: bin_var(x['Visitors with Patient']),axis=1)\n",
        "test_main['Visitors_with_Patient']  = test_main[['Visitors with Patient']].apply(lambda x: bin_var(x['Visitors with Patient']),axis=1)"
      ],
      "execution_count": null,
      "outputs": []
    },
    {
      "cell_type": "code",
      "metadata": {
        "id": "UmWI7c3YPnj6",
        "outputId": "d99cd7f8-c0ba-40d3-81fd-076eb1fec302",
        "colab": {
          "base_uri": "https://localhost:8080/",
          "height": 243
        }
      },
      "source": [
        "# train_main['Admission_Deposit1'] = pd.qcut(train_main['Admission_Deposit'],4)\n",
        "train_main['Admission_Deposit1'].value_counts()\n",
        "train_main['Visitors_with_Patient'].value_counts()"
      ],
      "execution_count": null,
      "outputs": [
        {
          "output_type": "execute_result",
          "data": {
            "text/plain": [
              "4000-5000    136878\n",
              "5000-7000    108424\n",
              "3000-4000     51877\n",
              "7000-9000     13524\n",
              "1800-3000      6581\n",
              ">9000          1154\n",
              "Name: Admission_Deposit1, dtype: int64"
            ]
          },
          "metadata": {
            "tags": []
          },
          "execution_count": 28
        },
        {
          "output_type": "execute_result",
          "data": {
            "text/plain": [
              "0-2    139646\n",
              "3-4     79225\n",
              "2-3     59180\n",
              "5-6     18860\n",
              ">7      12308\n",
              "4-5      9219\n",
              "Name: Visitors_with_Patient, dtype: int64"
            ]
          },
          "metadata": {
            "tags": []
          },
          "execution_count": 28
        }
      ]
    },
    {
      "cell_type": "code",
      "metadata": {
        "id": "q8vVv--MS4QB",
        "outputId": "dea39332-1250-4fe8-a7bd-0961a4ba4a2d",
        "colab": {
          "base_uri": "https://localhost:8080/",
          "height": 462
        }
      },
      "source": [
        "data = pd.crosstab(train_main['Admission_Deposit1'],train_main['Stay'])\n",
        "data.div(data.sum(1).astype('float'),axis = 0).plot(kind = 'bar', stacked = True, figsize = (12, 6), color = ['skyblue', 'darkblue'])\n",
        "plt.title('Stay with Amount Deposited', fontsize = 20)\n",
        "plt.xlabel('Stay', fontsize = 20)\n",
        "plt.legend()\n",
        "plt.show();"
      ],
      "execution_count": null,
      "outputs": [
        {
          "output_type": "display_data",
          "data": {
            "image/png": "[encoded data removed]",
            "text/plain": [
              "<Figure size 864x432 with 1 Axes>"
            ]
          },
          "metadata": {
            "tags": [],
            "needs_background": "light"
          }
        }
      ]
    },
    {
      "cell_type": "code",
      "metadata": {
        "id": "CfSNswuMKhdK"
      },
      "source": [
        "from sklearn.impute import KNNImputer,SimpleImputer\n",
        "from sklearn.base import TransformerMixin"
      ],
      "execution_count": null,
      "outputs": []
    },
    {
      "cell_type": "code",
      "metadata": {
        "id": "HWSdBS8yvLKh"
      },
      "source": [
        "# imputer = SimpleImputer(missing_values=np.nan, strategy='constant', fill_value='Unknown')\n",
        "imputer_mf = SimpleImputer(missing_values=np.nan, strategy='most_frequent')\n",
        "imputer_knn = KNNImputer()\n",
        "imputer_mean = SimpleImputer(missing_values=np.nan, strategy='mean')"
      ],
      "execution_count": null,
      "outputs": []
    },
    {
      "cell_type": "code",
      "metadata": {
        "id": "2Ol1SokWvNBB"
      },
      "source": [
        "train_main['Bed Grade'] = imputer_knn.fit_transform(train_main.loc[:,['Bed Grade']])\n",
        "train_main['City_Code_Patient'] = imputer_knn.fit_transform(train_main[['City_Code_Patient']])\n",
        "\n",
        "test_main['Bed Grade'] = imputer_knn.fit_transform(test_main.loc[:,['Bed Grade']])\n",
        "test_main['City_Code_Patient'] = imputer_knn.fit_transform(test_main[['City_Code_Patient']])"
      ],
      "execution_count": null,
      "outputs": []
    },
    {
      "cell_type": "code",
      "metadata": {
        "id": "77CrgYN-wK1w"
      },
      "source": [
        "train_main = train_main.drop(columns= {'Visitors with Patient','Admission_Deposit'},axis=1)\n",
        "test_main = test_main.drop(columns= {'Visitors with Patient','Admission_Deposit'},axis=1)"
      ],
      "execution_count": null,
      "outputs": []
    },
    {
      "cell_type": "markdown",
      "metadata": {
        "id": "TZXWkjv_wLFF"
      },
      "source": [
        "## Feature Engineering"
      ]
    },
    {
      "cell_type": "code",
      "metadata": {
        "id": "x_2dOP0awfqj"
      },
      "source": [
        "train_main.columns"
      ],
      "execution_count": null,
      "outputs": []
    },
    {
      "cell_type": "code",
      "metadata": {
        "id": "iwh8d--jujjO"
      },
      "source": [
        "# Calculate per pateient average amount paid\n",
        "# train_main['Avg_amt_depst'] = train_main[['patientid','Admission_Deposit']].groupby('patientid').agg({'Admission_Deposit':'sum'})\n",
        "# train_main['dis_cnt'] = train_main[['patientid','case_id','Department']].groupby(['case_id','patientid']).agg({'Department':'nunique'})\n",
        "# train_main['dis_cnt'] = train_main[['patientid','case_id','Admission_Deposit']].groupby(['case_id','patientid']).agg({'Admission_Deposit':'sum'})"
      ],
      "execution_count": null,
      "outputs": []
    },
    {
      "cell_type": "markdown",
      "metadata": {
        "id": "z99vZFjc0ffu"
      },
      "source": [
        "### Label & One Hot Encoding"
      ]
    },
    {
      "cell_type": "markdown",
      "metadata": {
        "id": "Agle6wh50fcQ"
      },
      "source": [
        ""
      ]
    },
    {
      "cell_type": "code",
      "metadata": {
        "id": "4TksRNVPxWJQ"
      },
      "source": [
        "from sklearn.preprocessing import LabelEncoder\n",
        "le=LabelEncoder()"
      ],
      "execution_count": null,
      "outputs": []
    },
    {
      "cell_type": "code",
      "metadata": {
        "id": "-AOKjapX1Vyj",
        "outputId": "421f85da-8250-4749-d6f4-5d11c3480032",
        "colab": {
          "base_uri": "https://localhost:8080/",
          "height": 139
        }
      },
      "source": [
        "train_main.columns"
      ],
      "execution_count": null,
      "outputs": [
        {
          "output_type": "execute_result",
          "data": {
            "text/plain": [
              "Index(['case_id', 'Hospital_code', 'Hospital_type_code', 'City_Code_Hospital',\n",
              "       'Hospital_region_code', 'Available Extra Rooms in Hospital',\n",
              "       'Department', 'Ward_Type', 'Ward_Facility_Code', 'Bed Grade',\n",
              "       'patientid', 'City_Code_Patient', 'Type of Admission',\n",
              "       'Severity of Illness', 'Age', 'Stay', 'Admission_Deposit1',\n",
              "       'Visitors_with_Patient'],\n",
              "      dtype='object')"
            ]
          },
          "metadata": {
            "tags": []
          },
          "execution_count": 35
        }
      ]
    },
    {
      "cell_type": "code",
      "metadata": {
        "id": "0Bfwx7mV2lwA"
      },
      "source": [
        "train_main['Stay'] = train_main['Stay'].map({'0-10': 1, '11-20': 2,'21-30':3,'31-40':4,'41-50':5,'51-60':6,'61-70':7,\n",
        "                                             '71-80':8,'81-90':9,'91-100':10,'More than 100 Days':11})"
      ],
      "execution_count": null,
      "outputs": []
    },
    {
      "cell_type": "code",
      "metadata": {
        "id": "WUDH6z4H4JFk"
      },
      "source": [
        "train_main_Id = train_main[['case_id','patientid']]\n",
        "test_main_Id = test_main[['case_id','patientid']]\n",
        "\n",
        "train_main = train_main.drop(columns={'case_id','patientid'},axis = 1)\n",
        "test_main = test_main.drop(columns={'case_id','patientid'},axis = 1)"
      ],
      "execution_count": null,
      "outputs": []
    },
    {
      "cell_type": "code",
      "metadata": {
        "id": "0Y77-Oq61ST2"
      },
      "source": [
        "columns = ['Hospital_code', 'Hospital_type_code', 'City_Code_Hospital',\n",
        "       'Hospital_region_code', 'Available Extra Rooms in Hospital',\n",
        "       'Department', 'Ward_Type', 'Ward_Facility_Code', 'Bed Grade',\n",
        "       'City_Code_Patient', 'Type of Admission','Severity of Illness','Age']"
      ],
      "execution_count": null,
      "outputs": []
    },
    {
      "cell_type": "code",
      "metadata": {
        "id": "lD4vXOFD16tE"
      },
      "source": [
        "# def label_encode(data, var1):\n",
        "#   # df1['enrolled_university']=le.fit_transform(df1['enrolled_university'])\n",
        "#   for column in columns:\n",
        "#     data[column] = le.fit_transform(data[column])\n",
        "#     return"
      ],
      "execution_count": null,
      "outputs": []
    },
    {
      "cell_type": "code",
      "metadata": {
        "id": "V-WqXwAe55wK"
      },
      "source": [
        "# Train Data\n",
        "train_main['Hospital_code']=le.fit_transform(train_main['Hospital_code'])\n",
        "train_main['Hospital_type_code']=le.fit_transform(train_main['Hospital_type_code'])\n",
        "train_main['City_Code_Hospital']=le.fit_transform(train_main['City_Code_Hospital'])\n",
        "train_main['Hospital_region_code']=le.fit_transform(train_main['Hospital_region_code'])\n",
        "train_main['Available Extra Rooms in Hospital']=le.fit_transform(train_main['Available Extra Rooms in Hospital'])\n",
        "train_main['Department']=le.fit_transform(train_main['Department'])\n",
        "train_main['Ward_Type']=le.fit_transform(train_main['Ward_Type'])\n",
        "train_main['Ward_Facility_Code']=le.fit_transform(train_main['Ward_Facility_Code'])\n",
        "train_main['Bed Grade']=le.fit_transform(train_main['Bed Grade'])\n",
        "train_main['City_Code_Patient']=le.fit_transform(train_main['City_Code_Patient'])\n",
        "train_main['Type of Admission']=le.fit_transform(train_main['Type of Admission'])\n",
        "train_main['Severity of Illness']=le.fit_transform(train_main['Severity of Illness'])\n",
        "train_main['Age']=le.fit_transform(train_main['Age'])\n",
        "train_main['Admission_Deposit1']=le.fit_transform(train_main['Admission_Deposit1'])\n",
        "train_main['Visitors_with_Patient']=le.fit_transform(train_main['Visitors_with_Patient'])\n",
        "\n",
        "# Test Data\n",
        "test_main['Hospital_code']=le.fit_transform(test_main['Hospital_code'])\n",
        "test_main['Hospital_type_code']=le.fit_transform(test_main['Hospital_type_code'])\n",
        "test_main['City_Code_Hospital']=le.fit_transform(test_main['City_Code_Hospital'])\n",
        "test_main['Hospital_region_code']=le.fit_transform(test_main['Hospital_region_code'])\n",
        "test_main['Available Extra Rooms in Hospital']=le.fit_transform(test_main['Available Extra Rooms in Hospital'])\n",
        "test_main['Department']=le.fit_transform(test_main['Department'])\n",
        "test_main['Ward_Type']=le.fit_transform(test_main['Ward_Type'])\n",
        "test_main['Ward_Facility_Code']=le.fit_transform(test_main['Ward_Facility_Code'])\n",
        "test_main['Bed Grade']=le.fit_transform(test_main['Bed Grade'])\n",
        "test_main['City_Code_Patient']=le.fit_transform(test_main['City_Code_Patient'])\n",
        "test_main['Type of Admission']=le.fit_transform(test_main['Type of Admission'])\n",
        "test_main['Severity of Illness']=le.fit_transform(test_main['Severity of Illness'])\n",
        "test_main['Age']=le.fit_transform(test_main['Age'])\n",
        "test_main['Admission_Deposit1']=le.fit_transform(test_main['Admission_Deposit1'])\n",
        "test_main['Visitors_with_Patient']=le.fit_transform(test_main['Visitors_with_Patient'])"
      ],
      "execution_count": null,
      "outputs": []
    },
    {
      "cell_type": "code",
      "metadata": {
        "id": "PRIaiLFMQitq",
        "outputId": "c620be3d-2e47-4bc0-827e-7c155baf4742",
        "colab": {
          "base_uri": "https://localhost:8080/",
          "height": 182
        }
      },
      "source": [
        "train_main.head(2)"
      ],
      "execution_count": null,
      "outputs": [
        {
          "output_type": "execute_result",
          "data": {
            "text/html": [
              "<div>\n",
              "<style scoped>\n",
              "    .dataframe tbody tr th:only-of-type {\n",
              "        vertical-align: middle;\n",
              "    }\n",
              "\n",
              "    .dataframe tbody tr th {\n",
              "        vertical-align: top;\n",
              "    }\n",
              "\n",
              "    .dataframe thead th {\n",
              "        text-align: right;\n",
              "    }\n",
              "</style>\n",
              "<table border=\"1\" class=\"dataframe\">\n",
              "  <thead>\n",
              "    <tr style=\"text-align: right;\">\n",
              "      <th></th>\n",
              "      <th>Hospital_code</th>\n",
              "      <th>Hospital_type_code</th>\n",
              "      <th>City_Code_Hospital</th>\n",
              "      <th>Hospital_region_code</th>\n",
              "      <th>Available Extra Rooms in Hospital</th>\n",
              "      <th>Department</th>\n",
              "      <th>Ward_Type</th>\n",
              "      <th>Ward_Facility_Code</th>\n",
              "      <th>Bed Grade</th>\n",
              "      <th>City_Code_Patient</th>\n",
              "      <th>Type of Admission</th>\n",
              "      <th>Severity of Illness</th>\n",
              "      <th>Age</th>\n",
              "      <th>Stay</th>\n",
              "      <th>Admission_Deposit1</th>\n",
              "      <th>Visitors_with_Patient</th>\n",
              "    </tr>\n",
              "  </thead>\n",
              "  <tbody>\n",
              "    <tr>\n",
              "      <th>0</th>\n",
              "      <td>30</td>\n",
              "      <td>2</td>\n",
              "      <td>5</td>\n",
              "      <td>2</td>\n",
              "      <td>11</td>\n",
              "      <td>3</td>\n",
              "      <td>2</td>\n",
              "      <td>5</td>\n",
              "      <td>1</td>\n",
              "      <td>6</td>\n",
              "      <td>0</td>\n",
              "      <td>0</td>\n",
              "      <td>5</td>\n",
              "      <td>1</td>\n",
              "      <td>2</td>\n",
              "      <td>0</td>\n",
              "    </tr>\n",
              "    <tr>\n",
              "      <th>1</th>\n",
              "      <td>11</td>\n",
              "      <td>2</td>\n",
              "      <td>7</td>\n",
              "      <td>2</td>\n",
              "      <td>7</td>\n",
              "      <td>3</td>\n",
              "      <td>3</td>\n",
              "      <td>5</td>\n",
              "      <td>1</td>\n",
              "      <td>6</td>\n",
              "      <td>1</td>\n",
              "      <td>0</td>\n",
              "      <td>5</td>\n",
              "      <td>5</td>\n",
              "      <td>3</td>\n",
              "      <td>0</td>\n",
              "    </tr>\n",
              "  </tbody>\n",
              "</table>\n",
              "</div>"
            ],
            "text/plain": [
              "   Hospital_code  Hospital_type_code  City_Code_Hospital  \\\n",
              "0             30                   2                   5   \n",
              "1             11                   2                   7   \n",
              "\n",
              "   Hospital_region_code  Available Extra Rooms in Hospital  Department  \\\n",
              "0                     2                                 11           3   \n",
              "1                     2                                  7           3   \n",
              "\n",
              "   Ward_Type  Ward_Facility_Code  Bed Grade  City_Code_Patient  \\\n",
              "0          2                   5          1                  6   \n",
              "1          3                   5          1                  6   \n",
              "\n",
              "   Type of Admission  Severity of Illness  Age  Stay  Admission_Deposit1  \\\n",
              "0                  0                    0    5     1                   2   \n",
              "1                  1                    0    5     5                   3   \n",
              "\n",
              "   Visitors_with_Patient  \n",
              "0                      0  \n",
              "1                      0  "
            ]
          },
          "metadata": {
            "tags": []
          },
          "execution_count": 39
        }
      ]
    },
    {
      "cell_type": "markdown",
      "metadata": {
        "id": "-OstbZsq8JNF"
      },
      "source": [
        ""
      ]
    },
    {
      "cell_type": "markdown",
      "metadata": {
        "id": "RiLEg3C48Lrt"
      },
      "source": [
        "## Train Test Split"
      ]
    },
    {
      "cell_type": "code",
      "metadata": {
        "id": "rExjFfhy9UrF"
      },
      "source": [
        "from sklearn.model_selection import train_test_split,KFold,StratifiedKFold,GridSearchCV,RandomizedSearchCV,cross_val_score"
      ],
      "execution_count": null,
      "outputs": []
    },
    {
      "cell_type": "code",
      "metadata": {
        "id": "tWNEEm0x8NU_",
        "outputId": "07a57016-414c-4b1b-f943-ebcf5034f9ae",
        "colab": {
          "base_uri": "https://localhost:8080/",
          "height": 225
        }
      },
      "source": [
        "train_main['Stay'].value_counts(normalize=True)*100# Imbalanced dataset"
      ],
      "execution_count": null,
      "outputs": [
        {
          "output_type": "execute_result",
          "data": {
            "text/plain": [
              "3     27.475050\n",
              "2     24.538215\n",
              "4     17.321739\n",
              "6     10.996803\n",
              "1      7.412432\n",
              "5      3.687688\n",
              "8      3.220093\n",
              "11     2.098682\n",
              "9      1.519291\n",
              "10     0.868301\n",
              "7      0.861706\n",
              "Name: Stay, dtype: float64"
            ]
          },
          "metadata": {
            "tags": []
          },
          "execution_count": 41
        }
      ]
    },
    {
      "cell_type": "code",
      "metadata": {
        "id": "L1Yd8L0F8bHo"
      },
      "source": [
        "X = train_main.drop('Stay',1)\n",
        "y = train_main['Stay']\n",
        "X_train, X_valid, y_train, y_valid = train_test_split(X,y, test_size = 0.2, random_state =1)"
      ],
      "execution_count": null,
      "outputs": []
    },
    {
      "cell_type": "code",
      "metadata": {
        "id": "al-XRJN19twH",
        "outputId": "23cfb425-a3bd-4c42-820f-f0279ef0afc8",
        "colab": {
          "base_uri": "https://localhost:8080/",
          "height": 280
        }
      },
      "source": [
        "!pip install catboost"
      ],
      "execution_count": null,
      "outputs": [
        {
          "output_type": "stream",
          "text": [
            "Requirement already satisfied: catboost in /usr/local/lib/python3.6/dist-packages (0.24.1)\n",
            "Requirement already satisfied: six in /usr/local/lib/python3.6/dist-packages (from catboost) (1.15.0)\n",
            "Requirement already satisfied: numpy>=1.16.0 in /usr/local/lib/python3.6/dist-packages (from catboost) (1.18.5)\n",
            "Requirement already satisfied: scipy in /usr/local/lib/python3.6/dist-packages (from catboost) (1.4.1)\n",
            "Requirement already satisfied: matplotlib in /usr/local/lib/python3.6/dist-packages (from catboost) (3.2.2)\n",
            "Requirement already satisfied: plotly in /usr/local/lib/python3.6/dist-packages (from catboost) (4.4.1)\n",
            "Requirement already satisfied: pandas>=0.24.0 in /usr/local/lib/python3.6/dist-packages (from catboost) (1.0.5)\n",
            "Requirement already satisfied: graphviz in /usr/local/lib/python3.6/dist-packages (from catboost) (0.10.1)\n",
            "Requirement already satisfied: cycler>=0.10 in /usr/local/lib/python3.6/dist-packages (from matplotlib->catboost) (0.10.0)\n",
            "Requirement already satisfied: kiwisolver>=1.0.1 in /usr/local/lib/python3.6/dist-packages (from matplotlib->catboost) (1.2.0)\n",
            "Requirement already satisfied: pyparsing!=2.0.4,!=2.1.2,!=2.1.6,>=2.0.1 in /usr/local/lib/python3.6/dist-packages (from matplotlib->catboost) (2.4.7)\n",
            "Requirement already satisfied: python-dateutil>=2.1 in /usr/local/lib/python3.6/dist-packages (from matplotlib->catboost) (2.8.1)\n",
            "Requirement already satisfied: retrying>=1.3.3 in /usr/local/lib/python3.6/dist-packages (from plotly->catboost) (1.3.3)\n",
            "Requirement already satisfied: pytz>=2017.2 in /usr/local/lib/python3.6/dist-packages (from pandas>=0.24.0->catboost) (2018.9)\n"
          ],
          "name": "stdout"
        }
      ]
    },
    {
      "cell_type": "code",
      "metadata": {
        "id": "OD6vloNb8tf6"
      },
      "source": [
        "from xgboost import XGBClassifier\n",
        "from catboost import CatBoostClassifier\n",
        "from lightgbm import LGBMClassifier\n",
        "from sklearn.ensemble import VotingClassifier"
      ],
      "execution_count": null,
      "outputs": []
    },
    {
      "cell_type": "code",
      "metadata": {
        "id": "nYusGhsf9d7l"
      },
      "source": [
        "cat = CatBoostClassifier(custom_metric=['Accuracy'], learning_rate=0.03, n_estimators=200, verbose = False)"
      ],
      "execution_count": null,
      "outputs": []
    },
    {
      "cell_type": "code",
      "metadata": {
        "id": "Q-X6MokA_ZsP",
        "outputId": "a5be3d85-0b73-4835-8a1b-cb11fa3fc081",
        "colab": {
          "base_uri": "https://localhost:8080/",
          "height": 468
        }
      },
      "source": [
        "cat.fit(X_train, y_train,eval_set=(X_valid, y_valid), verbose=10)   "
      ],
      "execution_count": null,
      "outputs": [
        {
          "output_type": "stream",
          "text": [
            "0:\tlearn: 2.3603435\ttest: 2.3604988\tbest: 2.3604988 (0)\ttotal: 715ms\tremaining: 2m 22s\n",
            "10:\tlearn: 2.1244647\ttest: 2.1257196\tbest: 2.1257196 (10)\ttotal: 7s\tremaining: 2m\n",
            "20:\tlearn: 2.0042969\ttest: 2.0064542\tbest: 2.0064542 (20)\ttotal: 13.5s\tremaining: 1m 54s\n",
            "30:\tlearn: 1.9335475\ttest: 1.9364765\tbest: 1.9364765 (30)\ttotal: 21.9s\tremaining: 1m 59s\n",
            "40:\tlearn: 1.8897885\ttest: 1.8934275\tbest: 1.8934275 (40)\ttotal: 28.3s\tremaining: 1m 49s\n",
            "50:\tlearn: 1.8611044\ttest: 1.8653814\tbest: 1.8653814 (50)\ttotal: 34.7s\tremaining: 1m 41s\n",
            "60:\tlearn: 1.8421797\ttest: 1.8469901\tbest: 1.8469901 (60)\ttotal: 40.8s\tremaining: 1m 32s\n",
            "70:\tlearn: 1.8291999\ttest: 1.8345008\tbest: 1.8345008 (70)\ttotal: 47.2s\tremaining: 1m 25s\n",
            "80:\tlearn: 1.8199638\ttest: 1.8258275\tbest: 1.8258275 (80)\ttotal: 53.7s\tremaining: 1m 18s\n",
            "90:\tlearn: 1.8131516\ttest: 1.8195091\tbest: 1.8195091 (90)\ttotal: 1m\tremaining: 1m 11s\n",
            "100:\tlearn: 1.8076076\ttest: 1.8144550\tbest: 1.8144550 (100)\ttotal: 1m 6s\tremaining: 1m 5s\n",
            "110:\tlearn: 1.8032686\ttest: 1.8105477\tbest: 1.8105477 (110)\ttotal: 1m 12s\tremaining: 58.3s\n",
            "120:\tlearn: 1.7999399\ttest: 1.8076259\tbest: 1.8076259 (120)\ttotal: 1m 19s\tremaining: 51.6s\n",
            "130:\tlearn: 1.7968682\ttest: 1.8050353\tbest: 1.8050353 (130)\ttotal: 1m 25s\tremaining: 45s\n",
            "140:\tlearn: 1.7945083\ttest: 1.8030746\tbest: 1.8030746 (140)\ttotal: 1m 31s\tremaining: 38.4s\n",
            "150:\tlearn: 1.7926298\ttest: 1.8015971\tbest: 1.8015971 (150)\ttotal: 1m 38s\tremaining: 31.9s\n",
            "160:\tlearn: 1.7908199\ttest: 1.8002065\tbest: 1.8002065 (160)\ttotal: 1m 44s\tremaining: 25.3s\n",
            "170:\tlearn: 1.7889303\ttest: 1.7987820\tbest: 1.7987820 (170)\ttotal: 1m 50s\tremaining: 18.8s\n",
            "180:\tlearn: 1.7871597\ttest: 1.7973840\tbest: 1.7973840 (180)\ttotal: 1m 57s\tremaining: 12.3s\n",
            "190:\tlearn: 1.7856226\ttest: 1.7962146\tbest: 1.7962146 (190)\ttotal: 2m 3s\tremaining: 5.83s\n",
            "199:\tlearn: 1.7845984\ttest: 1.7954571\tbest: 1.7954571 (199)\ttotal: 2m 9s\tremaining: 0us\n",
            "\n",
            "bestTest = 1.795457109\n",
            "bestIteration = 199\n",
            "\n"
          ],
          "name": "stdout"
        },
        {
          "output_type": "execute_result",
          "data": {
            "text/plain": [
              "<catboost.core.CatBoostClassifier at 0x7f234ebfcfd0>"
            ]
          },
          "metadata": {
            "tags": []
          },
          "execution_count": 106
        }
      ]
    },
    {
      "cell_type": "code",
      "metadata": {
        "id": "vshlW6e1AWRd",
        "outputId": "911d1f92-2606-4afe-e919-30d044e7a6f6",
        "colab": {
          "base_uri": "https://localhost:8080/",
          "height": 55
        }
      },
      "source": [
        "# 4. Get the Best Score of 'auc'\n",
        "print(cat.get_best_score())"
      ],
      "execution_count": null,
      "outputs": [
        {
          "output_type": "stream",
          "text": [
            "{'learn': {'Accuracy': 0.33387634936211974, 'MultiClass': 1.7845984005779778}, 'validation': {'Accuracy': 0.32894736842105265, 'MultiClass': 1.7954571085825581}}\n"
          ],
          "name": "stdout"
        }
      ]
    },
    {
      "cell_type": "code",
      "metadata": {
        "id": "VE4jRSjTAg75",
        "outputId": "a13c52ba-5cd7-417e-affb-5a07dee88aa3",
        "colab": {
          "base_uri": "https://localhost:8080/",
          "height": 274
        }
      },
      "source": [
        "test_main.head()"
      ],
      "execution_count": null,
      "outputs": [
        {
          "output_type": "execute_result",
          "data": {
            "text/html": [
              "<div>\n",
              "<style scoped>\n",
              "    .dataframe tbody tr th:only-of-type {\n",
              "        vertical-align: middle;\n",
              "    }\n",
              "\n",
              "    .dataframe tbody tr th {\n",
              "        vertical-align: top;\n",
              "    }\n",
              "\n",
              "    .dataframe thead th {\n",
              "        text-align: right;\n",
              "    }\n",
              "</style>\n",
              "<table border=\"1\" class=\"dataframe\">\n",
              "  <thead>\n",
              "    <tr style=\"text-align: right;\">\n",
              "      <th></th>\n",
              "      <th>Hospital_code</th>\n",
              "      <th>Hospital_type_code</th>\n",
              "      <th>City_Code_Hospital</th>\n",
              "      <th>Hospital_region_code</th>\n",
              "      <th>Available Extra Rooms in Hospital</th>\n",
              "      <th>Department</th>\n",
              "      <th>Ward_Type</th>\n",
              "      <th>Ward_Facility_Code</th>\n",
              "      <th>Bed Grade</th>\n",
              "      <th>City_Code_Patient</th>\n",
              "      <th>Type of Admission</th>\n",
              "      <th>Severity of Illness</th>\n",
              "      <th>Age</th>\n",
              "    </tr>\n",
              "  </thead>\n",
              "  <tbody>\n",
              "    <tr>\n",
              "      <th>0</th>\n",
              "      <td>13</td>\n",
              "      <td>2</td>\n",
              "      <td>5</td>\n",
              "      <td>2</td>\n",
              "      <td>8</td>\n",
              "      <td>2</td>\n",
              "      <td>3</td>\n",
              "      <td>0</td>\n",
              "      <td>1</td>\n",
              "      <td>1</td>\n",
              "      <td>0</td>\n",
              "      <td>2</td>\n",
              "      <td>7</td>\n",
              "    </tr>\n",
              "    <tr>\n",
              "      <th>1</th>\n",
              "      <td>21</td>\n",
              "      <td>0</td>\n",
              "      <td>6</td>\n",
              "      <td>0</td>\n",
              "      <td>6</td>\n",
              "      <td>2</td>\n",
              "      <td>3</td>\n",
              "      <td>5</td>\n",
              "      <td>1</td>\n",
              "      <td>1</td>\n",
              "      <td>1</td>\n",
              "      <td>2</td>\n",
              "      <td>7</td>\n",
              "    </tr>\n",
              "    <tr>\n",
              "      <th>2</th>\n",
              "      <td>18</td>\n",
              "      <td>1</td>\n",
              "      <td>4</td>\n",
              "      <td>1</td>\n",
              "      <td>8</td>\n",
              "      <td>2</td>\n",
              "      <td>1</td>\n",
              "      <td>3</td>\n",
              "      <td>4</td>\n",
              "      <td>1</td>\n",
              "      <td>0</td>\n",
              "      <td>2</td>\n",
              "      <td>7</td>\n",
              "    </tr>\n",
              "    <tr>\n",
              "      <th>3</th>\n",
              "      <td>28</td>\n",
              "      <td>0</td>\n",
              "      <td>8</td>\n",
              "      <td>0</td>\n",
              "      <td>8</td>\n",
              "      <td>2</td>\n",
              "      <td>1</td>\n",
              "      <td>5</td>\n",
              "      <td>1</td>\n",
              "      <td>1</td>\n",
              "      <td>1</td>\n",
              "      <td>2</td>\n",
              "      <td>7</td>\n",
              "    </tr>\n",
              "    <tr>\n",
              "      <th>4</th>\n",
              "      <td>20</td>\n",
              "      <td>1</td>\n",
              "      <td>2</td>\n",
              "      <td>0</td>\n",
              "      <td>6</td>\n",
              "      <td>2</td>\n",
              "      <td>2</td>\n",
              "      <td>5</td>\n",
              "      <td>1</td>\n",
              "      <td>1</td>\n",
              "      <td>1</td>\n",
              "      <td>2</td>\n",
              "      <td>7</td>\n",
              "    </tr>\n",
              "  </tbody>\n",
              "</table>\n",
              "</div>"
            ],
            "text/plain": [
              "   Hospital_code  Hospital_type_code  City_Code_Hospital  \\\n",
              "0             13                   2                   5   \n",
              "1             21                   0                   6   \n",
              "2             18                   1                   4   \n",
              "3             28                   0                   8   \n",
              "4             20                   1                   2   \n",
              "\n",
              "   Hospital_region_code  Available Extra Rooms in Hospital  Department  \\\n",
              "0                     2                                  8           2   \n",
              "1                     0                                  6           2   \n",
              "2                     1                                  8           2   \n",
              "3                     0                                  8           2   \n",
              "4                     0                                  6           2   \n",
              "\n",
              "   Ward_Type  Ward_Facility_Code  Bed Grade  City_Code_Patient  \\\n",
              "0          3                   0          1                  1   \n",
              "1          3                   5          1                  1   \n",
              "2          1                   3          4                  1   \n",
              "3          1                   5          1                  1   \n",
              "4          2                   5          1                  1   \n",
              "\n",
              "   Type of Admission  Severity of Illness  Age  \n",
              "0                  0                    2    7  \n",
              "1                  1                    2    7  \n",
              "2                  0                    2    7  \n",
              "3                  1                    2    7  \n",
              "4                  1                    2    7  "
            ]
          },
          "metadata": {
            "tags": []
          },
          "execution_count": 109
        }
      ]
    },
    {
      "cell_type": "code",
      "metadata": {
        "id": "aCkEjjuMAU0I"
      },
      "source": [
        "# 3. Predict the Probability Values of Target \"Outcome\" for \"test\" data :\n",
        "cat_pred_valid = cat.predict(X_valid)\n",
        "cat_pred_valid_prob = cat.predict_proba(X_valid)\n",
        "\n",
        "# Test Data\n",
        "cat_pred_test = cat.predict(test_main)\n",
        "cat_pred__test_prob = cat.predict_proba(test_main)"
      ],
      "execution_count": null,
      "outputs": []
    },
    {
      "cell_type": "code",
      "metadata": {
        "id": "u1LAagbd_4o4",
        "outputId": "9509fe46-6bb3-48c8-9012-b8c6e4e90737",
        "colab": {
          "base_uri": "https://localhost:8080/",
          "height": 156
        }
      },
      "source": [
        "print(cat_pred_test[:4])\n",
        "print(cat_pred_valid[:4])"
      ],
      "execution_count": null,
      "outputs": [
        {
          "output_type": "stream",
          "text": [
            "[[6]\n",
            " [6]\n",
            " [3]\n",
            " [3]]\n",
            "[[6]\n",
            " [3]\n",
            " [3]\n",
            " [2]]\n"
          ],
          "name": "stdout"
        }
      ]
    },
    {
      "cell_type": "code",
      "metadata": {
        "id": "Ssm9VLihBZTU"
      },
      "source": [
        "cat1 = CatBoostClassifier(custom_metric=['Accuracy'], learning_rate=0.15, random_seed=50, max_depth = 5,n_estimators=500, verbose = False)"
      ],
      "execution_count": null,
      "outputs": []
    },
    {
      "cell_type": "code",
      "metadata": {
        "id": "kQNJ5iNeByN0",
        "outputId": "e3f5572b-ff08-42db-dda0-5dea711727f3",
        "colab": {
          "base_uri": "https://localhost:8080/",
          "height": 295
        }
      },
      "source": [
        "cat1.fit(X_train, y_train, eval_set=(X_valid, y_valid), verbose=50)"
      ],
      "execution_count": null,
      "outputs": [
        {
          "output_type": "stream",
          "text": [
            "0:\tlearn: 2.2262226\ttest: 2.2266312\tbest: 2.2266312 (0)\ttotal: 514ms\tremaining: 4m 16s\n",
            "50:\tlearn: 1.7877459\ttest: 1.7961286\tbest: 1.7961286 (50)\ttotal: 20.9s\tremaining: 3m 3s\n",
            "100:\tlearn: 1.7722589\ttest: 1.7858698\tbest: 1.7858698 (100)\ttotal: 42.5s\tremaining: 2m 48s\n",
            "150:\tlearn: 1.7630168\ttest: 1.7808056\tbest: 1.7808056 (150)\ttotal: 1m 2s\tremaining: 2m 23s\n",
            "200:\tlearn: 1.7563932\ttest: 1.7784054\tbest: 1.7784054 (200)\ttotal: 1m 22s\tremaining: 2m 2s\n",
            "250:\tlearn: 1.7515350\ttest: 1.7772348\tbest: 1.7772348 (250)\ttotal: 1m 41s\tremaining: 1m 40s\n",
            "300:\tlearn: 1.7470105\ttest: 1.7763786\tbest: 1.7763786 (300)\ttotal: 2m\tremaining: 1m 19s\n",
            "350:\tlearn: 1.7429084\ttest: 1.7756567\tbest: 1.7756419 (344)\ttotal: 2m 20s\tremaining: 59.7s\n",
            "400:\tlearn: 1.7390025\ttest: 1.7752303\tbest: 1.7752303 (400)\ttotal: 2m 40s\tremaining: 39.5s\n",
            "450:\tlearn: 1.7353415\ttest: 1.7746168\tbest: 1.7746168 (450)\ttotal: 2m 59s\tremaining: 19.5s\n",
            "499:\tlearn: 1.7321707\ttest: 1.7744667\tbest: 1.7744667 (499)\ttotal: 3m 18s\tremaining: 0us\n",
            "\n",
            "bestTest = 1.774466693\n",
            "bestIteration = 499\n",
            "\n"
          ],
          "name": "stdout"
        },
        {
          "output_type": "execute_result",
          "data": {
            "text/plain": [
              "<catboost.core.CatBoostClassifier at 0x7f234f344320>"
            ]
          },
          "metadata": {
            "tags": []
          },
          "execution_count": 130
        }
      ]
    },
    {
      "cell_type": "code",
      "metadata": {
        "id": "VJ44mYsgB68v",
        "outputId": "1e3c939f-eb7d-485b-a10a-b69b6a122669",
        "colab": {
          "base_uri": "https://localhost:8080/",
          "height": 55
        }
      },
      "source": [
        "print(cat1.get_best_score())"
      ],
      "execution_count": null,
      "outputs": [
        {
          "output_type": "stream",
          "text": [
            "{'learn': {'Accuracy': 0.3504494602551521, 'MultiClass': 1.7321707201676946}, 'validation': {'Accuracy': 0.33530649415902525, 'MultiClass': 1.7744666925252879}}\n"
          ],
          "name": "stdout"
        }
      ]
    },
    {
      "cell_type": "code",
      "metadata": {
        "id": "XmEl9BEBLfNF",
        "outputId": "df039f2a-6801-4cd3-961a-ff107af60c42",
        "colab": {
          "base_uri": "https://localhost:8080/",
          "height": 35
        }
      },
      "source": [
        "#using precision score for error metrics\n",
        "precision_score(cat_pred_valid,y_valid,average=None).mean()"
      ],
      "execution_count": null,
      "outputs": [
        {
          "output_type": "execute_result",
          "data": {
            "text/plain": [
              "0.12484754498301123"
            ]
          },
          "metadata": {
            "tags": []
          },
          "execution_count": 149
        }
      ]
    },
    {
      "cell_type": "code",
      "metadata": {
        "id": "d9anD_Z2IeNN"
      },
      "source": [
        "import lightgbm as lgb"
      ],
      "execution_count": null,
      "outputs": []
    },
    {
      "cell_type": "code",
      "metadata": {
        "id": "w9_wg-KsIRcv"
      },
      "source": [
        "#Converting the dataset in proper LGB format\n",
        "d_train = lgb.Dataset(X_train, label=y_train)\n",
        "d_valid = lgb.Dataset(X_valid, label=y_valid, reference=train_main)\n",
        "d_test = lgb.Dataset(test_main)"
      ],
      "execution_count": null,
      "outputs": []
    },
    {
      "cell_type": "code",
      "metadata": {
        "id": "YFMnld12IjFO"
      },
      "source": [
        "#setting up the parameters\n",
        "params={}\n",
        "params['learning_rate']=0.4\n",
        "params['num_leaves']=30\n",
        "params['metric']='multi_logloss' #GradientBoostingDecisionTree\n",
        "params['is_unbalance']='False' #GradientBoostingDecisionTree\n",
        "params['boosting_type']='gbdt' #GradientBoostingDecisionTree\n",
        "params['objective']='multiclass' #Multi-class target feature\n",
        "# params['metric']='multi_logloss' #metric for multi-class\n",
        "params['max_depth']= 10\n",
        "params['num_class'] = 12 #no.of unique values in the target class not inclusive of the end value\n",
        "params['feature_fraction'] = 0.9"
      ],
      "execution_count": null,
      "outputs": []
    },
    {
      "cell_type": "code",
      "metadata": {
        "id": "kKzAa4mwJCAb"
      },
      "source": [
        "#training the model\n",
        "lgb_1 = lgb.train(params,d_train,100)  #training the model on 100 epocs\n",
        "#prediction on the test dataset\n",
        "lgb_pred_1 = lgb_1.predict(X_valid)"
      ],
      "execution_count": null,
      "outputs": []
    },
    {
      "cell_type": "code",
      "metadata": {
        "id": "WF77I0kILSCb"
      },
      "source": [
        "from sklearn.metrics import accuracy_score, mean_squared_error,roc_auc_score,precision_score"
      ],
      "execution_count": null,
      "outputs": []
    },
    {
      "cell_type": "code",
      "metadata": {
        "id": "tITFZRx5LDil",
        "outputId": "41e7a56d-1e77-454b-ae64-465a4a8a4ec2",
        "colab": {
          "base_uri": "https://localhost:8080/",
          "height": 35
        }
      },
      "source": [
        "#argmax() method \n",
        "y_pred_1 = [np.argmax(line) for line in lgb_pred_1]\n",
        "#using precision score for error metrics\n",
        "precision_score(y_pred_1,y_valid,average=None).mean()"
      ],
      "execution_count": null,
      "outputs": [
        {
          "output_type": "execute_result",
          "data": {
            "text/plain": [
              "0.23655825285496077"
            ]
          },
          "metadata": {
            "tags": []
          },
          "execution_count": 64
        }
      ]
    },
    {
      "cell_type": "code",
      "metadata": {
        "id": "C6lilUH3IBcK",
        "outputId": "feb21edb-5e1a-4411-a1ee-e47ee6adc93d",
        "colab": {
          "base_uri": "https://localhost:8080/",
          "height": 35
        }
      },
      "source": [
        "#Accuracy\n",
        "accuracy_score(y_pred_1,y_valid)"
      ],
      "execution_count": null,
      "outputs": [
        {
          "output_type": "execute_result",
          "data": {
            "text/plain": [
              "0.41543147845748024"
            ]
          },
          "metadata": {
            "tags": []
          },
          "execution_count": 65
        }
      ]
    },
    {
      "cell_type": "code",
      "metadata": {
        "id": "U8IMIdZJL48p"
      },
      "source": [
        "lgb_pred_test = lgb_1.predict(test_main)\n",
        "#argmax() method \n",
        "y_pred_2 = [np.argmax(line) for line in lgb_pred_test]"
      ],
      "execution_count": null,
      "outputs": []
    },
    {
      "cell_type": "code",
      "metadata": {
        "id": "PLVyYLGFVUs2",
        "outputId": "5b076fb2-c962-4c7e-fc41-4d847774d5b5",
        "colab": {
          "base_uri": "https://localhost:8080/",
          "height": 225
        }
      },
      "source": [
        "train_main['Stay'].value_counts()"
      ],
      "execution_count": null,
      "outputs": [
        {
          "output_type": "execute_result",
          "data": {
            "text/plain": [
              "3     87491\n",
              "2     78139\n",
              "4     55159\n",
              "6     35018\n",
              "1     23604\n",
              "5     11743\n",
              "8     10254\n",
              "11     6683\n",
              "9      4838\n",
              "10     2765\n",
              "7      2744\n",
              "Name: Stay, dtype: int64"
            ]
          },
          "metadata": {
            "tags": []
          },
          "execution_count": 73
        }
      ]
    },
    {
      "cell_type": "code",
      "metadata": {
        "id": "y63fdssZSseb",
        "outputId": "fd3cd21d-c6f3-4987-c46a-7475e5dedab8",
        "colab": {
          "base_uri": "https://localhost:8080/",
          "height": 35
        }
      },
      "source": [
        "y_pred_2[:12]"
      ],
      "execution_count": null,
      "outputs": [
        {
          "output_type": "execute_result",
          "data": {
            "text/plain": [
              "[1, 6, 3, 3, 6, 3, 3, 2, 3, 3, 3, 6]"
            ]
          },
          "metadata": {
            "tags": []
          },
          "execution_count": 82
        }
      ]
    },
    {
      "cell_type": "code",
      "metadata": {
        "id": "Mis6u5AXT7fu"
      },
      "source": [
        "train_main_Id = train_main[['case_id','patientid']]\n",
        "test_main_Id = test_main[['case_id','patientid']]"
      ],
      "execution_count": null,
      "outputs": []
    },
    {
      "cell_type": "code",
      "metadata": {
        "id": "G0rTsX_lUDOr",
        "outputId": "ab7616a4-5efc-4040-b971-514ea00670bc",
        "colab": {
          "base_uri": "https://localhost:8080/",
          "height": 110
        }
      },
      "source": [
        "test_main_Id.head(2)"
      ],
      "execution_count": null,
      "outputs": [
        {
          "output_type": "execute_result",
          "data": {
            "text/html": [
              "<div>\n",
              "<style scoped>\n",
              "    .dataframe tbody tr th:only-of-type {\n",
              "        vertical-align: middle;\n",
              "    }\n",
              "\n",
              "    .dataframe tbody tr th {\n",
              "        vertical-align: top;\n",
              "    }\n",
              "\n",
              "    .dataframe thead th {\n",
              "        text-align: right;\n",
              "    }\n",
              "</style>\n",
              "<table border=\"1\" class=\"dataframe\">\n",
              "  <thead>\n",
              "    <tr style=\"text-align: right;\">\n",
              "      <th></th>\n",
              "      <th>case_id</th>\n",
              "      <th>patientid</th>\n",
              "    </tr>\n",
              "  </thead>\n",
              "  <tbody>\n",
              "    <tr>\n",
              "      <th>0</th>\n",
              "      <td>318439</td>\n",
              "      <td>17006</td>\n",
              "    </tr>\n",
              "    <tr>\n",
              "      <th>1</th>\n",
              "      <td>318440</td>\n",
              "      <td>17006</td>\n",
              "    </tr>\n",
              "  </tbody>\n",
              "</table>\n",
              "</div>"
            ],
            "text/plain": [
              "   case_id  patientid\n",
              "0   318439      17006\n",
              "1   318440      17006"
            ]
          },
          "metadata": {
            "tags": []
          },
          "execution_count": 70
        }
      ]
    },
    {
      "cell_type": "code",
      "metadata": {
        "id": "apyifSzOSzf9",
        "outputId": "6401ea5b-036c-4e1d-c567-7d2d22fd37b4",
        "colab": {
          "base_uri": "https://localhost:8080/",
          "height": 202
        }
      },
      "source": [
        "col=['case_id','Stay']\n",
        "submit_test = pd.concat([test_main_Id['case_id'],pd.DataFrame(y_pred_2)], axis=1)\n",
        "submit_test.columns = col\n",
        "# submit_test['Stay']=encoder.inverse_transform(submit_test['Stay'])\n",
        "submit_test.head()"
      ],
      "execution_count": null,
      "outputs": [
        {
          "output_type": "execute_result",
          "data": {
            "text/html": [
              "<div>\n",
              "<style scoped>\n",
              "    .dataframe tbody tr th:only-of-type {\n",
              "        vertical-align: middle;\n",
              "    }\n",
              "\n",
              "    .dataframe tbody tr th {\n",
              "        vertical-align: top;\n",
              "    }\n",
              "\n",
              "    .dataframe thead th {\n",
              "        text-align: right;\n",
              "    }\n",
              "</style>\n",
              "<table border=\"1\" class=\"dataframe\">\n",
              "  <thead>\n",
              "    <tr style=\"text-align: right;\">\n",
              "      <th></th>\n",
              "      <th>case_id</th>\n",
              "      <th>Stay</th>\n",
              "    </tr>\n",
              "  </thead>\n",
              "  <tbody>\n",
              "    <tr>\n",
              "      <th>0</th>\n",
              "      <td>318439</td>\n",
              "      <td>1</td>\n",
              "    </tr>\n",
              "    <tr>\n",
              "      <th>1</th>\n",
              "      <td>318440</td>\n",
              "      <td>6</td>\n",
              "    </tr>\n",
              "    <tr>\n",
              "      <th>2</th>\n",
              "      <td>318441</td>\n",
              "      <td>3</td>\n",
              "    </tr>\n",
              "    <tr>\n",
              "      <th>3</th>\n",
              "      <td>318442</td>\n",
              "      <td>3</td>\n",
              "    </tr>\n",
              "    <tr>\n",
              "      <th>4</th>\n",
              "      <td>318443</td>\n",
              "      <td>6</td>\n",
              "    </tr>\n",
              "  </tbody>\n",
              "</table>\n",
              "</div>"
            ],
            "text/plain": [
              "   case_id  Stay\n",
              "0   318439     1\n",
              "1   318440     6\n",
              "2   318441     3\n",
              "3   318442     3\n",
              "4   318443     6"
            ]
          },
          "metadata": {
            "tags": []
          },
          "execution_count": 89
        }
      ]
    },
    {
      "cell_type": "code",
      "metadata": {
        "id": "UQcjmnSqXHLO",
        "outputId": "edc7ab9a-5cc7-47ea-d9f8-f6490eb3ec6f",
        "colab": {
          "base_uri": "https://localhost:8080/",
          "height": 225
        }
      },
      "source": [
        "submit_test['Stay'].value_counts()"
      ],
      "execution_count": null,
      "outputs": [
        {
          "output_type": "execute_result",
          "data": {
            "text/plain": [
              "3     52979\n",
              "2     41570\n",
              "6     19789\n",
              "4     12400\n",
              "1      4717\n",
              "11     2615\n",
              "9      1547\n",
              "10      510\n",
              "8       455\n",
              "7       265\n",
              "5       210\n",
              "Name: Stay, dtype: int64"
            ]
          },
          "metadata": {
            "tags": []
          },
          "execution_count": 90
        }
      ]
    },
    {
      "cell_type": "code",
      "metadata": {
        "id": "90zGMVrBUdzy"
      },
      "source": [
        "submit_test['Stay'] = submit_test['Stay'].map({ 1.0:'0-10', 2.0:'11-20',3.0:'21-30',4.0:'31-40',\n",
        "                                               5.0:'41-50',6.0:'51-60',7.0:'61-70',8.0:'71-80',\n",
        "                                               9.0:'81-90',10.0:'91-100',11.0:'More than 100 Days'})"
      ],
      "execution_count": null,
      "outputs": []
    },
    {
      "cell_type": "code",
      "metadata": {
        "id": "KH-MqGSTXWpR",
        "outputId": "57429d77-8327-4e25-8d42-5ecb2ef290df",
        "colab": {
          "base_uri": "https://localhost:8080/",
          "height": 225
        }
      },
      "source": [
        "submit_test['Stay'].value_counts()"
      ],
      "execution_count": null,
      "outputs": [
        {
          "output_type": "execute_result",
          "data": {
            "text/plain": [
              "21-30                 52979\n",
              "11-20                 41570\n",
              "51-60                 19789\n",
              "31-40                 12400\n",
              "0-10                   4717\n",
              "More than 100 Days     2615\n",
              "81-90                  1547\n",
              "91-100                  510\n",
              "71-80                   455\n",
              "61-70                   265\n",
              "41-50                   210\n",
              "Name: Stay, dtype: int64"
            ]
          },
          "metadata": {
            "tags": []
          },
          "execution_count": 92
        }
      ]
    },
    {
      "cell_type": "code",
      "metadata": {
        "id": "dnAuHTtpXX3x"
      },
      "source": [
        "submit_test.to_excel(project_path+'sample_submission.xlsx', index=False)"
      ],
      "execution_count": null,
      "outputs": []
    },
    {
      "cell_type": "markdown",
      "metadata": {
        "id": "erR0aMRaaF-n"
      },
      "source": [
        "## Save the Model"
      ]
    },
    {
      "cell_type": "code",
      "metadata": {
        "id": "VuTmXhzTanE3",
        "outputId": "206d1538-9ca1-43c6-c77c-8113be4cba8d",
        "colab": {
          "base_uri": "https://localhost:8080/",
          "height": 35
        }
      },
      "source": [
        "# Save the model\n",
        "lgb_1.save_model(project_path+'mode.txt')\n",
        "#load from model:\n",
        "# bst = lgb.Booster(model_file='mode.txt')"
      ],
      "execution_count": null,
      "outputs": [
        {
          "output_type": "execute_result",
          "data": {
            "text/plain": [
              "<lightgbm.basic.Booster at 0x7fe3e78d8278>"
            ]
          },
          "metadata": {
            "tags": []
          },
          "execution_count": 98
        }
      ]
    },
    {
      "cell_type": "code",
      "metadata": {
        "id": "hiEzu-WUa9Ob",
        "outputId": "4ec33466-bf14-4898-b8e8-cd0038cf5a0d",
        "colab": {
          "base_uri": "https://localhost:8080/",
          "height": 35
        }
      },
      "source": [
        "import joblib\n",
        "# save model\n",
        "joblib.dump(lgb_1, project_path+'lgb.pkl')\n",
        "# load model\n",
        "# gbm_pickle = joblib.load('lgb.pkl')"
      ],
      "execution_count": null,
      "outputs": [
        {
          "output_type": "execute_result",
          "data": {
            "text/plain": [
              "['/content/drive/My Drive/Healthcare_Analytics_Jantahack_AV/lgb.pkl']"
            ]
          },
          "metadata": {
            "tags": []
          },
          "execution_count": 100
        }
      ]
    },
    {
      "cell_type": "markdown",
      "metadata": {
        "id": "siwzmJzwZYgd"
      },
      "source": [
        "## Hyperopt Tuning"
      ]
    },
    {
      "cell_type": "code",
      "metadata": {
        "id": "XPcf6NypZf0o"
      },
      "source": [
        "from sklearn.model_selection import StratifiedKFold\n",
        "import hyperopt\n",
        "from hyperopt import hp, tpe\n",
        "from hyperopt.fmin import fmin"
      ],
      "execution_count": null,
      "outputs": []
    },
    {
      "cell_type": "markdown",
      "metadata": {
        "id": "GpwuJTSwdfhV"
      },
      "source": [
        "## Grid Search CV"
      ]
    },
    {
      "cell_type": "code",
      "metadata": {
        "id": "ar6LwlUmff8P"
      },
      "source": [
        "params = {\n",
        "    'task': 'train',\n",
        "    'num_class': 12,\n",
        "    'boosting_type': 'gbdt',\n",
        "    'objective': 'multiclass', #binary for binary class\n",
        "    'metric': 'multi_logloss', # log_loss for binary\n",
        "    'metric_freq': 1,\n",
        "    'is_training_metric': True,\n",
        "    'max_bin': 255,\n",
        "    'learning_rate': 0.4,\n",
        "    'num_leaves': 63,\n",
        "    'tree_learner': 'serial',\n",
        "    'feature_fraction': 0.8,\n",
        "    'bagging_fraction': 0.8,\n",
        "    'bagging_freq': 5,\n",
        "    'min_data_in_leaf': 50,\n",
        "    'min_sum_hessian_in_leaf': 5,\n",
        "    'is_enable_sparse': True,\n",
        "    'use_two_round_loading': False,\n",
        "    'is_save_binary_file': False,\n",
        "    'output_model': 'LightGBM_model.txt',\n",
        "    'num_machines': 1,\n",
        "    'local_listen_port': 12400,\n",
        "    'machine_list_file': 'mlist.txt',\n",
        "    'verbose': 0,\n",
        "    # parameters to keep the exactly the same\n",
        "    'subsample_for_bin': 200000,\n",
        "    'min_child_samples': 20,\n",
        "    'min_child_weight': 0.001,\n",
        "    'min_split_gain': 0.0,\n",
        "    'colsample_bytree': 1.0,\n",
        "    'reg_alpha': 0.0,\n",
        "    'reg_lambda': 0.0\n",
        "}"
      ],
      "execution_count": null,
      "outputs": []
    },
    {
      "cell_type": "code",
      "metadata": {
        "id": "5Pnf2gw2hSXb"
      },
      "source": [
        "# train\n",
        "\n",
        "lgbm = lgb.train(params,d_train)\n",
        "\n",
        "gridParams = {\n",
        "    'learning_rate': np.array([0.3,0.4,0.5]),\n",
        "    'max_depth': np.array([10,20,30]),\n",
        "    'num_leaves': np.array([20,31,40]),\n",
        "    'boosting_type' : ['gbdt'],\n",
        "    'objective' : ['multiclass'],\n",
        "\n",
        "}\n",
        "\n",
        "mdl = lgb.LGBMClassifier(\n",
        "    task = params['task'],\n",
        "    metric = params['metric'],\n",
        "    metric_freq = params['metric_freq'],\n",
        "    is_training_metric = params['is_training_metric'],\n",
        "    max_bin = params['max_bin'],\n",
        "    tree_learner = params['tree_learner'],\n",
        "    feature_fraction = params['feature_fraction'],\n",
        "    bagging_fraction = params['bagging_fraction'],\n",
        "    bagging_freq = params['bagging_freq'],\n",
        "    min_data_in_leaf = params['min_data_in_leaf'],\n",
        "    min_sum_hessian_in_leaf = params['min_sum_hessian_in_leaf'],\n",
        "    is_enable_sparse = params['is_enable_sparse'],\n",
        "    use_two_round_loading = params['use_two_round_loading'],\n",
        "    is_save_binary_file = params['is_save_binary_file'],\n",
        "    n_jobs = -1\n",
        ")\n",
        "# Create the grid\n",
        "scoring = {'accuracy': 'accuracy'}\n",
        "grid = GridSearchCV(mdl, gridParams, verbose=2, cv=5, scoring=scoring, n_jobs=-1, refit='accuracy')"
      ],
      "execution_count": null,
      "outputs": []
    },
    {
      "cell_type": "code",
      "metadata": {
        "id": "oB56w2q8ifwQ",
        "outputId": "b94c3904-a7cf-4bf4-80d5-90e70689e918",
        "colab": {
          "base_uri": "https://localhost:8080/",
          "height": 485
        }
      },
      "source": [
        "# Run the grid\n",
        "grid.fit(X_train, y_train)"
      ],
      "execution_count": null,
      "outputs": [
        {
          "output_type": "stream",
          "text": [
            "Fitting 5 folds for each of 27 candidates, totalling 135 fits\n"
          ],
          "name": "stdout"
        },
        {
          "output_type": "stream",
          "text": [
            "[Parallel(n_jobs=-1)]: Using backend LokyBackend with 2 concurrent workers.\n",
            "[Parallel(n_jobs=-1)]: Done  37 tasks      | elapsed: 16.8min\n",
            "[Parallel(n_jobs=-1)]: Done 135 out of 135 | elapsed: 58.6min finished\n"
          ],
          "name": "stderr"
        },
        {
          "output_type": "execute_result",
          "data": {
            "text/plain": [
              "GridSearchCV(cv=5, error_score=nan,\n",
              "             estimator=LGBMClassifier(bagging_fraction=0.8, bagging_freq=5,\n",
              "                                      boosting_type='gbdt', class_weight=None,\n",
              "                                      colsample_bytree=1.0,\n",
              "                                      feature_fraction=0.8,\n",
              "                                      importance_type='split',\n",
              "                                      is_enable_sparse=True,\n",
              "                                      is_save_binary_file=False,\n",
              "                                      is_training_metric=True,\n",
              "                                      learning_rate=0.1, max_bin=255,\n",
              "                                      max_depth=-1, metric='multi_logloss',\n",
              "                                      metric_freq=...\n",
              "                                      reg_lambda=0.0, silent=True,\n",
              "                                      subsample=1.0, subsample_for_bin=200000, ...),\n",
              "             iid='deprecated', n_jobs=-1,\n",
              "             param_grid={'boosting_type': ['gbdt'],\n",
              "                         'learning_rate': array([0.3, 0.4, 0.5]),\n",
              "                         'max_depth': array([10, 20, 30]),\n",
              "                         'num_leaves': array([20, 31, 40]),\n",
              "                         'objective': ['multiclass']},\n",
              "             pre_dispatch='2*n_jobs', refit='accuracy',\n",
              "             return_train_score=False, scoring={'accuracy': 'accuracy'},\n",
              "             verbose=2)"
            ]
          },
          "metadata": {
            "tags": []
          },
          "execution_count": 58
        }
      ]
    },
    {
      "cell_type": "code",
      "metadata": {
        "id": "fPpr51Noi1lr",
        "outputId": "96850a6f-ae52-44ef-b764-e4526eba8687",
        "colab": {
          "base_uri": "https://localhost:8080/",
          "height": 72
        }
      },
      "source": [
        "print('Best parameters found by grid search are:', grid.best_params_)\n",
        "print('Best score found by grid search is:', grid.best_score_)"
      ],
      "execution_count": null,
      "outputs": [
        {
          "output_type": "stream",
          "text": [
            "Best parameters found by grid search are: {'boosting_type': 'gbdt', 'learning_rate': 0.3, 'max_depth': 20, 'num_leaves': 31, 'objective': 'multiclass'}\n",
            "Best score found by grid search is: 0.4220529931305201\n"
          ],
          "name": "stdout"
        }
      ]
    },
    {
      "cell_type": "code",
      "metadata": {
        "id": "rhHKawq4wK-5"
      },
      "source": [
        "grid_pred_val = grid.predict(X_valid)\n",
        "#argmax() method \n",
        "y_pred_val = [np.argmax(line) for line in grid_pred_val]"
      ],
      "execution_count": null,
      "outputs": []
    },
    {
      "cell_type": "code",
      "metadata": {
        "id": "o9ybCntA8lFW",
        "outputId": "3668cfcc-8642-49cd-9362-0d5b39295327",
        "colab": {
          "base_uri": "https://localhost:8080/",
          "height": 35
        }
      },
      "source": [
        "#Accuracy\n",
        "accuracy_score(grid_pred_val,y_valid)"
      ],
      "execution_count": null,
      "outputs": [
        {
          "output_type": "execute_result",
          "data": {
            "text/plain": [
              "0.42037746514257"
            ]
          },
          "metadata": {
            "tags": []
          },
          "execution_count": 68
        }
      ]
    },
    {
      "cell_type": "code",
      "metadata": {
        "id": "6O2V0lOL9CKI"
      },
      "source": [
        "# d_test = lgb.Dataset(test_main)\n",
        "grid_pred_test = grid.predict(test_main)\n",
        "#argmax() method \n",
        "y_pred_val = [np.argmax(line) for line in grid_pred_test]"
      ],
      "execution_count": null,
      "outputs": []
    },
    {
      "cell_type": "code",
      "metadata": {
        "id": "GWl4GyO69e6-",
        "outputId": "143768e2-6f09-4451-ea8e-24f03b6a27e7",
        "colab": {
          "base_uri": "https://localhost:8080/",
          "height": 35
        }
      },
      "source": [
        "grid_pred_test[:4]"
      ],
      "execution_count": null,
      "outputs": [
        {
          "output_type": "execute_result",
          "data": {
            "text/plain": [
              "array([1, 6, 3, 3])"
            ]
          },
          "metadata": {
            "tags": []
          },
          "execution_count": 70
        }
      ]
    },
    {
      "cell_type": "code",
      "metadata": {
        "id": "USwysvsR9h3h",
        "outputId": "9c0a6daf-0c2e-4c68-dd4c-aa073868e017",
        "colab": {
          "base_uri": "https://localhost:8080/",
          "height": 202
        }
      },
      "source": [
        "col=['case_id','Stay']\n",
        "submit_test = pd.concat([test_main_Id['case_id'],pd.DataFrame(grid_pred_test)], axis=1)\n",
        "submit_test.columns = col\n",
        "# submit_test['Stay']=encoder.inverse_transform(submit_test['Stay'])\n",
        "submit_test.head()"
      ],
      "execution_count": null,
      "outputs": [
        {
          "output_type": "execute_result",
          "data": {
            "text/html": [
              "<div>\n",
              "<style scoped>\n",
              "    .dataframe tbody tr th:only-of-type {\n",
              "        vertical-align: middle;\n",
              "    }\n",
              "\n",
              "    .dataframe tbody tr th {\n",
              "        vertical-align: top;\n",
              "    }\n",
              "\n",
              "    .dataframe thead th {\n",
              "        text-align: right;\n",
              "    }\n",
              "</style>\n",
              "<table border=\"1\" class=\"dataframe\">\n",
              "  <thead>\n",
              "    <tr style=\"text-align: right;\">\n",
              "      <th></th>\n",
              "      <th>case_id</th>\n",
              "      <th>Stay</th>\n",
              "    </tr>\n",
              "  </thead>\n",
              "  <tbody>\n",
              "    <tr>\n",
              "      <th>0</th>\n",
              "      <td>318439</td>\n",
              "      <td>1</td>\n",
              "    </tr>\n",
              "    <tr>\n",
              "      <th>1</th>\n",
              "      <td>318440</td>\n",
              "      <td>6</td>\n",
              "    </tr>\n",
              "    <tr>\n",
              "      <th>2</th>\n",
              "      <td>318441</td>\n",
              "      <td>3</td>\n",
              "    </tr>\n",
              "    <tr>\n",
              "      <th>3</th>\n",
              "      <td>318442</td>\n",
              "      <td>3</td>\n",
              "    </tr>\n",
              "    <tr>\n",
              "      <th>4</th>\n",
              "      <td>318443</td>\n",
              "      <td>6</td>\n",
              "    </tr>\n",
              "  </tbody>\n",
              "</table>\n",
              "</div>"
            ],
            "text/plain": [
              "   case_id  Stay\n",
              "0   318439     1\n",
              "1   318440     6\n",
              "2   318441     3\n",
              "3   318442     3\n",
              "4   318443     6"
            ]
          },
          "metadata": {
            "tags": []
          },
          "execution_count": 71
        }
      ]
    },
    {
      "cell_type": "code",
      "metadata": {
        "id": "Ri56p9PF9tng"
      },
      "source": [
        "submit_test['Stay'] = submit_test['Stay'].map({ 1.0:'0-10', 2.0:'11-20',3.0:'21-30',4.0:'31-40',\n",
        "                                               5.0:'41-50',6.0:'51-60',7.0:'61-70',8.0:'71-80',\n",
        "                                               9.0:'81-90',10.0:'91-100',11.0:'More than 100 Days'})"
      ],
      "execution_count": null,
      "outputs": []
    },
    {
      "cell_type": "code",
      "metadata": {
        "id": "r4TlXCXK92oJ"
      },
      "source": [
        "submit_test.to_excel(project_path+'sample_submission_grid_lgbm.xlsx', index=False)"
      ],
      "execution_count": null,
      "outputs": []
    },
    {
      "cell_type": "markdown",
      "metadata": {
        "id": "URw0eT4h-VCI"
      },
      "source": [
        "### Save the model"
      ]
    },
    {
      "cell_type": "code",
      "metadata": {
        "id": "5NoKKMwL-S78",
        "outputId": "4ec33466-bf14-4898-b8e8-cd0038cf5a0d",
        "colab": {
          "base_uri": "https://localhost:8080/",
          "height": 35
        }
      },
      "source": [
        "# import joblib\n",
        "# # save model\n",
        "# joblib.dump(lgb_1, project_path+'lgb.pkl')\n",
        "# # load model\n",
        "# # gbm_pickle = joblib.load('lgb.pkl')"
      ],
      "execution_count": null,
      "outputs": [
        {
          "output_type": "execute_result",
          "data": {
            "text/plain": [
              "['/content/drive/My Drive/Healthcare_Analytics_Jantahack_AV/lgb.pkl']"
            ]
          },
          "metadata": {
            "tags": []
          },
          "execution_count": 100
        }
      ]
    },
    {
      "cell_type": "code",
      "metadata": {
        "id": "0Pze8k_7-r0j",
        "outputId": "2c8c3424-2de4-4d73-e93d-ce377b376dc7",
        "colab": {
          "base_uri": "https://localhost:8080/",
          "height": 35
        }
      },
      "source": [
        "from sklearn.externals import joblib\n",
        "joblib.dump(grid.best_estimator_, project_path+'grid.pkl')"
      ],
      "execution_count": null,
      "outputs": [
        {
          "output_type": "execute_result",
          "data": {
            "text/plain": [
              "['/content/drive/My Drive/Healthcare_Analytics_Jantahack_AV/grid.pkl']"
            ]
          },
          "metadata": {
            "tags": []
          },
          "execution_count": 76
        }
      ]
    },
    {
      "cell_type": "markdown",
      "metadata": {
        "id": "ERkIYkkJBeDG"
      },
      "source": [
        "## Save the raw data"
      ]
    },
    {
      "cell_type": "code",
      "metadata": {
        "id": "sg4HuXBICWFS"
      },
      "source": [
        "X_train.to_csv(project_path+'X_train.csv', index=False)\n",
        "y_train.to_csv(project_path+'y_train.csv', index=False)\n",
        "X_valid.to_csv(project_path+'X_valid.csv', index=False)\n",
        "y_valid.to_csv(project_path+'y_valid.csv', index=False)\n",
        "test_main.to_csv(project_path+'test_main.csv', index=False)"
      ],
      "execution_count": null,
      "outputs": []
    },
    {
      "cell_type": "code",
      "metadata": {
        "id": "kUrG2g8f-wU8"
      },
      "source": [
        "# Load the data back\n",
        "X_train = pd.read_csv(project_path+'X_train.csv')\n",
        "y_train = pd.read_csv(project_path+'y_train.csv')\n",
        "X_valid = pd.read_csv(project_path+'X_valid.csv')\n",
        "y_valid = pd.read_csv(project_path+'y_valid.csv')\n",
        "test_main = pd.read_csv(project_path+'test_main.csv')"
      ],
      "execution_count": null,
      "outputs": []
    },
    {
      "cell_type": "code",
      "metadata": {
        "id": "M2j7lU4ixRv1",
        "outputId": "48f681fe-f5cb-4f66-9748-c1fde9704a9c",
        "colab": {
          "base_uri": "https://localhost:8080/",
          "height": 35
        }
      },
      "source": [
        "X_train.shape\n",
        "X_valid.shape\n",
        "test_main.shape"
      ],
      "execution_count": null,
      "outputs": [
        {
          "output_type": "execute_result",
          "data": {
            "text/plain": [
              "(254750, 15)"
            ]
          },
          "metadata": {
            "tags": []
          },
          "execution_count": 130
        },
        {
          "output_type": "execute_result",
          "data": {
            "text/plain": [
              "(63688, 15)"
            ]
          },
          "metadata": {
            "tags": []
          },
          "execution_count": 130
        },
        {
          "output_type": "execute_result",
          "data": {
            "text/plain": [
              "(137057, 15)"
            ]
          },
          "metadata": {
            "tags": []
          },
          "execution_count": 130
        }
      ]
    },
    {
      "cell_type": "code",
      "metadata": {
        "id": "chByZGGBxfbp"
      },
      "source": [
        "# from imblearn.over_sampling import SMOTE\n",
        "# from imblearn.under_sampling import RandomUnderSampler\n",
        "# smote = SMOTE('minority')\n",
        "\n",
        "# # define undersample strategy\n",
        "# undersample = RandomUnderSampler(sampling_strategy='majority')\n",
        "# # fit and apply the transform\n",
        "# X_train_under, y_train_under = undersample.fit_resample(X_train, y_train)\n",
        "# print(X_train_under.shape,y_train_under.shape)"
      ],
      "execution_count": null,
      "outputs": []
    },
    {
      "cell_type": "code",
      "metadata": {
        "id": "LtHmc793xquv"
      },
      "source": [
        "# X_train_sm,y_train_sm = smote.fit_sample(X_train,y_train)\n",
        "# print(X_train_sm.shape,y_train_sm.shape)"
      ],
      "execution_count": null,
      "outputs": []
    },
    {
      "cell_type": "code",
      "metadata": {
        "id": "QbAiZizZx5sH"
      },
      "source": [
        "#Converting the dataset in proper LGB format\n",
        "d_train = lgb.Dataset(X_train, label=y_train)\n",
        "# d_train_us = lgb.Dataset(X_train_under, label=y_train_under)\n",
        "# d_valid = lgb.Dataset(X_valid, label=y_valid, reference=train_main)\n",
        "# d_test = lgb.Dataset(test_main)"
      ],
      "execution_count": null,
      "outputs": []
    },
    {
      "cell_type": "code",
      "metadata": {
        "id": "4Gz2hg3axCw0"
      },
      "source": [
        "from sklearn.metrics import accuracy_score,roc_auc_score,precision_score"
      ],
      "execution_count": null,
      "outputs": []
    },
    {
      "cell_type": "code",
      "metadata": {
        "id": "PEGxxhJ3xCwv"
      },
      "source": [
        "#setting up the parameters\n",
        "params={}\n",
        "params['learning_rate']=0.28\n",
        "params['num_leaves']=31\n",
        "params['metric']='multi_logloss' #GradientBoostingDecisionTree\n",
        "params['is_unbalance']='False' #GradientBoostingDecisionTree\n",
        "params['boosting_type']='gbdt' #GradientBoostingDecisionTree\n",
        "params['objective']='multiclass' #Multi-class target feature\n",
        "# params['metric']='multi_logloss' #metric for multi-class\n",
        "params['max_depth']= 30\n",
        "params['num_class'] = 12 #no.of unique values in the target class not inclusive of the end value\n",
        "params['feature_fraction'] = 0.9"
      ],
      "execution_count": null,
      "outputs": []
    },
    {
      "cell_type": "code",
      "metadata": {
        "id": "RkWAg5TPxCwz"
      },
      "source": [
        "#training the model\n",
        "lgb_2 = lgb.train(params,d_train,100)  #training the model on 100 epocs\n",
        "#prediction on the test dataset\n",
        "lgb_pred_2 = lgb_2.predict(X_valid)"
      ],
      "execution_count": null,
      "outputs": []
    },
    {
      "cell_type": "code",
      "metadata": {
        "id": "lj2wW1J3xCw2",
        "outputId": "c37970f9-10a1-4665-e957-925a144d3301",
        "colab": {
          "base_uri": "https://localhost:8080/",
          "height": 35
        }
      },
      "source": [
        "#argmax() method \n",
        "y_pred_2 = [np.argmax(line) for line in lgb_pred_2]\n",
        "#using precision score for error metrics\n",
        "precision_score(y_pred_2,y_valid,average=None).mean()"
      ],
      "execution_count": null,
      "outputs": [
        {
          "output_type": "execute_result",
          "data": {
            "text/plain": [
              "0.23844552719097906"
            ]
          },
          "metadata": {
            "tags": []
          },
          "execution_count": 179
        }
      ]
    },
    {
      "cell_type": "code",
      "metadata": {
        "id": "34QTWJF2xCw4",
        "outputId": "10865093-b2f1-48f6-bad3-70f28a06b8d4",
        "colab": {
          "base_uri": "https://localhost:8080/",
          "height": 35
        }
      },
      "source": [
        "#Accuracy\n",
        "accuracy_score(y_pred_2,y_valid)"
      ],
      "execution_count": null,
      "outputs": [
        {
          "output_type": "execute_result",
          "data": {
            "text/plain": [
              "0.41816354729305366"
            ]
          },
          "metadata": {
            "tags": []
          },
          "execution_count": 180
        }
      ]
    },
    {
      "cell_type": "code",
      "metadata": {
        "id": "SCLqGcTUxCw7"
      },
      "source": [
        "lgb_pred_test = lgb_1.predict(test_main)\n",
        "#argmax() method \n",
        "y_pred_2 = [np.argmax(line) for line in lgb_pred_test]"
      ],
      "execution_count": null,
      "outputs": []
    },
    {
      "cell_type": "code",
      "metadata": {
        "id": "WgkBHq4AxCxA"
      },
      "source": [
        "# train_main_Id = train_main[['case_id','patientid']]\n",
        "# test_main_Id = test_main[['case_id','patientid']]"
      ],
      "execution_count": null,
      "outputs": []
    },
    {
      "cell_type": "code",
      "metadata": {
        "id": "xd5-cbWhxCxC",
        "outputId": "ab7616a4-5efc-4040-b971-514ea00670bc",
        "colab": {
          "base_uri": "https://localhost:8080/",
          "height": 110
        }
      },
      "source": [
        "test_main_Id.head(2)"
      ],
      "execution_count": null,
      "outputs": [
        {
          "output_type": "execute_result",
          "data": {
            "text/html": [
              "<div>\n",
              "<style scoped>\n",
              "    .dataframe tbody tr th:only-of-type {\n",
              "        vertical-align: middle;\n",
              "    }\n",
              "\n",
              "    .dataframe tbody tr th {\n",
              "        vertical-align: top;\n",
              "    }\n",
              "\n",
              "    .dataframe thead th {\n",
              "        text-align: right;\n",
              "    }\n",
              "</style>\n",
              "<table border=\"1\" class=\"dataframe\">\n",
              "  <thead>\n",
              "    <tr style=\"text-align: right;\">\n",
              "      <th></th>\n",
              "      <th>case_id</th>\n",
              "      <th>patientid</th>\n",
              "    </tr>\n",
              "  </thead>\n",
              "  <tbody>\n",
              "    <tr>\n",
              "      <th>0</th>\n",
              "      <td>318439</td>\n",
              "      <td>17006</td>\n",
              "    </tr>\n",
              "    <tr>\n",
              "      <th>1</th>\n",
              "      <td>318440</td>\n",
              "      <td>17006</td>\n",
              "    </tr>\n",
              "  </tbody>\n",
              "</table>\n",
              "</div>"
            ],
            "text/plain": [
              "   case_id  patientid\n",
              "0   318439      17006\n",
              "1   318440      17006"
            ]
          },
          "metadata": {
            "tags": []
          },
          "execution_count": 70
        }
      ]
    },
    {
      "cell_type": "code",
      "metadata": {
        "id": "u6g5xx8ExCxD",
        "outputId": "6401ea5b-036c-4e1d-c567-7d2d22fd37b4",
        "colab": {
          "base_uri": "https://localhost:8080/",
          "height": 202
        }
      },
      "source": [
        "col=['case_id','Stay']\n",
        "submit_test = pd.concat([test_main_Id['case_id'],pd.DataFrame(y_pred_2)], axis=1)\n",
        "submit_test.columns = col\n",
        "# submit_test['Stay']=encoder.inverse_transform(submit_test['Stay'])\n",
        "submit_test.head()"
      ],
      "execution_count": null,
      "outputs": [
        {
          "output_type": "execute_result",
          "data": {
            "text/html": [
              "<div>\n",
              "<style scoped>\n",
              "    .dataframe tbody tr th:only-of-type {\n",
              "        vertical-align: middle;\n",
              "    }\n",
              "\n",
              "    .dataframe tbody tr th {\n",
              "        vertical-align: top;\n",
              "    }\n",
              "\n",
              "    .dataframe thead th {\n",
              "        text-align: right;\n",
              "    }\n",
              "</style>\n",
              "<table border=\"1\" class=\"dataframe\">\n",
              "  <thead>\n",
              "    <tr style=\"text-align: right;\">\n",
              "      <th></th>\n",
              "      <th>case_id</th>\n",
              "      <th>Stay</th>\n",
              "    </tr>\n",
              "  </thead>\n",
              "  <tbody>\n",
              "    <tr>\n",
              "      <th>0</th>\n",
              "      <td>318439</td>\n",
              "      <td>1</td>\n",
              "    </tr>\n",
              "    <tr>\n",
              "      <th>1</th>\n",
              "      <td>318440</td>\n",
              "      <td>6</td>\n",
              "    </tr>\n",
              "    <tr>\n",
              "      <th>2</th>\n",
              "      <td>318441</td>\n",
              "      <td>3</td>\n",
              "    </tr>\n",
              "    <tr>\n",
              "      <th>3</th>\n",
              "      <td>318442</td>\n",
              "      <td>3</td>\n",
              "    </tr>\n",
              "    <tr>\n",
              "      <th>4</th>\n",
              "      <td>318443</td>\n",
              "      <td>6</td>\n",
              "    </tr>\n",
              "  </tbody>\n",
              "</table>\n",
              "</div>"
            ],
            "text/plain": [
              "   case_id  Stay\n",
              "0   318439     1\n",
              "1   318440     6\n",
              "2   318441     3\n",
              "3   318442     3\n",
              "4   318443     6"
            ]
          },
          "metadata": {
            "tags": []
          },
          "execution_count": 89
        }
      ]
    },
    {
      "cell_type": "code",
      "metadata": {
        "id": "5kI05xdnxCxF",
        "outputId": "edc7ab9a-5cc7-47ea-d9f8-f6490eb3ec6f",
        "colab": {
          "base_uri": "https://localhost:8080/",
          "height": 225
        }
      },
      "source": [
        "submit_test['Stay'].value_counts()"
      ],
      "execution_count": null,
      "outputs": [
        {
          "output_type": "execute_result",
          "data": {
            "text/plain": [
              "3     52979\n",
              "2     41570\n",
              "6     19789\n",
              "4     12400\n",
              "1      4717\n",
              "11     2615\n",
              "9      1547\n",
              "10      510\n",
              "8       455\n",
              "7       265\n",
              "5       210\n",
              "Name: Stay, dtype: int64"
            ]
          },
          "metadata": {
            "tags": []
          },
          "execution_count": 90
        }
      ]
    },
    {
      "cell_type": "code",
      "metadata": {
        "id": "KqU6t_jHxCxH"
      },
      "source": [
        "submit_test['Stay'] = submit_test['Stay'].map({ 1.0:'0-10', 2.0:'11-20',3.0:'21-30',4.0:'31-40',\n",
        "                                               5.0:'41-50',6.0:'51-60',7.0:'61-70',8.0:'71-80',\n",
        "                                               9.0:'81-90',10.0:'91-100',11.0:'More than 100 Days'})"
      ],
      "execution_count": null,
      "outputs": []
    },
    {
      "cell_type": "code",
      "metadata": {
        "id": "9E7FN8S7xCxJ",
        "outputId": "57429d77-8327-4e25-8d42-5ecb2ef290df",
        "colab": {
          "base_uri": "https://localhost:8080/",
          "height": 225
        }
      },
      "source": [
        "submit_test['Stay'].value_counts()"
      ],
      "execution_count": null,
      "outputs": [
        {
          "output_type": "execute_result",
          "data": {
            "text/plain": [
              "21-30                 52979\n",
              "11-20                 41570\n",
              "51-60                 19789\n",
              "31-40                 12400\n",
              "0-10                   4717\n",
              "More than 100 Days     2615\n",
              "81-90                  1547\n",
              "91-100                  510\n",
              "71-80                   455\n",
              "61-70                   265\n",
              "41-50                   210\n",
              "Name: Stay, dtype: int64"
            ]
          },
          "metadata": {
            "tags": []
          },
          "execution_count": 92
        }
      ]
    },
    {
      "cell_type": "code",
      "metadata": {
        "id": "akY5YqkhxCxL"
      },
      "source": [
        "submit_test.to_excel(project_path+'sample_submission.xlsx', index=False)"
      ],
      "execution_count": null,
      "outputs": []
    },
    {
      "cell_type": "markdown",
      "metadata": {
        "id": "PFo7tPUjxCxM"
      },
      "source": [
        "## Save the Model"
      ]
    }
  ]
}