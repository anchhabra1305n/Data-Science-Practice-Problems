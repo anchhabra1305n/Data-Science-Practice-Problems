{
 "cells": [
  {
   "cell_type": "code",
   "execution_count": 1,
   "metadata": {},
   "outputs": [
    {
     "name": "stdout",
     "output_type": "stream",
     "text": [
      "Directory changed\n"
     ]
    }
   ],
   "source": [
    "# Python3 program to change the \n",
    "# directory of file using os.chdir() method \n",
    "\n",
    "# import os library \n",
    "import os \n",
    "\n",
    "# change the current directory \n",
    "# to specified directory \n",
    "os.chdir(r\"C:\\Users\\anchhabra\\HR_Practice_case\")\n",
    "\n",
    "print(\"Directory changed\")"
   ]
  },
  {
   "cell_type": "code",
   "execution_count": 2,
   "metadata": {},
   "outputs": [],
   "source": [
    "import pandas as pd\n",
    "import numpy as np\n",
    "import seaborn as sns\n",
    "import matplotlib.pyplot as plt\n",
    "import pylab\n",
    "sns.set(style=\"ticks\", color_codes=True)\n",
    "%matplotlib inline\n",
    "import warnings\n",
    "warnings.filterwarnings(\"ignore\")\n",
    "# import researchpy as rp\n",
    "from scipy import stats\n",
    "import pandas.core.algorithms as algos\n",
    "from pandas import Series\n",
    "import re\n",
    "import traceback\n",
    "import string"
   ]
  },
  {
   "cell_type": "code",
   "execution_count": 3,
   "metadata": {},
   "outputs": [],
   "source": [
    "from IPython.core.interactiveshell import InteractiveShell\n",
    "InteractiveShell.ast_node_interactivity = \"all\""
   ]
  },
  {
   "cell_type": "code",
   "execution_count": 4,
   "metadata": {},
   "outputs": [
    {
     "data": {
      "text/html": [
       "<div>\n",
       "<style scoped>\n",
       "    .dataframe tbody tr th:only-of-type {\n",
       "        vertical-align: middle;\n",
       "    }\n",
       "\n",
       "    .dataframe tbody tr th {\n",
       "        vertical-align: top;\n",
       "    }\n",
       "\n",
       "    .dataframe thead th {\n",
       "        text-align: right;\n",
       "    }\n",
       "</style>\n",
       "<table border=\"1\" class=\"dataframe\">\n",
       "  <thead>\n",
       "    <tr style=\"text-align: right;\">\n",
       "      <th></th>\n",
       "      <th>employee_id</th>\n",
       "      <th>department</th>\n",
       "      <th>region</th>\n",
       "      <th>education</th>\n",
       "      <th>gender</th>\n",
       "      <th>recruitment_channel</th>\n",
       "      <th>no_of_trainings</th>\n",
       "      <th>age</th>\n",
       "      <th>previous_year_rating</th>\n",
       "      <th>length_of_service</th>\n",
       "      <th>KPIs_met &gt;80%</th>\n",
       "      <th>awards_won?</th>\n",
       "      <th>avg_training_score</th>\n",
       "      <th>is_promoted</th>\n",
       "    </tr>\n",
       "  </thead>\n",
       "  <tbody>\n",
       "    <tr>\n",
       "      <th>0</th>\n",
       "      <td>65438</td>\n",
       "      <td>Sales &amp; Marketing</td>\n",
       "      <td>region_7</td>\n",
       "      <td>Master's &amp; above</td>\n",
       "      <td>f</td>\n",
       "      <td>sourcing</td>\n",
       "      <td>1</td>\n",
       "      <td>35</td>\n",
       "      <td>5.0</td>\n",
       "      <td>8</td>\n",
       "      <td>1</td>\n",
       "      <td>0</td>\n",
       "      <td>49</td>\n",
       "      <td>0</td>\n",
       "    </tr>\n",
       "    <tr>\n",
       "      <th>1</th>\n",
       "      <td>65141</td>\n",
       "      <td>Operations</td>\n",
       "      <td>region_22</td>\n",
       "      <td>Bachelor's</td>\n",
       "      <td>m</td>\n",
       "      <td>other</td>\n",
       "      <td>1</td>\n",
       "      <td>30</td>\n",
       "      <td>5.0</td>\n",
       "      <td>4</td>\n",
       "      <td>0</td>\n",
       "      <td>0</td>\n",
       "      <td>60</td>\n",
       "      <td>0</td>\n",
       "    </tr>\n",
       "    <tr>\n",
       "      <th>2</th>\n",
       "      <td>7513</td>\n",
       "      <td>Sales &amp; Marketing</td>\n",
       "      <td>region_19</td>\n",
       "      <td>Bachelor's</td>\n",
       "      <td>m</td>\n",
       "      <td>sourcing</td>\n",
       "      <td>1</td>\n",
       "      <td>34</td>\n",
       "      <td>3.0</td>\n",
       "      <td>7</td>\n",
       "      <td>0</td>\n",
       "      <td>0</td>\n",
       "      <td>50</td>\n",
       "      <td>0</td>\n",
       "    </tr>\n",
       "    <tr>\n",
       "      <th>3</th>\n",
       "      <td>2542</td>\n",
       "      <td>Sales &amp; Marketing</td>\n",
       "      <td>region_23</td>\n",
       "      <td>Bachelor's</td>\n",
       "      <td>m</td>\n",
       "      <td>other</td>\n",
       "      <td>2</td>\n",
       "      <td>39</td>\n",
       "      <td>1.0</td>\n",
       "      <td>10</td>\n",
       "      <td>0</td>\n",
       "      <td>0</td>\n",
       "      <td>50</td>\n",
       "      <td>0</td>\n",
       "    </tr>\n",
       "    <tr>\n",
       "      <th>4</th>\n",
       "      <td>48945</td>\n",
       "      <td>Technology</td>\n",
       "      <td>region_26</td>\n",
       "      <td>Bachelor's</td>\n",
       "      <td>m</td>\n",
       "      <td>other</td>\n",
       "      <td>1</td>\n",
       "      <td>45</td>\n",
       "      <td>3.0</td>\n",
       "      <td>2</td>\n",
       "      <td>0</td>\n",
       "      <td>0</td>\n",
       "      <td>73</td>\n",
       "      <td>0</td>\n",
       "    </tr>\n",
       "  </tbody>\n",
       "</table>\n",
       "</div>"
      ],
      "text/plain": [
       "   employee_id         department     region         education gender  \\\n",
       "0        65438  Sales & Marketing   region_7  Master's & above      f   \n",
       "1        65141         Operations  region_22        Bachelor's      m   \n",
       "2         7513  Sales & Marketing  region_19        Bachelor's      m   \n",
       "3         2542  Sales & Marketing  region_23        Bachelor's      m   \n",
       "4        48945         Technology  region_26        Bachelor's      m   \n",
       "\n",
       "  recruitment_channel  no_of_trainings  age  previous_year_rating  \\\n",
       "0            sourcing                1   35                   5.0   \n",
       "1               other                1   30                   5.0   \n",
       "2            sourcing                1   34                   3.0   \n",
       "3               other                2   39                   1.0   \n",
       "4               other                1   45                   3.0   \n",
       "\n",
       "   length_of_service  KPIs_met >80%  awards_won?  avg_training_score  \\\n",
       "0                  8              1            0                  49   \n",
       "1                  4              0            0                  60   \n",
       "2                  7              0            0                  50   \n",
       "3                 10              0            0                  50   \n",
       "4                  2              0            0                  73   \n",
       "\n",
       "   is_promoted  \n",
       "0            0  \n",
       "1            0  \n",
       "2            0  \n",
       "3            0  \n",
       "4            0  "
      ]
     },
     "execution_count": 4,
     "metadata": {},
     "output_type": "execute_result"
    },
    {
     "data": {
      "text/html": [
       "<div>\n",
       "<style scoped>\n",
       "    .dataframe tbody tr th:only-of-type {\n",
       "        vertical-align: middle;\n",
       "    }\n",
       "\n",
       "    .dataframe tbody tr th {\n",
       "        vertical-align: top;\n",
       "    }\n",
       "\n",
       "    .dataframe thead th {\n",
       "        text-align: right;\n",
       "    }\n",
       "</style>\n",
       "<table border=\"1\" class=\"dataframe\">\n",
       "  <thead>\n",
       "    <tr style=\"text-align: right;\">\n",
       "      <th></th>\n",
       "      <th>employee_id</th>\n",
       "      <th>department</th>\n",
       "      <th>region</th>\n",
       "      <th>education</th>\n",
       "      <th>gender</th>\n",
       "      <th>recruitment_channel</th>\n",
       "      <th>no_of_trainings</th>\n",
       "      <th>age</th>\n",
       "      <th>previous_year_rating</th>\n",
       "      <th>length_of_service</th>\n",
       "      <th>KPIs_met &gt;80%</th>\n",
       "      <th>awards_won?</th>\n",
       "      <th>avg_training_score</th>\n",
       "    </tr>\n",
       "  </thead>\n",
       "  <tbody>\n",
       "    <tr>\n",
       "      <th>0</th>\n",
       "      <td>8724</td>\n",
       "      <td>Technology</td>\n",
       "      <td>region_26</td>\n",
       "      <td>Bachelor's</td>\n",
       "      <td>m</td>\n",
       "      <td>sourcing</td>\n",
       "      <td>1</td>\n",
       "      <td>24</td>\n",
       "      <td>NaN</td>\n",
       "      <td>1</td>\n",
       "      <td>1</td>\n",
       "      <td>0</td>\n",
       "      <td>77</td>\n",
       "    </tr>\n",
       "    <tr>\n",
       "      <th>1</th>\n",
       "      <td>74430</td>\n",
       "      <td>HR</td>\n",
       "      <td>region_4</td>\n",
       "      <td>Bachelor's</td>\n",
       "      <td>f</td>\n",
       "      <td>other</td>\n",
       "      <td>1</td>\n",
       "      <td>31</td>\n",
       "      <td>3.0</td>\n",
       "      <td>5</td>\n",
       "      <td>0</td>\n",
       "      <td>0</td>\n",
       "      <td>51</td>\n",
       "    </tr>\n",
       "    <tr>\n",
       "      <th>2</th>\n",
       "      <td>72255</td>\n",
       "      <td>Sales &amp; Marketing</td>\n",
       "      <td>region_13</td>\n",
       "      <td>Bachelor's</td>\n",
       "      <td>m</td>\n",
       "      <td>other</td>\n",
       "      <td>1</td>\n",
       "      <td>31</td>\n",
       "      <td>1.0</td>\n",
       "      <td>4</td>\n",
       "      <td>0</td>\n",
       "      <td>0</td>\n",
       "      <td>47</td>\n",
       "    </tr>\n",
       "    <tr>\n",
       "      <th>3</th>\n",
       "      <td>38562</td>\n",
       "      <td>Procurement</td>\n",
       "      <td>region_2</td>\n",
       "      <td>Bachelor's</td>\n",
       "      <td>f</td>\n",
       "      <td>other</td>\n",
       "      <td>3</td>\n",
       "      <td>31</td>\n",
       "      <td>2.0</td>\n",
       "      <td>9</td>\n",
       "      <td>0</td>\n",
       "      <td>0</td>\n",
       "      <td>65</td>\n",
       "    </tr>\n",
       "    <tr>\n",
       "      <th>4</th>\n",
       "      <td>64486</td>\n",
       "      <td>Finance</td>\n",
       "      <td>region_29</td>\n",
       "      <td>Bachelor's</td>\n",
       "      <td>m</td>\n",
       "      <td>sourcing</td>\n",
       "      <td>1</td>\n",
       "      <td>30</td>\n",
       "      <td>4.0</td>\n",
       "      <td>7</td>\n",
       "      <td>0</td>\n",
       "      <td>0</td>\n",
       "      <td>61</td>\n",
       "    </tr>\n",
       "  </tbody>\n",
       "</table>\n",
       "</div>"
      ],
      "text/plain": [
       "   employee_id         department     region   education gender  \\\n",
       "0         8724         Technology  region_26  Bachelor's      m   \n",
       "1        74430                 HR   region_4  Bachelor's      f   \n",
       "2        72255  Sales & Marketing  region_13  Bachelor's      m   \n",
       "3        38562        Procurement   region_2  Bachelor's      f   \n",
       "4        64486            Finance  region_29  Bachelor's      m   \n",
       "\n",
       "  recruitment_channel  no_of_trainings  age  previous_year_rating  \\\n",
       "0            sourcing                1   24                   NaN   \n",
       "1               other                1   31                   3.0   \n",
       "2               other                1   31                   1.0   \n",
       "3               other                3   31                   2.0   \n",
       "4            sourcing                1   30                   4.0   \n",
       "\n",
       "   length_of_service  KPIs_met >80%  awards_won?  avg_training_score  \n",
       "0                  1              1            0                  77  \n",
       "1                  5              0            0                  51  \n",
       "2                  4              0            0                  47  \n",
       "3                  9              0            0                  65  \n",
       "4                  7              0            0                  61  "
      ]
     },
     "execution_count": 4,
     "metadata": {},
     "output_type": "execute_result"
    }
   ],
   "source": [
    "raw_train_data = pd.read_csv('train_LZdllcl.csv')\n",
    "raw_test_data = pd.read_csv('test_2umaH9m.csv')\n",
    "raw_train_data.head()\n",
    "raw_test_data.head()"
   ]
  },
  {
   "cell_type": "markdown",
   "metadata": {},
   "source": [
    "# Exploratory Data Analysis"
   ]
  },
  {
   "cell_type": "code",
   "execution_count": 5,
   "metadata": {},
   "outputs": [
    {
     "name": "stdout",
     "output_type": "stream",
     "text": [
      "<class 'pandas.core.frame.DataFrame'>\n",
      "RangeIndex: 54808 entries, 0 to 54807\n",
      "Data columns (total 14 columns):\n",
      "employee_id             54808 non-null int64\n",
      "department              54808 non-null object\n",
      "region                  54808 non-null object\n",
      "education               52399 non-null object\n",
      "gender                  54808 non-null object\n",
      "recruitment_channel     54808 non-null object\n",
      "no_of_trainings         54808 non-null int64\n",
      "age                     54808 non-null int64\n",
      "previous_year_rating    50684 non-null float64\n",
      "length_of_service       54808 non-null int64\n",
      "KPIs_met >80%           54808 non-null int64\n",
      "awards_won?             54808 non-null int64\n",
      "avg_training_score      54808 non-null int64\n",
      "is_promoted             54808 non-null int64\n",
      "dtypes: float64(1), int64(8), object(5)\n",
      "memory usage: 5.9+ MB\n",
      "<class 'pandas.core.frame.DataFrame'>\n",
      "RangeIndex: 23490 entries, 0 to 23489\n",
      "Data columns (total 13 columns):\n",
      "employee_id             23490 non-null int64\n",
      "department              23490 non-null object\n",
      "region                  23490 non-null object\n",
      "education               22456 non-null object\n",
      "gender                  23490 non-null object\n",
      "recruitment_channel     23490 non-null object\n",
      "no_of_trainings         23490 non-null int64\n",
      "age                     23490 non-null int64\n",
      "previous_year_rating    21678 non-null float64\n",
      "length_of_service       23490 non-null int64\n",
      "KPIs_met >80%           23490 non-null int64\n",
      "awards_won?             23490 non-null int64\n",
      "avg_training_score      23490 non-null int64\n",
      "dtypes: float64(1), int64(7), object(5)\n",
      "memory usage: 2.3+ MB\n"
     ]
    }
   ],
   "source": [
    "raw_train_data.info()\n",
    "raw_test_data.info()"
   ]
  },
  {
   "cell_type": "markdown",
   "metadata": {},
   "source": [
    "## Event Rate in Train and Test Data"
   ]
  },
  {
   "cell_type": "code",
   "execution_count": 6,
   "metadata": {},
   "outputs": [
    {
     "data": {
      "text/html": [
       "<div>\n",
       "<style scoped>\n",
       "    .dataframe tbody tr th:only-of-type {\n",
       "        vertical-align: middle;\n",
       "    }\n",
       "\n",
       "    .dataframe tbody tr th {\n",
       "        vertical-align: top;\n",
       "    }\n",
       "\n",
       "    .dataframe thead th {\n",
       "        text-align: right;\n",
       "    }\n",
       "</style>\n",
       "<table border=\"1\" class=\"dataframe\">\n",
       "  <thead>\n",
       "    <tr style=\"text-align: right;\">\n",
       "      <th></th>\n",
       "      <th>employee_id</th>\n",
       "      <th>percentage</th>\n",
       "    </tr>\n",
       "    <tr>\n",
       "      <th>is_promoted</th>\n",
       "      <th></th>\n",
       "      <th></th>\n",
       "    </tr>\n",
       "  </thead>\n",
       "  <tbody>\n",
       "    <tr>\n",
       "      <th>0</th>\n",
       "      <td>50140</td>\n",
       "      <td>91.482995</td>\n",
       "    </tr>\n",
       "    <tr>\n",
       "      <th>1</th>\n",
       "      <td>4668</td>\n",
       "      <td>8.517005</td>\n",
       "    </tr>\n",
       "  </tbody>\n",
       "</table>\n",
       "</div>"
      ],
      "text/plain": [
       "             employee_id  percentage\n",
       "is_promoted                         \n",
       "0                  50140   91.482995\n",
       "1                   4668    8.517005"
      ]
     },
     "execution_count": 6,
     "metadata": {},
     "output_type": "execute_result"
    }
   ],
   "source": [
    "event_cnt_pct = raw_train_data[['is_promoted','employee_id']].groupby('is_promoted').agg({'employee_id':'count'})\n",
    "event_cnt_pct['percentage'] = 100*event_cnt_pct['employee_id'] /event_cnt_pct['employee_id'].sum()\n",
    "event_cnt_pct"
   ]
  },
  {
   "cell_type": "code",
   "execution_count": 7,
   "metadata": {},
   "outputs": [],
   "source": [
    "# raw_train_data['is_promoted'].value_counts()"
   ]
  },
  {
   "cell_type": "code",
   "execution_count": 8,
   "metadata": {},
   "outputs": [
    {
     "data": {
      "text/html": [
       "<div>\n",
       "<style scoped>\n",
       "    .dataframe tbody tr th:only-of-type {\n",
       "        vertical-align: middle;\n",
       "    }\n",
       "\n",
       "    .dataframe tbody tr th {\n",
       "        vertical-align: top;\n",
       "    }\n",
       "\n",
       "    .dataframe thead th {\n",
       "        text-align: right;\n",
       "    }\n",
       "</style>\n",
       "<table border=\"1\" class=\"dataframe\">\n",
       "  <thead>\n",
       "    <tr style=\"text-align: right;\">\n",
       "      <th></th>\n",
       "      <th>employee_id</th>\n",
       "      <th>no_of_trainings</th>\n",
       "      <th>age</th>\n",
       "      <th>previous_year_rating</th>\n",
       "      <th>length_of_service</th>\n",
       "      <th>KPIs_met &gt;80%</th>\n",
       "      <th>awards_won?</th>\n",
       "      <th>avg_training_score</th>\n",
       "      <th>is_promoted</th>\n",
       "    </tr>\n",
       "  </thead>\n",
       "  <tbody>\n",
       "    <tr>\n",
       "      <th>count</th>\n",
       "      <td>54808.000000</td>\n",
       "      <td>54808.000000</td>\n",
       "      <td>54808.000000</td>\n",
       "      <td>50684.000000</td>\n",
       "      <td>54808.000000</td>\n",
       "      <td>54808.000000</td>\n",
       "      <td>54808.000000</td>\n",
       "      <td>54808.000000</td>\n",
       "      <td>54808.000000</td>\n",
       "    </tr>\n",
       "    <tr>\n",
       "      <th>mean</th>\n",
       "      <td>39195.830627</td>\n",
       "      <td>1.253011</td>\n",
       "      <td>34.803915</td>\n",
       "      <td>3.329256</td>\n",
       "      <td>5.865512</td>\n",
       "      <td>0.351974</td>\n",
       "      <td>0.023172</td>\n",
       "      <td>63.386750</td>\n",
       "      <td>0.085170</td>\n",
       "    </tr>\n",
       "    <tr>\n",
       "      <th>std</th>\n",
       "      <td>22586.581449</td>\n",
       "      <td>0.609264</td>\n",
       "      <td>7.660169</td>\n",
       "      <td>1.259993</td>\n",
       "      <td>4.265094</td>\n",
       "      <td>0.477590</td>\n",
       "      <td>0.150450</td>\n",
       "      <td>13.371559</td>\n",
       "      <td>0.279137</td>\n",
       "    </tr>\n",
       "    <tr>\n",
       "      <th>min</th>\n",
       "      <td>1.000000</td>\n",
       "      <td>1.000000</td>\n",
       "      <td>20.000000</td>\n",
       "      <td>1.000000</td>\n",
       "      <td>1.000000</td>\n",
       "      <td>0.000000</td>\n",
       "      <td>0.000000</td>\n",
       "      <td>39.000000</td>\n",
       "      <td>0.000000</td>\n",
       "    </tr>\n",
       "    <tr>\n",
       "      <th>25%</th>\n",
       "      <td>19669.750000</td>\n",
       "      <td>1.000000</td>\n",
       "      <td>29.000000</td>\n",
       "      <td>3.000000</td>\n",
       "      <td>3.000000</td>\n",
       "      <td>0.000000</td>\n",
       "      <td>0.000000</td>\n",
       "      <td>51.000000</td>\n",
       "      <td>0.000000</td>\n",
       "    </tr>\n",
       "    <tr>\n",
       "      <th>50%</th>\n",
       "      <td>39225.500000</td>\n",
       "      <td>1.000000</td>\n",
       "      <td>33.000000</td>\n",
       "      <td>3.000000</td>\n",
       "      <td>5.000000</td>\n",
       "      <td>0.000000</td>\n",
       "      <td>0.000000</td>\n",
       "      <td>60.000000</td>\n",
       "      <td>0.000000</td>\n",
       "    </tr>\n",
       "    <tr>\n",
       "      <th>75%</th>\n",
       "      <td>58730.500000</td>\n",
       "      <td>1.000000</td>\n",
       "      <td>39.000000</td>\n",
       "      <td>4.000000</td>\n",
       "      <td>7.000000</td>\n",
       "      <td>1.000000</td>\n",
       "      <td>0.000000</td>\n",
       "      <td>76.000000</td>\n",
       "      <td>0.000000</td>\n",
       "    </tr>\n",
       "    <tr>\n",
       "      <th>max</th>\n",
       "      <td>78298.000000</td>\n",
       "      <td>10.000000</td>\n",
       "      <td>60.000000</td>\n",
       "      <td>5.000000</td>\n",
       "      <td>37.000000</td>\n",
       "      <td>1.000000</td>\n",
       "      <td>1.000000</td>\n",
       "      <td>99.000000</td>\n",
       "      <td>1.000000</td>\n",
       "    </tr>\n",
       "  </tbody>\n",
       "</table>\n",
       "</div>"
      ],
      "text/plain": [
       "        employee_id  no_of_trainings           age  previous_year_rating  \\\n",
       "count  54808.000000     54808.000000  54808.000000          50684.000000   \n",
       "mean   39195.830627         1.253011     34.803915              3.329256   \n",
       "std    22586.581449         0.609264      7.660169              1.259993   \n",
       "min        1.000000         1.000000     20.000000              1.000000   \n",
       "25%    19669.750000         1.000000     29.000000              3.000000   \n",
       "50%    39225.500000         1.000000     33.000000              3.000000   \n",
       "75%    58730.500000         1.000000     39.000000              4.000000   \n",
       "max    78298.000000        10.000000     60.000000              5.000000   \n",
       "\n",
       "       length_of_service  KPIs_met >80%   awards_won?  avg_training_score  \\\n",
       "count       54808.000000   54808.000000  54808.000000        54808.000000   \n",
       "mean            5.865512       0.351974      0.023172           63.386750   \n",
       "std             4.265094       0.477590      0.150450           13.371559   \n",
       "min             1.000000       0.000000      0.000000           39.000000   \n",
       "25%             3.000000       0.000000      0.000000           51.000000   \n",
       "50%             5.000000       0.000000      0.000000           60.000000   \n",
       "75%             7.000000       1.000000      0.000000           76.000000   \n",
       "max            37.000000       1.000000      1.000000           99.000000   \n",
       "\n",
       "        is_promoted  \n",
       "count  54808.000000  \n",
       "mean       0.085170  \n",
       "std        0.279137  \n",
       "min        0.000000  \n",
       "25%        0.000000  \n",
       "50%        0.000000  \n",
       "75%        0.000000  \n",
       "max        1.000000  "
      ]
     },
     "execution_count": 8,
     "metadata": {},
     "output_type": "execute_result"
    }
   ],
   "source": [
    "raw_train_data.describe()"
   ]
  },
  {
   "cell_type": "code",
   "execution_count": 9,
   "metadata": {},
   "outputs": [
    {
     "data": {
      "text/html": [
       "<div>\n",
       "<style scoped>\n",
       "    .dataframe tbody tr th:only-of-type {\n",
       "        vertical-align: middle;\n",
       "    }\n",
       "\n",
       "    .dataframe tbody tr th {\n",
       "        vertical-align: top;\n",
       "    }\n",
       "\n",
       "    .dataframe thead th {\n",
       "        text-align: right;\n",
       "    }\n",
       "</style>\n",
       "<table border=\"1\" class=\"dataframe\">\n",
       "  <thead>\n",
       "    <tr style=\"text-align: right;\">\n",
       "      <th></th>\n",
       "      <th>employee_id</th>\n",
       "      <th>Percentage</th>\n",
       "    </tr>\n",
       "    <tr>\n",
       "      <th>department</th>\n",
       "      <th></th>\n",
       "      <th></th>\n",
       "    </tr>\n",
       "  </thead>\n",
       "  <tbody>\n",
       "    <tr>\n",
       "      <th>Sales &amp; Marketing</th>\n",
       "      <td>16840</td>\n",
       "      <td>30.725442</td>\n",
       "    </tr>\n",
       "    <tr>\n",
       "      <th>Operations</th>\n",
       "      <td>11348</td>\n",
       "      <td>20.705007</td>\n",
       "    </tr>\n",
       "    <tr>\n",
       "      <th>Procurement</th>\n",
       "      <td>7138</td>\n",
       "      <td>13.023646</td>\n",
       "    </tr>\n",
       "    <tr>\n",
       "      <th>Technology</th>\n",
       "      <td>7138</td>\n",
       "      <td>13.023646</td>\n",
       "    </tr>\n",
       "    <tr>\n",
       "      <th>Analytics</th>\n",
       "      <td>5352</td>\n",
       "      <td>9.764998</td>\n",
       "    </tr>\n",
       "    <tr>\n",
       "      <th>Finance</th>\n",
       "      <td>2536</td>\n",
       "      <td>4.627062</td>\n",
       "    </tr>\n",
       "    <tr>\n",
       "      <th>HR</th>\n",
       "      <td>2418</td>\n",
       "      <td>4.411765</td>\n",
       "    </tr>\n",
       "    <tr>\n",
       "      <th>Legal</th>\n",
       "      <td>1039</td>\n",
       "      <td>1.895709</td>\n",
       "    </tr>\n",
       "    <tr>\n",
       "      <th>R&amp;D</th>\n",
       "      <td>999</td>\n",
       "      <td>1.822727</td>\n",
       "    </tr>\n",
       "  </tbody>\n",
       "</table>\n",
       "</div>"
      ],
      "text/plain": [
       "                   employee_id  Percentage\n",
       "department                                \n",
       "Sales & Marketing        16840   30.725442\n",
       "Operations               11348   20.705007\n",
       "Procurement               7138   13.023646\n",
       "Technology                7138   13.023646\n",
       "Analytics                 5352    9.764998\n",
       "Finance                   2536    4.627062\n",
       "HR                        2418    4.411765\n",
       "Legal                     1039    1.895709\n",
       "R&D                        999    1.822727"
      ]
     },
     "execution_count": 9,
     "metadata": {},
     "output_type": "execute_result"
    }
   ],
   "source": [
    "dept_cnt = raw_train_data[['employee_id','department']].groupby('department').agg({'employee_id':'count'}).sort_values('employee_id',ascending = False)\n",
    "dept_cnt['Percentage'] = 100 * dept_cnt['employee_id']  / dept_cnt['employee_id'].sum()\n",
    "dept_cnt"
   ]
  },
  {
   "cell_type": "code",
   "execution_count": 10,
   "metadata": {},
   "outputs": [
    {
     "data": {
      "text/plain": [
       "(<seaborn.axisgrid.FacetGrid at 0x289732bf438>,\n",
       " Text(0.5, 0.98, 'Department/Vertical Distribution'))"
      ]
     },
     "execution_count": 10,
     "metadata": {},
     "output_type": "execute_result"
    },
    {
     "data": {
      "image/png": "[encoded data removed]",
      "text/plain": [
       "<Figure size 864x432 with 1 Axes>"
      ]
     },
     "metadata": {
      "needs_background": "light"
     },
     "output_type": "display_data"
    }
   ],
   "source": [
    "dept_cnt_ordr = raw_train_data.groupby(\"department\")['employee_id'].sum().sort_values(ascending=False).index.values\n",
    "ax = sns.catplot(x = \"department\",kind='count',palette='ch:.25',data=raw_train_data,size=6, aspect=2,order=dept_cnt_ordr)\n",
    "(ax.set_axis_labels(\"\", \"Count\"),ax.fig.suptitle('Department/Vertical Distribution',fontsize=15))"
   ]
  },
  {
   "cell_type": "markdown",
   "metadata": {},
   "source": [
    "Highest number of individuals are in Sales and Marketing verticals followed by Operations"
   ]
  },
  {
   "cell_type": "markdown",
   "metadata": {},
   "source": [
    "#### Bi-variate Analysis between is_promoted and Department"
   ]
  },
  {
   "cell_type": "code",
   "execution_count": 11,
   "metadata": {},
   "outputs": [
    {
     "data": {
      "image/png": "[encoded data removed]",
      "text/plain": [
       "<Figure size 928.8x432 with 1 Axes>"
      ]
     },
     "metadata": {
      "needs_background": "light"
     },
     "output_type": "display_data"
    }
   ],
   "source": [
    "ax = sns.catplot(x = \"department\",kind='count',hue=\"is_promoted\",palette=\"muted\",data=raw_train_data,size=6, aspect=2,order=dept_cnt_ordr)"
   ]
  },
  {
   "cell_type": "code",
   "execution_count": 12,
   "metadata": {},
   "outputs": [
    {
     "name": "stdout",
     "output_type": "stream",
     "text": [
      "Train Data\n",
      "['region_7' 'region_22' 'region_19' 'region_23' 'region_26' 'region_2'\n",
      " 'region_20' 'region_34' 'region_1' 'region_4' 'region_29' 'region_31'\n",
      " 'region_15' 'region_14' 'region_11' 'region_5' 'region_28' 'region_17'\n",
      " 'region_13' 'region_16' 'region_25' 'region_10' 'region_27' 'region_30'\n",
      " 'region_12' 'region_21' 'region_8' 'region_32' 'region_6' 'region_33'\n",
      " 'region_24' 'region_3' 'region_9' 'region_18']\n",
      "34\n",
      "Test Data\n",
      "['region_7' 'region_22' 'region_19' 'region_23' 'region_26' 'region_2'\n",
      " 'region_20' 'region_34' 'region_1' 'region_4' 'region_29' 'region_31'\n",
      " 'region_15' 'region_14' 'region_11' 'region_5' 'region_28' 'region_17'\n",
      " 'region_13' 'region_16' 'region_25' 'region_10' 'region_27' 'region_30'\n",
      " 'region_12' 'region_21' 'region_8' 'region_32' 'region_6' 'region_33'\n",
      " 'region_24' 'region_3' 'region_9' 'region_18']\n",
      "34\n"
     ]
    }
   ],
   "source": [
    "print(\"Train Data\")\n",
    "print(raw_train_data.region.unique())\n",
    "print(raw_train_data.region.nunique())\n",
    "\n",
    "print(\"Test Data\")\n",
    "print(raw_train_data.region.unique())\n",
    "print(raw_train_data.region.nunique())"
   ]
  },
  {
   "cell_type": "code",
   "execution_count": null,
   "metadata": {},
   "outputs": [],
   "source": []
  },
  {
   "cell_type": "code",
   "execution_count": 13,
   "metadata": {},
   "outputs": [
    {
     "name": "stdout",
     "output_type": "stream",
     "text": [
      "Data Distribution\n"
     ]
    },
    {
     "data": {
      "text/html": [
       "<div>\n",
       "<style scoped>\n",
       "    .dataframe tbody tr th:only-of-type {\n",
       "        vertical-align: middle;\n",
       "    }\n",
       "\n",
       "    .dataframe tbody tr th {\n",
       "        vertical-align: top;\n",
       "    }\n",
       "\n",
       "    .dataframe thead th {\n",
       "        text-align: right;\n",
       "    }\n",
       "</style>\n",
       "<table border=\"1\" class=\"dataframe\">\n",
       "  <thead>\n",
       "    <tr style=\"text-align: right;\">\n",
       "      <th></th>\n",
       "      <th>employee_id</th>\n",
       "      <th>Percentage</th>\n",
       "    </tr>\n",
       "    <tr>\n",
       "      <th>region</th>\n",
       "      <th></th>\n",
       "      <th></th>\n",
       "    </tr>\n",
       "  </thead>\n",
       "  <tbody>\n",
       "    <tr>\n",
       "      <th>region_2</th>\n",
       "      <td>12343</td>\n",
       "      <td>22.520435</td>\n",
       "    </tr>\n",
       "    <tr>\n",
       "      <th>region_22</th>\n",
       "      <td>6428</td>\n",
       "      <td>11.728215</td>\n",
       "    </tr>\n",
       "    <tr>\n",
       "      <th>region_7</th>\n",
       "      <td>4843</td>\n",
       "      <td>8.836301</td>\n",
       "    </tr>\n",
       "    <tr>\n",
       "      <th>region_15</th>\n",
       "      <td>2808</td>\n",
       "      <td>5.123340</td>\n",
       "    </tr>\n",
       "    <tr>\n",
       "      <th>region_13</th>\n",
       "      <td>2648</td>\n",
       "      <td>4.831411</td>\n",
       "    </tr>\n",
       "    <tr>\n",
       "      <th>region_26</th>\n",
       "      <td>2260</td>\n",
       "      <td>4.123486</td>\n",
       "    </tr>\n",
       "    <tr>\n",
       "      <th>region_31</th>\n",
       "      <td>1935</td>\n",
       "      <td>3.530506</td>\n",
       "    </tr>\n",
       "    <tr>\n",
       "      <th>region_4</th>\n",
       "      <td>1703</td>\n",
       "      <td>3.107211</td>\n",
       "    </tr>\n",
       "    <tr>\n",
       "      <th>region_27</th>\n",
       "      <td>1659</td>\n",
       "      <td>3.026930</td>\n",
       "    </tr>\n",
       "    <tr>\n",
       "      <th>region_16</th>\n",
       "      <td>1465</td>\n",
       "      <td>2.672967</td>\n",
       "    </tr>\n",
       "  </tbody>\n",
       "</table>\n",
       "</div>"
      ],
      "text/plain": [
       "           employee_id  Percentage\n",
       "region                            \n",
       "region_2         12343   22.520435\n",
       "region_22         6428   11.728215\n",
       "region_7          4843    8.836301\n",
       "region_15         2808    5.123340\n",
       "region_13         2648    4.831411\n",
       "region_26         2260    4.123486\n",
       "region_31         1935    3.530506\n",
       "region_4          1703    3.107211\n",
       "region_27         1659    3.026930\n",
       "region_16         1465    2.672967"
      ]
     },
     "execution_count": 13,
     "metadata": {},
     "output_type": "execute_result"
    },
    {
     "data": {
      "text/plain": [
       "(<seaborn.axisgrid.FacetGrid at 0x289751efc18>,\n",
       " Text(0.5, 0.98, 'Region Distribution'))"
      ]
     },
     "execution_count": 13,
     "metadata": {},
     "output_type": "execute_result"
    },
    {
     "data": {
      "text/plain": [
       "(<seaborn.axisgrid.FacetGrid at 0x289751e1358>,\n",
       " Text(0.5, 0.98, 'Region Distribution'))"
      ]
     },
     "execution_count": 13,
     "metadata": {},
     "output_type": "execute_result"
    },
    {
     "data": {
      "image/png": "[encoded data removed]",
      "text/plain": [
       "<Figure size 864x432 with 1 Axes>"
      ]
     },
     "metadata": {
      "needs_background": "light"
     },
     "output_type": "display_data"
    },
    {
     "data": {
      "image/png": "[encoded data removed]",
      "text/plain": [
       "<Figure size 928.8x432 with 1 Axes>"
      ]
     },
     "metadata": {
      "needs_background": "light"
     },
     "output_type": "display_data"
    }
   ],
   "source": [
    "print(\"Data Distribution\")\n",
    "rgn_cnt = raw_train_data[['employee_id','region']].groupby('region').agg({'employee_id':'count'}).sort_values('employee_id',ascending = False)\n",
    "rgn_cnt['Percentage'] = 100 * rgn_cnt['employee_id'] / rgn_cnt['employee_id'].sum()\n",
    "rgn_cnt.head(10)\n",
    "\n",
    "rgn_cnt_ordr = raw_train_data.groupby('region')['employee_id'].sum().sort_values(ascending=False).index.values\n",
    "ax = sns.catplot(x = 'region',kind='count',palette='ch:.25',data=raw_train_data,size=6, aspect=2\n",
    "            ,order=raw_train_data.region.value_counts().iloc[:10].index)\n",
    "(ax.set_axis_labels(\"\", \"Count\"),ax.fig.suptitle('Region Distribution',fontsize=15))\n",
    "\n",
    "ax = sns.catplot(x = 'region',kind='count', hue = 'is_promoted', palette='muted',data=raw_train_data,size=6, aspect=2\n",
    "            ,order=raw_train_data.region.value_counts().iloc[:10].index)\n",
    "(ax.set_axis_labels(\"\", \"Count\"),ax.fig.suptitle('Region Distribution',fontsize=15))"
   ]
  },
  {
   "cell_type": "markdown",
   "metadata": {},
   "source": [
    "Most no. of employees from region 2 followed by 22 and others"
   ]
  },
  {
   "cell_type": "code",
   "execution_count": 14,
   "metadata": {},
   "outputs": [
    {
     "data": {
      "text/html": [
       "<div>\n",
       "<style scoped>\n",
       "    .dataframe tbody tr th:only-of-type {\n",
       "        vertical-align: middle;\n",
       "    }\n",
       "\n",
       "    .dataframe tbody tr th {\n",
       "        vertical-align: top;\n",
       "    }\n",
       "\n",
       "    .dataframe thead th {\n",
       "        text-align: right;\n",
       "    }\n",
       "</style>\n",
       "<table border=\"1\" class=\"dataframe\">\n",
       "  <thead>\n",
       "    <tr style=\"text-align: right;\">\n",
       "      <th></th>\n",
       "      <th>employee_id</th>\n",
       "      <th>Percentage</th>\n",
       "    </tr>\n",
       "    <tr>\n",
       "      <th>education</th>\n",
       "      <th></th>\n",
       "      <th></th>\n",
       "    </tr>\n",
       "  </thead>\n",
       "  <tbody>\n",
       "    <tr>\n",
       "      <th>Bachelor's</th>\n",
       "      <td>36669</td>\n",
       "      <td>69.980343</td>\n",
       "    </tr>\n",
       "    <tr>\n",
       "      <th>Master's &amp; above</th>\n",
       "      <td>14925</td>\n",
       "      <td>28.483368</td>\n",
       "    </tr>\n",
       "    <tr>\n",
       "      <th>Below Secondary</th>\n",
       "      <td>805</td>\n",
       "      <td>1.536289</td>\n",
       "    </tr>\n",
       "  </tbody>\n",
       "</table>\n",
       "</div>"
      ],
      "text/plain": [
       "                  employee_id  Percentage\n",
       "education                                \n",
       "Bachelor's              36669   69.980343\n",
       "Master's & above        14925   28.483368\n",
       "Below Secondary           805    1.536289"
      ]
     },
     "execution_count": 14,
     "metadata": {},
     "output_type": "execute_result"
    },
    {
     "data": {
      "text/plain": [
       "(<seaborn.axisgrid.FacetGrid at 0x28973340d30>,\n",
       " Text(0.5, 0.98, 'Education Distribution'))"
      ]
     },
     "execution_count": 14,
     "metadata": {},
     "output_type": "execute_result"
    },
    {
     "data": {
      "text/plain": [
       "(<seaborn.axisgrid.FacetGrid at 0x289762a9710>,\n",
       " Text(0.5, 0.98, 'Education Distribution'))"
      ]
     },
     "execution_count": 14,
     "metadata": {},
     "output_type": "execute_result"
    },
    {
     "data": {
      "image/png": "[encoded data removed]",
      "text/plain": [
       "<Figure size 432x432 with 1 Axes>"
      ]
     },
     "metadata": {
      "needs_background": "light"
     },
     "output_type": "display_data"
    },
    {
     "data": {
      "image/png": "[encoded data removed]",
      "text/plain": [
       "<Figure size 928.8x432 with 1 Axes>"
      ]
     },
     "metadata": {
      "needs_background": "light"
     },
     "output_type": "display_data"
    }
   ],
   "source": [
    "education_cnt = raw_train_data[['education','employee_id']].groupby('education').agg({'employee_id':'count'}).sort_values('employee_id',ascending = False)\n",
    "education_cnt['Percentage'] = 100 * education_cnt['employee_id'] / education_cnt['employee_id'].sum()\n",
    "education_cnt\n",
    "\n",
    "ax = sns.catplot(x='education',kind='count',palette='ch:.25',data=raw_train_data,size=6, aspect=1,\n",
    "            order=raw_train_data.education.value_counts().index)\n",
    "(ax.set_axis_labels(\"\", \"Count\"),ax.fig.suptitle('Education Distribution',fontsize=15))\n",
    "\n",
    "ax = sns.catplot(x = 'education',kind='count', hue = 'is_promoted', palette='muted',data=raw_train_data,size=6, aspect=2\n",
    "            ,order=raw_train_data.education.value_counts().iloc[:10].index)\n",
    "(ax.set_axis_labels(\"\", \"Count\"),ax.fig.suptitle('Education Distribution',fontsize=15))"
   ]
  },
  {
   "cell_type": "code",
   "execution_count": 15,
   "metadata": {},
   "outputs": [
    {
     "data": {
      "text/html": [
       "<div>\n",
       "<style scoped>\n",
       "    .dataframe tbody tr th:only-of-type {\n",
       "        vertical-align: middle;\n",
       "    }\n",
       "\n",
       "    .dataframe tbody tr th {\n",
       "        vertical-align: top;\n",
       "    }\n",
       "\n",
       "    .dataframe thead th {\n",
       "        text-align: right;\n",
       "    }\n",
       "</style>\n",
       "<table border=\"1\" class=\"dataframe\">\n",
       "  <thead>\n",
       "    <tr style=\"text-align: right;\">\n",
       "      <th></th>\n",
       "      <th>employee_id</th>\n",
       "      <th>Percentage</th>\n",
       "    </tr>\n",
       "    <tr>\n",
       "      <th>gender</th>\n",
       "      <th></th>\n",
       "      <th></th>\n",
       "    </tr>\n",
       "  </thead>\n",
       "  <tbody>\n",
       "    <tr>\n",
       "      <th>m</th>\n",
       "      <td>38496</td>\n",
       "      <td>70.237921</td>\n",
       "    </tr>\n",
       "    <tr>\n",
       "      <th>f</th>\n",
       "      <td>16312</td>\n",
       "      <td>29.762079</td>\n",
       "    </tr>\n",
       "  </tbody>\n",
       "</table>\n",
       "</div>"
      ],
      "text/plain": [
       "        employee_id  Percentage\n",
       "gender                         \n",
       "m             38496   70.237921\n",
       "f             16312   29.762079"
      ]
     },
     "execution_count": 15,
     "metadata": {},
     "output_type": "execute_result"
    }
   ],
   "source": [
    "gender_cnt = raw_train_data[['gender','employee_id']].groupby('gender').agg({'employee_id':'count'}).sort_values('employee_id',ascending = False)\n",
    "gender_cnt['Percentage'] = 100* gender_cnt['employee_id'] / gender_cnt['employee_id'].sum()\n",
    "gender_cnt"
   ]
  },
  {
   "cell_type": "code",
   "execution_count": 16,
   "metadata": {},
   "outputs": [
    {
     "data": {
      "text/plain": [
       "(<seaborn.axisgrid.FacetGrid at 0x289752079e8>,\n",
       " Text(0.5, 0.98, 'Gender Distribution'))"
      ]
     },
     "execution_count": 16,
     "metadata": {},
     "output_type": "execute_result"
    },
    {
     "data": {
      "image/png": "[encoded data removed]",
      "text/plain": [
       "<Figure size 432x432 with 1 Axes>"
      ]
     },
     "metadata": {
      "needs_background": "light"
     },
     "output_type": "display_data"
    }
   ],
   "source": [
    "ax = sns.catplot(x='gender',kind = 'count',palette='ch:.25',data=raw_train_data,size=6, aspect=1,\n",
    "                order = raw_train_data.gender.value_counts().index)\n",
    "(ax.set_axis_labels(\"\", \"Count\"),ax.fig.suptitle('Gender Distribution',fontsize=15))"
   ]
  },
  {
   "cell_type": "markdown",
   "metadata": {},
   "source": [
    "70% of the population is Male"
   ]
  },
  {
   "cell_type": "code",
   "execution_count": 17,
   "metadata": {},
   "outputs": [
    {
     "data": {
      "text/plain": [
       "(<seaborn.axisgrid.FacetGrid at 0x2897501a4a8>,\n",
       " Text(0.5, 0.98, 'Gender Distribution'))"
      ]
     },
     "execution_count": 17,
     "metadata": {},
     "output_type": "execute_result"
    },
    {
     "data": {
      "image/png": "[encoded data removed]",
      "text/plain": [
       "<Figure size 496.8x432 with 1 Axes>"
      ]
     },
     "metadata": {
      "needs_background": "light"
     },
     "output_type": "display_data"
    }
   ],
   "source": [
    "ax = sns.catplot(x = 'gender',kind='count', hue = 'is_promoted', palette='muted',data=raw_train_data,size=6, aspect=1\n",
    "            ,order=raw_train_data.gender.value_counts().iloc[:10].index)\n",
    "(ax.set_axis_labels(\"\", \"Count\"),ax.fig.suptitle('Gender Distribution',fontsize=15))"
   ]
  },
  {
   "cell_type": "code",
   "execution_count": 18,
   "metadata": {},
   "outputs": [
    {
     "data": {
      "text/html": [
       "<div>\n",
       "<style scoped>\n",
       "    .dataframe tbody tr th:only-of-type {\n",
       "        vertical-align: middle;\n",
       "    }\n",
       "\n",
       "    .dataframe tbody tr th {\n",
       "        vertical-align: top;\n",
       "    }\n",
       "\n",
       "    .dataframe thead th {\n",
       "        text-align: right;\n",
       "    }\n",
       "</style>\n",
       "<table border=\"1\" class=\"dataframe\">\n",
       "  <thead>\n",
       "    <tr style=\"text-align: right;\">\n",
       "      <th></th>\n",
       "      <th>employee_id</th>\n",
       "      <th>Percentage</th>\n",
       "    </tr>\n",
       "    <tr>\n",
       "      <th>recruitment_channel</th>\n",
       "      <th></th>\n",
       "      <th></th>\n",
       "    </tr>\n",
       "  </thead>\n",
       "  <tbody>\n",
       "    <tr>\n",
       "      <th>other</th>\n",
       "      <td>30446</td>\n",
       "      <td>55.550285</td>\n",
       "    </tr>\n",
       "    <tr>\n",
       "      <th>sourcing</th>\n",
       "      <td>23220</td>\n",
       "      <td>42.366078</td>\n",
       "    </tr>\n",
       "    <tr>\n",
       "      <th>referred</th>\n",
       "      <td>1142</td>\n",
       "      <td>2.083637</td>\n",
       "    </tr>\n",
       "  </tbody>\n",
       "</table>\n",
       "</div>"
      ],
      "text/plain": [
       "                     employee_id  Percentage\n",
       "recruitment_channel                         \n",
       "other                      30446   55.550285\n",
       "sourcing                   23220   42.366078\n",
       "referred                    1142    2.083637"
      ]
     },
     "execution_count": 18,
     "metadata": {},
     "output_type": "execute_result"
    }
   ],
   "source": [
    "rcrt_cnt = raw_train_data[['employee_id',\n",
    "                           'recruitment_channel']].groupby('recruitment_channel').agg({'employee_id':'count'}).sort_values('employee_id',ascending = False)\n",
    "rcrt_cnt['Percentage'] = 100* rcrt_cnt['employee_id']/rcrt_cnt['employee_id'].sum()\n",
    "rcrt_cnt"
   ]
  },
  {
   "cell_type": "code",
   "execution_count": 19,
   "metadata": {},
   "outputs": [
    {
     "data": {
      "text/plain": [
       "(<seaborn.axisgrid.FacetGrid at 0x28975643470>,\n",
       " Text(0.5, 0.98, 'Recruitment Channel Distribution'))"
      ]
     },
     "execution_count": 19,
     "metadata": {},
     "output_type": "execute_result"
    },
    {
     "data": {
      "image/png": "[encoded data removed]",
      "text/plain": [
       "<Figure size 432x432 with 1 Axes>"
      ]
     },
     "metadata": {
      "needs_background": "light"
     },
     "output_type": "display_data"
    }
   ],
   "source": [
    "ax =  sns.catplot(x = 'recruitment_channel',kind = 'count',palette='ch:.25',data=raw_train_data,size=6, aspect=1,\n",
    "                 order = raw_train_data.recruitment_channel.value_counts().index)\n",
    "(ax.set_axis_labels(\"\", \"Count\"),ax.fig.suptitle('Recruitment Channel Distribution',fontsize=15))"
   ]
  },
  {
   "cell_type": "code",
   "execution_count": 20,
   "metadata": {},
   "outputs": [
    {
     "data": {
      "text/plain": [
       "(<seaborn.axisgrid.FacetGrid at 0x28975643c88>,\n",
       " Text(0.5, 0.98, 'recruitment_channel Distribution'))"
      ]
     },
     "execution_count": 20,
     "metadata": {},
     "output_type": "execute_result"
    },
    {
     "data": {
      "image/png": "[encoded data removed]",
      "text/plain": [
       "<Figure size 496.8x432 with 1 Axes>"
      ]
     },
     "metadata": {
      "needs_background": "light"
     },
     "output_type": "display_data"
    }
   ],
   "source": [
    "ax = sns.catplot(x = 'recruitment_channel',kind='count', hue = 'is_promoted', palette='muted',data=raw_train_data,size=6, aspect=1\n",
    "            ,order=raw_train_data.recruitment_channel.value_counts().iloc[:10].index)\n",
    "(ax.set_axis_labels(\"\", \"Count\"),ax.fig.suptitle('recruitment_channel Distribution',fontsize=15))"
   ]
  },
  {
   "cell_type": "code",
   "execution_count": 21,
   "metadata": {},
   "outputs": [
    {
     "data": {
      "text/html": [
       "<div>\n",
       "<style scoped>\n",
       "    .dataframe tbody tr th:only-of-type {\n",
       "        vertical-align: middle;\n",
       "    }\n",
       "\n",
       "    .dataframe tbody tr th {\n",
       "        vertical-align: top;\n",
       "    }\n",
       "\n",
       "    .dataframe thead th {\n",
       "        text-align: right;\n",
       "    }\n",
       "</style>\n",
       "<table border=\"1\" class=\"dataframe\">\n",
       "  <thead>\n",
       "    <tr style=\"text-align: right;\">\n",
       "      <th></th>\n",
       "      <th>employee_id</th>\n",
       "      <th>Percentage</th>\n",
       "    </tr>\n",
       "    <tr>\n",
       "      <th>no_of_trainings</th>\n",
       "      <th></th>\n",
       "      <th></th>\n",
       "    </tr>\n",
       "  </thead>\n",
       "  <tbody>\n",
       "    <tr>\n",
       "      <th>1</th>\n",
       "      <td>44378</td>\n",
       "      <td>80.969931</td>\n",
       "    </tr>\n",
       "    <tr>\n",
       "      <th>2</th>\n",
       "      <td>7987</td>\n",
       "      <td>14.572690</td>\n",
       "    </tr>\n",
       "    <tr>\n",
       "      <th>3</th>\n",
       "      <td>1776</td>\n",
       "      <td>3.240403</td>\n",
       "    </tr>\n",
       "    <tr>\n",
       "      <th>4</th>\n",
       "      <td>468</td>\n",
       "      <td>0.853890</td>\n",
       "    </tr>\n",
       "    <tr>\n",
       "      <th>5</th>\n",
       "      <td>128</td>\n",
       "      <td>0.233543</td>\n",
       "    </tr>\n",
       "    <tr>\n",
       "      <th>6</th>\n",
       "      <td>44</td>\n",
       "      <td>0.080280</td>\n",
       "    </tr>\n",
       "    <tr>\n",
       "      <th>7</th>\n",
       "      <td>12</td>\n",
       "      <td>0.021895</td>\n",
       "    </tr>\n",
       "    <tr>\n",
       "      <th>8</th>\n",
       "      <td>5</td>\n",
       "      <td>0.009123</td>\n",
       "    </tr>\n",
       "    <tr>\n",
       "      <th>9</th>\n",
       "      <td>5</td>\n",
       "      <td>0.009123</td>\n",
       "    </tr>\n",
       "    <tr>\n",
       "      <th>10</th>\n",
       "      <td>5</td>\n",
       "      <td>0.009123</td>\n",
       "    </tr>\n",
       "  </tbody>\n",
       "</table>\n",
       "</div>"
      ],
      "text/plain": [
       "                 employee_id  Percentage\n",
       "no_of_trainings                         \n",
       "1                      44378   80.969931\n",
       "2                       7987   14.572690\n",
       "3                       1776    3.240403\n",
       "4                        468    0.853890\n",
       "5                        128    0.233543\n",
       "6                         44    0.080280\n",
       "7                         12    0.021895\n",
       "8                          5    0.009123\n",
       "9                          5    0.009123\n",
       "10                         5    0.009123"
      ]
     },
     "execution_count": 21,
     "metadata": {},
     "output_type": "execute_result"
    }
   ],
   "source": [
    "n_trainings = raw_train_data[['employee_id',\n",
    "                           'no_of_trainings']].groupby('no_of_trainings').agg({'employee_id':'count'}).sort_values('employee_id',ascending = False)\n",
    "n_trainings['Percentage'] = 100* n_trainings['employee_id']/n_trainings['employee_id'].sum()\n",
    "n_trainings"
   ]
  },
  {
   "cell_type": "code",
   "execution_count": 22,
   "metadata": {},
   "outputs": [
    {
     "data": {
      "text/plain": [
       "(<seaborn.axisgrid.FacetGrid at 0x289751c8198>,\n",
       " Text(0.5, 0.98, 'Number of Trainings'))"
      ]
     },
     "execution_count": 22,
     "metadata": {},
     "output_type": "execute_result"
    },
    {
     "data": {
      "image/png": "[encoded data removed]",
      "text/plain": [
       "<Figure size 1152x576 with 1 Axes>"
      ]
     },
     "metadata": {
      "needs_background": "light"
     },
     "output_type": "display_data"
    }
   ],
   "source": [
    "ax =  sns.catplot(x = 'no_of_trainings',kind = 'count',palette='ch:.25',data=raw_train_data,size=8, aspect=2,\n",
    "                 order = raw_train_data.no_of_trainings.value_counts().index)\n",
    "(ax.set_axis_labels(\"\", \"Count\"),ax.fig.suptitle('Number of Trainings',fontsize=15))"
   ]
  },
  {
   "cell_type": "code",
   "execution_count": 23,
   "metadata": {},
   "outputs": [
    {
     "data": {
      "text/plain": [
       "(<seaborn.axisgrid.FacetGrid at 0x289751fcc50>,\n",
       " Text(0.5, 0.98, 'no_of_trainings Distribution'))"
      ]
     },
     "execution_count": 23,
     "metadata": {},
     "output_type": "execute_result"
    },
    {
     "data": {
      "image/png": "[encoded data removed]",
      "text/plain": [
       "<Figure size 496.8x432 with 1 Axes>"
      ]
     },
     "metadata": {
      "needs_background": "light"
     },
     "output_type": "display_data"
    }
   ],
   "source": [
    "ax = sns.catplot(x = 'no_of_trainings',kind='count', hue = 'is_promoted', palette='muted',data=raw_train_data,size=6, aspect=1\n",
    "            ,order=raw_train_data.no_of_trainings.value_counts().iloc[:10].index)\n",
    "(ax.set_axis_labels(\"\", \"Count\"),ax.fig.suptitle('no_of_trainings Distribution',fontsize=15))"
   ]
  },
  {
   "cell_type": "code",
   "execution_count": 24,
   "metadata": {},
   "outputs": [
    {
     "data": {
      "text/html": [
       "<div>\n",
       "<style scoped>\n",
       "    .dataframe tbody tr th:only-of-type {\n",
       "        vertical-align: middle;\n",
       "    }\n",
       "\n",
       "    .dataframe tbody tr th {\n",
       "        vertical-align: top;\n",
       "    }\n",
       "\n",
       "    .dataframe thead th {\n",
       "        text-align: right;\n",
       "    }\n",
       "</style>\n",
       "<table border=\"1\" class=\"dataframe\">\n",
       "  <thead>\n",
       "    <tr style=\"text-align: right;\">\n",
       "      <th></th>\n",
       "      <th>employee_id</th>\n",
       "      <th>Percentage</th>\n",
       "    </tr>\n",
       "    <tr>\n",
       "      <th>previous_year_rating</th>\n",
       "      <th></th>\n",
       "      <th></th>\n",
       "    </tr>\n",
       "  </thead>\n",
       "  <tbody>\n",
       "    <tr>\n",
       "      <th>3.0</th>\n",
       "      <td>18618</td>\n",
       "      <td>36.733486</td>\n",
       "    </tr>\n",
       "    <tr>\n",
       "      <th>5.0</th>\n",
       "      <td>11741</td>\n",
       "      <td>23.165101</td>\n",
       "    </tr>\n",
       "    <tr>\n",
       "      <th>4.0</th>\n",
       "      <td>9877</td>\n",
       "      <td>19.487412</td>\n",
       "    </tr>\n",
       "    <tr>\n",
       "      <th>1.0</th>\n",
       "      <td>6223</td>\n",
       "      <td>12.278036</td>\n",
       "    </tr>\n",
       "    <tr>\n",
       "      <th>2.0</th>\n",
       "      <td>4225</td>\n",
       "      <td>8.335964</td>\n",
       "    </tr>\n",
       "  </tbody>\n",
       "</table>\n",
       "</div>"
      ],
      "text/plain": [
       "                      employee_id  Percentage\n",
       "previous_year_rating                         \n",
       "3.0                         18618   36.733486\n",
       "5.0                         11741   23.165101\n",
       "4.0                          9877   19.487412\n",
       "1.0                          6223   12.278036\n",
       "2.0                          4225    8.335964"
      ]
     },
     "execution_count": 24,
     "metadata": {},
     "output_type": "execute_result"
    }
   ],
   "source": [
    "pre_yr_rtng = raw_train_data[['employee_id',\n",
    "                           'previous_year_rating']].groupby('previous_year_rating').agg({'employee_id':'count'}).sort_values('employee_id',ascending = False)\n",
    "pre_yr_rtng['Percentage'] = 100* pre_yr_rtng['employee_id']/pre_yr_rtng['employee_id'].sum()\n",
    "pre_yr_rtng"
   ]
  },
  {
   "cell_type": "code",
   "execution_count": 25,
   "metadata": {},
   "outputs": [
    {
     "data": {
      "text/plain": [
       "(<seaborn.axisgrid.FacetGrid at 0x289751e5a20>,\n",
       " Text(0.5, 0.98, 'Previous Year Rating'))"
      ]
     },
     "execution_count": 25,
     "metadata": {},
     "output_type": "execute_result"
    },
    {
     "data": {
      "image/png": "[encoded data removed]",
      "text/plain": [
       "<Figure size 648x432 with 1 Axes>"
      ]
     },
     "metadata": {
      "needs_background": "light"
     },
     "output_type": "display_data"
    }
   ],
   "source": [
    "ax =  sns.catplot(x = 'previous_year_rating',kind = 'count',palette='ch:.25',data=raw_train_data,size=6, aspect=1.5,\n",
    "                 order = raw_train_data.previous_year_rating.value_counts().index)\n",
    "(ax.set_axis_labels(\"\", \"Count\"),ax.fig.suptitle('Previous Year Rating',fontsize=15))"
   ]
  },
  {
   "cell_type": "code",
   "execution_count": 26,
   "metadata": {},
   "outputs": [
    {
     "data": {
      "text/plain": [
       "(<seaborn.axisgrid.FacetGrid at 0x289754d6128>,\n",
       " Text(0.5, 0.98, 'previous_year_rating Distribution'))"
      ]
     },
     "execution_count": 26,
     "metadata": {},
     "output_type": "execute_result"
    },
    {
     "data": {
      "image/png": "[encoded data removed]",
      "text/plain": [
       "<Figure size 496.8x432 with 1 Axes>"
      ]
     },
     "metadata": {
      "needs_background": "light"
     },
     "output_type": "display_data"
    }
   ],
   "source": [
    "ax = sns.catplot(x = 'previous_year_rating',kind='count', hue = 'is_promoted', palette='muted',data=raw_train_data,size=6, aspect=1\n",
    "            ,order=raw_train_data.previous_year_rating.value_counts().iloc[:10].index)\n",
    "(ax.set_axis_labels(\"\", \"Count\"),ax.fig.suptitle('previous_year_rating Distribution',fontsize=15))"
   ]
  },
  {
   "cell_type": "code",
   "execution_count": 27,
   "metadata": {},
   "outputs": [],
   "source": [
    "# del raw_train_data['KPIs_met_gt_80%']\n",
    "# del raw_test_data['KPIs_met_gt_80%']"
   ]
  },
  {
   "cell_type": "code",
   "execution_count": 28,
   "metadata": {},
   "outputs": [
    {
     "data": {
      "text/plain": [
       "Index(['employee_id', 'department', 'region', 'education', 'gender',\n",
       "       'recruitment_channel', 'no_of_trainings', 'age', 'previous_year_rating',\n",
       "       'length_of_service', 'KPIs_met_gt_80', 'awards_won?',\n",
       "       'avg_training_score', 'is_promoted'],\n",
       "      dtype='object')"
      ]
     },
     "execution_count": 28,
     "metadata": {},
     "output_type": "execute_result"
    },
    {
     "data": {
      "text/plain": [
       "Index(['employee_id', 'department', 'region', 'education', 'gender',\n",
       "       'recruitment_channel', 'no_of_trainings', 'age', 'previous_year_rating',\n",
       "       'length_of_service', 'KPIs_met_gt_80', 'awards_won?',\n",
       "       'avg_training_score'],\n",
       "      dtype='object')"
      ]
     },
     "execution_count": 28,
     "metadata": {},
     "output_type": "execute_result"
    }
   ],
   "source": [
    "raw_train_data.rename(columns= {\"KPIs_met >80%\": \"KPIs_met_gt_80\"},inplace = True)\n",
    "raw_test_data.rename(columns= {\"KPIs_met >80%\": \"KPIs_met_gt_80\"},inplace = True)\n",
    "raw_train_data.columns\n",
    "raw_test_data.columns"
   ]
  },
  {
   "cell_type": "code",
   "execution_count": 29,
   "metadata": {},
   "outputs": [
    {
     "data": {
      "text/html": [
       "<div>\n",
       "<style scoped>\n",
       "    .dataframe tbody tr th:only-of-type {\n",
       "        vertical-align: middle;\n",
       "    }\n",
       "\n",
       "    .dataframe tbody tr th {\n",
       "        vertical-align: top;\n",
       "    }\n",
       "\n",
       "    .dataframe thead th {\n",
       "        text-align: right;\n",
       "    }\n",
       "</style>\n",
       "<table border=\"1\" class=\"dataframe\">\n",
       "  <thead>\n",
       "    <tr style=\"text-align: right;\">\n",
       "      <th></th>\n",
       "      <th>employee_id</th>\n",
       "      <th>Percentage</th>\n",
       "    </tr>\n",
       "    <tr>\n",
       "      <th>KPIs_met_gt_80</th>\n",
       "      <th></th>\n",
       "      <th></th>\n",
       "    </tr>\n",
       "  </thead>\n",
       "  <tbody>\n",
       "    <tr>\n",
       "      <th>0</th>\n",
       "      <td>35517</td>\n",
       "      <td>64.802584</td>\n",
       "    </tr>\n",
       "    <tr>\n",
       "      <th>1</th>\n",
       "      <td>19291</td>\n",
       "      <td>35.197416</td>\n",
       "    </tr>\n",
       "  </tbody>\n",
       "</table>\n",
       "</div>"
      ],
      "text/plain": [
       "                employee_id  Percentage\n",
       "KPIs_met_gt_80                         \n",
       "0                     35517   64.802584\n",
       "1                     19291   35.197416"
      ]
     },
     "execution_count": 29,
     "metadata": {},
     "output_type": "execute_result"
    }
   ],
   "source": [
    "kpi_met = raw_train_data[['KPIs_met_gt_80','employee_id']].groupby('KPIs_met_gt_80').agg({'employee_id':'count'}).sort_values('employee_id',ascending = False)\n",
    "kpi_met['Percentage'] = 100* kpi_met['employee_id']/kpi_met['employee_id'].sum()\n",
    "kpi_met"
   ]
  },
  {
   "cell_type": "code",
   "execution_count": 30,
   "metadata": {},
   "outputs": [
    {
     "data": {
      "text/plain": [
       "(<seaborn.axisgrid.FacetGrid at 0x2897307d4e0>, Text(0.5, 0.98, 'KPIs Met'))"
      ]
     },
     "execution_count": 30,
     "metadata": {},
     "output_type": "execute_result"
    },
    {
     "data": {
      "image/png": "[encoded data removed]",
      "text/plain": [
       "<Figure size 432x432 with 1 Axes>"
      ]
     },
     "metadata": {
      "needs_background": "light"
     },
     "output_type": "display_data"
    }
   ],
   "source": [
    "ax =  sns.catplot(x = 'KPIs_met_gt_80',kind = 'count',palette='ch:.25',data=raw_train_data,size=6, aspect=1)\n",
    "(ax.set_axis_labels(\"\", \"Count\"),ax.fig.suptitle('KPIs Met',fontsize=15))"
   ]
  },
  {
   "cell_type": "code",
   "execution_count": 31,
   "metadata": {},
   "outputs": [
    {
     "data": {
      "text/plain": [
       "(<seaborn.axisgrid.FacetGrid at 0x28975b59208>,\n",
       " Text(0.5, 0.98, '80% KPIs met Distribution'))"
      ]
     },
     "execution_count": 31,
     "metadata": {},
     "output_type": "execute_result"
    },
    {
     "data": {
      "image/png": "[encoded data removed]",
      "text/plain": [
       "<Figure size 496.8x432 with 1 Axes>"
      ]
     },
     "metadata": {
      "needs_background": "light"
     },
     "output_type": "display_data"
    }
   ],
   "source": [
    "ax = sns.catplot(x = 'KPIs_met_gt_80',kind='count', hue = 'is_promoted', palette='muted',data=raw_train_data,size=6, aspect=1\n",
    "            ,order=raw_train_data.KPIs_met_gt_80.value_counts().iloc[:10].index)\n",
    "(ax.set_axis_labels(\"\", \"Count\"),ax.fig.suptitle('80% KPIs met Distribution',fontsize=15))"
   ]
  },
  {
   "cell_type": "markdown",
   "metadata": {},
   "source": [
    "## Missing Value Treatment"
   ]
  },
  {
   "cell_type": "markdown",
   "metadata": {},
   "source": [
    "### Training Data"
   ]
  },
  {
   "cell_type": "code",
   "execution_count": 32,
   "metadata": {},
   "outputs": [
    {
     "data": {
      "text/html": [
       "<div>\n",
       "<style scoped>\n",
       "    .dataframe tbody tr th:only-of-type {\n",
       "        vertical-align: middle;\n",
       "    }\n",
       "\n",
       "    .dataframe tbody tr th {\n",
       "        vertical-align: top;\n",
       "    }\n",
       "\n",
       "    .dataframe thead th {\n",
       "        text-align: right;\n",
       "    }\n",
       "</style>\n",
       "<table border=\"1\" class=\"dataframe\">\n",
       "  <thead>\n",
       "    <tr style=\"text-align: right;\">\n",
       "      <th></th>\n",
       "      <th>Missing Values</th>\n",
       "      <th>% of Total Values</th>\n",
       "    </tr>\n",
       "  </thead>\n",
       "  <tbody>\n",
       "    <tr>\n",
       "      <th>employee_id</th>\n",
       "      <td>0</td>\n",
       "      <td>0.000000</td>\n",
       "    </tr>\n",
       "    <tr>\n",
       "      <th>department</th>\n",
       "      <td>0</td>\n",
       "      <td>0.000000</td>\n",
       "    </tr>\n",
       "    <tr>\n",
       "      <th>region</th>\n",
       "      <td>0</td>\n",
       "      <td>0.000000</td>\n",
       "    </tr>\n",
       "    <tr>\n",
       "      <th>education</th>\n",
       "      <td>2409</td>\n",
       "      <td>4.395344</td>\n",
       "    </tr>\n",
       "    <tr>\n",
       "      <th>gender</th>\n",
       "      <td>0</td>\n",
       "      <td>0.000000</td>\n",
       "    </tr>\n",
       "    <tr>\n",
       "      <th>recruitment_channel</th>\n",
       "      <td>0</td>\n",
       "      <td>0.000000</td>\n",
       "    </tr>\n",
       "    <tr>\n",
       "      <th>no_of_trainings</th>\n",
       "      <td>0</td>\n",
       "      <td>0.000000</td>\n",
       "    </tr>\n",
       "    <tr>\n",
       "      <th>age</th>\n",
       "      <td>0</td>\n",
       "      <td>0.000000</td>\n",
       "    </tr>\n",
       "    <tr>\n",
       "      <th>previous_year_rating</th>\n",
       "      <td>4124</td>\n",
       "      <td>7.524449</td>\n",
       "    </tr>\n",
       "    <tr>\n",
       "      <th>length_of_service</th>\n",
       "      <td>0</td>\n",
       "      <td>0.000000</td>\n",
       "    </tr>\n",
       "    <tr>\n",
       "      <th>KPIs_met_gt_80</th>\n",
       "      <td>0</td>\n",
       "      <td>0.000000</td>\n",
       "    </tr>\n",
       "    <tr>\n",
       "      <th>awards_won?</th>\n",
       "      <td>0</td>\n",
       "      <td>0.000000</td>\n",
       "    </tr>\n",
       "    <tr>\n",
       "      <th>avg_training_score</th>\n",
       "      <td>0</td>\n",
       "      <td>0.000000</td>\n",
       "    </tr>\n",
       "    <tr>\n",
       "      <th>is_promoted</th>\n",
       "      <td>0</td>\n",
       "      <td>0.000000</td>\n",
       "    </tr>\n",
       "  </tbody>\n",
       "</table>\n",
       "</div>"
      ],
      "text/plain": [
       "                      Missing Values  % of Total Values\n",
       "employee_id                        0           0.000000\n",
       "department                         0           0.000000\n",
       "region                             0           0.000000\n",
       "education                       2409           4.395344\n",
       "gender                             0           0.000000\n",
       "recruitment_channel                0           0.000000\n",
       "no_of_trainings                    0           0.000000\n",
       "age                                0           0.000000\n",
       "previous_year_rating            4124           7.524449\n",
       "length_of_service                  0           0.000000\n",
       "KPIs_met_gt_80                     0           0.000000\n",
       "awards_won?                        0           0.000000\n",
       "avg_training_score                 0           0.000000\n",
       "is_promoted                        0           0.000000"
      ]
     },
     "execution_count": 32,
     "metadata": {},
     "output_type": "execute_result"
    }
   ],
   "source": [
    "mis_val = raw_train_data.isnull().sum()\n",
    "mis_val_percent = 100 * raw_train_data.isnull().sum() / len(raw_train_data)\n",
    "mis_val_table = pd.concat([mis_val, mis_val_percent], axis=1)\n",
    "# Rename the columns\n",
    "mis_val_table_ren_columns = mis_val_table.rename(columns = {0 : 'Missing Values', 1 : '% of Total Values'})\n",
    "# mis_val_table_ren_columns = mis_val_table_ren_columns[mis_val_table_ren_columns.iloc[:,1] != 0].sort_values('% of Total Values', ascending=False).round(1)\n",
    "mis_val_table_ren_columns"
   ]
  },
  {
   "cell_type": "markdown",
   "metadata": {},
   "source": [
    "### Test Data"
   ]
  },
  {
   "cell_type": "code",
   "execution_count": 33,
   "metadata": {},
   "outputs": [
    {
     "data": {
      "text/html": [
       "<div>\n",
       "<style scoped>\n",
       "    .dataframe tbody tr th:only-of-type {\n",
       "        vertical-align: middle;\n",
       "    }\n",
       "\n",
       "    .dataframe tbody tr th {\n",
       "        vertical-align: top;\n",
       "    }\n",
       "\n",
       "    .dataframe thead th {\n",
       "        text-align: right;\n",
       "    }\n",
       "</style>\n",
       "<table border=\"1\" class=\"dataframe\">\n",
       "  <thead>\n",
       "    <tr style=\"text-align: right;\">\n",
       "      <th></th>\n",
       "      <th>Missing Values</th>\n",
       "      <th>% of Total Values</th>\n",
       "    </tr>\n",
       "  </thead>\n",
       "  <tbody>\n",
       "    <tr>\n",
       "      <th>employee_id</th>\n",
       "      <td>0</td>\n",
       "      <td>0.000000</td>\n",
       "    </tr>\n",
       "    <tr>\n",
       "      <th>department</th>\n",
       "      <td>0</td>\n",
       "      <td>0.000000</td>\n",
       "    </tr>\n",
       "    <tr>\n",
       "      <th>region</th>\n",
       "      <td>0</td>\n",
       "      <td>0.000000</td>\n",
       "    </tr>\n",
       "    <tr>\n",
       "      <th>education</th>\n",
       "      <td>1034</td>\n",
       "      <td>4.401873</td>\n",
       "    </tr>\n",
       "    <tr>\n",
       "      <th>gender</th>\n",
       "      <td>0</td>\n",
       "      <td>0.000000</td>\n",
       "    </tr>\n",
       "    <tr>\n",
       "      <th>recruitment_channel</th>\n",
       "      <td>0</td>\n",
       "      <td>0.000000</td>\n",
       "    </tr>\n",
       "    <tr>\n",
       "      <th>no_of_trainings</th>\n",
       "      <td>0</td>\n",
       "      <td>0.000000</td>\n",
       "    </tr>\n",
       "    <tr>\n",
       "      <th>age</th>\n",
       "      <td>0</td>\n",
       "      <td>0.000000</td>\n",
       "    </tr>\n",
       "    <tr>\n",
       "      <th>previous_year_rating</th>\n",
       "      <td>1812</td>\n",
       "      <td>7.713921</td>\n",
       "    </tr>\n",
       "    <tr>\n",
       "      <th>length_of_service</th>\n",
       "      <td>0</td>\n",
       "      <td>0.000000</td>\n",
       "    </tr>\n",
       "    <tr>\n",
       "      <th>KPIs_met_gt_80</th>\n",
       "      <td>0</td>\n",
       "      <td>0.000000</td>\n",
       "    </tr>\n",
       "    <tr>\n",
       "      <th>awards_won?</th>\n",
       "      <td>0</td>\n",
       "      <td>0.000000</td>\n",
       "    </tr>\n",
       "    <tr>\n",
       "      <th>avg_training_score</th>\n",
       "      <td>0</td>\n",
       "      <td>0.000000</td>\n",
       "    </tr>\n",
       "  </tbody>\n",
       "</table>\n",
       "</div>"
      ],
      "text/plain": [
       "                      Missing Values  % of Total Values\n",
       "employee_id                        0           0.000000\n",
       "department                         0           0.000000\n",
       "region                             0           0.000000\n",
       "education                       1034           4.401873\n",
       "gender                             0           0.000000\n",
       "recruitment_channel                0           0.000000\n",
       "no_of_trainings                    0           0.000000\n",
       "age                                0           0.000000\n",
       "previous_year_rating            1812           7.713921\n",
       "length_of_service                  0           0.000000\n",
       "KPIs_met_gt_80                     0           0.000000\n",
       "awards_won?                        0           0.000000\n",
       "avg_training_score                 0           0.000000"
      ]
     },
     "execution_count": 33,
     "metadata": {},
     "output_type": "execute_result"
    }
   ],
   "source": [
    "mis_val_test_data = raw_test_data.isnull().sum()\n",
    "mis_val_test_data_pct = 100 * raw_test_data.isnull().sum()/len(raw_test_data)\n",
    "mis_val_table = pd.concat([mis_val_test_data, mis_val_test_data_pct], axis=1)\n",
    "# Rename the columns\n",
    "mis_val_table_ren_columns = mis_val_table.rename(columns = {0 : 'Missing Values', 1: '% of Total Values'})\n",
    "mis_val_table_ren_columns"
   ]
  },
  {
   "cell_type": "markdown",
   "metadata": {},
   "source": [
    "Treating the missing values in Train and Test data together"
   ]
  },
  {
   "cell_type": "markdown",
   "metadata": {},
   "source": [
    "#### Education Variable Missing Value Treatment"
   ]
  },
  {
   "cell_type": "code",
   "execution_count": 34,
   "metadata": {},
   "outputs": [
    {
     "data": {
      "text/html": [
       "<div>\n",
       "<style scoped>\n",
       "    .dataframe tbody tr th:only-of-type {\n",
       "        vertical-align: middle;\n",
       "    }\n",
       "\n",
       "    .dataframe tbody tr th {\n",
       "        vertical-align: top;\n",
       "    }\n",
       "\n",
       "    .dataframe thead th {\n",
       "        text-align: right;\n",
       "    }\n",
       "</style>\n",
       "<table border=\"1\" class=\"dataframe\">\n",
       "  <thead>\n",
       "    <tr style=\"text-align: right;\">\n",
       "      <th>education</th>\n",
       "      <th>Bachelor's</th>\n",
       "      <th>Below Secondary</th>\n",
       "      <th>Master's &amp; above</th>\n",
       "      <th>missing</th>\n",
       "    </tr>\n",
       "    <tr>\n",
       "      <th>is_promoted</th>\n",
       "      <th></th>\n",
       "      <th></th>\n",
       "      <th></th>\n",
       "      <th></th>\n",
       "    </tr>\n",
       "  </thead>\n",
       "  <tbody>\n",
       "    <tr>\n",
       "      <th>0</th>\n",
       "      <td>0.917969</td>\n",
       "      <td>0.91677</td>\n",
       "      <td>0.901441</td>\n",
       "      <td>0.949357</td>\n",
       "    </tr>\n",
       "    <tr>\n",
       "      <th>1</th>\n",
       "      <td>0.082031</td>\n",
       "      <td>0.08323</td>\n",
       "      <td>0.098559</td>\n",
       "      <td>0.050643</td>\n",
       "    </tr>\n",
       "  </tbody>\n",
       "</table>\n",
       "</div>"
      ],
      "text/plain": [
       "education    Bachelor's  Below Secondary  Master's & above   missing\n",
       "is_promoted                                                         \n",
       "0              0.917969          0.91677          0.901441  0.949357\n",
       "1              0.082031          0.08323          0.098559  0.050643"
      ]
     },
     "execution_count": 34,
     "metadata": {},
     "output_type": "execute_result"
    }
   ],
   "source": [
    "ct = pd.crosstab(raw_train_data['is_promoted'], raw_train_data['education'].fillna('missing'))\n",
    "ct_pct = ct.apply(lambda r: r/r.sum(), axis=0)\n",
    "ct_pct"
   ]
  },
  {
   "cell_type": "code",
   "execution_count": 35,
   "metadata": {},
   "outputs": [
    {
     "data": {
      "text/html": [
       "<div>\n",
       "<style scoped>\n",
       "    .dataframe tbody tr th:only-of-type {\n",
       "        vertical-align: middle;\n",
       "    }\n",
       "\n",
       "    .dataframe tbody tr th {\n",
       "        vertical-align: top;\n",
       "    }\n",
       "\n",
       "    .dataframe thead th {\n",
       "        text-align: right;\n",
       "    }\n",
       "</style>\n",
       "<table border=\"1\" class=\"dataframe\">\n",
       "  <thead>\n",
       "    <tr style=\"text-align: right;\">\n",
       "      <th>previous_year_rating</th>\n",
       "      <th>1.0</th>\n",
       "      <th>2.0</th>\n",
       "      <th>3.0</th>\n",
       "      <th>4.0</th>\n",
       "      <th>5.0</th>\n",
       "      <th>missing</th>\n",
       "    </tr>\n",
       "    <tr>\n",
       "      <th>is_promoted</th>\n",
       "      <th></th>\n",
       "      <th></th>\n",
       "      <th></th>\n",
       "      <th></th>\n",
       "      <th></th>\n",
       "      <th></th>\n",
       "    </tr>\n",
       "  </thead>\n",
       "  <tbody>\n",
       "    <tr>\n",
       "      <th>0</th>\n",
       "      <td>0.985859</td>\n",
       "      <td>0.95716</td>\n",
       "      <td>0.927221</td>\n",
       "      <td>0.920624</td>\n",
       "      <td>0.836385</td>\n",
       "      <td>0.917798</td>\n",
       "    </tr>\n",
       "    <tr>\n",
       "      <th>1</th>\n",
       "      <td>0.014141</td>\n",
       "      <td>0.04284</td>\n",
       "      <td>0.072779</td>\n",
       "      <td>0.079376</td>\n",
       "      <td>0.163615</td>\n",
       "      <td>0.082202</td>\n",
       "    </tr>\n",
       "  </tbody>\n",
       "</table>\n",
       "</div>"
      ],
      "text/plain": [
       "previous_year_rating       1.0      2.0       3.0       4.0       5.0  \\\n",
       "is_promoted                                                             \n",
       "0                     0.985859  0.95716  0.927221  0.920624  0.836385   \n",
       "1                     0.014141  0.04284  0.072779  0.079376  0.163615   \n",
       "\n",
       "previous_year_rating   missing  \n",
       "is_promoted                     \n",
       "0                     0.917798  \n",
       "1                     0.082202  "
      ]
     },
     "execution_count": 35,
     "metadata": {},
     "output_type": "execute_result"
    }
   ],
   "source": [
    "ct = pd.crosstab(raw_train_data['is_promoted'], raw_train_data['previous_year_rating'].fillna('missing'))\n",
    "ct_pct = ct.apply(lambda r: r/r.sum(), axis=0)\n",
    "ct_pct"
   ]
  },
  {
   "cell_type": "markdown",
   "metadata": {},
   "source": [
    "Replacing missing values by the most frequent category"
   ]
  },
  {
   "cell_type": "code",
   "execution_count": 36,
   "metadata": {},
   "outputs": [],
   "source": [
    "# Train Data\n",
    "raw_train_data['education'].fillna(\"Bachelor's\",inplace = True)\n",
    "raw_train_data['previous_year_rating'].fillna(3.0,inplace = True)\n",
    "\n",
    "# Test Data\n",
    "raw_test_data['education'].fillna(\"Bachelor's\",inplace = True)\n",
    "raw_test_data['previous_year_rating'].fillna(3.0,inplace = True)"
   ]
  },
  {
   "cell_type": "code",
   "execution_count": 37,
   "metadata": {},
   "outputs": [
    {
     "data": {
      "text/html": [
       "<div>\n",
       "<style scoped>\n",
       "    .dataframe tbody tr th:only-of-type {\n",
       "        vertical-align: middle;\n",
       "    }\n",
       "\n",
       "    .dataframe tbody tr th {\n",
       "        vertical-align: top;\n",
       "    }\n",
       "\n",
       "    .dataframe thead th {\n",
       "        text-align: right;\n",
       "    }\n",
       "</style>\n",
       "<table border=\"1\" class=\"dataframe\">\n",
       "  <thead>\n",
       "    <tr style=\"text-align: right;\">\n",
       "      <th>previous_year_rating</th>\n",
       "      <th>1.0</th>\n",
       "      <th>2.0</th>\n",
       "      <th>3.0</th>\n",
       "      <th>4.0</th>\n",
       "      <th>5.0</th>\n",
       "    </tr>\n",
       "    <tr>\n",
       "      <th>is_promoted</th>\n",
       "      <th></th>\n",
       "      <th></th>\n",
       "      <th></th>\n",
       "      <th></th>\n",
       "      <th></th>\n",
       "    </tr>\n",
       "  </thead>\n",
       "  <tbody>\n",
       "    <tr>\n",
       "      <th>0</th>\n",
       "      <td>0.985859</td>\n",
       "      <td>0.95716</td>\n",
       "      <td>0.925512</td>\n",
       "      <td>0.920624</td>\n",
       "      <td>0.836385</td>\n",
       "    </tr>\n",
       "    <tr>\n",
       "      <th>1</th>\n",
       "      <td>0.014141</td>\n",
       "      <td>0.04284</td>\n",
       "      <td>0.074488</td>\n",
       "      <td>0.079376</td>\n",
       "      <td>0.163615</td>\n",
       "    </tr>\n",
       "  </tbody>\n",
       "</table>\n",
       "</div>"
      ],
      "text/plain": [
       "previous_year_rating       1.0      2.0       3.0       4.0       5.0\n",
       "is_promoted                                                          \n",
       "0                     0.985859  0.95716  0.925512  0.920624  0.836385\n",
       "1                     0.014141  0.04284  0.074488  0.079376  0.163615"
      ]
     },
     "execution_count": 37,
     "metadata": {},
     "output_type": "execute_result"
    }
   ],
   "source": [
    "ct = pd.crosstab(raw_train_data['is_promoted'], raw_train_data['previous_year_rating'].fillna('missing'))\n",
    "ct_pct = ct.apply(lambda r: r/r.sum(), axis=0)\n",
    "ct_pct"
   ]
  },
  {
   "cell_type": "code",
   "execution_count": 38,
   "metadata": {},
   "outputs": [
    {
     "data": {
      "text/html": [
       "<div>\n",
       "<style scoped>\n",
       "    .dataframe tbody tr th:only-of-type {\n",
       "        vertical-align: middle;\n",
       "    }\n",
       "\n",
       "    .dataframe tbody tr th {\n",
       "        vertical-align: top;\n",
       "    }\n",
       "\n",
       "    .dataframe thead th {\n",
       "        text-align: right;\n",
       "    }\n",
       "</style>\n",
       "<table border=\"1\" class=\"dataframe\">\n",
       "  <thead>\n",
       "    <tr style=\"text-align: right;\">\n",
       "      <th>education</th>\n",
       "      <th>Bachelor's</th>\n",
       "      <th>Below Secondary</th>\n",
       "      <th>Master's &amp; above</th>\n",
       "    </tr>\n",
       "    <tr>\n",
       "      <th>is_promoted</th>\n",
       "      <th></th>\n",
       "      <th></th>\n",
       "      <th></th>\n",
       "    </tr>\n",
       "  </thead>\n",
       "  <tbody>\n",
       "    <tr>\n",
       "      <th>0</th>\n",
       "      <td>0.919904</td>\n",
       "      <td>0.91677</td>\n",
       "      <td>0.901441</td>\n",
       "    </tr>\n",
       "    <tr>\n",
       "      <th>1</th>\n",
       "      <td>0.080096</td>\n",
       "      <td>0.08323</td>\n",
       "      <td>0.098559</td>\n",
       "    </tr>\n",
       "  </tbody>\n",
       "</table>\n",
       "</div>"
      ],
      "text/plain": [
       "education    Bachelor's  Below Secondary  Master's & above\n",
       "is_promoted                                               \n",
       "0              0.919904          0.91677          0.901441\n",
       "1              0.080096          0.08323          0.098559"
      ]
     },
     "execution_count": 38,
     "metadata": {},
     "output_type": "execute_result"
    }
   ],
   "source": [
    "ct = pd.crosstab(raw_train_data['is_promoted'], raw_train_data['education'].fillna('missing'))\n",
    "ct_pct = ct.apply(lambda r: r/r.sum(), axis=0)\n",
    "ct_pct"
   ]
  },
  {
   "cell_type": "code",
   "execution_count": 39,
   "metadata": {},
   "outputs": [
    {
     "data": {
      "text/html": [
       "<div>\n",
       "<style scoped>\n",
       "    .dataframe tbody tr th:only-of-type {\n",
       "        vertical-align: middle;\n",
       "    }\n",
       "\n",
       "    .dataframe tbody tr th {\n",
       "        vertical-align: top;\n",
       "    }\n",
       "\n",
       "    .dataframe thead th {\n",
       "        text-align: right;\n",
       "    }\n",
       "</style>\n",
       "<table border=\"1\" class=\"dataframe\">\n",
       "  <thead>\n",
       "    <tr style=\"text-align: right;\">\n",
       "      <th></th>\n",
       "      <th>Missing Values</th>\n",
       "      <th>% of Total Values</th>\n",
       "    </tr>\n",
       "  </thead>\n",
       "  <tbody>\n",
       "  </tbody>\n",
       "</table>\n",
       "</div>"
      ],
      "text/plain": [
       "Empty DataFrame\n",
       "Columns: [Missing Values, % of Total Values]\n",
       "Index: []"
      ]
     },
     "execution_count": 39,
     "metadata": {},
     "output_type": "execute_result"
    }
   ],
   "source": [
    "mis_val = raw_train_data.isnull().sum()\n",
    "mis_val_percent = 100 * raw_train_data.isnull().sum() / len(raw_train_data)\n",
    "mis_val_table = pd.concat([mis_val, mis_val_percent], axis=1)\n",
    "# Rename the columns\n",
    "mis_val_table_ren_columns = mis_val_table.rename(columns = {0 : 'Missing Values', 1 : '% of Total Values'})\n",
    "mis_val_table_ren_columns = mis_val_table_ren_columns[mis_val_table_ren_columns.iloc[:,1] != 0].sort_values('% of Total Values', ascending=False).round(1)\n",
    "mis_val_table_ren_columns"
   ]
  },
  {
   "cell_type": "markdown",
   "metadata": {},
   "source": [
    "No missing values in the data now"
   ]
  },
  {
   "cell_type": "markdown",
   "metadata": {},
   "source": [
    "## Relationship between Promotion and Independent Variables - Chi-square test of Independence"
   ]
  },
  {
   "cell_type": "raw",
   "metadata": {},
   "source": [
    "The Chi-square test of independence is an omnibus test; meaning it tests the data as a whole. \n",
    "This means that one will not be able to easily tell which levels (categories) of the variables are responsible for\n",
    "the relationship if the Chi-square table is larger than 2×2\n",
    "\n",
    "The H0 (Null Hypothesis): There is no relationship between variable one and variable two\n",
    "\n",
    "The H1 (Alternative Hypothesis): There is a relationship between variable 1 and variable 2\n",
    "\n",
    "If the p-value is significant, you can reject the null hypothesis and claim that the findings support the alternative hypothesis\n",
    "\n",
    "Two important libraries for Chi-square Test\n",
    "import researchpy as rp\n",
    "from scipy import stats"
   ]
  },
  {
   "cell_type": "code",
   "execution_count": 40,
   "metadata": {},
   "outputs": [],
   "source": [
    "from scipy.stats import chi2_contingency"
   ]
  },
  {
   "cell_type": "markdown",
   "metadata": {},
   "source": [
    "### Department's Significance with Promotion"
   ]
  },
  {
   "cell_type": "code",
   "execution_count": 41,
   "metadata": {},
   "outputs": [
    {
     "data": {
      "text/html": [
       "<div>\n",
       "<style scoped>\n",
       "    .dataframe tbody tr th:only-of-type {\n",
       "        vertical-align: middle;\n",
       "    }\n",
       "\n",
       "    .dataframe tbody tr th {\n",
       "        vertical-align: top;\n",
       "    }\n",
       "\n",
       "    .dataframe thead th {\n",
       "        text-align: right;\n",
       "    }\n",
       "</style>\n",
       "<table border=\"1\" class=\"dataframe\">\n",
       "  <thead>\n",
       "    <tr style=\"text-align: right;\">\n",
       "      <th>department</th>\n",
       "      <th>Analytics</th>\n",
       "      <th>Finance</th>\n",
       "      <th>HR</th>\n",
       "      <th>Legal</th>\n",
       "      <th>Operations</th>\n",
       "      <th>Procurement</th>\n",
       "      <th>R&amp;D</th>\n",
       "      <th>Sales &amp; Marketing</th>\n",
       "      <th>Technology</th>\n",
       "    </tr>\n",
       "    <tr>\n",
       "      <th>is_promoted</th>\n",
       "      <th></th>\n",
       "      <th></th>\n",
       "      <th></th>\n",
       "      <th></th>\n",
       "      <th></th>\n",
       "      <th></th>\n",
       "      <th></th>\n",
       "      <th></th>\n",
       "      <th></th>\n",
       "    </tr>\n",
       "  </thead>\n",
       "  <tbody>\n",
       "    <tr>\n",
       "      <th>0</th>\n",
       "      <td>4840</td>\n",
       "      <td>2330</td>\n",
       "      <td>2282</td>\n",
       "      <td>986</td>\n",
       "      <td>10325</td>\n",
       "      <td>6450</td>\n",
       "      <td>930</td>\n",
       "      <td>15627</td>\n",
       "      <td>6370</td>\n",
       "    </tr>\n",
       "    <tr>\n",
       "      <th>1</th>\n",
       "      <td>512</td>\n",
       "      <td>206</td>\n",
       "      <td>136</td>\n",
       "      <td>53</td>\n",
       "      <td>1023</td>\n",
       "      <td>688</td>\n",
       "      <td>69</td>\n",
       "      <td>1213</td>\n",
       "      <td>768</td>\n",
       "    </tr>\n",
       "  </tbody>\n",
       "</table>\n",
       "</div>"
      ],
      "text/plain": [
       "department   Analytics  Finance    HR  Legal  Operations  Procurement  R&D  \\\n",
       "is_promoted                                                                  \n",
       "0                 4840     2330  2282    986       10325         6450  930   \n",
       "1                  512      206   136     53        1023          688   69   \n",
       "\n",
       "department   Sales & Marketing  Technology  \n",
       "is_promoted                                 \n",
       "0                        15627        6370  \n",
       "1                         1213         768  "
      ]
     },
     "execution_count": 41,
     "metadata": {},
     "output_type": "execute_result"
    }
   ],
   "source": [
    "crosstab = pd.crosstab(raw_train_data['is_promoted'], raw_train_data['department'])\n",
    "crosstab"
   ]
  },
  {
   "cell_type": "code",
   "execution_count": 42,
   "metadata": {},
   "outputs": [
    {
     "name": "stdout",
     "output_type": "stream",
     "text": [
      "Chi-square value:  151.42635516323872\n",
      "p-value:  9.882497107474489e-29\n",
      "Degrees of freedom:  8\n",
      "Expected Values:  [[ 4896.1699022   2320.00875785  2212.05882353   950.50831995\n",
      "  10381.49029339  6530.05619618   913.91512188 15405.73638885\n",
      "   6530.05619618]\n",
      " [  455.8300978    215.99124215   205.94117647    88.49168005\n",
      "    966.50970661   607.94380382    85.08487812  1434.26361115\n",
      "    607.94380382]]\n"
     ]
    }
   ],
   "source": [
    "chi2, p, dof, expected = chi2_contingency(crosstab)\n",
    "print(\"Chi-square value: \", chi2)\n",
    "print(\"p-value: \", p)\n",
    "print(\"Degrees of freedom: \", dof)\n",
    "print(\"Expected Values: \", expected)"
   ]
  },
  {
   "cell_type": "markdown",
   "metadata": {},
   "source": [
    "Since p-value is almost 0, we reject the null hypothesis which means there is a statistically significant relationshiop between department and promotions. But we still do not know the depth of the relationship, post-hoc tests need to be conducted in order to see where the difference between the departments and promotions since the deptartment has many groups/categories"
   ]
  },
  {
   "cell_type": "markdown",
   "metadata": {},
   "source": [
    "Now that we know our Chi-square test of independence is significant, we want to test where the relationship is between the levels of the variables. In order to do this, we need to conduct multiple 2×2 Chi-square tests using the Bonferroni-adjusted p-value\n",
    "http://www.biostathandbook.com/multiplecomparisons.html#bonferroni"
   ]
  },
  {
   "cell_type": "code",
   "execution_count": 43,
   "metadata": {},
   "outputs": [
    {
     "data": {
      "text/html": [
       "<div>\n",
       "<style scoped>\n",
       "    .dataframe tbody tr th:only-of-type {\n",
       "        vertical-align: middle;\n",
       "    }\n",
       "\n",
       "    .dataframe tbody tr th {\n",
       "        vertical-align: top;\n",
       "    }\n",
       "\n",
       "    .dataframe thead th {\n",
       "        text-align: right;\n",
       "    }\n",
       "</style>\n",
       "<table border=\"1\" class=\"dataframe\">\n",
       "  <thead>\n",
       "    <tr style=\"text-align: right;\">\n",
       "      <th></th>\n",
       "      <th>Analytics</th>\n",
       "      <th>Finance</th>\n",
       "      <th>HR</th>\n",
       "      <th>Legal</th>\n",
       "      <th>Operations</th>\n",
       "      <th>Procurement</th>\n",
       "      <th>R&amp;D</th>\n",
       "      <th>Sales &amp; Marketing</th>\n",
       "      <th>Technology</th>\n",
       "    </tr>\n",
       "  </thead>\n",
       "  <tbody>\n",
       "    <tr>\n",
       "      <th>0</th>\n",
       "      <td>0</td>\n",
       "      <td>0</td>\n",
       "      <td>0</td>\n",
       "      <td>0</td>\n",
       "      <td>0</td>\n",
       "      <td>0</td>\n",
       "      <td>0</td>\n",
       "      <td>1</td>\n",
       "      <td>0</td>\n",
       "    </tr>\n",
       "    <tr>\n",
       "      <th>1</th>\n",
       "      <td>0</td>\n",
       "      <td>0</td>\n",
       "      <td>0</td>\n",
       "      <td>0</td>\n",
       "      <td>1</td>\n",
       "      <td>0</td>\n",
       "      <td>0</td>\n",
       "      <td>0</td>\n",
       "      <td>0</td>\n",
       "    </tr>\n",
       "    <tr>\n",
       "      <th>2</th>\n",
       "      <td>0</td>\n",
       "      <td>0</td>\n",
       "      <td>0</td>\n",
       "      <td>0</td>\n",
       "      <td>0</td>\n",
       "      <td>0</td>\n",
       "      <td>0</td>\n",
       "      <td>1</td>\n",
       "      <td>0</td>\n",
       "    </tr>\n",
       "    <tr>\n",
       "      <th>3</th>\n",
       "      <td>0</td>\n",
       "      <td>0</td>\n",
       "      <td>0</td>\n",
       "      <td>0</td>\n",
       "      <td>0</td>\n",
       "      <td>0</td>\n",
       "      <td>0</td>\n",
       "      <td>1</td>\n",
       "      <td>0</td>\n",
       "    </tr>\n",
       "    <tr>\n",
       "      <th>4</th>\n",
       "      <td>0</td>\n",
       "      <td>0</td>\n",
       "      <td>0</td>\n",
       "      <td>0</td>\n",
       "      <td>0</td>\n",
       "      <td>0</td>\n",
       "      <td>0</td>\n",
       "      <td>0</td>\n",
       "      <td>1</td>\n",
       "    </tr>\n",
       "  </tbody>\n",
       "</table>\n",
       "</div>"
      ],
      "text/plain": [
       "   Analytics  Finance  HR  Legal  Operations  Procurement  R&D  \\\n",
       "0          0        0   0      0           0            0    0   \n",
       "1          0        0   0      0           1            0    0   \n",
       "2          0        0   0      0           0            0    0   \n",
       "3          0        0   0      0           0            0    0   \n",
       "4          0        0   0      0           0            0    0   \n",
       "\n",
       "   Sales & Marketing  Technology  \n",
       "0                  1           0  \n",
       "1                  0           0  \n",
       "2                  1           0  \n",
       "3                  1           0  \n",
       "4                  0           1  "
      ]
     },
     "execution_count": 43,
     "metadata": {},
     "output_type": "execute_result"
    }
   ],
   "source": [
    "dept_dummies = pd.get_dummies(raw_train_data['department'])\n",
    "dept_dummies.head()"
   ]
  },
  {
   "cell_type": "code",
   "execution_count": 44,
   "metadata": {
    "scrolled": true
   },
   "outputs": [
    {
     "name": "stdout",
     "output_type": "stream",
     "text": [
      "is_promoted      0     1\n",
      "Analytics               \n",
      "0            45300  4156\n",
      "1             4840   512 \n",
      "\n",
      "Chi2 value= 8.236117063674477\n",
      "p-value= 0.004106489035847602\n",
      "Degrees of freedom= 1\n",
      "\n",
      "is_promoted      0     1\n",
      "Finance                 \n",
      "0            47810  4462\n",
      "1             2330   206 \n",
      "\n",
      "Chi2 value= 0.47801819536394463\n",
      "p-value= 0.4893213666222338\n",
      "Degrees of freedom= 1\n",
      "\n",
      "is_promoted      0     1\n",
      "HR                      \n",
      "0            47858  4532\n",
      "1             2282   136 \n",
      "\n",
      "Chi2 value= 26.776026652365665\n",
      "p-value= 2.284539570263827e-07\n",
      "Degrees of freedom= 1\n",
      "\n",
      "is_promoted      0     1\n",
      "Legal                   \n",
      "0            49154  4615\n",
      "1              986    53 \n",
      "\n",
      "Chi2 value= 15.416960822560394\n",
      "p-value= 8.621102810922093e-05\n",
      "Degrees of freedom= 1\n",
      "\n",
      "is_promoted      0     1\n",
      "Operations              \n",
      "0            39815  3645\n",
      "1            10325  1023 \n",
      "\n",
      "Chi2 value= 4.47129293896784\n",
      "p-value= 0.03446889922561121\n",
      "Degrees of freedom= 1\n",
      "\n",
      "is_promoted      0     1\n",
      "Procurement             \n",
      "0            43690  3980\n",
      "1             6450   688 \n",
      "\n",
      "Chi2 value= 13.084074581172645\n",
      "p-value= 0.0002978169290859234\n",
      "Degrees of freedom= 1\n",
      "\n",
      "is_promoted      0     1\n",
      "R&D                     \n",
      "0            49210  4599\n",
      "1              930    69 \n",
      "\n",
      "Chi2 value= 3.178360082894399\n",
      "p-value= 0.07461958540843588\n",
      "Degrees of freedom= 1\n",
      "\n",
      "is_promoted            0     1\n",
      "Sales & Marketing             \n",
      "0                  34513  3455\n",
      "1                  15627  1213 \n",
      "\n",
      "Chi2 value= 53.61815395730311\n",
      "p-value= 2.4349892877335133e-13\n",
      "Degrees of freedom= 1\n",
      "\n",
      "is_promoted      0     1\n",
      "Technology              \n",
      "0            43770  3900\n",
      "1             6370   768 \n",
      "\n",
      "Chi2 value= 52.62866326237574\n",
      "p-value= 4.0296500808833257e-13\n",
      "Degrees of freedom= 1\n",
      "\n"
     ]
    }
   ],
   "source": [
    "# empty list\n",
    "p_value = []\n",
    "all_p_values = []\n",
    "for i in dept_dummies:\n",
    "    nl = \"\\n\"\n",
    "    crosstab = pd.crosstab(dept_dummies[f\"{i}\"],raw_train_data['is_promoted'])\n",
    "    print(crosstab, nl)\n",
    "    chi2, p, dof, expected = stats.chi2_contingency(crosstab)\n",
    "    p_value = [p]\n",
    "    all_p_values.append(p_value)\n",
    "    print(f\"Chi2 value= {chi2}{nl}p-value= {p}{nl}Degrees of freedom= {dof}{nl}\")"
   ]
  },
  {
   "cell_type": "markdown",
   "metadata": {},
   "source": [
    "Based on the Chi-square test results above - we can combine a few of the variables categories into each other and reduce the number of overall categories - this is very similar to weight of Evidence technique"
   ]
  },
  {
   "cell_type": "code",
   "execution_count": 45,
   "metadata": {},
   "outputs": [
    {
     "name": "stdout",
     "output_type": "stream",
     "text": [
      "[[0.004106489035847602], [0.4893213666222338], [2.284539570263827e-07], [8.621102810922093e-05], [0.03446889922561121], [0.0002978169290859234], [0.07461958540843588], [2.4349892877335133e-13], [4.0296500808833257e-13]]\n",
      "[0.004106489035847602, 0.4893213666222338, 2.284539570263827e-07, 8.621102810922093e-05, 0.03446889922561121, 0.0002978169290859234, 0.07461958540843588, 2.4349892877335133e-13, 4.0296500808833257e-13]\n"
     ]
    }
   ],
   "source": [
    "print(all_p_values)\n",
    "flat_list = []\n",
    "for sublist in all_p_values:\n",
    "    for item in sublist:\n",
    "        flat_list.append(item)\n",
    "print(flat_list)"
   ]
  },
  {
   "cell_type": "markdown",
   "metadata": {},
   "source": [
    "### Merge the levels of department varaible based on Post-hoc testing"
   ]
  },
  {
   "cell_type": "code",
   "execution_count": 46,
   "metadata": {},
   "outputs": [
    {
     "name": "stdout",
     "output_type": "stream",
     "text": [
      "['Sales & Marketing' 'Operations' 'Technology' 'Analytics' 'R&D'\n",
      " 'Procurement' 'Finance' 'HR' 'Legal']\n",
      "9\n",
      "['Technology' 'HR' 'Sales & Marketing' 'Procurement' 'Finance' 'Analytics'\n",
      " 'Operations' 'Legal' 'R&D']\n",
      "9\n"
     ]
    }
   ],
   "source": [
    "print(raw_train_data.department.unique())\n",
    "print(raw_train_data.department.nunique())\n",
    "print(raw_test_data.department.unique())\n",
    "print(raw_test_data.department.nunique())"
   ]
  },
  {
   "cell_type": "code",
   "execution_count": 47,
   "metadata": {},
   "outputs": [
    {
     "data": {
      "text/plain": [
       "{'Analytics': 'Analytics',\n",
       " 'HR': 'HR',\n",
       " 'Legal': 'Legal',\n",
       " 'Procurement': 'Procurement',\n",
       " 'Sales & Marketing': 'Sales & Marketing',\n",
       " 'Technology': 'Technology',\n",
       " 'Finance': 'Others',\n",
       " 'Operations': 'Others',\n",
       " 'R&D': 'Others'}"
      ]
     },
     "execution_count": 47,
     "metadata": {},
     "output_type": "execute_result"
    }
   ],
   "source": [
    "dept_list = {\"Analytics\":'Analytics',\n",
    "\"HR\":'HR',\n",
    "\"Legal\":'Legal',\n",
    "\"Procurement\":'Procurement',\n",
    "\"Sales & Marketing\":'Sales & Marketing',\n",
    "\"Technology\":'Technology',\n",
    "\"Finance\" :'Others',\n",
    "\"Operations\":'Others',\n",
    "\"R&D\":'Others'\n",
    "}\n",
    "dept_list"
   ]
  },
  {
   "cell_type": "code",
   "execution_count": 48,
   "metadata": {},
   "outputs": [
    {
     "data": {
      "text/html": [
       "<div>\n",
       "<style scoped>\n",
       "    .dataframe tbody tr th:only-of-type {\n",
       "        vertical-align: middle;\n",
       "    }\n",
       "\n",
       "    .dataframe tbody tr th {\n",
       "        vertical-align: top;\n",
       "    }\n",
       "\n",
       "    .dataframe thead th {\n",
       "        text-align: right;\n",
       "    }\n",
       "</style>\n",
       "<table border=\"1\" class=\"dataframe\">\n",
       "  <thead>\n",
       "    <tr style=\"text-align: right;\">\n",
       "      <th></th>\n",
       "      <th>employee_id</th>\n",
       "      <th>department</th>\n",
       "      <th>region</th>\n",
       "      <th>education</th>\n",
       "      <th>gender</th>\n",
       "      <th>recruitment_channel</th>\n",
       "      <th>no_of_trainings</th>\n",
       "      <th>age</th>\n",
       "      <th>previous_year_rating</th>\n",
       "      <th>length_of_service</th>\n",
       "      <th>KPIs_met_gt_80</th>\n",
       "      <th>awards_won?</th>\n",
       "      <th>avg_training_score</th>\n",
       "      <th>is_promoted</th>\n",
       "      <th>new_dept</th>\n",
       "    </tr>\n",
       "  </thead>\n",
       "  <tbody>\n",
       "    <tr>\n",
       "      <th>0</th>\n",
       "      <td>65438</td>\n",
       "      <td>Sales &amp; Marketing</td>\n",
       "      <td>region_7</td>\n",
       "      <td>Master's &amp; above</td>\n",
       "      <td>f</td>\n",
       "      <td>sourcing</td>\n",
       "      <td>1</td>\n",
       "      <td>35</td>\n",
       "      <td>5.0</td>\n",
       "      <td>8</td>\n",
       "      <td>1</td>\n",
       "      <td>0</td>\n",
       "      <td>49</td>\n",
       "      <td>0</td>\n",
       "      <td>Sales &amp; Marketing</td>\n",
       "    </tr>\n",
       "    <tr>\n",
       "      <th>1</th>\n",
       "      <td>65141</td>\n",
       "      <td>Operations</td>\n",
       "      <td>region_22</td>\n",
       "      <td>Bachelor's</td>\n",
       "      <td>m</td>\n",
       "      <td>other</td>\n",
       "      <td>1</td>\n",
       "      <td>30</td>\n",
       "      <td>5.0</td>\n",
       "      <td>4</td>\n",
       "      <td>0</td>\n",
       "      <td>0</td>\n",
       "      <td>60</td>\n",
       "      <td>0</td>\n",
       "      <td>Others</td>\n",
       "    </tr>\n",
       "    <tr>\n",
       "      <th>2</th>\n",
       "      <td>7513</td>\n",
       "      <td>Sales &amp; Marketing</td>\n",
       "      <td>region_19</td>\n",
       "      <td>Bachelor's</td>\n",
       "      <td>m</td>\n",
       "      <td>sourcing</td>\n",
       "      <td>1</td>\n",
       "      <td>34</td>\n",
       "      <td>3.0</td>\n",
       "      <td>7</td>\n",
       "      <td>0</td>\n",
       "      <td>0</td>\n",
       "      <td>50</td>\n",
       "      <td>0</td>\n",
       "      <td>Sales &amp; Marketing</td>\n",
       "    </tr>\n",
       "  </tbody>\n",
       "</table>\n",
       "</div>"
      ],
      "text/plain": [
       "   employee_id         department     region         education gender  \\\n",
       "0        65438  Sales & Marketing   region_7  Master's & above      f   \n",
       "1        65141         Operations  region_22        Bachelor's      m   \n",
       "2         7513  Sales & Marketing  region_19        Bachelor's      m   \n",
       "\n",
       "  recruitment_channel  no_of_trainings  age  previous_year_rating  \\\n",
       "0            sourcing                1   35                   5.0   \n",
       "1               other                1   30                   5.0   \n",
       "2            sourcing                1   34                   3.0   \n",
       "\n",
       "   length_of_service  KPIs_met_gt_80  awards_won?  avg_training_score  \\\n",
       "0                  8               1            0                  49   \n",
       "1                  4               0            0                  60   \n",
       "2                  7               0            0                  50   \n",
       "\n",
       "   is_promoted           new_dept  \n",
       "0            0  Sales & Marketing  \n",
       "1            0             Others  \n",
       "2            0  Sales & Marketing  "
      ]
     },
     "execution_count": 48,
     "metadata": {},
     "output_type": "execute_result"
    },
    {
     "data": {
      "text/html": [
       "<div>\n",
       "<style scoped>\n",
       "    .dataframe tbody tr th:only-of-type {\n",
       "        vertical-align: middle;\n",
       "    }\n",
       "\n",
       "    .dataframe tbody tr th {\n",
       "        vertical-align: top;\n",
       "    }\n",
       "\n",
       "    .dataframe thead th {\n",
       "        text-align: right;\n",
       "    }\n",
       "</style>\n",
       "<table border=\"1\" class=\"dataframe\">\n",
       "  <thead>\n",
       "    <tr style=\"text-align: right;\">\n",
       "      <th></th>\n",
       "      <th>employee_id</th>\n",
       "      <th>department</th>\n",
       "      <th>region</th>\n",
       "      <th>education</th>\n",
       "      <th>gender</th>\n",
       "      <th>recruitment_channel</th>\n",
       "      <th>no_of_trainings</th>\n",
       "      <th>age</th>\n",
       "      <th>previous_year_rating</th>\n",
       "      <th>length_of_service</th>\n",
       "      <th>KPIs_met_gt_80</th>\n",
       "      <th>awards_won?</th>\n",
       "      <th>avg_training_score</th>\n",
       "      <th>new_dept</th>\n",
       "    </tr>\n",
       "  </thead>\n",
       "  <tbody>\n",
       "    <tr>\n",
       "      <th>0</th>\n",
       "      <td>8724</td>\n",
       "      <td>Technology</td>\n",
       "      <td>region_26</td>\n",
       "      <td>Bachelor's</td>\n",
       "      <td>m</td>\n",
       "      <td>sourcing</td>\n",
       "      <td>1</td>\n",
       "      <td>24</td>\n",
       "      <td>3.0</td>\n",
       "      <td>1</td>\n",
       "      <td>1</td>\n",
       "      <td>0</td>\n",
       "      <td>77</td>\n",
       "      <td>Technology</td>\n",
       "    </tr>\n",
       "    <tr>\n",
       "      <th>1</th>\n",
       "      <td>74430</td>\n",
       "      <td>HR</td>\n",
       "      <td>region_4</td>\n",
       "      <td>Bachelor's</td>\n",
       "      <td>f</td>\n",
       "      <td>other</td>\n",
       "      <td>1</td>\n",
       "      <td>31</td>\n",
       "      <td>3.0</td>\n",
       "      <td>5</td>\n",
       "      <td>0</td>\n",
       "      <td>0</td>\n",
       "      <td>51</td>\n",
       "      <td>HR</td>\n",
       "    </tr>\n",
       "    <tr>\n",
       "      <th>2</th>\n",
       "      <td>72255</td>\n",
       "      <td>Sales &amp; Marketing</td>\n",
       "      <td>region_13</td>\n",
       "      <td>Bachelor's</td>\n",
       "      <td>m</td>\n",
       "      <td>other</td>\n",
       "      <td>1</td>\n",
       "      <td>31</td>\n",
       "      <td>1.0</td>\n",
       "      <td>4</td>\n",
       "      <td>0</td>\n",
       "      <td>0</td>\n",
       "      <td>47</td>\n",
       "      <td>Sales &amp; Marketing</td>\n",
       "    </tr>\n",
       "  </tbody>\n",
       "</table>\n",
       "</div>"
      ],
      "text/plain": [
       "   employee_id         department     region   education gender  \\\n",
       "0         8724         Technology  region_26  Bachelor's      m   \n",
       "1        74430                 HR   region_4  Bachelor's      f   \n",
       "2        72255  Sales & Marketing  region_13  Bachelor's      m   \n",
       "\n",
       "  recruitment_channel  no_of_trainings  age  previous_year_rating  \\\n",
       "0            sourcing                1   24                   3.0   \n",
       "1               other                1   31                   3.0   \n",
       "2               other                1   31                   1.0   \n",
       "\n",
       "   length_of_service  KPIs_met_gt_80  awards_won?  avg_training_score  \\\n",
       "0                  1               1            0                  77   \n",
       "1                  5               0            0                  51   \n",
       "2                  4               0            0                  47   \n",
       "\n",
       "            new_dept  \n",
       "0         Technology  \n",
       "1                 HR  \n",
       "2  Sales & Marketing  "
      ]
     },
     "execution_count": 48,
     "metadata": {},
     "output_type": "execute_result"
    }
   ],
   "source": [
    "raw_train_data['new_dept'] = raw_train_data.department.map(dept_list).astype(\"category\", categories=set(dept_list.values()))\n",
    "raw_test_data['new_dept'] = raw_test_data.department.map(dept_list).astype(\"category\", categories = set(dept_list.values()))\n",
    "raw_train_data.head(3)\n",
    "raw_test_data.head(3)"
   ]
  },
  {
   "cell_type": "code",
   "execution_count": 49,
   "metadata": {},
   "outputs": [
    {
     "data": {
      "text/plain": [
       "[Sales & Marketing, Others, Technology, Analytics, Procurement, HR, Legal]\n",
       "Categories (7, object): [Sales & Marketing, Others, Technology, Analytics, Procurement, HR, Legal]"
      ]
     },
     "execution_count": 49,
     "metadata": {},
     "output_type": "execute_result"
    },
    {
     "data": {
      "text/plain": [
       "[Technology, HR, Sales & Marketing, Procurement, Others, Analytics, Legal]\n",
       "Categories (7, object): [Technology, HR, Sales & Marketing, Procurement, Others, Analytics, Legal]"
      ]
     },
     "execution_count": 49,
     "metadata": {},
     "output_type": "execute_result"
    }
   ],
   "source": [
    "raw_train_data.new_dept.unique()\n",
    "raw_test_data.new_dept.unique()"
   ]
  },
  {
   "cell_type": "code",
   "execution_count": 50,
   "metadata": {},
   "outputs": [
    {
     "data": {
      "text/plain": [
       "(<seaborn.axisgrid.FacetGrid at 0x28975dbc358>,\n",
       " Text(0.5, 0.98, 'Department Distribution'))"
      ]
     },
     "execution_count": 50,
     "metadata": {},
     "output_type": "execute_result"
    },
    {
     "data": {
      "image/png": "[encoded data removed]",
      "text/plain": [
       "<Figure size 928.8x432 with 1 Axes>"
      ]
     },
     "metadata": {
      "needs_background": "light"
     },
     "output_type": "display_data"
    }
   ],
   "source": [
    "ax = sns.catplot(x = 'new_dept',kind='count', hue = 'is_promoted', palette='muted',data=raw_train_data,size=6, aspect=2\n",
    "            ,order=raw_train_data.new_dept.value_counts().iloc[:10].index)\n",
    "(ax.set_axis_labels(\"\", \"Count\"),ax.fig.suptitle('Department Distribution',fontsize=15))"
   ]
  },
  {
   "cell_type": "markdown",
   "metadata": {},
   "source": [
    "### Region Significance with Promotion"
   ]
  },
  {
   "cell_type": "code",
   "execution_count": 51,
   "metadata": {},
   "outputs": [
    {
     "data": {
      "text/plain": [
       "array(['region_7', 'region_22', 'region_19', 'region_23', 'region_26',\n",
       "       'region_2', 'region_20', 'region_34', 'region_1', 'region_4',\n",
       "       'region_29', 'region_31', 'region_15', 'region_14', 'region_11',\n",
       "       'region_5', 'region_28', 'region_17', 'region_13', 'region_16',\n",
       "       'region_25', 'region_10', 'region_27', 'region_30', 'region_12',\n",
       "       'region_21', 'region_8', 'region_32', 'region_6', 'region_33',\n",
       "       'region_24', 'region_3', 'region_9', 'region_18'], dtype=object)"
      ]
     },
     "execution_count": 51,
     "metadata": {},
     "output_type": "execute_result"
    },
    {
     "data": {
      "text/plain": [
       "34"
      ]
     },
     "execution_count": 51,
     "metadata": {},
     "output_type": "execute_result"
    },
    {
     "data": {
      "text/plain": [
       "array(['region_26', 'region_4', 'region_13', 'region_2', 'region_29',\n",
       "       'region_7', 'region_22', 'region_16', 'region_17', 'region_24',\n",
       "       'region_11', 'region_27', 'region_9', 'region_20', 'region_34',\n",
       "       'region_23', 'region_8', 'region_14', 'region_31', 'region_19',\n",
       "       'region_5', 'region_28', 'region_15', 'region_3', 'region_25',\n",
       "       'region_12', 'region_21', 'region_30', 'region_10', 'region_33',\n",
       "       'region_32', 'region_6', 'region_1', 'region_18'], dtype=object)"
      ]
     },
     "execution_count": 51,
     "metadata": {},
     "output_type": "execute_result"
    },
    {
     "data": {
      "text/plain": [
       "34"
      ]
     },
     "execution_count": 51,
     "metadata": {},
     "output_type": "execute_result"
    }
   ],
   "source": [
    "raw_train_data.region.unique()\n",
    "raw_train_data.region.nunique()\n",
    "raw_test_data.region.unique()\n",
    "raw_test_data.region.nunique()"
   ]
  },
  {
   "cell_type": "code",
   "execution_count": 52,
   "metadata": {},
   "outputs": [
    {
     "data": {
      "text/html": [
       "<div>\n",
       "<style scoped>\n",
       "    .dataframe tbody tr th:only-of-type {\n",
       "        vertical-align: middle;\n",
       "    }\n",
       "\n",
       "    .dataframe tbody tr th {\n",
       "        vertical-align: top;\n",
       "    }\n",
       "\n",
       "    .dataframe thead th {\n",
       "        text-align: right;\n",
       "    }\n",
       "</style>\n",
       "<table border=\"1\" class=\"dataframe\">\n",
       "  <thead>\n",
       "    <tr style=\"text-align: right;\">\n",
       "      <th>is_promoted</th>\n",
       "      <th>0</th>\n",
       "      <th>1</th>\n",
       "    </tr>\n",
       "    <tr>\n",
       "      <th>region</th>\n",
       "      <th></th>\n",
       "      <th></th>\n",
       "    </tr>\n",
       "  </thead>\n",
       "  <tbody>\n",
       "    <tr>\n",
       "      <th>region_1</th>\n",
       "      <td>552</td>\n",
       "      <td>58</td>\n",
       "    </tr>\n",
       "    <tr>\n",
       "      <th>region_10</th>\n",
       "      <td>597</td>\n",
       "      <td>51</td>\n",
       "    </tr>\n",
       "    <tr>\n",
       "      <th>region_11</th>\n",
       "      <td>1241</td>\n",
       "      <td>74</td>\n",
       "    </tr>\n",
       "    <tr>\n",
       "      <th>region_12</th>\n",
       "      <td>467</td>\n",
       "      <td>33</td>\n",
       "    </tr>\n",
       "    <tr>\n",
       "      <th>region_13</th>\n",
       "      <td>2418</td>\n",
       "      <td>230</td>\n",
       "    </tr>\n",
       "  </tbody>\n",
       "</table>\n",
       "</div>"
      ],
      "text/plain": [
       "is_promoted     0    1\n",
       "region                \n",
       "region_1      552   58\n",
       "region_10     597   51\n",
       "region_11    1241   74\n",
       "region_12     467   33\n",
       "region_13    2418  230"
      ]
     },
     "execution_count": 52,
     "metadata": {},
     "output_type": "execute_result"
    }
   ],
   "source": [
    "crosstab = pd.crosstab(raw_train_data['region'],raw_train_data['is_promoted'])\n",
    "crosstab.head()"
   ]
  },
  {
   "cell_type": "code",
   "execution_count": 53,
   "metadata": {},
   "outputs": [
    {
     "name": "stdout",
     "output_type": "stream",
     "text": [
      "Chi-square value:  475.6402377579206\n",
      "p-value:  7.275378205784026e-80\n",
      "Degrees of freedom:  33\n"
     ]
    }
   ],
   "source": [
    "chi2, p, dof, expected = chi2_contingency(crosstab)\n",
    "print(\"Chi-square value: \", chi2)\n",
    "print(\"p-value: \", p)\n",
    "print(\"Degrees of freedom: \", dof)\n",
    "# print(\"Expected Values: \", expected)"
   ]
  },
  {
   "cell_type": "code",
   "execution_count": 54,
   "metadata": {},
   "outputs": [
    {
     "data": {
      "text/html": [
       "<div>\n",
       "<style scoped>\n",
       "    .dataframe tbody tr th:only-of-type {\n",
       "        vertical-align: middle;\n",
       "    }\n",
       "\n",
       "    .dataframe tbody tr th {\n",
       "        vertical-align: top;\n",
       "    }\n",
       "\n",
       "    .dataframe thead th {\n",
       "        text-align: right;\n",
       "    }\n",
       "</style>\n",
       "<table border=\"1\" class=\"dataframe\">\n",
       "  <thead>\n",
       "    <tr style=\"text-align: right;\">\n",
       "      <th></th>\n",
       "      <th>region_1</th>\n",
       "      <th>region_10</th>\n",
       "      <th>region_11</th>\n",
       "      <th>region_12</th>\n",
       "      <th>region_13</th>\n",
       "      <th>region_14</th>\n",
       "      <th>region_15</th>\n",
       "      <th>region_16</th>\n",
       "      <th>region_17</th>\n",
       "      <th>region_18</th>\n",
       "      <th>...</th>\n",
       "      <th>region_31</th>\n",
       "      <th>region_32</th>\n",
       "      <th>region_33</th>\n",
       "      <th>region_34</th>\n",
       "      <th>region_4</th>\n",
       "      <th>region_5</th>\n",
       "      <th>region_6</th>\n",
       "      <th>region_7</th>\n",
       "      <th>region_8</th>\n",
       "      <th>region_9</th>\n",
       "    </tr>\n",
       "  </thead>\n",
       "  <tbody>\n",
       "    <tr>\n",
       "      <th>0</th>\n",
       "      <td>0</td>\n",
       "      <td>0</td>\n",
       "      <td>0</td>\n",
       "      <td>0</td>\n",
       "      <td>0</td>\n",
       "      <td>0</td>\n",
       "      <td>0</td>\n",
       "      <td>0</td>\n",
       "      <td>0</td>\n",
       "      <td>0</td>\n",
       "      <td>...</td>\n",
       "      <td>0</td>\n",
       "      <td>0</td>\n",
       "      <td>0</td>\n",
       "      <td>0</td>\n",
       "      <td>0</td>\n",
       "      <td>0</td>\n",
       "      <td>0</td>\n",
       "      <td>1</td>\n",
       "      <td>0</td>\n",
       "      <td>0</td>\n",
       "    </tr>\n",
       "    <tr>\n",
       "      <th>1</th>\n",
       "      <td>0</td>\n",
       "      <td>0</td>\n",
       "      <td>0</td>\n",
       "      <td>0</td>\n",
       "      <td>0</td>\n",
       "      <td>0</td>\n",
       "      <td>0</td>\n",
       "      <td>0</td>\n",
       "      <td>0</td>\n",
       "      <td>0</td>\n",
       "      <td>...</td>\n",
       "      <td>0</td>\n",
       "      <td>0</td>\n",
       "      <td>0</td>\n",
       "      <td>0</td>\n",
       "      <td>0</td>\n",
       "      <td>0</td>\n",
       "      <td>0</td>\n",
       "      <td>0</td>\n",
       "      <td>0</td>\n",
       "      <td>0</td>\n",
       "    </tr>\n",
       "    <tr>\n",
       "      <th>2</th>\n",
       "      <td>0</td>\n",
       "      <td>0</td>\n",
       "      <td>0</td>\n",
       "      <td>0</td>\n",
       "      <td>0</td>\n",
       "      <td>0</td>\n",
       "      <td>0</td>\n",
       "      <td>0</td>\n",
       "      <td>0</td>\n",
       "      <td>0</td>\n",
       "      <td>...</td>\n",
       "      <td>0</td>\n",
       "      <td>0</td>\n",
       "      <td>0</td>\n",
       "      <td>0</td>\n",
       "      <td>0</td>\n",
       "      <td>0</td>\n",
       "      <td>0</td>\n",
       "      <td>0</td>\n",
       "      <td>0</td>\n",
       "      <td>0</td>\n",
       "    </tr>\n",
       "    <tr>\n",
       "      <th>3</th>\n",
       "      <td>0</td>\n",
       "      <td>0</td>\n",
       "      <td>0</td>\n",
       "      <td>0</td>\n",
       "      <td>0</td>\n",
       "      <td>0</td>\n",
       "      <td>0</td>\n",
       "      <td>0</td>\n",
       "      <td>0</td>\n",
       "      <td>0</td>\n",
       "      <td>...</td>\n",
       "      <td>0</td>\n",
       "      <td>0</td>\n",
       "      <td>0</td>\n",
       "      <td>0</td>\n",
       "      <td>0</td>\n",
       "      <td>0</td>\n",
       "      <td>0</td>\n",
       "      <td>0</td>\n",
       "      <td>0</td>\n",
       "      <td>0</td>\n",
       "    </tr>\n",
       "    <tr>\n",
       "      <th>4</th>\n",
       "      <td>0</td>\n",
       "      <td>0</td>\n",
       "      <td>0</td>\n",
       "      <td>0</td>\n",
       "      <td>0</td>\n",
       "      <td>0</td>\n",
       "      <td>0</td>\n",
       "      <td>0</td>\n",
       "      <td>0</td>\n",
       "      <td>0</td>\n",
       "      <td>...</td>\n",
       "      <td>0</td>\n",
       "      <td>0</td>\n",
       "      <td>0</td>\n",
       "      <td>0</td>\n",
       "      <td>0</td>\n",
       "      <td>0</td>\n",
       "      <td>0</td>\n",
       "      <td>0</td>\n",
       "      <td>0</td>\n",
       "      <td>0</td>\n",
       "    </tr>\n",
       "  </tbody>\n",
       "</table>\n",
       "<p>5 rows × 34 columns</p>\n",
       "</div>"
      ],
      "text/plain": [
       "   region_1  region_10  region_11  region_12  region_13  region_14  region_15  \\\n",
       "0         0          0          0          0          0          0          0   \n",
       "1         0          0          0          0          0          0          0   \n",
       "2         0          0          0          0          0          0          0   \n",
       "3         0          0          0          0          0          0          0   \n",
       "4         0          0          0          0          0          0          0   \n",
       "\n",
       "   region_16  region_17  region_18    ...     region_31  region_32  region_33  \\\n",
       "0          0          0          0    ...             0          0          0   \n",
       "1          0          0          0    ...             0          0          0   \n",
       "2          0          0          0    ...             0          0          0   \n",
       "3          0          0          0    ...             0          0          0   \n",
       "4          0          0          0    ...             0          0          0   \n",
       "\n",
       "   region_34  region_4  region_5  region_6  region_7  region_8  region_9  \n",
       "0          0         0         0         0         1         0         0  \n",
       "1          0         0         0         0         0         0         0  \n",
       "2          0         0         0         0         0         0         0  \n",
       "3          0         0         0         0         0         0         0  \n",
       "4          0         0         0         0         0         0         0  \n",
       "\n",
       "[5 rows x 34 columns]"
      ]
     },
     "execution_count": 54,
     "metadata": {},
     "output_type": "execute_result"
    }
   ],
   "source": [
    "rgn_dummies = pd.get_dummies(raw_train_data['region'])\n",
    "rgn_dummies.head()"
   ]
  },
  {
   "cell_type": "code",
   "execution_count": 55,
   "metadata": {},
   "outputs": [
    {
     "name": "stdout",
     "output_type": "stream",
     "text": [
      "is_promoted      0     1\n",
      "region_1                \n",
      "0            49588  4610\n",
      "1              552    58 \n",
      "\n",
      "Chi2 value= 0.6544940507214174\n",
      "p-value= 0.41851050674567236\n",
      "Degrees of freedom= 1\n",
      "\n",
      "is_promoted      0     1\n",
      "region_10               \n",
      "0            49543  4617\n",
      "1              597    51 \n",
      "\n",
      "Chi2 value= 0.2729359643511468\n",
      "p-value= 0.6013690677528354\n",
      "Degrees of freedom= 1\n",
      "\n",
      "is_promoted      0     1\n",
      "region_11               \n",
      "0            48899  4594\n",
      "1             1241    74 \n",
      "\n",
      "Chi2 value= 14.061265079792339\n",
      "p-value= 0.0001769507228160931\n",
      "Degrees of freedom= 1\n",
      "\n",
      "is_promoted      0     1\n",
      "region_12               \n",
      "0            49673  4635\n",
      "1              467    33 \n",
      "\n",
      "Chi2 value= 2.1381345866672383\n",
      "p-value= 0.1436765059266282\n",
      "Degrees of freedom= 1\n",
      "\n",
      "is_promoted      0     1\n",
      "region_13               \n",
      "0            47722  4438\n",
      "1             2418   230 \n",
      "\n",
      "Chi2 value= 0.08025631626912832\n",
      "p-value= 0.7769503590728565\n",
      "Degrees of freedom= 1\n",
      "\n",
      "is_promoted      0     1\n",
      "region_14               \n",
      "0            49375  4606\n",
      "1              765    62 \n",
      "\n",
      "Chi2 value= 0.9922772958818891\n",
      "p-value= 0.31918641974793555\n",
      "Degrees of freedom= 1\n",
      "\n",
      "is_promoted      0     1\n",
      "region_15               \n",
      "0            47554  4446\n",
      "1             2586   222 \n",
      "\n",
      "Chi2 value= 1.3367051951758042\n",
      "p-value= 0.2476158504732049\n",
      "Degrees of freedom= 1\n",
      "\n",
      "is_promoted      0     1\n",
      "region_16               \n",
      "0            48777  4566\n",
      "1             1363   102 \n",
      "\n",
      "Chi2 value= 4.465835866777538\n",
      "p-value= 0.03457916723592669\n",
      "Degrees of freedom= 1\n",
      "\n",
      "is_promoted      0     1\n",
      "region_17               \n",
      "0            49453  4559\n",
      "1              687   109 \n",
      "\n",
      "Chi2 value= 27.108234347820215\n",
      "p-value= 1.923767636570469e-07\n",
      "Degrees of freedom= 1\n",
      "\n",
      "is_promoted      0     1\n",
      "region_18               \n",
      "0            50110  4667\n",
      "1               30     1 \n",
      "\n",
      "Chi2 value= 0.5386086000195258\n",
      "p-value= 0.4630099403865552\n",
      "Degrees of freedom= 1\n",
      "\n",
      "is_promoted      0     1\n",
      "region_19               \n",
      "0            49319  4615\n",
      "1              821    53 \n",
      "\n",
      "Chi2 value= 6.542426023856835\n",
      "p-value= 0.010533161172804293\n",
      "Degrees of freedom= 1\n",
      "\n",
      "is_promoted      0     1\n",
      "region_2                \n",
      "0            38786  3679\n",
      "1            11354   989 \n",
      "\n",
      "Chi2 value= 5.117922125458831\n",
      "p-value= 0.023679954723013298\n",
      "Degrees of freedom= 1\n",
      "\n",
      "is_promoted      0     1\n",
      "region_20               \n",
      "0            49339  4619\n",
      "1              801    49 \n",
      "\n",
      "Chi2 value= 8.03906975226511\n",
      "p-value= 0.00457790402948171\n",
      "Degrees of freedom= 1\n",
      "\n",
      "is_promoted      0     1\n",
      "region_21               \n",
      "0            49747  4650\n",
      "1              393    18 \n",
      "\n",
      "Chi2 value= 8.570875240902552\n",
      "p-value= 0.0034158291201831833\n",
      "Degrees of freedom= 1\n",
      "\n",
      "is_promoted      0     1\n",
      "region_22               \n",
      "0            44446  3934\n",
      "1             5694   734 \n",
      "\n",
      "Chi2 value= 78.27563403686588\n",
      "p-value= 8.962052380360768e-19\n",
      "Degrees of freedom= 1\n",
      "\n",
      "is_promoted      0     1\n",
      "region_23               \n",
      "0            49102  4531\n",
      "1             1038   137 \n",
      "\n",
      "Chi2 value= 14.809843269065812\n",
      "p-value= 0.00011891320298345814\n",
      "Degrees of freedom= 1\n",
      "\n",
      "is_promoted      0     1\n",
      "region_24               \n",
      "0            49650  4650\n",
      "1              490    18 \n",
      "\n",
      "Chi2 value= 15.641498803293327\n",
      "p-value= 7.655595031300787e-05\n",
      "Degrees of freedom= 1\n",
      "\n",
      "is_promoted      0     1\n",
      "region_25               \n",
      "0            49424  4565\n",
      "1              716   103 \n",
      "\n",
      "Chi2 value= 17.058344037736042\n",
      "p-value= 3.624874854445857e-05\n",
      "Degrees of freedom= 1\n",
      "\n",
      "is_promoted      0     1\n",
      "region_26               \n",
      "0            48023  4525\n",
      "1             2117   143 \n",
      "\n",
      "Chi2 value= 14.21235430781016\n",
      "p-value= 0.0001632948939021629\n",
      "Degrees of freedom= 1\n",
      "\n",
      "is_promoted      0     1\n",
      "region_27               \n",
      "0            48612  4537\n",
      "1             1528   131 \n",
      "\n",
      "Chi2 value= 0.76572206776199\n",
      "p-value= 0.3815437270855062\n",
      "Degrees of freedom= 1\n",
      "\n",
      "is_promoted      0     1\n",
      "region_28               \n",
      "0            48976  4514\n",
      "1             1164   154 \n",
      "\n",
      "Chi2 value= 16.974217112201224\n",
      "p-value= 3.789088974662027e-05\n",
      "Degrees of freedom= 1\n",
      "\n",
      "is_promoted      0     1\n",
      "region_29               \n",
      "0            49189  4625\n",
      "1              951    43 \n",
      "\n",
      "Chi2 value= 22.277438082062048\n",
      "p-value= 2.3596281735591924e-06\n",
      "Degrees of freedom= 1\n",
      "\n",
      "is_promoted      0     1\n",
      "region_3                \n",
      "0            49831  4631\n",
      "1              309    37 \n",
      "\n",
      "Chi2 value= 1.8454461427716293\n",
      "p-value= 0.17431396516176556\n",
      "Degrees of freedom= 1\n",
      "\n",
      "is_promoted      0     1\n",
      "region_30               \n",
      "0            49542  4609\n",
      "1              598    59 \n",
      "\n",
      "Chi2 value= 0.12788883337255383\n",
      "p-value= 0.720631090174696\n",
      "Degrees of freedom= 1\n",
      "\n",
      "is_promoted      0     1\n",
      "region_31               \n",
      "0            48315  4558\n",
      "1             1825   110 \n",
      "\n",
      "Chi2 value= 20.27524434023899\n",
      "p-value= 6.706271018429005e-06\n",
      "Degrees of freedom= 1\n",
      "\n",
      "is_promoted      0     1\n",
      "region_32               \n",
      "0            49235  4628\n",
      "1              905    40 \n",
      "\n",
      "Chi2 value= 22.09549058806438\n",
      "p-value= 2.594184279341148e-06\n",
      "Degrees of freedom= 1\n",
      "\n",
      "is_promoted      0     1\n",
      "region_33               \n",
      "0            49881  4658\n",
      "1              259    10 \n",
      "\n",
      "Chi2 value= 7.385039076942515\n",
      "p-value= 0.006576864098348787\n",
      "Degrees of freedom= 1\n",
      "\n",
      "is_promoted      0     1\n",
      "region_34               \n",
      "0            49856  4660\n",
      "1              284     8 \n",
      "\n",
      "Chi2 value= 11.841012937346866\n",
      "p-value= 0.0005794029957527454\n",
      "Degrees of freedom= 1\n",
      "\n",
      "is_promoted      0     1\n",
      "region_4                \n",
      "0            48683  4422\n",
      "1             1457   246 \n",
      "\n",
      "Chi2 value= 78.4898083945182\n",
      "p-value= 8.041202979465594e-19\n",
      "Degrees of freedom= 1\n",
      "\n",
      "is_promoted      0     1\n",
      "region_5                \n",
      "0            49409  4633\n",
      "1              731    35 \n",
      "\n",
      "Chi2 value= 15.029548529359134\n",
      "p-value= 0.00010584095451202697\n",
      "Degrees of freedom= 1\n",
      "\n",
      "is_promoted      0     1\n",
      "region_6                \n",
      "0            49482  4636\n",
      "1              658    32 \n",
      "\n",
      "Chi2 value= 12.997440109412704\n",
      "p-value= 0.00031191710961562283\n",
      "Degrees of freedom= 1\n",
      "\n",
      "is_promoted      0     1\n",
      "region_7                \n",
      "0            45813  4152\n",
      "1             4327   516 \n",
      "\n",
      "Chi2 value= 30.852595035903306\n",
      "p-value= 2.7838961251157044e-08\n",
      "Degrees of freedom= 1\n",
      "\n",
      "is_promoted      0     1\n",
      "region_8                \n",
      "0            49538  4615\n",
      "1              602    53 \n",
      "\n",
      "Chi2 value= 0.10366932707187418\n",
      "p-value= 0.747469955804584\n",
      "Degrees of freedom= 1\n",
      "\n",
      "is_promoted      0     1\n",
      "region_9                \n",
      "0            49728  4660\n",
      "1              412     8 \n",
      "\n",
      "Chi2 value= 22.90233792264436\n",
      "p-value= 1.7044441702553178e-06\n",
      "Degrees of freedom= 1\n",
      "\n"
     ]
    }
   ],
   "source": [
    "for i in rgn_dummies:\n",
    "    nl = \"\\n\"\n",
    "    crosstab = pd.crosstab(rgn_dummies[f\"{i}\"],raw_train_data['is_promoted'])\n",
    "    print(crosstab, nl)\n",
    "    chi2, p, dof, expected = stats.chi2_contingency(crosstab)\n",
    "    print(f\"Chi2 value= {chi2}{nl}p-value= {p}{nl}Degrees of freedom= {dof}{nl}\")"
   ]
  },
  {
   "cell_type": "code",
   "execution_count": 56,
   "metadata": {},
   "outputs": [
    {
     "data": {
      "text/plain": [
       "{'region_1': 'Others',\n",
       " 'region_10': 'Others',\n",
       " 'region_11': 'region_11',\n",
       " 'region_12': 'Others',\n",
       " 'region_13': 'Others',\n",
       " 'region_14': 'Others',\n",
       " 'region_15': 'Others',\n",
       " 'region_16': 'Others',\n",
       " 'region_17': 'region_17',\n",
       " 'region_18': 'Others',\n",
       " 'region_19': 'Others',\n",
       " 'region_2': 'Others',\n",
       " 'region_20': 'Others',\n",
       " 'region_21': 'Others',\n",
       " 'region_22': 'region_22',\n",
       " 'region_23': 'region_23',\n",
       " 'region_24': 'region_24',\n",
       " 'region_25': 'region_25',\n",
       " 'region_26': 'region_26',\n",
       " 'region_27': 'Others',\n",
       " 'region_28': 'region_28',\n",
       " 'region_29': 'region_29',\n",
       " 'region_3': 'Others',\n",
       " 'region_30': 'Others',\n",
       " 'region_31': 'region_31',\n",
       " 'region_32': 'region_32',\n",
       " 'region_33': 'Others',\n",
       " 'region_34': 'region_34',\n",
       " 'region_4': 'region_4',\n",
       " 'region_5': 'region_5',\n",
       " 'region_6': 'region_6',\n",
       " 'region_7': 'region_7',\n",
       " 'region_8': 'Others',\n",
       " 'region_9': 'region_9'}"
      ]
     },
     "execution_count": 56,
     "metadata": {},
     "output_type": "execute_result"
    }
   ],
   "source": [
    "rgn_list = {\"region_1\":  \"Others\" ,\n",
    "\"region_10\":  \"Others\" ,\n",
    "\"region_11\":  \"region_11\",\n",
    "\"region_12\":  \"Others\" ,\n",
    "\"region_13\":  \"Others\" ,\n",
    "\"region_14\":  \"Others\" ,\n",
    "\"region_15\":  \"Others\" ,\n",
    "\"region_16\":  \"Others\" ,\n",
    "\"region_17\":  \"region_17\",\n",
    "\"region_18\":  \"Others\" ,\n",
    "\"region_19\":  \"Others\" ,\n",
    "\"region_2\":   \"Others\" ,\n",
    "\"region_20\":  \"Others\" ,\n",
    "\"region_21\":  \"Others\" ,\n",
    "\"region_22\":  \"region_22\",\n",
    "\"region_23\":  \"region_23\",\n",
    "\"region_24\":  \"region_24\",\n",
    "\"region_25\":  \"region_25\",\n",
    "\"region_26\":  \"region_26\",\n",
    "\"region_27\":  \"Others\" ,\n",
    "\"region_28\":  \"region_28\",\n",
    "\"region_29\":  \"region_29\",\n",
    "\"region_3\":   \"Others\" ,\n",
    "\"region_30\":  \"Others\" ,\n",
    "\"region_31\":  \"region_31\",\n",
    "\"region_32\":  \"region_32\",\n",
    "\"region_33\":  \"Others\" ,\n",
    "\"region_34\":  \"region_34\",\n",
    "\"region_4\":   \"region_4\",\n",
    "\"region_5\":   \"region_5\",\n",
    "\"region_6\":   \"region_6\",\n",
    "\"region_7\":   \"region_7\",\n",
    "\"region_8\":   \"Others\" ,\n",
    "\"region_9\":   \"region_9\"    \n",
    "}\n",
    "rgn_list"
   ]
  },
  {
   "cell_type": "code",
   "execution_count": 57,
   "metadata": {},
   "outputs": [
    {
     "data": {
      "text/html": [
       "<div>\n",
       "<style scoped>\n",
       "    .dataframe tbody tr th:only-of-type {\n",
       "        vertical-align: middle;\n",
       "    }\n",
       "\n",
       "    .dataframe tbody tr th {\n",
       "        vertical-align: top;\n",
       "    }\n",
       "\n",
       "    .dataframe thead th {\n",
       "        text-align: right;\n",
       "    }\n",
       "</style>\n",
       "<table border=\"1\" class=\"dataframe\">\n",
       "  <thead>\n",
       "    <tr style=\"text-align: right;\">\n",
       "      <th></th>\n",
       "      <th>employee_id</th>\n",
       "      <th>department</th>\n",
       "      <th>region</th>\n",
       "      <th>education</th>\n",
       "      <th>gender</th>\n",
       "      <th>recruitment_channel</th>\n",
       "      <th>no_of_trainings</th>\n",
       "      <th>age</th>\n",
       "      <th>previous_year_rating</th>\n",
       "      <th>length_of_service</th>\n",
       "      <th>KPIs_met_gt_80</th>\n",
       "      <th>awards_won?</th>\n",
       "      <th>avg_training_score</th>\n",
       "      <th>is_promoted</th>\n",
       "      <th>new_dept</th>\n",
       "      <th>new_rgn</th>\n",
       "    </tr>\n",
       "  </thead>\n",
       "  <tbody>\n",
       "    <tr>\n",
       "      <th>0</th>\n",
       "      <td>65438</td>\n",
       "      <td>Sales &amp; Marketing</td>\n",
       "      <td>region_7</td>\n",
       "      <td>Master's &amp; above</td>\n",
       "      <td>f</td>\n",
       "      <td>sourcing</td>\n",
       "      <td>1</td>\n",
       "      <td>35</td>\n",
       "      <td>5.0</td>\n",
       "      <td>8</td>\n",
       "      <td>1</td>\n",
       "      <td>0</td>\n",
       "      <td>49</td>\n",
       "      <td>0</td>\n",
       "      <td>Sales &amp; Marketing</td>\n",
       "      <td>region_7</td>\n",
       "    </tr>\n",
       "    <tr>\n",
       "      <th>1</th>\n",
       "      <td>65141</td>\n",
       "      <td>Operations</td>\n",
       "      <td>region_22</td>\n",
       "      <td>Bachelor's</td>\n",
       "      <td>m</td>\n",
       "      <td>other</td>\n",
       "      <td>1</td>\n",
       "      <td>30</td>\n",
       "      <td>5.0</td>\n",
       "      <td>4</td>\n",
       "      <td>0</td>\n",
       "      <td>0</td>\n",
       "      <td>60</td>\n",
       "      <td>0</td>\n",
       "      <td>Others</td>\n",
       "      <td>region_22</td>\n",
       "    </tr>\n",
       "    <tr>\n",
       "      <th>2</th>\n",
       "      <td>7513</td>\n",
       "      <td>Sales &amp; Marketing</td>\n",
       "      <td>region_19</td>\n",
       "      <td>Bachelor's</td>\n",
       "      <td>m</td>\n",
       "      <td>sourcing</td>\n",
       "      <td>1</td>\n",
       "      <td>34</td>\n",
       "      <td>3.0</td>\n",
       "      <td>7</td>\n",
       "      <td>0</td>\n",
       "      <td>0</td>\n",
       "      <td>50</td>\n",
       "      <td>0</td>\n",
       "      <td>Sales &amp; Marketing</td>\n",
       "      <td>Others</td>\n",
       "    </tr>\n",
       "  </tbody>\n",
       "</table>\n",
       "</div>"
      ],
      "text/plain": [
       "   employee_id         department     region         education gender  \\\n",
       "0        65438  Sales & Marketing   region_7  Master's & above      f   \n",
       "1        65141         Operations  region_22        Bachelor's      m   \n",
       "2         7513  Sales & Marketing  region_19        Bachelor's      m   \n",
       "\n",
       "  recruitment_channel  no_of_trainings  age  previous_year_rating  \\\n",
       "0            sourcing                1   35                   5.0   \n",
       "1               other                1   30                   5.0   \n",
       "2            sourcing                1   34                   3.0   \n",
       "\n",
       "   length_of_service  KPIs_met_gt_80  awards_won?  avg_training_score  \\\n",
       "0                  8               1            0                  49   \n",
       "1                  4               0            0                  60   \n",
       "2                  7               0            0                  50   \n",
       "\n",
       "   is_promoted           new_dept    new_rgn  \n",
       "0            0  Sales & Marketing   region_7  \n",
       "1            0             Others  region_22  \n",
       "2            0  Sales & Marketing     Others  "
      ]
     },
     "execution_count": 57,
     "metadata": {},
     "output_type": "execute_result"
    },
    {
     "data": {
      "text/html": [
       "<div>\n",
       "<style scoped>\n",
       "    .dataframe tbody tr th:only-of-type {\n",
       "        vertical-align: middle;\n",
       "    }\n",
       "\n",
       "    .dataframe tbody tr th {\n",
       "        vertical-align: top;\n",
       "    }\n",
       "\n",
       "    .dataframe thead th {\n",
       "        text-align: right;\n",
       "    }\n",
       "</style>\n",
       "<table border=\"1\" class=\"dataframe\">\n",
       "  <thead>\n",
       "    <tr style=\"text-align: right;\">\n",
       "      <th></th>\n",
       "      <th>employee_id</th>\n",
       "      <th>department</th>\n",
       "      <th>region</th>\n",
       "      <th>education</th>\n",
       "      <th>gender</th>\n",
       "      <th>recruitment_channel</th>\n",
       "      <th>no_of_trainings</th>\n",
       "      <th>age</th>\n",
       "      <th>previous_year_rating</th>\n",
       "      <th>length_of_service</th>\n",
       "      <th>KPIs_met_gt_80</th>\n",
       "      <th>awards_won?</th>\n",
       "      <th>avg_training_score</th>\n",
       "      <th>new_dept</th>\n",
       "      <th>new_rgn</th>\n",
       "    </tr>\n",
       "  </thead>\n",
       "  <tbody>\n",
       "    <tr>\n",
       "      <th>0</th>\n",
       "      <td>8724</td>\n",
       "      <td>Technology</td>\n",
       "      <td>region_26</td>\n",
       "      <td>Bachelor's</td>\n",
       "      <td>m</td>\n",
       "      <td>sourcing</td>\n",
       "      <td>1</td>\n",
       "      <td>24</td>\n",
       "      <td>3.0</td>\n",
       "      <td>1</td>\n",
       "      <td>1</td>\n",
       "      <td>0</td>\n",
       "      <td>77</td>\n",
       "      <td>Technology</td>\n",
       "      <td>region_26</td>\n",
       "    </tr>\n",
       "    <tr>\n",
       "      <th>1</th>\n",
       "      <td>74430</td>\n",
       "      <td>HR</td>\n",
       "      <td>region_4</td>\n",
       "      <td>Bachelor's</td>\n",
       "      <td>f</td>\n",
       "      <td>other</td>\n",
       "      <td>1</td>\n",
       "      <td>31</td>\n",
       "      <td>3.0</td>\n",
       "      <td>5</td>\n",
       "      <td>0</td>\n",
       "      <td>0</td>\n",
       "      <td>51</td>\n",
       "      <td>HR</td>\n",
       "      <td>region_4</td>\n",
       "    </tr>\n",
       "    <tr>\n",
       "      <th>2</th>\n",
       "      <td>72255</td>\n",
       "      <td>Sales &amp; Marketing</td>\n",
       "      <td>region_13</td>\n",
       "      <td>Bachelor's</td>\n",
       "      <td>m</td>\n",
       "      <td>other</td>\n",
       "      <td>1</td>\n",
       "      <td>31</td>\n",
       "      <td>1.0</td>\n",
       "      <td>4</td>\n",
       "      <td>0</td>\n",
       "      <td>0</td>\n",
       "      <td>47</td>\n",
       "      <td>Sales &amp; Marketing</td>\n",
       "      <td>Others</td>\n",
       "    </tr>\n",
       "  </tbody>\n",
       "</table>\n",
       "</div>"
      ],
      "text/plain": [
       "   employee_id         department     region   education gender  \\\n",
       "0         8724         Technology  region_26  Bachelor's      m   \n",
       "1        74430                 HR   region_4  Bachelor's      f   \n",
       "2        72255  Sales & Marketing  region_13  Bachelor's      m   \n",
       "\n",
       "  recruitment_channel  no_of_trainings  age  previous_year_rating  \\\n",
       "0            sourcing                1   24                   3.0   \n",
       "1               other                1   31                   3.0   \n",
       "2               other                1   31                   1.0   \n",
       "\n",
       "   length_of_service  KPIs_met_gt_80  awards_won?  avg_training_score  \\\n",
       "0                  1               1            0                  77   \n",
       "1                  5               0            0                  51   \n",
       "2                  4               0            0                  47   \n",
       "\n",
       "            new_dept    new_rgn  \n",
       "0         Technology  region_26  \n",
       "1                 HR   region_4  \n",
       "2  Sales & Marketing     Others  "
      ]
     },
     "execution_count": 57,
     "metadata": {},
     "output_type": "execute_result"
    }
   ],
   "source": [
    "raw_train_data['new_rgn'] = raw_train_data.region.map(rgn_list).astype(\"category\", categories=set(rgn_list.values()))\n",
    "raw_test_data['new_rgn'] = raw_test_data.region.map(rgn_list).astype(\"category\", categories=set(rgn_list.values()))\n",
    "raw_train_data.head(3)\n",
    "raw_test_data.head(3)"
   ]
  },
  {
   "cell_type": "code",
   "execution_count": 58,
   "metadata": {},
   "outputs": [
    {
     "data": {
      "text/plain": [
       "[region_7, region_22, Others, region_23, region_26, ..., region_25, region_32, region_6, region_24, region_9]\n",
       "Length: 18\n",
       "Categories (18, object): [region_7, region_22, Others, region_23, ..., region_32, region_6, region_24, region_9]"
      ]
     },
     "execution_count": 58,
     "metadata": {},
     "output_type": "execute_result"
    },
    {
     "data": {
      "text/plain": [
       "[region_26, region_4, Others, region_29, region_7, ..., region_5, region_28, region_25, region_32, region_6]\n",
       "Length: 18\n",
       "Categories (18, object): [region_26, region_4, Others, region_29, ..., region_28, region_25, region_32, region_6]"
      ]
     },
     "execution_count": 58,
     "metadata": {},
     "output_type": "execute_result"
    }
   ],
   "source": [
    "raw_train_data.new_rgn.unique()\n",
    "raw_test_data.new_rgn.unique()"
   ]
  },
  {
   "cell_type": "code",
   "execution_count": 59,
   "metadata": {},
   "outputs": [
    {
     "data": {
      "image/png": "[encoded data removed]",
      "text/plain": [
       "<Figure size 928.8x432 with 1 Axes>"
      ]
     },
     "metadata": {
      "needs_background": "light"
     },
     "output_type": "display_data"
    }
   ],
   "source": [
    "ax = sns.catplot(x = 'new_rgn',kind = 'count', hue = 'is_promoted', palette = 'muted', data =  raw_train_data, size = 6,\n",
    "                aspect = 2,order= raw_train_data.new_rgn.value_counts().iloc[:10].index)"
   ]
  },
  {
   "cell_type": "code",
   "execution_count": 60,
   "metadata": {},
   "outputs": [
    {
     "name": "stdout",
     "output_type": "stream",
     "text": [
      "[\"Master's & above\" \"Bachelor's\" 'Below Secondary']\n",
      "3\n",
      "[\"Bachelor's\" \"Master's & above\" 'Below Secondary']\n",
      "3\n"
     ]
    }
   ],
   "source": [
    "print(raw_train_data.education.unique())\n",
    "print(raw_train_data.education.nunique())\n",
    "\n",
    "print(raw_test_data.education.unique())\n",
    "print(raw_test_data.education.nunique())"
   ]
  },
  {
   "cell_type": "code",
   "execution_count": 61,
   "metadata": {},
   "outputs": [
    {
     "data": {
      "text/html": [
       "<div>\n",
       "<style scoped>\n",
       "    .dataframe tbody tr th:only-of-type {\n",
       "        vertical-align: middle;\n",
       "    }\n",
       "\n",
       "    .dataframe tbody tr th {\n",
       "        vertical-align: top;\n",
       "    }\n",
       "\n",
       "    .dataframe thead th {\n",
       "        text-align: right;\n",
       "    }\n",
       "</style>\n",
       "<table border=\"1\" class=\"dataframe\">\n",
       "  <thead>\n",
       "    <tr style=\"text-align: right;\">\n",
       "      <th>is_promoted</th>\n",
       "      <th>0</th>\n",
       "      <th>1</th>\n",
       "    </tr>\n",
       "    <tr>\n",
       "      <th>education</th>\n",
       "      <th></th>\n",
       "      <th></th>\n",
       "    </tr>\n",
       "  </thead>\n",
       "  <tbody>\n",
       "    <tr>\n",
       "      <th>Bachelor's</th>\n",
       "      <td>35948</td>\n",
       "      <td>3130</td>\n",
       "    </tr>\n",
       "    <tr>\n",
       "      <th>Below Secondary</th>\n",
       "      <td>738</td>\n",
       "      <td>67</td>\n",
       "    </tr>\n",
       "    <tr>\n",
       "      <th>Master's &amp; above</th>\n",
       "      <td>13454</td>\n",
       "      <td>1471</td>\n",
       "    </tr>\n",
       "  </tbody>\n",
       "</table>\n",
       "</div>"
      ],
      "text/plain": [
       "is_promoted           0     1\n",
       "education                    \n",
       "Bachelor's        35948  3130\n",
       "Below Secondary     738    67\n",
       "Master's & above  13454  1471"
      ]
     },
     "execution_count": 61,
     "metadata": {},
     "output_type": "execute_result"
    }
   ],
   "source": [
    "crosstab = pd.crosstab(raw_train_data['education'],raw_train_data['is_promoted'])\n",
    "crosstab"
   ]
  },
  {
   "cell_type": "code",
   "execution_count": 62,
   "metadata": {},
   "outputs": [
    {
     "name": "stdout",
     "output_type": "stream",
     "text": [
      "Chi-square value:  47.29119458884267\n",
      "p-value:  5.3808089671607115e-11\n",
      "Degrees of freedom:  2\n"
     ]
    }
   ],
   "source": [
    "chi2, p, dof, expected = chi2_contingency(crosstab)\n",
    "print(\"Chi-square value: \", chi2)\n",
    "print(\"p-value: \", p)\n",
    "print(\"Degrees of freedom: \", dof)\n",
    "# print(\"Expected Values: \", expected)"
   ]
  },
  {
   "cell_type": "code",
   "execution_count": 63,
   "metadata": {},
   "outputs": [
    {
     "data": {
      "text/html": [
       "<div>\n",
       "<style scoped>\n",
       "    .dataframe tbody tr th:only-of-type {\n",
       "        vertical-align: middle;\n",
       "    }\n",
       "\n",
       "    .dataframe tbody tr th {\n",
       "        vertical-align: top;\n",
       "    }\n",
       "\n",
       "    .dataframe thead th {\n",
       "        text-align: right;\n",
       "    }\n",
       "</style>\n",
       "<table border=\"1\" class=\"dataframe\">\n",
       "  <thead>\n",
       "    <tr style=\"text-align: right;\">\n",
       "      <th></th>\n",
       "      <th>Bachelor's</th>\n",
       "      <th>Below Secondary</th>\n",
       "      <th>Master's &amp; above</th>\n",
       "    </tr>\n",
       "  </thead>\n",
       "  <tbody>\n",
       "    <tr>\n",
       "      <th>0</th>\n",
       "      <td>0</td>\n",
       "      <td>0</td>\n",
       "      <td>1</td>\n",
       "    </tr>\n",
       "    <tr>\n",
       "      <th>1</th>\n",
       "      <td>1</td>\n",
       "      <td>0</td>\n",
       "      <td>0</td>\n",
       "    </tr>\n",
       "    <tr>\n",
       "      <th>2</th>\n",
       "      <td>1</td>\n",
       "      <td>0</td>\n",
       "      <td>0</td>\n",
       "    </tr>\n",
       "    <tr>\n",
       "      <th>3</th>\n",
       "      <td>1</td>\n",
       "      <td>0</td>\n",
       "      <td>0</td>\n",
       "    </tr>\n",
       "    <tr>\n",
       "      <th>4</th>\n",
       "      <td>1</td>\n",
       "      <td>0</td>\n",
       "      <td>0</td>\n",
       "    </tr>\n",
       "  </tbody>\n",
       "</table>\n",
       "</div>"
      ],
      "text/plain": [
       "   Bachelor's  Below Secondary  Master's & above\n",
       "0           0                0                 1\n",
       "1           1                0                 0\n",
       "2           1                0                 0\n",
       "3           1                0                 0\n",
       "4           1                0                 0"
      ]
     },
     "execution_count": 63,
     "metadata": {},
     "output_type": "execute_result"
    }
   ],
   "source": [
    "ed_dummies = pd.get_dummies(raw_train_data['education'])\n",
    "ed_dummies.head()"
   ]
  },
  {
   "cell_type": "code",
   "execution_count": 64,
   "metadata": {},
   "outputs": [
    {
     "name": "stdout",
     "output_type": "stream",
     "text": [
      "is_promoted      0     1\n",
      "Bachelor's              \n",
      "0            14192  1538\n",
      "1            35948  3130 \n",
      "\n",
      "Chi2 value= 44.760924376680016\n",
      "p-value= 2.22621402573485e-11\n",
      "Degrees of freedom= 1\n",
      "\n",
      "is_promoted          0     1\n",
      "Below Secondary             \n",
      "0                49402  4601\n",
      "1                  738    67 \n",
      "\n",
      "Chi2 value= 0.018245718905831584\n",
      "p-value= 0.8925512202570883\n",
      "Degrees of freedom= 1\n",
      "\n",
      "is_promoted           0     1\n",
      "Master's & above             \n",
      "0                 36686  3197\n",
      "1                 13454  1471 \n",
      "\n",
      "Chi2 value= 46.955935726239616\n",
      "p-value= 7.260077544258428e-12\n",
      "Degrees of freedom= 1\n",
      "\n"
     ]
    }
   ],
   "source": [
    "for i in ed_dummies:\n",
    "    nl = \"\\n\"\n",
    "    crosstab = pd.crosstab(ed_dummies[f\"{i}\"],raw_train_data['is_promoted'])\n",
    "    print(crosstab, nl)\n",
    "    chi2, p, dof, expected = stats.chi2_contingency(crosstab)\n",
    "    print(f\"Chi2 value= {chi2}{nl}p-value= {p}{nl}Degrees of freedom= {dof}{nl}\")"
   ]
  },
  {
   "cell_type": "code",
   "execution_count": 65,
   "metadata": {},
   "outputs": [
    {
     "name": "stdout",
     "output_type": "stream",
     "text": [
      "3\n",
      "['sourcing' 'other' 'referred']\n"
     ]
    }
   ],
   "source": [
    "print(raw_train_data.recruitment_channel.nunique())\n",
    "print(raw_train_data.recruitment_channel.unique())"
   ]
  },
  {
   "cell_type": "code",
   "execution_count": 66,
   "metadata": {},
   "outputs": [
    {
     "data": {
      "text/html": [
       "<div>\n",
       "<style scoped>\n",
       "    .dataframe tbody tr th:only-of-type {\n",
       "        vertical-align: middle;\n",
       "    }\n",
       "\n",
       "    .dataframe tbody tr th {\n",
       "        vertical-align: top;\n",
       "    }\n",
       "\n",
       "    .dataframe thead th {\n",
       "        text-align: right;\n",
       "    }\n",
       "</style>\n",
       "<table border=\"1\" class=\"dataframe\">\n",
       "  <thead>\n",
       "    <tr style=\"text-align: right;\">\n",
       "      <th>is_promoted</th>\n",
       "      <th>0</th>\n",
       "      <th>1</th>\n",
       "    </tr>\n",
       "    <tr>\n",
       "      <th>recruitment_channel</th>\n",
       "      <th></th>\n",
       "      <th></th>\n",
       "    </tr>\n",
       "  </thead>\n",
       "  <tbody>\n",
       "    <tr>\n",
       "      <th>other</th>\n",
       "      <td>27890</td>\n",
       "      <td>2556</td>\n",
       "    </tr>\n",
       "    <tr>\n",
       "      <th>referred</th>\n",
       "      <td>1004</td>\n",
       "      <td>138</td>\n",
       "    </tr>\n",
       "    <tr>\n",
       "      <th>sourcing</th>\n",
       "      <td>21246</td>\n",
       "      <td>1974</td>\n",
       "    </tr>\n",
       "  </tbody>\n",
       "</table>\n",
       "</div>"
      ],
      "text/plain": [
       "is_promoted              0     1\n",
       "recruitment_channel             \n",
       "other                27890  2556\n",
       "referred              1004   138\n",
       "sourcing             21246  1974"
      ]
     },
     "execution_count": 66,
     "metadata": {},
     "output_type": "execute_result"
    }
   ],
   "source": [
    "crosstab = pd.crosstab(raw_train_data['recruitment_channel'],raw_train_data['is_promoted'])\n",
    "crosstab"
   ]
  },
  {
   "cell_type": "code",
   "execution_count": 67,
   "metadata": {},
   "outputs": [
    {
     "name": "stdout",
     "output_type": "stream",
     "text": [
      "Chi-square value:  19.23633518768639\n",
      "p-value:  6.650937825577018e-05\n",
      "Degrees of freedom:  2\n"
     ]
    }
   ],
   "source": [
    "chi2, p, dof, expected = chi2_contingency(crosstab)\n",
    "print(\"Chi-square value: \", chi2)\n",
    "print(\"p-value: \", p)\n",
    "print(\"Degrees of freedom: \", dof)\n",
    "# print(\"Expected Values: \", expected)"
   ]
  },
  {
   "cell_type": "code",
   "execution_count": 68,
   "metadata": {},
   "outputs": [
    {
     "name": "stdout",
     "output_type": "stream",
     "text": [
      "10\n",
      "[ 1  2  3  4  7  5  6  8 10  9]\n"
     ]
    }
   ],
   "source": [
    "print(raw_train_data.no_of_trainings.nunique())\n",
    "print(raw_train_data.no_of_trainings.unique())"
   ]
  },
  {
   "cell_type": "code",
   "execution_count": 69,
   "metadata": {},
   "outputs": [
    {
     "data": {
      "text/html": [
       "<div>\n",
       "<style scoped>\n",
       "    .dataframe tbody tr th:only-of-type {\n",
       "        vertical-align: middle;\n",
       "    }\n",
       "\n",
       "    .dataframe tbody tr th {\n",
       "        vertical-align: top;\n",
       "    }\n",
       "\n",
       "    .dataframe thead th {\n",
       "        text-align: right;\n",
       "    }\n",
       "</style>\n",
       "<table border=\"1\" class=\"dataframe\">\n",
       "  <thead>\n",
       "    <tr style=\"text-align: right;\">\n",
       "      <th>is_promoted</th>\n",
       "      <th>0</th>\n",
       "      <th>1</th>\n",
       "    </tr>\n",
       "    <tr>\n",
       "      <th>no_of_trainings</th>\n",
       "      <th></th>\n",
       "      <th></th>\n",
       "    </tr>\n",
       "  </thead>\n",
       "  <tbody>\n",
       "    <tr>\n",
       "      <th>1</th>\n",
       "      <td>40468</td>\n",
       "      <td>3910</td>\n",
       "    </tr>\n",
       "    <tr>\n",
       "      <th>2</th>\n",
       "      <td>7382</td>\n",
       "      <td>605</td>\n",
       "    </tr>\n",
       "    <tr>\n",
       "      <th>3</th>\n",
       "      <td>1654</td>\n",
       "      <td>122</td>\n",
       "    </tr>\n",
       "    <tr>\n",
       "      <th>4</th>\n",
       "      <td>442</td>\n",
       "      <td>26</td>\n",
       "    </tr>\n",
       "    <tr>\n",
       "      <th>5</th>\n",
       "      <td>125</td>\n",
       "      <td>3</td>\n",
       "    </tr>\n",
       "    <tr>\n",
       "      <th>6</th>\n",
       "      <td>42</td>\n",
       "      <td>2</td>\n",
       "    </tr>\n",
       "    <tr>\n",
       "      <th>7</th>\n",
       "      <td>12</td>\n",
       "      <td>0</td>\n",
       "    </tr>\n",
       "    <tr>\n",
       "      <th>8</th>\n",
       "      <td>5</td>\n",
       "      <td>0</td>\n",
       "    </tr>\n",
       "    <tr>\n",
       "      <th>9</th>\n",
       "      <td>5</td>\n",
       "      <td>0</td>\n",
       "    </tr>\n",
       "    <tr>\n",
       "      <th>10</th>\n",
       "      <td>5</td>\n",
       "      <td>0</td>\n",
       "    </tr>\n",
       "  </tbody>\n",
       "</table>\n",
       "</div>"
      ],
      "text/plain": [
       "is_promoted          0     1\n",
       "no_of_trainings             \n",
       "1                40468  3910\n",
       "2                 7382   605\n",
       "3                 1654   122\n",
       "4                  442    26\n",
       "5                  125     3\n",
       "6                   42     2\n",
       "7                   12     0\n",
       "8                    5     0\n",
       "9                    5     0\n",
       "10                   5     0"
      ]
     },
     "execution_count": 69,
     "metadata": {},
     "output_type": "execute_result"
    }
   ],
   "source": [
    "crosstab = pd.crosstab(raw_train_data['no_of_trainings'],raw_train_data['is_promoted'])\n",
    "crosstab"
   ]
  },
  {
   "cell_type": "code",
   "execution_count": 70,
   "metadata": {},
   "outputs": [
    {
     "name": "stdout",
     "output_type": "stream",
     "text": [
      "Chi-square value:  35.132401310728966\n",
      "p-value:  5.6462682173663955e-05\n",
      "Degrees of freedom:  9\n"
     ]
    }
   ],
   "source": [
    "chi2, p, dof, expected = chi2_contingency(crosstab)\n",
    "print(\"Chi-square value: \", chi2)\n",
    "print(\"p-value: \", p)\n",
    "print(\"Degrees of freedom: \", dof)\n",
    "# print(\"Expected Values: \", expected)"
   ]
  },
  {
   "cell_type": "code",
   "execution_count": 71,
   "metadata": {},
   "outputs": [
    {
     "data": {
      "text/plain": [
       "{1: '1 Training',\n",
       " 2: '2 Trainings',\n",
       " 3: '3 Trainings',\n",
       " 4: '4 Trainings',\n",
       " 5: '5 Trainings',\n",
       " 6: '>=6 Trainings',\n",
       " 7: '>=6 Trainings',\n",
       " 8: '>=6 Trainings',\n",
       " 9: '>=6 Trainings',\n",
       " 10: '>=6 Trainings'}"
      ]
     },
     "execution_count": 71,
     "metadata": {},
     "output_type": "execute_result"
    }
   ],
   "source": [
    "training_list = {1:'1 Training',\n",
    "2:'2 Trainings',\n",
    "3:'3 Trainings',\n",
    "4:'4 Trainings',\n",
    "5:'5 Trainings',\n",
    "6:'>=6 Trainings',\n",
    "7 :'>=6 Trainings',\n",
    "8:'>=6 Trainings',\n",
    "9:'>=6 Trainings',\n",
    "10:'>=6 Trainings'\n",
    "}\n",
    "training_list"
   ]
  },
  {
   "cell_type": "code",
   "execution_count": 72,
   "metadata": {},
   "outputs": [
    {
     "data": {
      "text/html": [
       "<div>\n",
       "<style scoped>\n",
       "    .dataframe tbody tr th:only-of-type {\n",
       "        vertical-align: middle;\n",
       "    }\n",
       "\n",
       "    .dataframe tbody tr th {\n",
       "        vertical-align: top;\n",
       "    }\n",
       "\n",
       "    .dataframe thead th {\n",
       "        text-align: right;\n",
       "    }\n",
       "</style>\n",
       "<table border=\"1\" class=\"dataframe\">\n",
       "  <thead>\n",
       "    <tr style=\"text-align: right;\">\n",
       "      <th></th>\n",
       "      <th>employee_id</th>\n",
       "      <th>department</th>\n",
       "      <th>region</th>\n",
       "      <th>education</th>\n",
       "      <th>gender</th>\n",
       "      <th>recruitment_channel</th>\n",
       "      <th>no_of_trainings</th>\n",
       "      <th>age</th>\n",
       "      <th>previous_year_rating</th>\n",
       "      <th>length_of_service</th>\n",
       "      <th>KPIs_met_gt_80</th>\n",
       "      <th>awards_won?</th>\n",
       "      <th>avg_training_score</th>\n",
       "      <th>is_promoted</th>\n",
       "      <th>new_dept</th>\n",
       "      <th>new_rgn</th>\n",
       "      <th>new_Trainings</th>\n",
       "    </tr>\n",
       "  </thead>\n",
       "  <tbody>\n",
       "    <tr>\n",
       "      <th>0</th>\n",
       "      <td>65438</td>\n",
       "      <td>Sales &amp; Marketing</td>\n",
       "      <td>region_7</td>\n",
       "      <td>Master's &amp; above</td>\n",
       "      <td>f</td>\n",
       "      <td>sourcing</td>\n",
       "      <td>1</td>\n",
       "      <td>35</td>\n",
       "      <td>5.0</td>\n",
       "      <td>8</td>\n",
       "      <td>1</td>\n",
       "      <td>0</td>\n",
       "      <td>49</td>\n",
       "      <td>0</td>\n",
       "      <td>Sales &amp; Marketing</td>\n",
       "      <td>region_7</td>\n",
       "      <td>1 Training</td>\n",
       "    </tr>\n",
       "    <tr>\n",
       "      <th>1</th>\n",
       "      <td>65141</td>\n",
       "      <td>Operations</td>\n",
       "      <td>region_22</td>\n",
       "      <td>Bachelor's</td>\n",
       "      <td>m</td>\n",
       "      <td>other</td>\n",
       "      <td>1</td>\n",
       "      <td>30</td>\n",
       "      <td>5.0</td>\n",
       "      <td>4</td>\n",
       "      <td>0</td>\n",
       "      <td>0</td>\n",
       "      <td>60</td>\n",
       "      <td>0</td>\n",
       "      <td>Others</td>\n",
       "      <td>region_22</td>\n",
       "      <td>1 Training</td>\n",
       "    </tr>\n",
       "    <tr>\n",
       "      <th>2</th>\n",
       "      <td>7513</td>\n",
       "      <td>Sales &amp; Marketing</td>\n",
       "      <td>region_19</td>\n",
       "      <td>Bachelor's</td>\n",
       "      <td>m</td>\n",
       "      <td>sourcing</td>\n",
       "      <td>1</td>\n",
       "      <td>34</td>\n",
       "      <td>3.0</td>\n",
       "      <td>7</td>\n",
       "      <td>0</td>\n",
       "      <td>0</td>\n",
       "      <td>50</td>\n",
       "      <td>0</td>\n",
       "      <td>Sales &amp; Marketing</td>\n",
       "      <td>Others</td>\n",
       "      <td>1 Training</td>\n",
       "    </tr>\n",
       "  </tbody>\n",
       "</table>\n",
       "</div>"
      ],
      "text/plain": [
       "   employee_id         department     region         education gender  \\\n",
       "0        65438  Sales & Marketing   region_7  Master's & above      f   \n",
       "1        65141         Operations  region_22        Bachelor's      m   \n",
       "2         7513  Sales & Marketing  region_19        Bachelor's      m   \n",
       "\n",
       "  recruitment_channel  no_of_trainings  age  previous_year_rating  \\\n",
       "0            sourcing                1   35                   5.0   \n",
       "1               other                1   30                   5.0   \n",
       "2            sourcing                1   34                   3.0   \n",
       "\n",
       "   length_of_service  KPIs_met_gt_80  awards_won?  avg_training_score  \\\n",
       "0                  8               1            0                  49   \n",
       "1                  4               0            0                  60   \n",
       "2                  7               0            0                  50   \n",
       "\n",
       "   is_promoted           new_dept    new_rgn new_Trainings  \n",
       "0            0  Sales & Marketing   region_7    1 Training  \n",
       "1            0             Others  region_22    1 Training  \n",
       "2            0  Sales & Marketing     Others    1 Training  "
      ]
     },
     "execution_count": 72,
     "metadata": {},
     "output_type": "execute_result"
    },
    {
     "data": {
      "text/html": [
       "<div>\n",
       "<style scoped>\n",
       "    .dataframe tbody tr th:only-of-type {\n",
       "        vertical-align: middle;\n",
       "    }\n",
       "\n",
       "    .dataframe tbody tr th {\n",
       "        vertical-align: top;\n",
       "    }\n",
       "\n",
       "    .dataframe thead th {\n",
       "        text-align: right;\n",
       "    }\n",
       "</style>\n",
       "<table border=\"1\" class=\"dataframe\">\n",
       "  <thead>\n",
       "    <tr style=\"text-align: right;\">\n",
       "      <th></th>\n",
       "      <th>employee_id</th>\n",
       "      <th>department</th>\n",
       "      <th>region</th>\n",
       "      <th>education</th>\n",
       "      <th>gender</th>\n",
       "      <th>recruitment_channel</th>\n",
       "      <th>no_of_trainings</th>\n",
       "      <th>age</th>\n",
       "      <th>previous_year_rating</th>\n",
       "      <th>length_of_service</th>\n",
       "      <th>KPIs_met_gt_80</th>\n",
       "      <th>awards_won?</th>\n",
       "      <th>avg_training_score</th>\n",
       "      <th>new_dept</th>\n",
       "      <th>new_rgn</th>\n",
       "      <th>new_Trainings</th>\n",
       "    </tr>\n",
       "  </thead>\n",
       "  <tbody>\n",
       "    <tr>\n",
       "      <th>0</th>\n",
       "      <td>8724</td>\n",
       "      <td>Technology</td>\n",
       "      <td>region_26</td>\n",
       "      <td>Bachelor's</td>\n",
       "      <td>m</td>\n",
       "      <td>sourcing</td>\n",
       "      <td>1</td>\n",
       "      <td>24</td>\n",
       "      <td>3.0</td>\n",
       "      <td>1</td>\n",
       "      <td>1</td>\n",
       "      <td>0</td>\n",
       "      <td>77</td>\n",
       "      <td>Technology</td>\n",
       "      <td>region_26</td>\n",
       "      <td>1 Training</td>\n",
       "    </tr>\n",
       "    <tr>\n",
       "      <th>1</th>\n",
       "      <td>74430</td>\n",
       "      <td>HR</td>\n",
       "      <td>region_4</td>\n",
       "      <td>Bachelor's</td>\n",
       "      <td>f</td>\n",
       "      <td>other</td>\n",
       "      <td>1</td>\n",
       "      <td>31</td>\n",
       "      <td>3.0</td>\n",
       "      <td>5</td>\n",
       "      <td>0</td>\n",
       "      <td>0</td>\n",
       "      <td>51</td>\n",
       "      <td>HR</td>\n",
       "      <td>region_4</td>\n",
       "      <td>1 Training</td>\n",
       "    </tr>\n",
       "    <tr>\n",
       "      <th>2</th>\n",
       "      <td>72255</td>\n",
       "      <td>Sales &amp; Marketing</td>\n",
       "      <td>region_13</td>\n",
       "      <td>Bachelor's</td>\n",
       "      <td>m</td>\n",
       "      <td>other</td>\n",
       "      <td>1</td>\n",
       "      <td>31</td>\n",
       "      <td>1.0</td>\n",
       "      <td>4</td>\n",
       "      <td>0</td>\n",
       "      <td>0</td>\n",
       "      <td>47</td>\n",
       "      <td>Sales &amp; Marketing</td>\n",
       "      <td>Others</td>\n",
       "      <td>1 Training</td>\n",
       "    </tr>\n",
       "  </tbody>\n",
       "</table>\n",
       "</div>"
      ],
      "text/plain": [
       "   employee_id         department     region   education gender  \\\n",
       "0         8724         Technology  region_26  Bachelor's      m   \n",
       "1        74430                 HR   region_4  Bachelor's      f   \n",
       "2        72255  Sales & Marketing  region_13  Bachelor's      m   \n",
       "\n",
       "  recruitment_channel  no_of_trainings  age  previous_year_rating  \\\n",
       "0            sourcing                1   24                   3.0   \n",
       "1               other                1   31                   3.0   \n",
       "2               other                1   31                   1.0   \n",
       "\n",
       "   length_of_service  KPIs_met_gt_80  awards_won?  avg_training_score  \\\n",
       "0                  1               1            0                  77   \n",
       "1                  5               0            0                  51   \n",
       "2                  4               0            0                  47   \n",
       "\n",
       "            new_dept    new_rgn new_Trainings  \n",
       "0         Technology  region_26    1 Training  \n",
       "1                 HR   region_4    1 Training  \n",
       "2  Sales & Marketing     Others    1 Training  "
      ]
     },
     "execution_count": 72,
     "metadata": {},
     "output_type": "execute_result"
    }
   ],
   "source": [
    "raw_train_data['new_Trainings'] = raw_train_data.no_of_trainings.map(training_list).astype(\"category\", categories=set(training_list.values()))\n",
    "raw_test_data['new_Trainings'] = raw_test_data.no_of_trainings.map(training_list).astype(\"category\", categories = set(training_list.values()))\n",
    "raw_train_data.head(3)\n",
    "raw_test_data.head(3) "
   ]
  },
  {
   "cell_type": "code",
   "execution_count": 73,
   "metadata": {},
   "outputs": [
    {
     "data": {
      "text/html": [
       "<div>\n",
       "<style scoped>\n",
       "    .dataframe tbody tr th:only-of-type {\n",
       "        vertical-align: middle;\n",
       "    }\n",
       "\n",
       "    .dataframe tbody tr th {\n",
       "        vertical-align: top;\n",
       "    }\n",
       "\n",
       "    .dataframe thead th {\n",
       "        text-align: right;\n",
       "    }\n",
       "</style>\n",
       "<table border=\"1\" class=\"dataframe\">\n",
       "  <thead>\n",
       "    <tr style=\"text-align: right;\">\n",
       "      <th></th>\n",
       "      <th>2 Trainings</th>\n",
       "      <th>5 Trainings</th>\n",
       "      <th>&gt;=6 Trainings</th>\n",
       "      <th>1 Training</th>\n",
       "      <th>4 Trainings</th>\n",
       "      <th>3 Trainings</th>\n",
       "    </tr>\n",
       "  </thead>\n",
       "  <tbody>\n",
       "    <tr>\n",
       "      <th>0</th>\n",
       "      <td>0</td>\n",
       "      <td>0</td>\n",
       "      <td>0</td>\n",
       "      <td>1</td>\n",
       "      <td>0</td>\n",
       "      <td>0</td>\n",
       "    </tr>\n",
       "    <tr>\n",
       "      <th>1</th>\n",
       "      <td>0</td>\n",
       "      <td>0</td>\n",
       "      <td>0</td>\n",
       "      <td>1</td>\n",
       "      <td>0</td>\n",
       "      <td>0</td>\n",
       "    </tr>\n",
       "    <tr>\n",
       "      <th>2</th>\n",
       "      <td>0</td>\n",
       "      <td>0</td>\n",
       "      <td>0</td>\n",
       "      <td>1</td>\n",
       "      <td>0</td>\n",
       "      <td>0</td>\n",
       "    </tr>\n",
       "    <tr>\n",
       "      <th>3</th>\n",
       "      <td>1</td>\n",
       "      <td>0</td>\n",
       "      <td>0</td>\n",
       "      <td>0</td>\n",
       "      <td>0</td>\n",
       "      <td>0</td>\n",
       "    </tr>\n",
       "    <tr>\n",
       "      <th>4</th>\n",
       "      <td>0</td>\n",
       "      <td>0</td>\n",
       "      <td>0</td>\n",
       "      <td>1</td>\n",
       "      <td>0</td>\n",
       "      <td>0</td>\n",
       "    </tr>\n",
       "  </tbody>\n",
       "</table>\n",
       "</div>"
      ],
      "text/plain": [
       "   2 Trainings  5 Trainings  >=6 Trainings  1 Training  4 Trainings  \\\n",
       "0            0            0              0           1            0   \n",
       "1            0            0              0           1            0   \n",
       "2            0            0              0           1            0   \n",
       "3            1            0              0           0            0   \n",
       "4            0            0              0           1            0   \n",
       "\n",
       "   3 Trainings  \n",
       "0            0  \n",
       "1            0  \n",
       "2            0  \n",
       "3            0  \n",
       "4            0  "
      ]
     },
     "execution_count": 73,
     "metadata": {},
     "output_type": "execute_result"
    }
   ],
   "source": [
    "trng_dummies = pd.get_dummies(raw_train_data['new_Trainings'])\n",
    "trng_dummies.head()"
   ]
  },
  {
   "cell_type": "code",
   "execution_count": 74,
   "metadata": {},
   "outputs": [
    {
     "name": "stdout",
     "output_type": "stream",
     "text": [
      "is_promoted      0     1\n",
      "2 Trainings             \n",
      "0            42758  4063\n",
      "1             7382   605 \n",
      "\n",
      "Chi2 value= 10.51118307181731\n",
      "p-value= 0.0011865426441996071\n",
      "Degrees of freedom= 1\n",
      "\n",
      "is_promoted      0     1\n",
      "5 Trainings             \n",
      "0            50015  4665\n",
      "1              125     3 \n",
      "\n",
      "Chi2 value= 5.506161338902283\n",
      "p-value= 0.018949592528627827\n",
      "Degrees of freedom= 1\n",
      "\n",
      "is_promoted        0     1\n",
      ">=6 Trainings             \n",
      "0              50071  4666\n",
      "1                 69     2 \n",
      "\n",
      "Chi2 value= 2.2772866621250003\n",
      "p-value= 0.13128136948080818\n",
      "Degrees of freedom= 1\n",
      "\n",
      "is_promoted      0     1\n",
      "1 Training              \n",
      "0             9672   758\n",
      "1            40468  3910 \n",
      "\n",
      "Chi2 value= 25.613679097833124\n",
      "p-value= 4.170722722776386e-07\n",
      "Degrees of freedom= 1\n",
      "\n",
      "is_promoted      0     1\n",
      "4 Trainings             \n",
      "0            49698  4642\n",
      "1              442    26 \n",
      "\n",
      "Chi2 value= 4.936702709657785\n",
      "p-value= 0.0262921469266925\n",
      "Degrees of freedom= 1\n",
      "\n",
      "is_promoted      0     1\n",
      "3 Trainings             \n",
      "0            48486  4546\n",
      "1             1654   122 \n",
      "\n",
      "Chi2 value= 6.178371955091834\n",
      "p-value= 0.012932121402192062\n",
      "Degrees of freedom= 1\n",
      "\n"
     ]
    }
   ],
   "source": [
    "for i in trng_dummies:\n",
    "    nl = \"\\n\"\n",
    "    crosstab = pd.crosstab(trng_dummies[f\"{i}\"],raw_train_data['is_promoted'])\n",
    "    print(crosstab, nl)\n",
    "    chi2, p, dof, expected = stats.chi2_contingency(crosstab)\n",
    "    print(f\"Chi2 value= {chi2}{nl}p-value= {p}{nl}Degrees of freedom= {dof}{nl}\")"
   ]
  },
  {
   "cell_type": "code",
   "execution_count": 75,
   "metadata": {},
   "outputs": [
    {
     "data": {
      "text/html": [
       "<div>\n",
       "<style scoped>\n",
       "    .dataframe tbody tr th:only-of-type {\n",
       "        vertical-align: middle;\n",
       "    }\n",
       "\n",
       "    .dataframe tbody tr th {\n",
       "        vertical-align: top;\n",
       "    }\n",
       "\n",
       "    .dataframe thead th {\n",
       "        text-align: right;\n",
       "    }\n",
       "</style>\n",
       "<table border=\"1\" class=\"dataframe\">\n",
       "  <thead>\n",
       "    <tr style=\"text-align: right;\">\n",
       "      <th>is_promoted</th>\n",
       "      <th>0</th>\n",
       "      <th>1</th>\n",
       "    </tr>\n",
       "    <tr>\n",
       "      <th>previous_year_rating</th>\n",
       "      <th></th>\n",
       "      <th></th>\n",
       "    </tr>\n",
       "  </thead>\n",
       "  <tbody>\n",
       "    <tr>\n",
       "      <th>1.0</th>\n",
       "      <td>6135</td>\n",
       "      <td>88</td>\n",
       "    </tr>\n",
       "    <tr>\n",
       "      <th>2.0</th>\n",
       "      <td>4044</td>\n",
       "      <td>181</td>\n",
       "    </tr>\n",
       "    <tr>\n",
       "      <th>3.0</th>\n",
       "      <td>21048</td>\n",
       "      <td>1694</td>\n",
       "    </tr>\n",
       "    <tr>\n",
       "      <th>4.0</th>\n",
       "      <td>9093</td>\n",
       "      <td>784</td>\n",
       "    </tr>\n",
       "    <tr>\n",
       "      <th>5.0</th>\n",
       "      <td>9820</td>\n",
       "      <td>1921</td>\n",
       "    </tr>\n",
       "  </tbody>\n",
       "</table>\n",
       "</div>"
      ],
      "text/plain": [
       "is_promoted               0     1\n",
       "previous_year_rating             \n",
       "1.0                    6135    88\n",
       "2.0                    4044   181\n",
       "3.0                   21048  1694\n",
       "4.0                    9093   784\n",
       "5.0                    9820  1921"
      ]
     },
     "execution_count": 75,
     "metadata": {},
     "output_type": "execute_result"
    }
   ],
   "source": [
    "crosstab = pd.crosstab(raw_train_data['previous_year_rating'],raw_train_data['is_promoted'])\n",
    "crosstab"
   ]
  },
  {
   "cell_type": "code",
   "execution_count": 76,
   "metadata": {},
   "outputs": [
    {
     "data": {
      "text/plain": [
       "{1: 'Rating 1', 2: 'Rating 2', 3: 'Rating 3', 4: 'Rating 4', 5: 'Rating 5'}"
      ]
     },
     "execution_count": 76,
     "metadata": {},
     "output_type": "execute_result"
    }
   ],
   "source": [
    "rating_cat_list = {\n",
    "    1:\"Rating 1\",\n",
    "    2:\"Rating 2\",\n",
    "    3:\"Rating 3\",\n",
    "    4:\"Rating 4\",\n",
    "    5:\"Rating 5\"\n",
    "} \n",
    "rating_cat_list"
   ]
  },
  {
   "cell_type": "code",
   "execution_count": 77,
   "metadata": {},
   "outputs": [
    {
     "data": {
      "text/html": [
       "<div>\n",
       "<style scoped>\n",
       "    .dataframe tbody tr th:only-of-type {\n",
       "        vertical-align: middle;\n",
       "    }\n",
       "\n",
       "    .dataframe tbody tr th {\n",
       "        vertical-align: top;\n",
       "    }\n",
       "\n",
       "    .dataframe thead th {\n",
       "        text-align: right;\n",
       "    }\n",
       "</style>\n",
       "<table border=\"1\" class=\"dataframe\">\n",
       "  <thead>\n",
       "    <tr style=\"text-align: right;\">\n",
       "      <th></th>\n",
       "      <th>employee_id</th>\n",
       "      <th>department</th>\n",
       "      <th>region</th>\n",
       "      <th>education</th>\n",
       "      <th>gender</th>\n",
       "      <th>recruitment_channel</th>\n",
       "      <th>no_of_trainings</th>\n",
       "      <th>age</th>\n",
       "      <th>previous_year_rating</th>\n",
       "      <th>length_of_service</th>\n",
       "      <th>KPIs_met_gt_80</th>\n",
       "      <th>awards_won?</th>\n",
       "      <th>avg_training_score</th>\n",
       "      <th>is_promoted</th>\n",
       "      <th>new_dept</th>\n",
       "      <th>new_rgn</th>\n",
       "      <th>new_Trainings</th>\n",
       "      <th>Rating_cat</th>\n",
       "    </tr>\n",
       "  </thead>\n",
       "  <tbody>\n",
       "    <tr>\n",
       "      <th>0</th>\n",
       "      <td>65438</td>\n",
       "      <td>Sales &amp; Marketing</td>\n",
       "      <td>region_7</td>\n",
       "      <td>Master's &amp; above</td>\n",
       "      <td>f</td>\n",
       "      <td>sourcing</td>\n",
       "      <td>1</td>\n",
       "      <td>35</td>\n",
       "      <td>5.0</td>\n",
       "      <td>8</td>\n",
       "      <td>1</td>\n",
       "      <td>0</td>\n",
       "      <td>49</td>\n",
       "      <td>0</td>\n",
       "      <td>Sales &amp; Marketing</td>\n",
       "      <td>region_7</td>\n",
       "      <td>1 Training</td>\n",
       "      <td>Rating 5</td>\n",
       "    </tr>\n",
       "    <tr>\n",
       "      <th>1</th>\n",
       "      <td>65141</td>\n",
       "      <td>Operations</td>\n",
       "      <td>region_22</td>\n",
       "      <td>Bachelor's</td>\n",
       "      <td>m</td>\n",
       "      <td>other</td>\n",
       "      <td>1</td>\n",
       "      <td>30</td>\n",
       "      <td>5.0</td>\n",
       "      <td>4</td>\n",
       "      <td>0</td>\n",
       "      <td>0</td>\n",
       "      <td>60</td>\n",
       "      <td>0</td>\n",
       "      <td>Others</td>\n",
       "      <td>region_22</td>\n",
       "      <td>1 Training</td>\n",
       "      <td>Rating 5</td>\n",
       "    </tr>\n",
       "    <tr>\n",
       "      <th>2</th>\n",
       "      <td>7513</td>\n",
       "      <td>Sales &amp; Marketing</td>\n",
       "      <td>region_19</td>\n",
       "      <td>Bachelor's</td>\n",
       "      <td>m</td>\n",
       "      <td>sourcing</td>\n",
       "      <td>1</td>\n",
       "      <td>34</td>\n",
       "      <td>3.0</td>\n",
       "      <td>7</td>\n",
       "      <td>0</td>\n",
       "      <td>0</td>\n",
       "      <td>50</td>\n",
       "      <td>0</td>\n",
       "      <td>Sales &amp; Marketing</td>\n",
       "      <td>Others</td>\n",
       "      <td>1 Training</td>\n",
       "      <td>Rating 3</td>\n",
       "    </tr>\n",
       "    <tr>\n",
       "      <th>3</th>\n",
       "      <td>2542</td>\n",
       "      <td>Sales &amp; Marketing</td>\n",
       "      <td>region_23</td>\n",
       "      <td>Bachelor's</td>\n",
       "      <td>m</td>\n",
       "      <td>other</td>\n",
       "      <td>2</td>\n",
       "      <td>39</td>\n",
       "      <td>1.0</td>\n",
       "      <td>10</td>\n",
       "      <td>0</td>\n",
       "      <td>0</td>\n",
       "      <td>50</td>\n",
       "      <td>0</td>\n",
       "      <td>Sales &amp; Marketing</td>\n",
       "      <td>region_23</td>\n",
       "      <td>2 Trainings</td>\n",
       "      <td>Rating 1</td>\n",
       "    </tr>\n",
       "    <tr>\n",
       "      <th>4</th>\n",
       "      <td>48945</td>\n",
       "      <td>Technology</td>\n",
       "      <td>region_26</td>\n",
       "      <td>Bachelor's</td>\n",
       "      <td>m</td>\n",
       "      <td>other</td>\n",
       "      <td>1</td>\n",
       "      <td>45</td>\n",
       "      <td>3.0</td>\n",
       "      <td>2</td>\n",
       "      <td>0</td>\n",
       "      <td>0</td>\n",
       "      <td>73</td>\n",
       "      <td>0</td>\n",
       "      <td>Technology</td>\n",
       "      <td>region_26</td>\n",
       "      <td>1 Training</td>\n",
       "      <td>Rating 3</td>\n",
       "    </tr>\n",
       "  </tbody>\n",
       "</table>\n",
       "</div>"
      ],
      "text/plain": [
       "   employee_id         department     region         education gender  \\\n",
       "0        65438  Sales & Marketing   region_7  Master's & above      f   \n",
       "1        65141         Operations  region_22        Bachelor's      m   \n",
       "2         7513  Sales & Marketing  region_19        Bachelor's      m   \n",
       "3         2542  Sales & Marketing  region_23        Bachelor's      m   \n",
       "4        48945         Technology  region_26        Bachelor's      m   \n",
       "\n",
       "  recruitment_channel  no_of_trainings  age  previous_year_rating  \\\n",
       "0            sourcing                1   35                   5.0   \n",
       "1               other                1   30                   5.0   \n",
       "2            sourcing                1   34                   3.0   \n",
       "3               other                2   39                   1.0   \n",
       "4               other                1   45                   3.0   \n",
       "\n",
       "   length_of_service  KPIs_met_gt_80  awards_won?  avg_training_score  \\\n",
       "0                  8               1            0                  49   \n",
       "1                  4               0            0                  60   \n",
       "2                  7               0            0                  50   \n",
       "3                 10               0            0                  50   \n",
       "4                  2               0            0                  73   \n",
       "\n",
       "   is_promoted           new_dept    new_rgn new_Trainings Rating_cat  \n",
       "0            0  Sales & Marketing   region_7    1 Training   Rating 5  \n",
       "1            0             Others  region_22    1 Training   Rating 5  \n",
       "2            0  Sales & Marketing     Others    1 Training   Rating 3  \n",
       "3            0  Sales & Marketing  region_23   2 Trainings   Rating 1  \n",
       "4            0         Technology  region_26    1 Training   Rating 3  "
      ]
     },
     "execution_count": 77,
     "metadata": {},
     "output_type": "execute_result"
    },
    {
     "data": {
      "text/html": [
       "<div>\n",
       "<style scoped>\n",
       "    .dataframe tbody tr th:only-of-type {\n",
       "        vertical-align: middle;\n",
       "    }\n",
       "\n",
       "    .dataframe tbody tr th {\n",
       "        vertical-align: top;\n",
       "    }\n",
       "\n",
       "    .dataframe thead th {\n",
       "        text-align: right;\n",
       "    }\n",
       "</style>\n",
       "<table border=\"1\" class=\"dataframe\">\n",
       "  <thead>\n",
       "    <tr style=\"text-align: right;\">\n",
       "      <th></th>\n",
       "      <th>employee_id</th>\n",
       "      <th>department</th>\n",
       "      <th>region</th>\n",
       "      <th>education</th>\n",
       "      <th>gender</th>\n",
       "      <th>recruitment_channel</th>\n",
       "      <th>no_of_trainings</th>\n",
       "      <th>age</th>\n",
       "      <th>previous_year_rating</th>\n",
       "      <th>length_of_service</th>\n",
       "      <th>KPIs_met_gt_80</th>\n",
       "      <th>awards_won?</th>\n",
       "      <th>avg_training_score</th>\n",
       "      <th>new_dept</th>\n",
       "      <th>new_rgn</th>\n",
       "      <th>new_Trainings</th>\n",
       "      <th>Rating_cat</th>\n",
       "    </tr>\n",
       "  </thead>\n",
       "  <tbody>\n",
       "    <tr>\n",
       "      <th>0</th>\n",
       "      <td>8724</td>\n",
       "      <td>Technology</td>\n",
       "      <td>region_26</td>\n",
       "      <td>Bachelor's</td>\n",
       "      <td>m</td>\n",
       "      <td>sourcing</td>\n",
       "      <td>1</td>\n",
       "      <td>24</td>\n",
       "      <td>3.0</td>\n",
       "      <td>1</td>\n",
       "      <td>1</td>\n",
       "      <td>0</td>\n",
       "      <td>77</td>\n",
       "      <td>Technology</td>\n",
       "      <td>region_26</td>\n",
       "      <td>1 Training</td>\n",
       "      <td>Rating 3</td>\n",
       "    </tr>\n",
       "    <tr>\n",
       "      <th>1</th>\n",
       "      <td>74430</td>\n",
       "      <td>HR</td>\n",
       "      <td>region_4</td>\n",
       "      <td>Bachelor's</td>\n",
       "      <td>f</td>\n",
       "      <td>other</td>\n",
       "      <td>1</td>\n",
       "      <td>31</td>\n",
       "      <td>3.0</td>\n",
       "      <td>5</td>\n",
       "      <td>0</td>\n",
       "      <td>0</td>\n",
       "      <td>51</td>\n",
       "      <td>HR</td>\n",
       "      <td>region_4</td>\n",
       "      <td>1 Training</td>\n",
       "      <td>Rating 3</td>\n",
       "    </tr>\n",
       "    <tr>\n",
       "      <th>2</th>\n",
       "      <td>72255</td>\n",
       "      <td>Sales &amp; Marketing</td>\n",
       "      <td>region_13</td>\n",
       "      <td>Bachelor's</td>\n",
       "      <td>m</td>\n",
       "      <td>other</td>\n",
       "      <td>1</td>\n",
       "      <td>31</td>\n",
       "      <td>1.0</td>\n",
       "      <td>4</td>\n",
       "      <td>0</td>\n",
       "      <td>0</td>\n",
       "      <td>47</td>\n",
       "      <td>Sales &amp; Marketing</td>\n",
       "      <td>Others</td>\n",
       "      <td>1 Training</td>\n",
       "      <td>Rating 1</td>\n",
       "    </tr>\n",
       "    <tr>\n",
       "      <th>3</th>\n",
       "      <td>38562</td>\n",
       "      <td>Procurement</td>\n",
       "      <td>region_2</td>\n",
       "      <td>Bachelor's</td>\n",
       "      <td>f</td>\n",
       "      <td>other</td>\n",
       "      <td>3</td>\n",
       "      <td>31</td>\n",
       "      <td>2.0</td>\n",
       "      <td>9</td>\n",
       "      <td>0</td>\n",
       "      <td>0</td>\n",
       "      <td>65</td>\n",
       "      <td>Procurement</td>\n",
       "      <td>Others</td>\n",
       "      <td>3 Trainings</td>\n",
       "      <td>Rating 2</td>\n",
       "    </tr>\n",
       "    <tr>\n",
       "      <th>4</th>\n",
       "      <td>64486</td>\n",
       "      <td>Finance</td>\n",
       "      <td>region_29</td>\n",
       "      <td>Bachelor's</td>\n",
       "      <td>m</td>\n",
       "      <td>sourcing</td>\n",
       "      <td>1</td>\n",
       "      <td>30</td>\n",
       "      <td>4.0</td>\n",
       "      <td>7</td>\n",
       "      <td>0</td>\n",
       "      <td>0</td>\n",
       "      <td>61</td>\n",
       "      <td>Others</td>\n",
       "      <td>region_29</td>\n",
       "      <td>1 Training</td>\n",
       "      <td>Rating 4</td>\n",
       "    </tr>\n",
       "  </tbody>\n",
       "</table>\n",
       "</div>"
      ],
      "text/plain": [
       "   employee_id         department     region   education gender  \\\n",
       "0         8724         Technology  region_26  Bachelor's      m   \n",
       "1        74430                 HR   region_4  Bachelor's      f   \n",
       "2        72255  Sales & Marketing  region_13  Bachelor's      m   \n",
       "3        38562        Procurement   region_2  Bachelor's      f   \n",
       "4        64486            Finance  region_29  Bachelor's      m   \n",
       "\n",
       "  recruitment_channel  no_of_trainings  age  previous_year_rating  \\\n",
       "0            sourcing                1   24                   3.0   \n",
       "1               other                1   31                   3.0   \n",
       "2               other                1   31                   1.0   \n",
       "3               other                3   31                   2.0   \n",
       "4            sourcing                1   30                   4.0   \n",
       "\n",
       "   length_of_service  KPIs_met_gt_80  awards_won?  avg_training_score  \\\n",
       "0                  1               1            0                  77   \n",
       "1                  5               0            0                  51   \n",
       "2                  4               0            0                  47   \n",
       "3                  9               0            0                  65   \n",
       "4                  7               0            0                  61   \n",
       "\n",
       "            new_dept    new_rgn new_Trainings Rating_cat  \n",
       "0         Technology  region_26    1 Training   Rating 3  \n",
       "1                 HR   region_4    1 Training   Rating 3  \n",
       "2  Sales & Marketing     Others    1 Training   Rating 1  \n",
       "3        Procurement     Others   3 Trainings   Rating 2  \n",
       "4             Others  region_29    1 Training   Rating 4  "
      ]
     },
     "execution_count": 77,
     "metadata": {},
     "output_type": "execute_result"
    }
   ],
   "source": [
    "raw_train_data['Rating_cat'] = raw_train_data.previous_year_rating.map(rating_cat_list).astype(\"category\", categories = set(rating_cat_list.values()))\n",
    "raw_test_data['Rating_cat'] = raw_test_data.previous_year_rating.map(rating_cat_list).astype(\"category\", categories = set(rating_cat_list.values()))\n",
    "raw_train_data.head()\n",
    "raw_test_data.head()"
   ]
  },
  {
   "cell_type": "code",
   "execution_count": 78,
   "metadata": {},
   "outputs": [
    {
     "name": "stdout",
     "output_type": "stream",
     "text": [
      "Chi-square value:  1464.9316966536803\n",
      "p-value:  0.0\n",
      "Degrees of freedom:  4\n"
     ]
    }
   ],
   "source": [
    "chi2, p, dof, expected = chi2_contingency(crosstab)\n",
    "print(\"Chi-square value: \", chi2)\n",
    "print(\"p-value: \", p)\n",
    "print(\"Degrees of freedom: \", dof)\n",
    "# print(\"Expected Values: \", expected)"
   ]
  },
  {
   "cell_type": "code",
   "execution_count": 79,
   "metadata": {},
   "outputs": [
    {
     "data": {
      "text/html": [
       "<div>\n",
       "<style scoped>\n",
       "    .dataframe tbody tr th:only-of-type {\n",
       "        vertical-align: middle;\n",
       "    }\n",
       "\n",
       "    .dataframe tbody tr th {\n",
       "        vertical-align: top;\n",
       "    }\n",
       "\n",
       "    .dataframe thead th {\n",
       "        text-align: right;\n",
       "    }\n",
       "</style>\n",
       "<table border=\"1\" class=\"dataframe\">\n",
       "  <thead>\n",
       "    <tr style=\"text-align: right;\">\n",
       "      <th></th>\n",
       "      <th>Rating 5</th>\n",
       "      <th>Rating 3</th>\n",
       "      <th>Rating 4</th>\n",
       "      <th>Rating 1</th>\n",
       "      <th>Rating 2</th>\n",
       "    </tr>\n",
       "  </thead>\n",
       "  <tbody>\n",
       "    <tr>\n",
       "      <th>0</th>\n",
       "      <td>1</td>\n",
       "      <td>0</td>\n",
       "      <td>0</td>\n",
       "      <td>0</td>\n",
       "      <td>0</td>\n",
       "    </tr>\n",
       "    <tr>\n",
       "      <th>1</th>\n",
       "      <td>1</td>\n",
       "      <td>0</td>\n",
       "      <td>0</td>\n",
       "      <td>0</td>\n",
       "      <td>0</td>\n",
       "    </tr>\n",
       "    <tr>\n",
       "      <th>2</th>\n",
       "      <td>0</td>\n",
       "      <td>1</td>\n",
       "      <td>0</td>\n",
       "      <td>0</td>\n",
       "      <td>0</td>\n",
       "    </tr>\n",
       "    <tr>\n",
       "      <th>3</th>\n",
       "      <td>0</td>\n",
       "      <td>0</td>\n",
       "      <td>0</td>\n",
       "      <td>1</td>\n",
       "      <td>0</td>\n",
       "    </tr>\n",
       "    <tr>\n",
       "      <th>4</th>\n",
       "      <td>0</td>\n",
       "      <td>1</td>\n",
       "      <td>0</td>\n",
       "      <td>0</td>\n",
       "      <td>0</td>\n",
       "    </tr>\n",
       "  </tbody>\n",
       "</table>\n",
       "</div>"
      ],
      "text/plain": [
       "   Rating 5  Rating 3  Rating 4  Rating 1  Rating 2\n",
       "0         1         0         0         0         0\n",
       "1         1         0         0         0         0\n",
       "2         0         1         0         0         0\n",
       "3         0         0         0         1         0\n",
       "4         0         1         0         0         0"
      ]
     },
     "execution_count": 79,
     "metadata": {},
     "output_type": "execute_result"
    }
   ],
   "source": [
    "rate_dummies = pd.get_dummies(raw_train_data['Rating_cat'])\n",
    "rate_dummies.head()"
   ]
  },
  {
   "cell_type": "code",
   "execution_count": 80,
   "metadata": {},
   "outputs": [
    {
     "name": "stdout",
     "output_type": "stream",
     "text": [
      "is_promoted      0     1\n",
      "Rating 5                \n",
      "0            40320  2747\n",
      "1             9820  1921 \n",
      "\n",
      "Chi2 value= 1178.777904934368\n",
      "p-value= 2.4973917184194665e-258\n",
      "Degrees of freedom= 1\n",
      "\n",
      "is_promoted      0     1\n",
      "Rating 3                \n",
      "0            29092  2974\n",
      "1            21048  1694 \n",
      "\n",
      "Chi2 value= 56.694625274016104\n",
      "p-value= 5.090248868278859e-14\n",
      "Degrees of freedom= 1\n",
      "\n",
      "is_promoted      0     1\n",
      "Rating 4                \n",
      "0            41047  3884\n",
      "1             9093   784 \n",
      "\n",
      "Chi2 value= 5.100208234368497\n",
      "p-value= 0.023922971381548554\n",
      "Degrees of freedom= 1\n",
      "\n",
      "is_promoted      0     1\n",
      "Rating 1                \n",
      "0            44005  4580\n",
      "1             6135    88 \n",
      "\n",
      "Chi2 value= 453.5258878989986\n",
      "p-value= 1.232512660954225e-100\n",
      "Degrees of freedom= 1\n",
      "\n",
      "is_promoted      0     1\n",
      "Rating 2                \n",
      "0            46096  4487\n",
      "1             4044   181 \n",
      "\n",
      "Chi2 value= 104.68868257987128\n",
      "p-value= 1.429150174366519e-24\n",
      "Degrees of freedom= 1\n",
      "\n"
     ]
    }
   ],
   "source": [
    "for i in rate_dummies:\n",
    "    nl = \"\\n\"\n",
    "    crosstab = pd.crosstab(rate_dummies[f\"{i}\"],raw_train_data['is_promoted'])\n",
    "    print(crosstab,nl)\n",
    "    chi2, p, dof, expected = stats.chi2_contingency(crosstab)\n",
    "    print(f\"Chi2 value= {chi2}{nl}p-value= {p}{nl}Degrees of freedom= {dof}{nl}\")"
   ]
  },
  {
   "cell_type": "markdown",
   "metadata": {},
   "source": [
    "All the Rating categories are important for promotion"
   ]
  },
  {
   "cell_type": "markdown",
   "metadata": {},
   "source": [
    "#### Length of service to be taken as continuous variable"
   ]
  },
  {
   "cell_type": "code",
   "execution_count": 81,
   "metadata": {},
   "outputs": [
    {
     "data": {
      "text/html": [
       "<div>\n",
       "<style scoped>\n",
       "    .dataframe tbody tr th:only-of-type {\n",
       "        vertical-align: middle;\n",
       "    }\n",
       "\n",
       "    .dataframe tbody tr th {\n",
       "        vertical-align: top;\n",
       "    }\n",
       "\n",
       "    .dataframe thead th {\n",
       "        text-align: right;\n",
       "    }\n",
       "</style>\n",
       "<table border=\"1\" class=\"dataframe\">\n",
       "  <thead>\n",
       "    <tr style=\"text-align: right;\">\n",
       "      <th></th>\n",
       "      <th>employee_id</th>\n",
       "      <th>department</th>\n",
       "      <th>region</th>\n",
       "      <th>education</th>\n",
       "      <th>gender</th>\n",
       "      <th>recruitment_channel</th>\n",
       "      <th>no_of_trainings</th>\n",
       "      <th>age</th>\n",
       "      <th>previous_year_rating</th>\n",
       "      <th>length_of_service</th>\n",
       "      <th>KPIs_met_gt_80</th>\n",
       "      <th>awards_won?</th>\n",
       "      <th>avg_training_score</th>\n",
       "      <th>is_promoted</th>\n",
       "      <th>new_dept</th>\n",
       "      <th>new_rgn</th>\n",
       "      <th>new_Trainings</th>\n",
       "      <th>Rating_cat</th>\n",
       "    </tr>\n",
       "  </thead>\n",
       "  <tbody>\n",
       "    <tr>\n",
       "      <th>0</th>\n",
       "      <td>65438</td>\n",
       "      <td>Sales &amp; Marketing</td>\n",
       "      <td>region_7</td>\n",
       "      <td>Master's &amp; above</td>\n",
       "      <td>f</td>\n",
       "      <td>sourcing</td>\n",
       "      <td>1</td>\n",
       "      <td>35</td>\n",
       "      <td>5.0</td>\n",
       "      <td>8</td>\n",
       "      <td>1</td>\n",
       "      <td>0</td>\n",
       "      <td>49</td>\n",
       "      <td>0</td>\n",
       "      <td>Sales &amp; Marketing</td>\n",
       "      <td>region_7</td>\n",
       "      <td>1 Training</td>\n",
       "      <td>Rating 5</td>\n",
       "    </tr>\n",
       "    <tr>\n",
       "      <th>1</th>\n",
       "      <td>65141</td>\n",
       "      <td>Operations</td>\n",
       "      <td>region_22</td>\n",
       "      <td>Bachelor's</td>\n",
       "      <td>m</td>\n",
       "      <td>other</td>\n",
       "      <td>1</td>\n",
       "      <td>30</td>\n",
       "      <td>5.0</td>\n",
       "      <td>4</td>\n",
       "      <td>0</td>\n",
       "      <td>0</td>\n",
       "      <td>60</td>\n",
       "      <td>0</td>\n",
       "      <td>Others</td>\n",
       "      <td>region_22</td>\n",
       "      <td>1 Training</td>\n",
       "      <td>Rating 5</td>\n",
       "    </tr>\n",
       "    <tr>\n",
       "      <th>2</th>\n",
       "      <td>7513</td>\n",
       "      <td>Sales &amp; Marketing</td>\n",
       "      <td>region_19</td>\n",
       "      <td>Bachelor's</td>\n",
       "      <td>m</td>\n",
       "      <td>sourcing</td>\n",
       "      <td>1</td>\n",
       "      <td>34</td>\n",
       "      <td>3.0</td>\n",
       "      <td>7</td>\n",
       "      <td>0</td>\n",
       "      <td>0</td>\n",
       "      <td>50</td>\n",
       "      <td>0</td>\n",
       "      <td>Sales &amp; Marketing</td>\n",
       "      <td>Others</td>\n",
       "      <td>1 Training</td>\n",
       "      <td>Rating 3</td>\n",
       "    </tr>\n",
       "  </tbody>\n",
       "</table>\n",
       "</div>"
      ],
      "text/plain": [
       "   employee_id         department     region         education gender  \\\n",
       "0        65438  Sales & Marketing   region_7  Master's & above      f   \n",
       "1        65141         Operations  region_22        Bachelor's      m   \n",
       "2         7513  Sales & Marketing  region_19        Bachelor's      m   \n",
       "\n",
       "  recruitment_channel  no_of_trainings  age  previous_year_rating  \\\n",
       "0            sourcing                1   35                   5.0   \n",
       "1               other                1   30                   5.0   \n",
       "2            sourcing                1   34                   3.0   \n",
       "\n",
       "   length_of_service  KPIs_met_gt_80  awards_won?  avg_training_score  \\\n",
       "0                  8               1            0                  49   \n",
       "1                  4               0            0                  60   \n",
       "2                  7               0            0                  50   \n",
       "\n",
       "   is_promoted           new_dept    new_rgn new_Trainings Rating_cat  \n",
       "0            0  Sales & Marketing   region_7    1 Training   Rating 5  \n",
       "1            0             Others  region_22    1 Training   Rating 5  \n",
       "2            0  Sales & Marketing     Others    1 Training   Rating 3  "
      ]
     },
     "execution_count": 81,
     "metadata": {},
     "output_type": "execute_result"
    }
   ],
   "source": [
    "raw_train_data.head(3)"
   ]
  },
  {
   "cell_type": "code",
   "execution_count": 82,
   "metadata": {},
   "outputs": [],
   "source": [
    "# raw_train_data.to_csv('raw_train_data.csv')\n",
    "# raw_test_data.to_csv('raw_test_data.csv')"
   ]
  },
  {
   "cell_type": "markdown",
   "metadata": {},
   "source": [
    "## Continuous Variables Analysis"
   ]
  },
  {
   "cell_type": "markdown",
   "metadata": {},
   "source": [
    "### Age"
   ]
  },
  {
   "cell_type": "code",
   "execution_count": 83,
   "metadata": {},
   "outputs": [
    {
     "data": {
      "text/plain": [
       "<Figure size 720x432 with 0 Axes>"
      ]
     },
     "execution_count": 83,
     "metadata": {},
     "output_type": "execute_result"
    },
    {
     "data": {
      "image/png": "[encoded data removed]",
      "text/plain": [
       "<Figure size 720x432 with 1 Axes>"
      ]
     },
     "metadata": {
      "needs_background": "light"
     },
     "output_type": "display_data"
    }
   ],
   "source": [
    "plt.figure(figsize=(10,6))\n",
    "# sns.boxplot(x=raw_train_data['age'])\n",
    "ax = sns.boxplot(x=\"is_promoted\", y=\"age\", data=raw_train_data)"
   ]
  },
  {
   "cell_type": "code",
   "execution_count": 84,
   "metadata": {},
   "outputs": [],
   "source": [
    "from sklearn.utils import shuffle"
   ]
  },
  {
   "cell_type": "code",
   "execution_count": 85,
   "metadata": {},
   "outputs": [],
   "source": [
    "# del raw_train_data['age_group']\n",
    "# # # raw_train_data.columns\n",
    "# # # del raw_train_data_new\n",
    "# # del raw_test_data_new\n",
    "# del raw_test_data['age_group']"
   ]
  },
  {
   "cell_type": "code",
   "execution_count": 86,
   "metadata": {},
   "outputs": [],
   "source": [
    "bins = [19,35,40,50,60]\n",
    "labels =['Millenial','Adult','Middle Age','Senior Citizens']"
   ]
  },
  {
   "cell_type": "code",
   "execution_count": 87,
   "metadata": {},
   "outputs": [],
   "source": [
    "category = pd.cut(raw_train_data['age'], bins = bins, labels = labels)\n",
    "raw_train_data.insert(17, 'age_group', category)"
   ]
  },
  {
   "cell_type": "code",
   "execution_count": 88,
   "metadata": {},
   "outputs": [
    {
     "name": "stdout",
     "output_type": "stream",
     "text": [
      "\n",
      "Number of Columns in Training Data:\n",
      "19\n",
      "\n",
      "Number of Columns in Test Data:\n",
      "17\n"
     ]
    }
   ],
   "source": [
    "print(\"\\nNumber of Columns in Training Data:\")\n",
    "print(len(raw_train_data.columns))\n",
    "print(\"\\nNumber of Columns in Test Data:\")\n",
    "print(len(raw_test_data.columns))"
   ]
  },
  {
   "cell_type": "code",
   "execution_count": 89,
   "metadata": {},
   "outputs": [],
   "source": [
    "category = pd.cut(raw_test_data['age'], bins = bins, labels = labels)\n",
    "raw_test_data.insert(16,'age_group', category)"
   ]
  },
  {
   "cell_type": "code",
   "execution_count": 90,
   "metadata": {},
   "outputs": [
    {
     "data": {
      "text/plain": [
       "Millenial          34183\n",
       "Adult               9963\n",
       "Middle Age          7810\n",
       "Senior Citizens     2852\n",
       "Name: age_group, dtype: int64"
      ]
     },
     "execution_count": 90,
     "metadata": {},
     "output_type": "execute_result"
    },
    {
     "data": {
      "text/plain": [
       "Millenial          14712\n",
       "Adult               4209\n",
       "Middle Age          3321\n",
       "Senior Citizens     1248\n",
       "Name: age_group, dtype: int64"
      ]
     },
     "execution_count": 90,
     "metadata": {},
     "output_type": "execute_result"
    }
   ],
   "source": [
    "raw_train_data['age_group'].value_counts()\n",
    "raw_test_data['age_group'].value_counts()"
   ]
  },
  {
   "cell_type": "code",
   "execution_count": 91,
   "metadata": {},
   "outputs": [
    {
     "data": {
      "text/html": [
       "<div>\n",
       "<style scoped>\n",
       "    .dataframe tbody tr th:only-of-type {\n",
       "        vertical-align: middle;\n",
       "    }\n",
       "\n",
       "    .dataframe tbody tr th {\n",
       "        vertical-align: top;\n",
       "    }\n",
       "\n",
       "    .dataframe thead th {\n",
       "        text-align: right;\n",
       "    }\n",
       "</style>\n",
       "<table border=\"1\" class=\"dataframe\">\n",
       "  <thead>\n",
       "    <tr style=\"text-align: right;\">\n",
       "      <th></th>\n",
       "      <th>employee_id</th>\n",
       "      <th>Percentage</th>\n",
       "    </tr>\n",
       "    <tr>\n",
       "      <th>age_group</th>\n",
       "      <th></th>\n",
       "      <th></th>\n",
       "    </tr>\n",
       "  </thead>\n",
       "  <tbody>\n",
       "    <tr>\n",
       "      <th>Millenial</th>\n",
       "      <td>34183</td>\n",
       "      <td>62.368632</td>\n",
       "    </tr>\n",
       "    <tr>\n",
       "      <th>Adult</th>\n",
       "      <td>9963</td>\n",
       "      <td>18.178003</td>\n",
       "    </tr>\n",
       "    <tr>\n",
       "      <th>Middle Age</th>\n",
       "      <td>7810</td>\n",
       "      <td>14.249745</td>\n",
       "    </tr>\n",
       "    <tr>\n",
       "      <th>Senior Citizens</th>\n",
       "      <td>2852</td>\n",
       "      <td>5.203620</td>\n",
       "    </tr>\n",
       "  </tbody>\n",
       "</table>\n",
       "</div>"
      ],
      "text/plain": [
       "                 employee_id  Percentage\n",
       "age_group                               \n",
       "Millenial              34183   62.368632\n",
       "Adult                   9963   18.178003\n",
       "Middle Age              7810   14.249745\n",
       "Senior Citizens         2852    5.203620"
      ]
     },
     "execution_count": 91,
     "metadata": {},
     "output_type": "execute_result"
    },
    {
     "data": {
      "text/html": [
       "<div>\n",
       "<style scoped>\n",
       "    .dataframe tbody tr th:only-of-type {\n",
       "        vertical-align: middle;\n",
       "    }\n",
       "\n",
       "    .dataframe tbody tr th {\n",
       "        vertical-align: top;\n",
       "    }\n",
       "\n",
       "    .dataframe thead th {\n",
       "        text-align: right;\n",
       "    }\n",
       "</style>\n",
       "<table border=\"1\" class=\"dataframe\">\n",
       "  <thead>\n",
       "    <tr style=\"text-align: right;\">\n",
       "      <th></th>\n",
       "      <th>employee_id</th>\n",
       "      <th>Percentage</th>\n",
       "    </tr>\n",
       "    <tr>\n",
       "      <th>age_group</th>\n",
       "      <th></th>\n",
       "      <th></th>\n",
       "    </tr>\n",
       "  </thead>\n",
       "  <tbody>\n",
       "    <tr>\n",
       "      <th>Millenial</th>\n",
       "      <td>14712</td>\n",
       "      <td>62.630907</td>\n",
       "    </tr>\n",
       "    <tr>\n",
       "      <th>Adult</th>\n",
       "      <td>4209</td>\n",
       "      <td>17.918263</td>\n",
       "    </tr>\n",
       "    <tr>\n",
       "      <th>Middle Age</th>\n",
       "      <td>3321</td>\n",
       "      <td>14.137931</td>\n",
       "    </tr>\n",
       "    <tr>\n",
       "      <th>Senior Citizens</th>\n",
       "      <td>1248</td>\n",
       "      <td>5.312899</td>\n",
       "    </tr>\n",
       "  </tbody>\n",
       "</table>\n",
       "</div>"
      ],
      "text/plain": [
       "                 employee_id  Percentage\n",
       "age_group                               \n",
       "Millenial              14712   62.630907\n",
       "Adult                   4209   17.918263\n",
       "Middle Age              3321   14.137931\n",
       "Senior Citizens         1248    5.312899"
      ]
     },
     "execution_count": 91,
     "metadata": {},
     "output_type": "execute_result"
    }
   ],
   "source": [
    "raw_train_data_age = raw_train_data[['employee_id',\n",
    "                           'age_group']].groupby('age_group').agg({'employee_id':'count'}).sort_values('employee_id',ascending = False)\n",
    "raw_train_data_age['Percentage'] = 100* raw_train_data_age['employee_id']/raw_train_data_age['employee_id'].sum()\n",
    "\n",
    "raw_test_data_age = raw_test_data[['employee_id',\n",
    "                           'age_group']].groupby('age_group').agg({'employee_id':'count'}).sort_values('employee_id',ascending = False)\n",
    "raw_test_data_age['Percentage'] = 100* raw_test_data_age['employee_id']/raw_test_data_age['employee_id'].sum()\n",
    "\n",
    "raw_train_data_age\n",
    "raw_test_data_age"
   ]
  },
  {
   "cell_type": "markdown",
   "metadata": {},
   "source": [
    "#### Length of Service"
   ]
  },
  {
   "cell_type": "code",
   "execution_count": 92,
   "metadata": {},
   "outputs": [
    {
     "data": {
      "text/plain": [
       "count    54808.000000\n",
       "mean         5.865512\n",
       "std          4.265094\n",
       "min          1.000000\n",
       "25%          3.000000\n",
       "50%          5.000000\n",
       "75%          7.000000\n",
       "max         37.000000\n",
       "Name: length_of_service, dtype: float64"
      ]
     },
     "execution_count": 92,
     "metadata": {},
     "output_type": "execute_result"
    }
   ],
   "source": [
    "raw_train_data['length_of_service'].describe()"
   ]
  },
  {
   "cell_type": "code",
   "execution_count": 93,
   "metadata": {},
   "outputs": [
    {
     "data": {
      "text/plain": [
       "<Figure size 720x432 with 0 Axes>"
      ]
     },
     "execution_count": 93,
     "metadata": {},
     "output_type": "execute_result"
    },
    {
     "data": {
      "image/png": "[encoded data removed]",
      "text/plain": [
       "<Figure size 720x432 with 1 Axes>"
      ]
     },
     "metadata": {
      "needs_background": "light"
     },
     "output_type": "display_data"
    }
   ],
   "source": [
    "plt.figure(figsize=(10,6))\n",
    "# sns.boxplot(x=raw_train_data['age'])\n",
    "ax = sns.boxplot(x=\"is_promoted\", y=\"length_of_service\", data=raw_train_data)"
   ]
  },
  {
   "cell_type": "code",
   "execution_count": 94,
   "metadata": {},
   "outputs": [],
   "source": [
    "bins = [0,5,10,40]\n",
    "labels =['0-5','6-10','11-40']"
   ]
  },
  {
   "cell_type": "code",
   "execution_count": 95,
   "metadata": {},
   "outputs": [],
   "source": [
    "# del raw_train_data['Tenure']\n",
    "# del raw_test_data['Tenure']"
   ]
  },
  {
   "cell_type": "code",
   "execution_count": 96,
   "metadata": {},
   "outputs": [],
   "source": [
    "category = pd.cut(raw_train_data['length_of_service'], bins = bins, labels = labels)\n",
    "raw_train_data.insert(18, 'Tenure', category)"
   ]
  },
  {
   "cell_type": "code",
   "execution_count": 97,
   "metadata": {},
   "outputs": [],
   "source": [
    "category = pd.cut(raw_test_data['length_of_service'], bins = bins, labels = labels)\n",
    "raw_test_data.insert(17,'Tenure', category)"
   ]
  },
  {
   "cell_type": "code",
   "execution_count": 98,
   "metadata": {},
   "outputs": [
    {
     "data": {
      "text/plain": [
       "0-5      30932\n",
       "6-10     17990\n",
       "11-40     5886\n",
       "Name: Tenure, dtype: int64"
      ]
     },
     "execution_count": 98,
     "metadata": {},
     "output_type": "execute_result"
    },
    {
     "data": {
      "text/plain": [
       "0-5      13398\n",
       "6-10      7656\n",
       "11-40     2436\n",
       "Name: Tenure, dtype: int64"
      ]
     },
     "execution_count": 98,
     "metadata": {},
     "output_type": "execute_result"
    }
   ],
   "source": [
    "raw_train_data.Tenure.value_counts()\n",
    "raw_test_data.Tenure.value_counts()"
   ]
  },
  {
   "cell_type": "markdown",
   "metadata": {},
   "source": [
    "#### Average Training Score"
   ]
  },
  {
   "cell_type": "code",
   "execution_count": 99,
   "metadata": {},
   "outputs": [
    {
     "data": {
      "text/plain": [
       "count    54808.000000\n",
       "mean        63.386750\n",
       "std         13.371559\n",
       "min         39.000000\n",
       "25%         51.000000\n",
       "50%         60.000000\n",
       "75%         76.000000\n",
       "max         99.000000\n",
       "Name: avg_training_score, dtype: float64"
      ]
     },
     "execution_count": 99,
     "metadata": {},
     "output_type": "execute_result"
    },
    {
     "data": {
      "text/plain": [
       "count    23490.000000\n",
       "mean        63.263133\n",
       "std         13.411750\n",
       "min         39.000000\n",
       "25%         51.000000\n",
       "50%         60.000000\n",
       "75%         76.000000\n",
       "max         99.000000\n",
       "Name: avg_training_score, dtype: float64"
      ]
     },
     "execution_count": 99,
     "metadata": {},
     "output_type": "execute_result"
    }
   ],
   "source": [
    "raw_train_data['avg_training_score'].describe()\n",
    "raw_test_data['avg_training_score'].describe()"
   ]
  },
  {
   "cell_type": "code",
   "execution_count": 100,
   "metadata": {},
   "outputs": [],
   "source": [
    "# del raw_train_data['Training_Score']\n",
    "# del raw_test_data['Training_Score']"
   ]
  },
  {
   "cell_type": "code",
   "execution_count": 101,
   "metadata": {},
   "outputs": [],
   "source": [
    "bins = [38,50,60,70,80,90,100]\n",
    "labels =['30-50','51-60','61-70','71-80','81-90','91-100']"
   ]
  },
  {
   "cell_type": "code",
   "execution_count": 102,
   "metadata": {},
   "outputs": [],
   "source": [
    "category = pd.cut(raw_train_data['avg_training_score'], bins = bins, labels = labels)\n",
    "raw_train_data.insert(18, 'Training_Score', category)"
   ]
  },
  {
   "cell_type": "code",
   "execution_count": 103,
   "metadata": {},
   "outputs": [],
   "source": [
    "category = pd.cut(raw_test_data['avg_training_score'], bins = bins, labels = labels)\n",
    "raw_test_data.insert(17,'Training_Score', category)"
   ]
  },
  {
   "cell_type": "code",
   "execution_count": 104,
   "metadata": {},
   "outputs": [
    {
     "data": {
      "text/plain": [
       "51-60     16020\n",
       "30-50     12003\n",
       "61-70      9973\n",
       "81-90      8739\n",
       "71-80      7494\n",
       "91-100      579\n",
       "Name: Training_Score, dtype: int64"
      ]
     },
     "execution_count": 104,
     "metadata": {},
     "output_type": "execute_result"
    },
    {
     "data": {
      "text/plain": [
       "51-60     6762\n",
       "30-50     5325\n",
       "61-70     4236\n",
       "81-90     3700\n",
       "71-80     3230\n",
       "91-100     237\n",
       "Name: Training_Score, dtype: int64"
      ]
     },
     "execution_count": 104,
     "metadata": {},
     "output_type": "execute_result"
    }
   ],
   "source": [
    "raw_train_data.Training_Score.value_counts()\n",
    "raw_test_data.Training_Score.value_counts()"
   ]
  },
  {
   "cell_type": "code",
   "execution_count": 105,
   "metadata": {},
   "outputs": [
    {
     "data": {
      "text/plain": [
       "Index(['employee_id', 'department', 'region', 'education', 'gender',\n",
       "       'recruitment_channel', 'no_of_trainings', 'age', 'previous_year_rating',\n",
       "       'length_of_service', 'KPIs_met_gt_80', 'awards_won',\n",
       "       'avg_training_score', 'is_promoted', 'new_dept', 'new_rgn',\n",
       "       'new_Trainings', 'age_group', 'Training_Score', 'Tenure', 'Rating_cat'],\n",
       "      dtype='object')"
      ]
     },
     "execution_count": 105,
     "metadata": {},
     "output_type": "execute_result"
    },
    {
     "data": {
      "text/plain": [
       "Index(['employee_id', 'department', 'region', 'education', 'gender',\n",
       "       'recruitment_channel', 'no_of_trainings', 'age', 'previous_year_rating',\n",
       "       'length_of_service', 'KPIs_met_gt_80', 'awards_won',\n",
       "       'avg_training_score', 'new_dept', 'new_rgn', 'new_Trainings',\n",
       "       'age_group', 'Training_Score', 'Tenure', 'Rating_cat'],\n",
       "      dtype='object')"
      ]
     },
     "execution_count": 105,
     "metadata": {},
     "output_type": "execute_result"
    }
   ],
   "source": [
    "raw_train_data.rename(columns= {\"awards_won?\": \"awards_won\"},inplace = True)\n",
    "raw_test_data.rename(columns= {\"awards_won?\": \"awards_won\"},inplace = True)\n",
    "raw_train_data.columns\n",
    "raw_test_data.columns"
   ]
  },
  {
   "cell_type": "markdown",
   "metadata": {},
   "source": [
    "## Random Forest Model"
   ]
  },
  {
   "cell_type": "code",
   "execution_count": 106,
   "metadata": {},
   "outputs": [],
   "source": [
    "from sklearn.preprocessing import OneHotEncoder, LabelEncoder\n",
    "from sklearn import metrics, preprocessing\n",
    "from sklearn.model_selection import train_test_split\n",
    "from sklearn.ensemble import RandomForestClassifier\n",
    "from sklearn.metrics import accuracy_score\n",
    "from sklearn.metrics import confusion_matrix"
   ]
  },
  {
   "cell_type": "code",
   "execution_count": 107,
   "metadata": {},
   "outputs": [],
   "source": [
    "# del model_train_data\n",
    "# del model_test_data"
   ]
  },
  {
   "cell_type": "code",
   "execution_count": 108,
   "metadata": {},
   "outputs": [
    {
     "data": {
      "text/html": [
       "<div>\n",
       "<style scoped>\n",
       "    .dataframe tbody tr th:only-of-type {\n",
       "        vertical-align: middle;\n",
       "    }\n",
       "\n",
       "    .dataframe tbody tr th {\n",
       "        vertical-align: top;\n",
       "    }\n",
       "\n",
       "    .dataframe thead th {\n",
       "        text-align: right;\n",
       "    }\n",
       "</style>\n",
       "<table border=\"1\" class=\"dataframe\">\n",
       "  <thead>\n",
       "    <tr style=\"text-align: right;\">\n",
       "      <th></th>\n",
       "      <th>employee_id</th>\n",
       "      <th>department</th>\n",
       "      <th>region</th>\n",
       "      <th>education</th>\n",
       "      <th>gender</th>\n",
       "      <th>recruitment_channel</th>\n",
       "      <th>no_of_trainings</th>\n",
       "      <th>age</th>\n",
       "      <th>previous_year_rating</th>\n",
       "      <th>length_of_service</th>\n",
       "      <th>KPIs_met_gt_80</th>\n",
       "      <th>awards_won</th>\n",
       "      <th>avg_training_score</th>\n",
       "      <th>new_dept</th>\n",
       "      <th>new_rgn</th>\n",
       "      <th>new_Trainings</th>\n",
       "      <th>age_group</th>\n",
       "      <th>Training_Score</th>\n",
       "      <th>Tenure</th>\n",
       "      <th>Rating_cat</th>\n",
       "    </tr>\n",
       "  </thead>\n",
       "  <tbody>\n",
       "    <tr>\n",
       "      <th>0</th>\n",
       "      <td>8724</td>\n",
       "      <td>Technology</td>\n",
       "      <td>region_26</td>\n",
       "      <td>Bachelor's</td>\n",
       "      <td>m</td>\n",
       "      <td>sourcing</td>\n",
       "      <td>1</td>\n",
       "      <td>24</td>\n",
       "      <td>3.0</td>\n",
       "      <td>1</td>\n",
       "      <td>1</td>\n",
       "      <td>0</td>\n",
       "      <td>77</td>\n",
       "      <td>Technology</td>\n",
       "      <td>region_26</td>\n",
       "      <td>1 Training</td>\n",
       "      <td>Millenial</td>\n",
       "      <td>71-80</td>\n",
       "      <td>0-5</td>\n",
       "      <td>Rating 3</td>\n",
       "    </tr>\n",
       "    <tr>\n",
       "      <th>1</th>\n",
       "      <td>74430</td>\n",
       "      <td>HR</td>\n",
       "      <td>region_4</td>\n",
       "      <td>Bachelor's</td>\n",
       "      <td>f</td>\n",
       "      <td>other</td>\n",
       "      <td>1</td>\n",
       "      <td>31</td>\n",
       "      <td>3.0</td>\n",
       "      <td>5</td>\n",
       "      <td>0</td>\n",
       "      <td>0</td>\n",
       "      <td>51</td>\n",
       "      <td>HR</td>\n",
       "      <td>region_4</td>\n",
       "      <td>1 Training</td>\n",
       "      <td>Millenial</td>\n",
       "      <td>51-60</td>\n",
       "      <td>0-5</td>\n",
       "      <td>Rating 3</td>\n",
       "    </tr>\n",
       "    <tr>\n",
       "      <th>2</th>\n",
       "      <td>72255</td>\n",
       "      <td>Sales &amp; Marketing</td>\n",
       "      <td>region_13</td>\n",
       "      <td>Bachelor's</td>\n",
       "      <td>m</td>\n",
       "      <td>other</td>\n",
       "      <td>1</td>\n",
       "      <td>31</td>\n",
       "      <td>1.0</td>\n",
       "      <td>4</td>\n",
       "      <td>0</td>\n",
       "      <td>0</td>\n",
       "      <td>47</td>\n",
       "      <td>Sales &amp; Marketing</td>\n",
       "      <td>Others</td>\n",
       "      <td>1 Training</td>\n",
       "      <td>Millenial</td>\n",
       "      <td>30-50</td>\n",
       "      <td>0-5</td>\n",
       "      <td>Rating 1</td>\n",
       "    </tr>\n",
       "    <tr>\n",
       "      <th>3</th>\n",
       "      <td>38562</td>\n",
       "      <td>Procurement</td>\n",
       "      <td>region_2</td>\n",
       "      <td>Bachelor's</td>\n",
       "      <td>f</td>\n",
       "      <td>other</td>\n",
       "      <td>3</td>\n",
       "      <td>31</td>\n",
       "      <td>2.0</td>\n",
       "      <td>9</td>\n",
       "      <td>0</td>\n",
       "      <td>0</td>\n",
       "      <td>65</td>\n",
       "      <td>Procurement</td>\n",
       "      <td>Others</td>\n",
       "      <td>3 Trainings</td>\n",
       "      <td>Millenial</td>\n",
       "      <td>61-70</td>\n",
       "      <td>6-10</td>\n",
       "      <td>Rating 2</td>\n",
       "    </tr>\n",
       "    <tr>\n",
       "      <th>4</th>\n",
       "      <td>64486</td>\n",
       "      <td>Finance</td>\n",
       "      <td>region_29</td>\n",
       "      <td>Bachelor's</td>\n",
       "      <td>m</td>\n",
       "      <td>sourcing</td>\n",
       "      <td>1</td>\n",
       "      <td>30</td>\n",
       "      <td>4.0</td>\n",
       "      <td>7</td>\n",
       "      <td>0</td>\n",
       "      <td>0</td>\n",
       "      <td>61</td>\n",
       "      <td>Others</td>\n",
       "      <td>region_29</td>\n",
       "      <td>1 Training</td>\n",
       "      <td>Millenial</td>\n",
       "      <td>61-70</td>\n",
       "      <td>6-10</td>\n",
       "      <td>Rating 4</td>\n",
       "    </tr>\n",
       "  </tbody>\n",
       "</table>\n",
       "</div>"
      ],
      "text/plain": [
       "   employee_id         department     region   education gender  \\\n",
       "0         8724         Technology  region_26  Bachelor's      m   \n",
       "1        74430                 HR   region_4  Bachelor's      f   \n",
       "2        72255  Sales & Marketing  region_13  Bachelor's      m   \n",
       "3        38562        Procurement   region_2  Bachelor's      f   \n",
       "4        64486            Finance  region_29  Bachelor's      m   \n",
       "\n",
       "  recruitment_channel  no_of_trainings  age  previous_year_rating  \\\n",
       "0            sourcing                1   24                   3.0   \n",
       "1               other                1   31                   3.0   \n",
       "2               other                1   31                   1.0   \n",
       "3               other                3   31                   2.0   \n",
       "4            sourcing                1   30                   4.0   \n",
       "\n",
       "   length_of_service  KPIs_met_gt_80  awards_won  avg_training_score  \\\n",
       "0                  1               1           0                  77   \n",
       "1                  5               0           0                  51   \n",
       "2                  4               0           0                  47   \n",
       "3                  9               0           0                  65   \n",
       "4                  7               0           0                  61   \n",
       "\n",
       "            new_dept    new_rgn new_Trainings  age_group Training_Score  \\\n",
       "0         Technology  region_26    1 Training  Millenial          71-80   \n",
       "1                 HR   region_4    1 Training  Millenial          51-60   \n",
       "2  Sales & Marketing     Others    1 Training  Millenial          30-50   \n",
       "3        Procurement     Others   3 Trainings  Millenial          61-70   \n",
       "4             Others  region_29    1 Training  Millenial          61-70   \n",
       "\n",
       "  Tenure Rating_cat  \n",
       "0    0-5   Rating 3  \n",
       "1    0-5   Rating 3  \n",
       "2    0-5   Rating 1  \n",
       "3   6-10   Rating 2  \n",
       "4   6-10   Rating 4  "
      ]
     },
     "execution_count": 108,
     "metadata": {},
     "output_type": "execute_result"
    }
   ],
   "source": [
    "raw_test_data.head()"
   ]
  },
  {
   "cell_type": "code",
   "execution_count": 109,
   "metadata": {},
   "outputs": [],
   "source": [
    "raw_train_data_emp_id = raw_train_data['employee_id']\n",
    "raw_test_data_emp_id = raw_test_data['employee_id']"
   ]
  },
  {
   "cell_type": "code",
   "execution_count": 110,
   "metadata": {},
   "outputs": [],
   "source": [
    "model_train_data = raw_train_data[['education','gender','recruitment_channel','new_Trainings','new_dept',\n",
    "                                  'new_rgn','age_group','Rating_cat','Tenure','Training_Score','KPIs_met_gt_80'\n",
    "                                  ,'awards_won','is_promoted']]\n",
    "\n",
    "model_test_data = raw_test_data[['education','gender','recruitment_channel','new_Trainings','new_dept',\n",
    "                                  'new_rgn','age_group','Rating_cat','Tenure','Training_Score','KPIs_met_gt_80'\n",
    "                                  ,'awards_won']]"
   ]
  },
  {
   "cell_type": "code",
   "execution_count": 111,
   "metadata": {},
   "outputs": [
    {
     "data": {
      "text/html": [
       "<div>\n",
       "<style scoped>\n",
       "    .dataframe tbody tr th:only-of-type {\n",
       "        vertical-align: middle;\n",
       "    }\n",
       "\n",
       "    .dataframe tbody tr th {\n",
       "        vertical-align: top;\n",
       "    }\n",
       "\n",
       "    .dataframe thead th {\n",
       "        text-align: right;\n",
       "    }\n",
       "</style>\n",
       "<table border=\"1\" class=\"dataframe\">\n",
       "  <thead>\n",
       "    <tr style=\"text-align: right;\">\n",
       "      <th></th>\n",
       "      <th>education</th>\n",
       "      <th>gender</th>\n",
       "      <th>recruitment_channel</th>\n",
       "      <th>new_Trainings</th>\n",
       "      <th>new_dept</th>\n",
       "      <th>new_rgn</th>\n",
       "      <th>age_group</th>\n",
       "      <th>Rating_cat</th>\n",
       "      <th>Tenure</th>\n",
       "      <th>Training_Score</th>\n",
       "      <th>KPIs_met_gt_80</th>\n",
       "      <th>awards_won</th>\n",
       "      <th>is_promoted</th>\n",
       "    </tr>\n",
       "  </thead>\n",
       "  <tbody>\n",
       "    <tr>\n",
       "      <th>0</th>\n",
       "      <td>Master's &amp; above</td>\n",
       "      <td>f</td>\n",
       "      <td>sourcing</td>\n",
       "      <td>1 Training</td>\n",
       "      <td>Sales &amp; Marketing</td>\n",
       "      <td>region_7</td>\n",
       "      <td>Millenial</td>\n",
       "      <td>Rating 5</td>\n",
       "      <td>6-10</td>\n",
       "      <td>30-50</td>\n",
       "      <td>1</td>\n",
       "      <td>0</td>\n",
       "      <td>0</td>\n",
       "    </tr>\n",
       "    <tr>\n",
       "      <th>1</th>\n",
       "      <td>Bachelor's</td>\n",
       "      <td>m</td>\n",
       "      <td>other</td>\n",
       "      <td>1 Training</td>\n",
       "      <td>Others</td>\n",
       "      <td>region_22</td>\n",
       "      <td>Millenial</td>\n",
       "      <td>Rating 5</td>\n",
       "      <td>0-5</td>\n",
       "      <td>51-60</td>\n",
       "      <td>0</td>\n",
       "      <td>0</td>\n",
       "      <td>0</td>\n",
       "    </tr>\n",
       "  </tbody>\n",
       "</table>\n",
       "</div>"
      ],
      "text/plain": [
       "          education gender recruitment_channel new_Trainings  \\\n",
       "0  Master's & above      f            sourcing    1 Training   \n",
       "1        Bachelor's      m               other    1 Training   \n",
       "\n",
       "            new_dept    new_rgn  age_group Rating_cat Tenure Training_Score  \\\n",
       "0  Sales & Marketing   region_7  Millenial   Rating 5   6-10          30-50   \n",
       "1             Others  region_22  Millenial   Rating 5    0-5          51-60   \n",
       "\n",
       "   KPIs_met_gt_80  awards_won  is_promoted  \n",
       "0               1           0            0  \n",
       "1               0           0            0  "
      ]
     },
     "execution_count": 111,
     "metadata": {},
     "output_type": "execute_result"
    },
    {
     "data": {
      "text/html": [
       "<div>\n",
       "<style scoped>\n",
       "    .dataframe tbody tr th:only-of-type {\n",
       "        vertical-align: middle;\n",
       "    }\n",
       "\n",
       "    .dataframe tbody tr th {\n",
       "        vertical-align: top;\n",
       "    }\n",
       "\n",
       "    .dataframe thead th {\n",
       "        text-align: right;\n",
       "    }\n",
       "</style>\n",
       "<table border=\"1\" class=\"dataframe\">\n",
       "  <thead>\n",
       "    <tr style=\"text-align: right;\">\n",
       "      <th></th>\n",
       "      <th>education</th>\n",
       "      <th>gender</th>\n",
       "      <th>recruitment_channel</th>\n",
       "      <th>new_Trainings</th>\n",
       "      <th>new_dept</th>\n",
       "      <th>new_rgn</th>\n",
       "      <th>age_group</th>\n",
       "      <th>Rating_cat</th>\n",
       "      <th>Tenure</th>\n",
       "      <th>Training_Score</th>\n",
       "      <th>KPIs_met_gt_80</th>\n",
       "      <th>awards_won</th>\n",
       "    </tr>\n",
       "  </thead>\n",
       "  <tbody>\n",
       "    <tr>\n",
       "      <th>0</th>\n",
       "      <td>Bachelor's</td>\n",
       "      <td>m</td>\n",
       "      <td>sourcing</td>\n",
       "      <td>1 Training</td>\n",
       "      <td>Technology</td>\n",
       "      <td>region_26</td>\n",
       "      <td>Millenial</td>\n",
       "      <td>Rating 3</td>\n",
       "      <td>0-5</td>\n",
       "      <td>71-80</td>\n",
       "      <td>1</td>\n",
       "      <td>0</td>\n",
       "    </tr>\n",
       "    <tr>\n",
       "      <th>1</th>\n",
       "      <td>Bachelor's</td>\n",
       "      <td>f</td>\n",
       "      <td>other</td>\n",
       "      <td>1 Training</td>\n",
       "      <td>HR</td>\n",
       "      <td>region_4</td>\n",
       "      <td>Millenial</td>\n",
       "      <td>Rating 3</td>\n",
       "      <td>0-5</td>\n",
       "      <td>51-60</td>\n",
       "      <td>0</td>\n",
       "      <td>0</td>\n",
       "    </tr>\n",
       "  </tbody>\n",
       "</table>\n",
       "</div>"
      ],
      "text/plain": [
       "    education gender recruitment_channel new_Trainings    new_dept    new_rgn  \\\n",
       "0  Bachelor's      m            sourcing    1 Training  Technology  region_26   \n",
       "1  Bachelor's      f               other    1 Training          HR   region_4   \n",
       "\n",
       "   age_group Rating_cat Tenure Training_Score  KPIs_met_gt_80  awards_won  \n",
       "0  Millenial   Rating 3    0-5          71-80               1           0  \n",
       "1  Millenial   Rating 3    0-5          51-60               0           0  "
      ]
     },
     "execution_count": 111,
     "metadata": {},
     "output_type": "execute_result"
    }
   ],
   "source": [
    "model_train_data.head(2)\n",
    "model_test_data.head(2)"
   ]
  },
  {
   "cell_type": "code",
   "execution_count": 112,
   "metadata": {},
   "outputs": [
    {
     "name": "stdout",
     "output_type": "stream",
     "text": [
      "13\n",
      "12\n"
     ]
    }
   ],
   "source": [
    "print(len(model_train_data.columns))\n",
    "print(len(model_test_data.columns))"
   ]
  },
  {
   "cell_type": "code",
   "execution_count": 113,
   "metadata": {},
   "outputs": [],
   "source": [
    "le = preprocessing.LabelEncoder()"
   ]
  },
  {
   "cell_type": "code",
   "execution_count": 114,
   "metadata": {},
   "outputs": [],
   "source": [
    "model_train_data['education'] = le.fit_transform(model_train_data['education'])\n",
    "model_train_data['gender'] = le.fit_transform(model_train_data['gender'])\n",
    "model_train_data['new_Trainings'] = le.fit_transform(model_train_data['new_Trainings'])\n",
    "model_train_data['new_dept'] = le.fit_transform(model_train_data['new_dept'])\n",
    "model_train_data['new_rgn'] = le.fit_transform(model_train_data['new_rgn'])\n",
    "model_train_data['recruitment_channel'] = le.fit_transform(model_train_data['recruitment_channel'])\n",
    "model_train_data['age_group'] = le.fit_transform(model_train_data['age_group'])\n",
    "model_train_data['Rating_cat'] = le.fit_transform(model_train_data['Rating_cat'])\n",
    "model_train_data['Tenure'] = le.fit_transform(model_train_data['Tenure'])\n",
    "model_train_data['Training_Score'] = le.fit_transform(model_train_data['Training_Score'])\n",
    "model_train_data['KPIs_met_gt_80'] = le.fit_transform(model_train_data['KPIs_met_gt_80'])\n",
    "model_train_data['awards_won'] = le.fit_transform(model_train_data['awards_won'])\n",
    "\n",
    "# Out of time Validation Data\n",
    "model_test_data['education'] = le.fit_transform(model_test_data['education'])\n",
    "model_test_data['gender'] = le.fit_transform(model_test_data['gender'])\n",
    "model_test_data['new_Trainings'] = le.fit_transform(model_test_data['new_Trainings'])\n",
    "model_test_data['new_dept'] = le.fit_transform(model_test_data['new_dept'])\n",
    "model_test_data['new_rgn'] = le.fit_transform(model_test_data['new_rgn'])\n",
    "model_test_data['recruitment_channel'] = le.fit_transform(model_test_data['recruitment_channel'])\n",
    "model_test_data['age_group'] = le.fit_transform(model_test_data['age_group'])\n",
    "model_test_data['Rating_cat'] = le.fit_transform(model_test_data['Rating_cat'])\n",
    "model_test_data['Tenure'] = le.fit_transform(model_test_data['Tenure'])\n",
    "model_test_data['Training_Score'] = le.fit_transform(model_test_data['Training_Score'])\n",
    "model_test_data['KPIs_met_gt_80'] = le.fit_transform(model_test_data['KPIs_met_gt_80'])\n",
    "model_test_data['awards_won'] = le.fit_transform(model_test_data['awards_won'])"
   ]
  },
  {
   "cell_type": "code",
   "execution_count": 115,
   "metadata": {},
   "outputs": [],
   "source": [
    "# encoder = preprocessing.LabelEncoder()\n",
    "# encoder.fit(model_train_data)\n",
    "# print(\"nLabel Mapping:\")\n",
    "# for i, item in enumerate(encoder.classes_):\n",
    "#     print(item, '--&gt;', i)\n",
    "\n",
    "\n",
    "# # %history\n",
    "# label_encoders = {}\n",
    "# categorical_columns = [0,1,2,3,4,5,6,7,8,9,10,11,12]\n",
    "# for column in categorical_columns:\n",
    "#     label_encoders[column] = LabelEncoder()\n",
    "#     model_train_data[column] = label_encoders[column].fit_transform(model_train_data[:, column])"
   ]
  },
  {
   "cell_type": "code",
   "execution_count": 116,
   "metadata": {},
   "outputs": [
    {
     "data": {
      "text/html": [
       "<div>\n",
       "<style scoped>\n",
       "    .dataframe tbody tr th:only-of-type {\n",
       "        vertical-align: middle;\n",
       "    }\n",
       "\n",
       "    .dataframe tbody tr th {\n",
       "        vertical-align: top;\n",
       "    }\n",
       "\n",
       "    .dataframe thead th {\n",
       "        text-align: right;\n",
       "    }\n",
       "</style>\n",
       "<table border=\"1\" class=\"dataframe\">\n",
       "  <thead>\n",
       "    <tr style=\"text-align: right;\">\n",
       "      <th></th>\n",
       "      <th>education</th>\n",
       "      <th>gender</th>\n",
       "      <th>recruitment_channel</th>\n",
       "      <th>new_Trainings</th>\n",
       "      <th>new_dept</th>\n",
       "      <th>new_rgn</th>\n",
       "      <th>age_group</th>\n",
       "      <th>Rating_cat</th>\n",
       "      <th>Tenure</th>\n",
       "      <th>Training_Score</th>\n",
       "      <th>KPIs_met_gt_80</th>\n",
       "      <th>awards_won</th>\n",
       "      <th>is_promoted</th>\n",
       "    </tr>\n",
       "  </thead>\n",
       "  <tbody>\n",
       "    <tr>\n",
       "      <th>0</th>\n",
       "      <td>2</td>\n",
       "      <td>0</td>\n",
       "      <td>2</td>\n",
       "      <td>0</td>\n",
       "      <td>5</td>\n",
       "      <td>16</td>\n",
       "      <td>2</td>\n",
       "      <td>4</td>\n",
       "      <td>2</td>\n",
       "      <td>0</td>\n",
       "      <td>1</td>\n",
       "      <td>0</td>\n",
       "      <td>0</td>\n",
       "    </tr>\n",
       "    <tr>\n",
       "      <th>1</th>\n",
       "      <td>0</td>\n",
       "      <td>1</td>\n",
       "      <td>0</td>\n",
       "      <td>0</td>\n",
       "      <td>3</td>\n",
       "      <td>3</td>\n",
       "      <td>2</td>\n",
       "      <td>4</td>\n",
       "      <td>0</td>\n",
       "      <td>1</td>\n",
       "      <td>0</td>\n",
       "      <td>0</td>\n",
       "      <td>0</td>\n",
       "    </tr>\n",
       "    <tr>\n",
       "      <th>2</th>\n",
       "      <td>0</td>\n",
       "      <td>1</td>\n",
       "      <td>2</td>\n",
       "      <td>0</td>\n",
       "      <td>5</td>\n",
       "      <td>0</td>\n",
       "      <td>2</td>\n",
       "      <td>2</td>\n",
       "      <td>2</td>\n",
       "      <td>0</td>\n",
       "      <td>0</td>\n",
       "      <td>0</td>\n",
       "      <td>0</td>\n",
       "    </tr>\n",
       "  </tbody>\n",
       "</table>\n",
       "</div>"
      ],
      "text/plain": [
       "   education  gender  recruitment_channel  new_Trainings  new_dept  new_rgn  \\\n",
       "0          2       0                    2              0         5       16   \n",
       "1          0       1                    0              0         3        3   \n",
       "2          0       1                    2              0         5        0   \n",
       "\n",
       "   age_group  Rating_cat  Tenure  Training_Score  KPIs_met_gt_80  awards_won  \\\n",
       "0          2           4       2               0               1           0   \n",
       "1          2           4       0               1               0           0   \n",
       "2          2           2       2               0               0           0   \n",
       "\n",
       "   is_promoted  \n",
       "0            0  \n",
       "1            0  \n",
       "2            0  "
      ]
     },
     "execution_count": 116,
     "metadata": {},
     "output_type": "execute_result"
    },
    {
     "data": {
      "text/html": [
       "<div>\n",
       "<style scoped>\n",
       "    .dataframe tbody tr th:only-of-type {\n",
       "        vertical-align: middle;\n",
       "    }\n",
       "\n",
       "    .dataframe tbody tr th {\n",
       "        vertical-align: top;\n",
       "    }\n",
       "\n",
       "    .dataframe thead th {\n",
       "        text-align: right;\n",
       "    }\n",
       "</style>\n",
       "<table border=\"1\" class=\"dataframe\">\n",
       "  <thead>\n",
       "    <tr style=\"text-align: right;\">\n",
       "      <th></th>\n",
       "      <th>education</th>\n",
       "      <th>gender</th>\n",
       "      <th>recruitment_channel</th>\n",
       "      <th>new_Trainings</th>\n",
       "      <th>new_dept</th>\n",
       "      <th>new_rgn</th>\n",
       "      <th>age_group</th>\n",
       "      <th>Rating_cat</th>\n",
       "      <th>Tenure</th>\n",
       "      <th>Training_Score</th>\n",
       "      <th>KPIs_met_gt_80</th>\n",
       "      <th>awards_won</th>\n",
       "    </tr>\n",
       "  </thead>\n",
       "  <tbody>\n",
       "    <tr>\n",
       "      <th>0</th>\n",
       "      <td>0</td>\n",
       "      <td>1</td>\n",
       "      <td>2</td>\n",
       "      <td>0</td>\n",
       "      <td>6</td>\n",
       "      <td>7</td>\n",
       "      <td>2</td>\n",
       "      <td>2</td>\n",
       "      <td>0</td>\n",
       "      <td>3</td>\n",
       "      <td>1</td>\n",
       "      <td>0</td>\n",
       "    </tr>\n",
       "    <tr>\n",
       "      <th>1</th>\n",
       "      <td>0</td>\n",
       "      <td>0</td>\n",
       "      <td>0</td>\n",
       "      <td>0</td>\n",
       "      <td>1</td>\n",
       "      <td>13</td>\n",
       "      <td>2</td>\n",
       "      <td>2</td>\n",
       "      <td>0</td>\n",
       "      <td>1</td>\n",
       "      <td>0</td>\n",
       "      <td>0</td>\n",
       "    </tr>\n",
       "    <tr>\n",
       "      <th>2</th>\n",
       "      <td>0</td>\n",
       "      <td>1</td>\n",
       "      <td>0</td>\n",
       "      <td>0</td>\n",
       "      <td>5</td>\n",
       "      <td>0</td>\n",
       "      <td>2</td>\n",
       "      <td>0</td>\n",
       "      <td>0</td>\n",
       "      <td>0</td>\n",
       "      <td>0</td>\n",
       "      <td>0</td>\n",
       "    </tr>\n",
       "  </tbody>\n",
       "</table>\n",
       "</div>"
      ],
      "text/plain": [
       "   education  gender  recruitment_channel  new_Trainings  new_dept  new_rgn  \\\n",
       "0          0       1                    2              0         6        7   \n",
       "1          0       0                    0              0         1       13   \n",
       "2          0       1                    0              0         5        0   \n",
       "\n",
       "   age_group  Rating_cat  Tenure  Training_Score  KPIs_met_gt_80  awards_won  \n",
       "0          2           2       0               3               1           0  \n",
       "1          2           2       0               1               0           0  \n",
       "2          2           0       0               0               0           0  "
      ]
     },
     "execution_count": 116,
     "metadata": {},
     "output_type": "execute_result"
    }
   ],
   "source": [
    "model_train_data.head(3)\n",
    "model_test_data.head(3)"
   ]
  },
  {
   "cell_type": "code",
   "execution_count": 117,
   "metadata": {},
   "outputs": [],
   "source": [
    "# Writing the data to the folder\n",
    "model_train_data.to_csv('model_train_data.csv')\n",
    "model_test_data.to_csv('model_test_data.csv')"
   ]
  },
  {
   "cell_type": "code",
   "execution_count": 118,
   "metadata": {},
   "outputs": [],
   "source": [
    "# Creating Training and Test data\n",
    "x_train,x_test,y_train,y_test = train_test_split(model_train_data.drop(['is_promoted'],axis=1),\n",
    "                                                 model_train_data['is_promoted'],train_size = 0.7,random_state=1)"
   ]
  },
  {
   "cell_type": "code",
   "execution_count": 119,
   "metadata": {},
   "outputs": [
    {
     "data": {
      "text/plain": [
       "0    35082\n",
       "1     3283\n",
       "Name: is_promoted, dtype: int64"
      ]
     },
     "execution_count": 119,
     "metadata": {},
     "output_type": "execute_result"
    },
    {
     "data": {
      "text/plain": [
       "0    15058\n",
       "1     1385\n",
       "Name: is_promoted, dtype: int64"
      ]
     },
     "execution_count": 119,
     "metadata": {},
     "output_type": "execute_result"
    }
   ],
   "source": [
    "y_train.value_counts()\n",
    "y_test.value_counts()"
   ]
  },
  {
   "cell_type": "code",
   "execution_count": 122,
   "metadata": {},
   "outputs": [
    {
     "name": "stdout",
     "output_type": "stream",
     "text": [
      "(38365, 12)\n",
      "(16443, 12)\n",
      "(38365,)\n",
      "(16443,)\n"
     ]
    }
   ],
   "source": [
    "print(x_train.shape)\n",
    "print(x_test.shape)\n",
    "print(y_train.shape)\n",
    "print(y_test.shape)"
   ]
  },
  {
   "cell_type": "code",
   "execution_count": 123,
   "metadata": {},
   "outputs": [],
   "source": [
    "rf_1 = RandomForestClassifier(n_estimators=500, max_depth = 40, min_samples_split = 5,min_samples_leaf= 2, random_state=13)"
   ]
  },
  {
   "cell_type": "code",
   "execution_count": 123,
   "metadata": {},
   "outputs": [
    {
     "data": {
      "text/plain": [
       "RandomForestClassifier(bootstrap=True, class_weight=None, criterion='gini',\n",
       "            max_depth=40, max_features='auto', max_leaf_nodes=None,\n",
       "            min_impurity_decrease=0.0, min_impurity_split=None,\n",
       "            min_samples_leaf=2, min_samples_split=5,\n",
       "            min_weight_fraction_leaf=0.0, n_estimators=500, n_jobs=None,\n",
       "            oob_score=False, random_state=13, verbose=0, warm_start=False)"
      ]
     },
     "execution_count": 123,
     "metadata": {},
     "output_type": "execute_result"
    }
   ],
   "source": [
    "rf_1.fit(x_train, y_train)"
   ]
  },
  {
   "cell_type": "code",
   "execution_count": 124,
   "metadata": {},
   "outputs": [],
   "source": [
    "y_pred_rf_1 = rf_1.predict(x_test)"
   ]
  },
  {
   "cell_type": "code",
   "execution_count": 140,
   "metadata": {},
   "outputs": [],
   "source": [
    "#Import scikit-learn metrics module for accuracy calculation\n",
    "from sklearn import metrics\n",
    "# Model Accuracy, how often is the classifier correct?\n",
    "print(\"Accuracy:\",metrics.accuracy_score(y_test, y_pred_rf_1))"
   ]
  },
  {
   "cell_type": "code",
   "execution_count": 141,
   "metadata": {},
   "outputs": [],
   "source": [
    "def get_metrics(true_labels, predicted_labels):\n",
    "    print('Accuracy:', np.round(metrics.accuracy_score(true_labels, predicted_labels),2))\n",
    "    print('Precision:', np.round(metrics.precision_score(true_labels, predicted_labels,average='weighted'),2))\n",
    "    print('Recall:', np.round(metrics.recall_score(true_labels, predicted_labels,average='weighted'),2))\n",
    "    print('F1 Score:', np.round(metrics.f1_score(true_labels, predicted_labels,average='weighted'),2))\n",
    "\n",
    "def train_predict_model(classifier,train_features,train_labels,test_features,test_labels):\n",
    "    # build model    \n",
    "    classifier.fit(train_features, train_labels)\n",
    "    # predict using model\n",
    "    predictions = classifier.predict(test_features) \n",
    "    return predictions\n",
    "\n",
    "def confusion_matrix(true_labels, predicted_labels, classes=[1,0]):\n",
    "    total_classes = len(classes)\n",
    "    level_labels = [total_classes*[0], list(range(total_classes))]\n",
    "    cm = metrics.confusion_matrix(y_true=true_labels, y_pred=predicted_labels, labels=classes)\n",
    "    mat_frame = pd.DataFrame(data=cm, columns=pd.MultiIndex(levels=[['Predicted:'], classes], \n",
    "                                                           labels=level_labels), index=pd.MultiIndex(levels=[['Actual:'], classes], labels=level_labels)) \n",
    "    print(mat_frame)\n",
    "\n",
    "def classification_report(true_labels, predicted_labels, classes=[1,0]):\n",
    "    report = metrics.classification_report(y_true=true_labels,y_pred=predicted_labels, labels=classes) \n",
    "    print(report)\n",
    "\n",
    "def model_performance_metrics(true_labels,predicted_labels,classes=[1,0]):\n",
    "    print('Model Performance metrics:')\n",
    "    print('*'*70)\n",
    "    get_metrics(true_labels=true_labels, predicted_labels=predicted_labels)\n",
    "    print('Model Classification report:')\n",
    "    print('*'*70)\n",
    "    classification_report(true_labels=true_labels, predicted_labels=predicted_labels, classes=classes)\n",
    "    print('Prediction Confusion Matrix:')\n",
    "    print('*'*70)\n",
    "    confusion_matrix(true_labels=true_labels, predicted_labels=predicted_labels,classes=classes)"
   ]
  },
  {
   "cell_type": "code",
   "execution_count": 127,
   "metadata": {},
   "outputs": [
    {
     "name": "stdout",
     "output_type": "stream",
     "text": [
      "Model Performance metrics:\n",
      "**********************************************************************\n",
      "Accuracy: 0.93\n",
      "Precision: 0.93\n",
      "Recall: 0.93\n",
      "F1 Score: 0.91\n",
      "Model Classification report:\n",
      "**********************************************************************\n",
      "              precision    recall  f1-score   support\n",
      "\n",
      "           1       0.84      0.24      0.37      1385\n",
      "           0       0.93      1.00      0.96     15058\n",
      "\n",
      "   micro avg       0.93      0.93      0.93     16443\n",
      "   macro avg       0.89      0.62      0.67     16443\n",
      "weighted avg       0.93      0.93      0.91     16443\n",
      "\n",
      "Prediction Confusion Matrix:\n",
      "**********************************************************************\n",
      "          Predicted:       \n",
      "                   1      0\n",
      "Actual: 1        332   1053\n",
      "        0         63  14995\n"
     ]
    }
   ],
   "source": [
    "model_performance_metrics(true_labels=y_test, predicted_labels=y_pred_rf_1, classes=[1, 0])"
   ]
  },
  {
   "cell_type": "code",
   "execution_count": 164,
   "metadata": {},
   "outputs": [],
   "source": [
    "y_pred_rf_1 = rf_1.predict(model_test_data)"
   ]
  },
  {
   "cell_type": "code",
   "execution_count": 165,
   "metadata": {},
   "outputs": [],
   "source": [
    "model_test_data['y_pred_rf_1'] = y_pred_rf_1\n",
    "model_test_data['employee_id'] = raw_test_data_emp_id"
   ]
  },
  {
   "cell_type": "code",
   "execution_count": 166,
   "metadata": {},
   "outputs": [],
   "source": [
    "model_test_data.to_csv('Test_predicted.csv')"
   ]
  },
  {
   "cell_type": "code",
   "execution_count": 167,
   "metadata": {},
   "outputs": [
    {
     "data": {
      "text/plain": [
       "0    22984\n",
       "1      506\n",
       "Name: y_pred_xgb, dtype: int64"
      ]
     },
     "execution_count": 167,
     "metadata": {},
     "output_type": "execute_result"
    }
   ],
   "source": [
    "model_test_data.y_pred_xgb.value_counts()"
   ]
  },
  {
   "cell_type": "code",
   "execution_count": 530,
   "metadata": {},
   "outputs": [],
   "source": [
    "from numpy import loadtxt\n",
    "from xgboost import XGBClassifier"
   ]
  },
  {
   "cell_type": "code",
   "execution_count": 536,
   "metadata": {},
   "outputs": [],
   "source": [
    "model = XGBClassifier(silent=False, \n",
    "                      scale_pos_weight=30,\n",
    "                      learning_rate=0.03,  \n",
    "                      colsample_bytree=1,\n",
    "                      subsample=0.8,\n",
    "                      objective='binary:logistic', \n",
    "                      n_estimators=100, \n",
    "                      reg_alpha=0.3,\n",
    "                      max_depth=20, \n",
    "                      gamma=5,\n",
    "                      seed=27)"
   ]
  },
  {
   "cell_type": "code",
   "execution_count": 537,
   "metadata": {},
   "outputs": [],
   "source": [
    "import re\n",
    "regex = re.compile(r\"\\[|\\]|<\", re.IGNORECASE)"
   ]
  },
  {
   "cell_type": "code",
   "execution_count": 533,
   "metadata": {},
   "outputs": [
    {
     "data": {
      "text/plain": [
       "XGBClassifier(base_score=0.5, booster=None, colsample_bylevel=1,\n",
       "       colsample_bynode=1, colsample_bytree=1, gamma=5, gpu_id=-1,\n",
       "       importance_type='gain', interaction_constraints=None,\n",
       "       learning_rate=0.03, max_delta_step=0, max_depth=20,\n",
       "       min_child_weight=1, missing=nan, monotone_constraints=None,\n",
       "       n_estimators=100, n_jobs=0, num_parallel_tree=1,\n",
       "       objective='binary:logistic', random_state=27, reg_alpha=0.3,\n",
       "       reg_lambda=1, scale_pos_weight=30, seed=27, silent=False,\n",
       "       subsample=0.8, tree_method=None, validate_parameters=False,\n",
       "       verbosity=None)"
      ]
     },
     "execution_count": 533,
     "metadata": {},
     "output_type": "execute_result"
    }
   ],
   "source": [
    "model.fit(x_train,y_train)\n",
    "# model.fit(x_us,y_us)"
   ]
  },
  {
   "cell_type": "code",
   "execution_count": 534,
   "metadata": {},
   "outputs": [],
   "source": [
    "y_pred_xgb = model.predict(x_test)"
   ]
  },
  {
   "cell_type": "code",
   "execution_count": 535,
   "metadata": {},
   "outputs": [
    {
     "name": "stdout",
     "output_type": "stream",
     "text": [
      "Model Performance metrics:\n",
      "**********************************************************************\n",
      "Accuracy: 0.8\n",
      "Precision: 0.91\n",
      "Recall: 0.8\n",
      "F1 Score: 0.84\n",
      "Model Classification report:\n",
      "**********************************************************************\n",
      "              precision    recall  f1-score   support\n",
      "\n",
      "           1       0.25      0.70      0.37      1385\n",
      "           0       0.97      0.81      0.88     15058\n",
      "\n",
      "   micro avg       0.80      0.80      0.80     16443\n",
      "   macro avg       0.61      0.76      0.63     16443\n",
      "weighted avg       0.91      0.80      0.84     16443\n",
      "\n",
      "Prediction Confusion Matrix:\n",
      "**********************************************************************\n",
      "          Predicted:       \n",
      "                   1      0\n",
      "Actual: 1        972    413\n",
      "        0       2885  12173\n"
     ]
    }
   ],
   "source": [
    "model_performance_metrics(true_labels=y_test, predicted_labels=y_pred_xgb, classes=[1, 0])"
   ]
  },
  {
   "cell_type": "code",
   "execution_count": 615,
   "metadata": {},
   "outputs": [],
   "source": [
    "model_1 = XGBClassifier(silent=False, \n",
    "                      scale_pos_weight=3,\n",
    "                      learning_rate=0.001,  \n",
    "                      colsample_bytree=1,\n",
    "                      subsample=0.8,\n",
    "                      objective='binary:logistic', \n",
    "                      n_estimators=500, \n",
    "                      reg_alpha=0.3,\n",
    "                      max_depth=30, \n",
    "                      gamma=10,\n",
    "                      seed=27)"
   ]
  },
  {
   "cell_type": "code",
   "execution_count": 616,
   "metadata": {},
   "outputs": [
    {
     "data": {
      "text/plain": [
       "XGBClassifier(base_score=0.5, booster=None, colsample_bylevel=1,\n",
       "       colsample_bynode=1, colsample_bytree=1, gamma=10, gpu_id=-1,\n",
       "       importance_type='gain', interaction_constraints=None,\n",
       "       learning_rate=0.001, max_delta_step=0, max_depth=30,\n",
       "       min_child_weight=1, missing=nan, monotone_constraints=None,\n",
       "       n_estimators=500, n_jobs=0, num_parallel_tree=1,\n",
       "       objective='binary:logistic', random_state=27, reg_alpha=0.3,\n",
       "       reg_lambda=1, scale_pos_weight=3, seed=27, silent=False,\n",
       "       subsample=0.8, tree_method=None, validate_parameters=False,\n",
       "       verbosity=None)"
      ]
     },
     "execution_count": 616,
     "metadata": {},
     "output_type": "execute_result"
    }
   ],
   "source": [
    "model_1.fit(x_train,y_train)\n",
    "# model.fit(x_us,y_us)"
   ]
  },
  {
   "cell_type": "code",
   "execution_count": 617,
   "metadata": {},
   "outputs": [],
   "source": [
    "y_pred_xgb_1 = model_1.predict(x_test)"
   ]
  },
  {
   "cell_type": "code",
   "execution_count": 618,
   "metadata": {},
   "outputs": [
    {
     "name": "stdout",
     "output_type": "stream",
     "text": [
      "Model Performance metrics:\n",
      "**********************************************************************\n",
      "Accuracy: 0.93\n",
      "Precision: 0.92\n",
      "Recall: 0.93\n",
      "F1 Score: 0.92\n",
      "Model Classification report:\n",
      "**********************************************************************\n",
      "              precision    recall  f1-score   support\n",
      "\n",
      "           1       0.63      0.36      0.46      1385\n",
      "           0       0.94      0.98      0.96     15058\n",
      "\n",
      "   micro avg       0.93      0.93      0.93     16443\n",
      "   macro avg       0.79      0.67      0.71     16443\n",
      "weighted avg       0.92      0.93      0.92     16443\n",
      "\n",
      "Prediction Confusion Matrix:\n",
      "**********************************************************************\n",
      "          Predicted:       \n",
      "                   1      0\n",
      "Actual: 1        499    886\n",
      "        0        292  14766\n"
     ]
    }
   ],
   "source": [
    "model_performance_metrics(true_labels=y_test, predicted_labels=y_pred_xgb_1, classes=[1, 0])"
   ]
  },
  {
   "cell_type": "code",
   "execution_count": 619,
   "metadata": {},
   "outputs": [],
   "source": [
    "y_pred_xgb_val = model_1.predict(model_test_data)"
   ]
  },
  {
   "cell_type": "code",
   "execution_count": 621,
   "metadata": {},
   "outputs": [],
   "source": [
    "model_test_data['y_pred_xgb'] = y_pred_xgb_val"
   ]
  },
  {
   "cell_type": "code",
   "execution_count": 623,
   "metadata": {},
   "outputs": [
    {
     "data": {
      "text/plain": [
       "0    22370\n",
       "1     1120\n",
       "Name: y_pred_xgb, dtype: int64"
      ]
     },
     "execution_count": 623,
     "metadata": {},
     "output_type": "execute_result"
    }
   ],
   "source": [
    "model_test_data.y_pred_xgb.value_counts()"
   ]
  },
  {
   "cell_type": "code",
   "execution_count": 624,
   "metadata": {},
   "outputs": [],
   "source": [
    "model_test_data.to_csv('xgb_model_pred.csv')"
   ]
  },
  {
   "cell_type": "markdown",
   "metadata": {},
   "source": [
    "### Random Forest with Grid Search"
   ]
  },
  {
   "cell_type": "code",
   "execution_count": 7,
   "metadata": {},
   "outputs": [],
   "source": [
    "from pprint import pprint #pretty print"
   ]
  },
  {
   "cell_type": "code",
   "execution_count": 142,
   "metadata": {},
   "outputs": [
    {
     "name": "stdout",
     "output_type": "stream",
     "text": [
      "{'bootstrap': [True, False],\n",
      " 'max_depth': [10, 20, 30, 40, 50, 60, 70, 80, 90, 100, 110, None],\n",
      " 'max_features': ['auto', 'sqrt'],\n",
      " 'min_samples_leaf': [1, 2, 4],\n",
      " 'min_samples_split': [2, 5, 10],\n",
      " 'n_estimators': [200, 400, 600, 800, 1000, 1200, 1400, 1600, 1800, 2000]}\n"
     ]
    }
   ],
   "source": [
    "from sklearn.model_selection import RandomizedSearchCV\n",
    "# Number of trees in random forest\n",
    "n_estimators = [int(x) for x in np.linspace(start = 200, stop = 2000, num = 10)]\n",
    "# Number of features to consider at every split\n",
    "max_features = ['auto', 'sqrt']\n",
    "# Maximum number of levels in tree\n",
    "max_depth = [int(x) for x in np.linspace(10, 110, num = 11)]\n",
    "max_depth.append(None)\n",
    "# Minimum number of samples required to split a node\n",
    "min_samples_split = [2, 5, 10]\n",
    "# Minimum number of samples required at each leaf node\n",
    "min_samples_leaf = [1, 2, 4]\n",
    "# Method of selecting samples for training each tree\n",
    "bootstrap = [True, False]\n",
    "# Create the random grid\n",
    "random_grid = {'n_estimators': n_estimators,\n",
    "               'max_features': max_features,\n",
    "               'max_depth': max_depth,\n",
    "               'min_samples_split': min_samples_split,\n",
    "               'min_samples_leaf': min_samples_leaf,\n",
    "               'bootstrap': bootstrap}\n",
    "\n",
    "pprint(random_grid)"
   ]
  },
  {
   "cell_type": "code",
   "execution_count": 143,
   "metadata": {},
   "outputs": [
    {
     "name": "stdout",
     "output_type": "stream",
     "text": [
      "Fitting 3 folds for each of 10 candidates, totalling 30 fits\n"
     ]
    },
    {
     "name": "stderr",
     "output_type": "stream",
     "text": [
      "[Parallel(n_jobs=-1)]: Using backend LokyBackend with 8 concurrent workers.\n",
      "[Parallel(n_jobs=-1)]: Done  30 out of  30 | elapsed:  5.6min finished\n"
     ]
    },
    {
     "data": {
      "text/plain": [
       "RandomizedSearchCV(cv=3, error_score='raise-deprecating',\n",
       "          estimator=RandomForestClassifier(bootstrap=True, class_weight=None, criterion='gini',\n",
       "            max_depth=None, max_features='auto', max_leaf_nodes=None,\n",
       "            min_impurity_decrease=0.0, min_impurity_split=None,\n",
       "            min_samples_leaf=1, min_samples_split=2,\n",
       "            min_weight_fraction_leaf=0.0, n_estimators='warn', n_jobs=None,\n",
       "            oob_score=False, random_state=None, verbose=0,\n",
       "            warm_start=False),\n",
       "          fit_params=None, iid='warn', n_iter=10, n_jobs=-1,\n",
       "          param_distributions={'n_estimators': [200, 400, 600, 800, 1000, 1200, 1400, 1600, 1800, 2000], 'max_features': ['auto', 'sqrt'], 'max_depth': [10, 20, 30, 40, 50, 60, 70, 80, 90, 100, 110, None], 'min_samples_split': [2, 5, 10], 'min_samples_leaf': [1, 2, 4], 'bootstrap': [True, False]},\n",
       "          pre_dispatch='2*n_jobs', random_state=42, refit=True,\n",
       "          return_train_score='warn', scoring=None, verbose=2)"
      ]
     },
     "execution_count": 143,
     "metadata": {},
     "output_type": "execute_result"
    }
   ],
   "source": [
    "# Use the random grid to search for best hyperparameters\n",
    "# First create the base model to tune\n",
    "rf_gs = RandomForestClassifier()\n",
    "# Random search of parameters, using 3 fold cross validation, \n",
    "# search across 100 different combinations, and use all available cores\n",
    "rf_random = RandomizedSearchCV(estimator = rf_gs, param_distributions = random_grid, n_iter = 10,\n",
    "                               cv = 3, verbose=2, random_state=42, n_jobs = -1)\n",
    "# Fit the random search model\n",
    "rf_random.fit(x_train, y_train)"
   ]
  },
  {
   "cell_type": "markdown",
   "metadata": {},
   "source": [
    "The most important arguments in RandomizedSearchCV are n_iter, \n",
    "which controls the number of different combinations to try, \n",
    "and cv which is the number of folds to use for cross validation (we use 100 and 3 respectively). \n",
    "More iterations will cover a wider search space and more cv folds reduces the chances of overfitting,\n",
    "but raising each will increase the run time. Machine learning is a field of trade-offs,\n",
    "and performance vs time is one of the most fundamental."
   ]
  },
  {
   "cell_type": "code",
   "execution_count": 144,
   "metadata": {},
   "outputs": [
    {
     "data": {
      "text/plain": [
       "{'n_estimators': 200,\n",
       " 'min_samples_split': 10,\n",
       " 'min_samples_leaf': 2,\n",
       " 'max_features': 'sqrt',\n",
       " 'max_depth': 50,\n",
       " 'bootstrap': True}"
      ]
     },
     "execution_count": 144,
     "metadata": {},
     "output_type": "execute_result"
    }
   ],
   "source": [
    "rf_random.best_params_"
   ]
  },
  {
   "cell_type": "code",
   "execution_count": 145,
   "metadata": {},
   "outputs": [],
   "source": [
    "rf_gs_best = RandomForestClassifier(n_estimators=200, max_depth = 50, min_samples_split = 10,min_samples_leaf= 2,\n",
    "                                    max_features = 'sqrt', bootstrap = True, random_state=13)"
   ]
  },
  {
   "cell_type": "code",
   "execution_count": 146,
   "metadata": {},
   "outputs": [
    {
     "data": {
      "text/plain": [
       "RandomForestClassifier(bootstrap=True, class_weight=None, criterion='gini',\n",
       "            max_depth=50, max_features='sqrt', max_leaf_nodes=None,\n",
       "            min_impurity_decrease=0.0, min_impurity_split=None,\n",
       "            min_samples_leaf=2, min_samples_split=10,\n",
       "            min_weight_fraction_leaf=0.0, n_estimators=200, n_jobs=None,\n",
       "            oob_score=False, random_state=13, verbose=0, warm_start=False)"
      ]
     },
     "execution_count": 146,
     "metadata": {},
     "output_type": "execute_result"
    }
   ],
   "source": [
    "rf_gs_best"
   ]
  },
  {
   "cell_type": "code",
   "execution_count": 147,
   "metadata": {},
   "outputs": [
    {
     "data": {
      "text/plain": [
       "RandomForestClassifier(bootstrap=True, class_weight=None, criterion='gini',\n",
       "            max_depth=50, max_features='sqrt', max_leaf_nodes=None,\n",
       "            min_impurity_decrease=0.0, min_impurity_split=None,\n",
       "            min_samples_leaf=2, min_samples_split=10,\n",
       "            min_weight_fraction_leaf=0.0, n_estimators=200, n_jobs=None,\n",
       "            oob_score=False, random_state=13, verbose=0, warm_start=False)"
      ]
     },
     "execution_count": 147,
     "metadata": {},
     "output_type": "execute_result"
    }
   ],
   "source": [
    "rf_gs_best.fit(x_train, y_train)"
   ]
  },
  {
   "cell_type": "code",
   "execution_count": 148,
   "metadata": {},
   "outputs": [],
   "source": [
    "y_pred_rf_gs_best = rf_gs_best.predict(x_test)"
   ]
  },
  {
   "cell_type": "code",
   "execution_count": 150,
   "metadata": {},
   "outputs": [
    {
     "name": "stdout",
     "output_type": "stream",
     "text": [
      "Model Performance metrics:\n",
      "**********************************************************************\n",
      "Accuracy: 0.93\n",
      "Precision: 0.93\n",
      "Recall: 0.93\n",
      "F1 Score: 0.92\n",
      "Model Classification report:\n",
      "**********************************************************************\n",
      "              precision    recall  f1-score   support\n",
      "\n",
      "           1       0.90      0.24      0.37      1385\n",
      "           0       0.93      1.00      0.96     15058\n",
      "\n",
      "   micro avg       0.93      0.93      0.93     16443\n",
      "   macro avg       0.92      0.62      0.67     16443\n",
      "weighted avg       0.93      0.93      0.92     16443\n",
      "\n",
      "Prediction Confusion Matrix:\n",
      "**********************************************************************\n",
      "          Predicted:       \n",
      "                   1      0\n",
      "Actual: 1        327   1058\n",
      "        0         36  15022\n"
     ]
    }
   ],
   "source": [
    "model_performance_metrics(true_labels=y_test, predicted_labels=y_pred_rf_gs_best, classes=[1, 0])"
   ]
  },
  {
   "cell_type": "code",
   "execution_count": 155,
   "metadata": {},
   "outputs": [
    {
     "data": {
      "text/html": [
       "<div>\n",
       "<style scoped>\n",
       "    .dataframe tbody tr th:only-of-type {\n",
       "        vertical-align: middle;\n",
       "    }\n",
       "\n",
       "    .dataframe tbody tr th {\n",
       "        vertical-align: top;\n",
       "    }\n",
       "\n",
       "    .dataframe thead th {\n",
       "        text-align: right;\n",
       "    }\n",
       "</style>\n",
       "<table border=\"1\" class=\"dataframe\">\n",
       "  <thead>\n",
       "    <tr style=\"text-align: right;\">\n",
       "      <th></th>\n",
       "      <th>education</th>\n",
       "      <th>gender</th>\n",
       "      <th>recruitment_channel</th>\n",
       "      <th>new_Trainings</th>\n",
       "      <th>new_dept</th>\n",
       "      <th>new_rgn</th>\n",
       "      <th>age_group</th>\n",
       "      <th>Rating_cat</th>\n",
       "      <th>Tenure</th>\n",
       "      <th>Training_Score</th>\n",
       "      <th>KPIs_met_gt_80</th>\n",
       "      <th>awards_won</th>\n",
       "    </tr>\n",
       "  </thead>\n",
       "  <tbody>\n",
       "    <tr>\n",
       "      <th>0</th>\n",
       "      <td>0</td>\n",
       "      <td>1</td>\n",
       "      <td>2</td>\n",
       "      <td>0</td>\n",
       "      <td>6</td>\n",
       "      <td>7</td>\n",
       "      <td>2</td>\n",
       "      <td>2</td>\n",
       "      <td>0</td>\n",
       "      <td>3</td>\n",
       "      <td>1</td>\n",
       "      <td>0</td>\n",
       "    </tr>\n",
       "    <tr>\n",
       "      <th>1</th>\n",
       "      <td>0</td>\n",
       "      <td>0</td>\n",
       "      <td>0</td>\n",
       "      <td>0</td>\n",
       "      <td>1</td>\n",
       "      <td>13</td>\n",
       "      <td>2</td>\n",
       "      <td>2</td>\n",
       "      <td>0</td>\n",
       "      <td>1</td>\n",
       "      <td>0</td>\n",
       "      <td>0</td>\n",
       "    </tr>\n",
       "    <tr>\n",
       "      <th>2</th>\n",
       "      <td>0</td>\n",
       "      <td>1</td>\n",
       "      <td>0</td>\n",
       "      <td>0</td>\n",
       "      <td>5</td>\n",
       "      <td>0</td>\n",
       "      <td>2</td>\n",
       "      <td>0</td>\n",
       "      <td>0</td>\n",
       "      <td>0</td>\n",
       "      <td>0</td>\n",
       "      <td>0</td>\n",
       "    </tr>\n",
       "    <tr>\n",
       "      <th>3</th>\n",
       "      <td>0</td>\n",
       "      <td>0</td>\n",
       "      <td>0</td>\n",
       "      <td>2</td>\n",
       "      <td>4</td>\n",
       "      <td>0</td>\n",
       "      <td>2</td>\n",
       "      <td>1</td>\n",
       "      <td>2</td>\n",
       "      <td>2</td>\n",
       "      <td>0</td>\n",
       "      <td>0</td>\n",
       "    </tr>\n",
       "    <tr>\n",
       "      <th>4</th>\n",
       "      <td>0</td>\n",
       "      <td>1</td>\n",
       "      <td>2</td>\n",
       "      <td>0</td>\n",
       "      <td>3</td>\n",
       "      <td>9</td>\n",
       "      <td>2</td>\n",
       "      <td>3</td>\n",
       "      <td>2</td>\n",
       "      <td>2</td>\n",
       "      <td>0</td>\n",
       "      <td>0</td>\n",
       "    </tr>\n",
       "  </tbody>\n",
       "</table>\n",
       "</div>"
      ],
      "text/plain": [
       "   education  gender  recruitment_channel  new_Trainings  new_dept  new_rgn  \\\n",
       "0          0       1                    2              0         6        7   \n",
       "1          0       0                    0              0         1       13   \n",
       "2          0       1                    0              0         5        0   \n",
       "3          0       0                    0              2         4        0   \n",
       "4          0       1                    2              0         3        9   \n",
       "\n",
       "   age_group  Rating_cat  Tenure  Training_Score  KPIs_met_gt_80  awards_won  \n",
       "0          2           2       0               3               1           0  \n",
       "1          2           2       0               1               0           0  \n",
       "2          2           0       0               0               0           0  \n",
       "3          2           1       2               2               0           0  \n",
       "4          2           3       2               2               0           0  "
      ]
     },
     "execution_count": 155,
     "metadata": {},
     "output_type": "execute_result"
    }
   ],
   "source": [
    "model_test_data.head()"
   ]
  },
  {
   "cell_type": "code",
   "execution_count": 157,
   "metadata": {},
   "outputs": [],
   "source": [
    "y_pred_rf_gs_best = rf_gs_best.predict(model_test_data)"
   ]
  },
  {
   "cell_type": "code",
   "execution_count": 158,
   "metadata": {},
   "outputs": [
    {
     "data": {
      "text/html": [
       "<div>\n",
       "<style scoped>\n",
       "    .dataframe tbody tr th:only-of-type {\n",
       "        vertical-align: middle;\n",
       "    }\n",
       "\n",
       "    .dataframe tbody tr th {\n",
       "        vertical-align: top;\n",
       "    }\n",
       "\n",
       "    .dataframe thead th {\n",
       "        text-align: right;\n",
       "    }\n",
       "</style>\n",
       "<table border=\"1\" class=\"dataframe\">\n",
       "  <thead>\n",
       "    <tr style=\"text-align: right;\">\n",
       "      <th></th>\n",
       "      <th>education</th>\n",
       "      <th>gender</th>\n",
       "      <th>recruitment_channel</th>\n",
       "      <th>new_Trainings</th>\n",
       "      <th>new_dept</th>\n",
       "      <th>new_rgn</th>\n",
       "      <th>age_group</th>\n",
       "      <th>Rating_cat</th>\n",
       "      <th>Tenure</th>\n",
       "      <th>Training_Score</th>\n",
       "      <th>KPIs_met_gt_80</th>\n",
       "      <th>awards_won</th>\n",
       "      <th>is_promoted</th>\n",
       "      <th>employee_id</th>\n",
       "    </tr>\n",
       "  </thead>\n",
       "  <tbody>\n",
       "    <tr>\n",
       "      <th>0</th>\n",
       "      <td>0</td>\n",
       "      <td>1</td>\n",
       "      <td>2</td>\n",
       "      <td>0</td>\n",
       "      <td>6</td>\n",
       "      <td>7</td>\n",
       "      <td>2</td>\n",
       "      <td>2</td>\n",
       "      <td>0</td>\n",
       "      <td>3</td>\n",
       "      <td>1</td>\n",
       "      <td>0</td>\n",
       "      <td>0</td>\n",
       "      <td>8724</td>\n",
       "    </tr>\n",
       "    <tr>\n",
       "      <th>1</th>\n",
       "      <td>0</td>\n",
       "      <td>0</td>\n",
       "      <td>0</td>\n",
       "      <td>0</td>\n",
       "      <td>1</td>\n",
       "      <td>13</td>\n",
       "      <td>2</td>\n",
       "      <td>2</td>\n",
       "      <td>0</td>\n",
       "      <td>1</td>\n",
       "      <td>0</td>\n",
       "      <td>0</td>\n",
       "      <td>0</td>\n",
       "      <td>74430</td>\n",
       "    </tr>\n",
       "    <tr>\n",
       "      <th>2</th>\n",
       "      <td>0</td>\n",
       "      <td>1</td>\n",
       "      <td>0</td>\n",
       "      <td>0</td>\n",
       "      <td>5</td>\n",
       "      <td>0</td>\n",
       "      <td>2</td>\n",
       "      <td>0</td>\n",
       "      <td>0</td>\n",
       "      <td>0</td>\n",
       "      <td>0</td>\n",
       "      <td>0</td>\n",
       "      <td>0</td>\n",
       "      <td>72255</td>\n",
       "    </tr>\n",
       "    <tr>\n",
       "      <th>3</th>\n",
       "      <td>0</td>\n",
       "      <td>0</td>\n",
       "      <td>0</td>\n",
       "      <td>2</td>\n",
       "      <td>4</td>\n",
       "      <td>0</td>\n",
       "      <td>2</td>\n",
       "      <td>1</td>\n",
       "      <td>2</td>\n",
       "      <td>2</td>\n",
       "      <td>0</td>\n",
       "      <td>0</td>\n",
       "      <td>0</td>\n",
       "      <td>38562</td>\n",
       "    </tr>\n",
       "    <tr>\n",
       "      <th>4</th>\n",
       "      <td>0</td>\n",
       "      <td>1</td>\n",
       "      <td>2</td>\n",
       "      <td>0</td>\n",
       "      <td>3</td>\n",
       "      <td>9</td>\n",
       "      <td>2</td>\n",
       "      <td>3</td>\n",
       "      <td>2</td>\n",
       "      <td>2</td>\n",
       "      <td>0</td>\n",
       "      <td>0</td>\n",
       "      <td>0</td>\n",
       "      <td>64486</td>\n",
       "    </tr>\n",
       "  </tbody>\n",
       "</table>\n",
       "</div>"
      ],
      "text/plain": [
       "   education  gender  recruitment_channel  new_Trainings  new_dept  new_rgn  \\\n",
       "0          0       1                    2              0         6        7   \n",
       "1          0       0                    0              0         1       13   \n",
       "2          0       1                    0              0         5        0   \n",
       "3          0       0                    0              2         4        0   \n",
       "4          0       1                    2              0         3        9   \n",
       "\n",
       "   age_group  Rating_cat  Tenure  Training_Score  KPIs_met_gt_80  awards_won  \\\n",
       "0          2           2       0               3               1           0   \n",
       "1          2           2       0               1               0           0   \n",
       "2          2           0       0               0               0           0   \n",
       "3          2           1       2               2               0           0   \n",
       "4          2           3       2               2               0           0   \n",
       "\n",
       "   is_promoted  employee_id  \n",
       "0            0         8724  \n",
       "1            0        74430  \n",
       "2            0        72255  \n",
       "3            0        38562  \n",
       "4            0        64486  "
      ]
     },
     "execution_count": 158,
     "metadata": {},
     "output_type": "execute_result"
    }
   ],
   "source": [
    "model_test_data['is_promoted'] = y_pred_rf_gs_best\n",
    "model_test_data['employee_id'] = raw_test_data_emp_id\n",
    "model_test_data.head()"
   ]
  },
  {
   "cell_type": "code",
   "execution_count": 160,
   "metadata": {},
   "outputs": [
    {
     "data": {
      "text/plain": [
       "0    23020\n",
       "1      470\n",
       "Name: is_promoted, dtype: int64"
      ]
     },
     "execution_count": 160,
     "metadata": {},
     "output_type": "execute_result"
    }
   ],
   "source": [
    "model_test_data.is_promoted.value_counts()"
   ]
  },
  {
   "cell_type": "code",
   "execution_count": 161,
   "metadata": {},
   "outputs": [],
   "source": [
    "model_test_data.to_csv('Test_predicted_rf_gs_best.csv')"
   ]
  },
  {
   "cell_type": "markdown",
   "metadata": {},
   "source": [
    "### Oversampling Method"
   ]
  },
  {
   "cell_type": "code",
   "execution_count": 134,
   "metadata": {},
   "outputs": [],
   "source": [
    "# import imblearn\n",
    "# # import imblearn\n",
    "# from imblearn.under_sampling import RandomUnderSampler"
   ]
  },
  {
   "cell_type": "code",
   "execution_count": 135,
   "metadata": {},
   "outputs": [],
   "source": []
  },
  {
   "cell_type": "code",
   "execution_count": 136,
   "metadata": {},
   "outputs": [],
   "source": [
    "# # x_train,x_test,y_train,y_test\n",
    "# rus = RandomUnderSampler(return_indices=True)\n",
    "# x_us, y_us, id_us = rus.fit_sample(x_train, y_train)"
   ]
  },
  {
   "cell_type": "code",
   "execution_count": 215,
   "metadata": {},
   "outputs": [],
   "source": [
    "from imblearn.over_sampling import SMOTE\n",
    "sm = SMOTE(random_state=2,sampling_strategy= 0.27)"
   ]
  },
  {
   "cell_type": "code",
   "execution_count": 216,
   "metadata": {},
   "outputs": [],
   "source": [
    "x_train_os, y_train_os = sm.fit_sample(x_train, y_train)"
   ]
  },
  {
   "cell_type": "code",
   "execution_count": 217,
   "metadata": {},
   "outputs": [
    {
     "name": "stdout",
     "output_type": "stream",
     "text": [
      "Before OverSampling, counts of label '1': 3283\n",
      "Before OverSampling, counts of label '0': 35082 \n",
      "\n"
     ]
    }
   ],
   "source": [
    "print(\"Before OverSampling, counts of label '1': {}\".format(sum(y_train == 1)))\n",
    "print(\"Before OverSampling, counts of label '0': {} \\n\".format(sum(y_train ==0)))"
   ]
  },
  {
   "cell_type": "code",
   "execution_count": 218,
   "metadata": {},
   "outputs": [
    {
     "name": "stdout",
     "output_type": "stream",
     "text": [
      "After OverSampling, the shape of train_X: (44554, 12)\n",
      "After OverSampling, the shape of train_y: (44554,) \n",
      "\n"
     ]
    }
   ],
   "source": [
    "print('After OverSampling, the shape of train_X: {}'.format(x_train_os.shape))\n",
    "print('After OverSampling, the shape of train_y: {} \\n'.format(y_train_os.shape))"
   ]
  },
  {
   "cell_type": "code",
   "execution_count": 219,
   "metadata": {},
   "outputs": [
    {
     "name": "stdout",
     "output_type": "stream",
     "text": [
      "After OverSampling, counts of label '1': 9472\n",
      "After OverSampling, counts of label '0': 35082\n"
     ]
    }
   ],
   "source": [
    "print(\"After OverSampling, counts of label '1': {}\".format(sum(y_train_os==1)))\n",
    "print(\"After OverSampling, counts of label '0': {}\".format(sum(y_train_os==0)))"
   ]
  },
  {
   "cell_type": "code",
   "execution_count": 220,
   "metadata": {},
   "outputs": [],
   "source": [
    "rf_smote1 = RandomForestClassifier(n_estimators=1000, max_depth=40, min_samples_split = 30,min_samples_leaf=5, random_state=17)\n",
    "# rf_1 = RandomForestClassifier(n_estimators=500, max_depth = 40, min_samples_split = 5,min_samples_leaf= 2, random_state=13)"
   ]
  },
  {
   "cell_type": "code",
   "execution_count": 221,
   "metadata": {},
   "outputs": [
    {
     "data": {
      "text/plain": [
       "RandomForestClassifier(bootstrap=True, ccp_alpha=0.0, class_weight=None,\n",
       "                       criterion='gini', max_depth=40, max_features='auto',\n",
       "                       max_leaf_nodes=None, max_samples=None,\n",
       "                       min_impurity_decrease=0.0, min_impurity_split=None,\n",
       "                       min_samples_leaf=5, min_samples_split=30,\n",
       "                       min_weight_fraction_leaf=0.0, n_estimators=1000,\n",
       "                       n_jobs=None, oob_score=False, random_state=17, verbose=0,\n",
       "                       warm_start=False)"
      ]
     },
     "execution_count": 221,
     "metadata": {},
     "output_type": "execute_result"
    }
   ],
   "source": [
    "rf_smote1.fit(x_train_os, y_train_os)"
   ]
  },
  {
   "cell_type": "code",
   "execution_count": 222,
   "metadata": {},
   "outputs": [],
   "source": [
    "y_smote_1 = rf_smote1.predict(x_test)"
   ]
  },
  {
   "cell_type": "code",
   "execution_count": 223,
   "metadata": {},
   "outputs": [
    {
     "name": "stdout",
     "output_type": "stream",
     "text": [
      "Model Performance metrics:\n",
      "**********************************************************************\n",
      "Accuracy: 0.92\n",
      "Precision: 0.9\n",
      "Recall: 0.92\n",
      "F1 Score: 0.91\n",
      "Model Classification report:\n",
      "**********************************************************************\n",
      "              precision    recall  f1-score   support\n",
      "\n",
      "           1       0.51      0.32      0.39      1385\n",
      "           0       0.94      0.97      0.96     15058\n",
      "\n",
      "    accuracy                           0.92     16443\n",
      "   macro avg       0.72      0.64      0.67     16443\n",
      "weighted avg       0.90      0.92      0.91     16443\n",
      "\n",
      "Prediction Confusion Matrix:\n",
      "**********************************************************************\n",
      "          Predicted:       \n",
      "                   1      0\n",
      "Actual: 1        439    946\n",
      "        0        423  14635\n"
     ]
    }
   ],
   "source": [
    "model_performance_metrics(true_labels=y_test, predicted_labels=y_smote_1, classes=[1, 0])"
   ]
  },
  {
   "cell_type": "code",
   "execution_count": 290,
   "metadata": {},
   "outputs": [
    {
     "data": {
      "text/plain": [
       "RandomUnderSampler(random_state=None, replacement=False, sampling_strategy=0.33)"
      ]
     },
     "execution_count": 290,
     "metadata": {},
     "output_type": "execute_result"
    }
   ],
   "source": [
    "under = RandomUnderSampler(sampling_strategy=0.33)\n",
    "under"
   ]
  },
  {
   "cell_type": "code",
   "execution_count": 291,
   "metadata": {},
   "outputs": [],
   "source": [
    "X_resampled, y_resampled = under.fit_resample(x_train, y_train)"
   ]
  },
  {
   "cell_type": "code",
   "execution_count": 292,
   "metadata": {},
   "outputs": [],
   "source": [
    "# from imblearn.combine import SMOTEENN\n",
    "# from imblearn.combine import SMOTETomek"
   ]
  },
  {
   "cell_type": "code",
   "execution_count": 293,
   "metadata": {},
   "outputs": [],
   "source": [
    "# smote_enn = SMOTEENN(random_state=0)\n",
    "# smote_tomek = SMOTETomek(random_state=0)"
   ]
  },
  {
   "cell_type": "code",
   "execution_count": 294,
   "metadata": {},
   "outputs": [],
   "source": [
    "# X_resampled, y_resampled = smote_enn.fit_resample(x_train, y_train)"
   ]
  },
  {
   "cell_type": "code",
   "execution_count": 295,
   "metadata": {},
   "outputs": [
    {
     "name": "stdout",
     "output_type": "stream",
     "text": [
      "After OverSampling, counts of label '1': 3283\n",
      "After OverSampling, counts of label '0': 9948\n"
     ]
    }
   ],
   "source": [
    "print(\"After OverSampling, counts of label '1': {}\".format(sum(y_resampled==1)))\n",
    "print(\"After OverSampling, counts of label '0': {}\".format(sum(y_resampled==0)))"
   ]
  },
  {
   "cell_type": "code",
   "execution_count": 303,
   "metadata": {},
   "outputs": [],
   "source": [
    "rf_smote1 = RandomForestClassifier(n_estimators=1000, max_depth=50, min_samples_split = 40,\n",
    "                                   min_samples_leaf=10, random_state=17)"
   ]
  },
  {
   "cell_type": "code",
   "execution_count": 304,
   "metadata": {},
   "outputs": [
    {
     "data": {
      "text/plain": [
       "RandomForestClassifier(bootstrap=True, ccp_alpha=0.0, class_weight=None,\n",
       "                       criterion='gini', max_depth=50, max_features='auto',\n",
       "                       max_leaf_nodes=None, max_samples=None,\n",
       "                       min_impurity_decrease=0.0, min_impurity_split=None,\n",
       "                       min_samples_leaf=5, min_samples_split=40,\n",
       "                       min_weight_fraction_leaf=0.0, n_estimators=1000,\n",
       "                       n_jobs=None, oob_score=False, random_state=17, verbose=0,\n",
       "                       warm_start=False)"
      ]
     },
     "execution_count": 304,
     "metadata": {},
     "output_type": "execute_result"
    }
   ],
   "source": [
    "rf_smote1.fit(X_resampled, y_resampled)"
   ]
  },
  {
   "cell_type": "code",
   "execution_count": 305,
   "metadata": {},
   "outputs": [],
   "source": [
    "y_smote_1 = rf_smote1.predict(x_test)"
   ]
  },
  {
   "cell_type": "code",
   "execution_count": 306,
   "metadata": {},
   "outputs": [
    {
     "name": "stdout",
     "output_type": "stream",
     "text": [
      "Model Performance metrics:\n",
      "**********************************************************************\n",
      "Accuracy: 0.91\n",
      "Precision: 0.9\n",
      "Recall: 0.91\n",
      "F1 Score: 0.91\n",
      "Model Classification report:\n",
      "**********************************************************************\n",
      "              precision    recall  f1-score   support\n",
      "\n",
      "           1       0.47      0.38      0.42      1385\n",
      "           0       0.94      0.96      0.95     15058\n",
      "\n",
      "    accuracy                           0.91     16443\n",
      "   macro avg       0.71      0.67      0.69     16443\n",
      "weighted avg       0.90      0.91      0.91     16443\n",
      "\n",
      "Prediction Confusion Matrix:\n",
      "**********************************************************************\n",
      "          Predicted:       \n",
      "                   1      0\n",
      "Actual: 1        533    852\n",
      "        0        608  14450\n"
     ]
    }
   ],
   "source": [
    "model_performance_metrics(true_labels=y_test, predicted_labels=y_smote_1, classes=[1, 0])"
   ]
  },
  {
   "cell_type": "code",
   "execution_count": 308,
   "metadata": {},
   "outputs": [],
   "source": [
    "from numpy import loadtxt\n",
    "from xgboost import XGBClassifier"
   ]
  },
  {
   "cell_type": "code",
   "execution_count": 425,
   "metadata": {},
   "outputs": [
    {
     "data": {
      "text/plain": [
       "RandomUnderSampler(random_state=None, replacement=False, sampling_strategy=0.11)"
      ]
     },
     "execution_count": 425,
     "metadata": {},
     "output_type": "execute_result"
    }
   ],
   "source": [
    "under = RandomUnderSampler(sampling_strategy=0.11)\n",
    "under"
   ]
  },
  {
   "cell_type": "code",
   "execution_count": 426,
   "metadata": {},
   "outputs": [],
   "source": [
    "X_resampled, y_resampled = under.fit_resample(x_train, y_train)"
   ]
  },
  {
   "cell_type": "code",
   "execution_count": 427,
   "metadata": {},
   "outputs": [
    {
     "name": "stdout",
     "output_type": "stream",
     "text": [
      "After OverSampling, counts of label '1': 3283\n",
      "After OverSampling, counts of label '0': 29845\n"
     ]
    }
   ],
   "source": [
    "print(\"After OverSampling, counts of label '1': {}\".format(sum(y_resampled==1)))\n",
    "print(\"After OverSampling, counts of label '0': {}\".format(sum(y_resampled==0)))"
   ]
  },
  {
   "cell_type": "code",
   "execution_count": 428,
   "metadata": {},
   "outputs": [],
   "source": [
    "xgb_us = XGBClassifier(silent=False, \n",
    "#                       scale_pos_weight=3,\n",
    "                      learning_rate=0.3,  \n",
    "                      colsample_bytree=1,\n",
    "                      subsample=0.8,\n",
    "                      objective='binary:logistic', \n",
    "                      n_estimators=500, \n",
    "                      reg_alpha=0.3,\n",
    "                      max_depth=3, \n",
    "                      gamma=1,\n",
    "                      seed=27)"
   ]
  },
  {
   "cell_type": "code",
   "execution_count": 429,
   "metadata": {},
   "outputs": [
    {
     "data": {
      "text/plain": [
       "XGBClassifier(base_score=0.5, booster=None, colsample_bylevel=1,\n",
       "              colsample_bynode=1, colsample_bytree=1, gamma=1, gpu_id=-1,\n",
       "              importance_type='gain', interaction_constraints=None,\n",
       "              learning_rate=0.3, max_delta_step=0, max_depth=3,\n",
       "              min_child_weight=1, missing=nan, monotone_constraints=None,\n",
       "              n_estimators=500, n_jobs=0, num_parallel_tree=1,\n",
       "              objective='binary:logistic', random_state=27, reg_alpha=0.3,\n",
       "              reg_lambda=1, scale_pos_weight=1, seed=27, silent=False,\n",
       "              subsample=0.8, tree_method=None, validate_parameters=False,\n",
       "              verbosity=None)"
      ]
     },
     "execution_count": 429,
     "metadata": {},
     "output_type": "execute_result"
    }
   ],
   "source": [
    "xgb_us.fit(X_resampled, y_resampled)\n",
    "# model.fit(x_us,y_us)"
   ]
  },
  {
   "cell_type": "code",
   "execution_count": 430,
   "metadata": {},
   "outputs": [],
   "source": [
    "y_pred_xgb_us = xgb_us.predict(x_test)"
   ]
  },
  {
   "cell_type": "code",
   "execution_count": 431,
   "metadata": {},
   "outputs": [
    {
     "name": "stdout",
     "output_type": "stream",
     "text": [
      "Model Performance metrics:\n",
      "**********************************************************************\n",
      "Accuracy: 0.94\n",
      "Precision: 0.93\n",
      "Recall: 0.94\n",
      "F1 Score: 0.92\n",
      "Model Classification report:\n",
      "**********************************************************************\n",
      "              precision    recall  f1-score   support\n",
      "\n",
      "           1       0.84      0.31      0.45      1385\n",
      "           0       0.94      0.99      0.97     15058\n",
      "\n",
      "    accuracy                           0.94     16443\n",
      "   macro avg       0.89      0.65      0.71     16443\n",
      "weighted avg       0.93      0.94      0.92     16443\n",
      "\n",
      "Prediction Confusion Matrix:\n",
      "**********************************************************************\n",
      "          Predicted:       \n",
      "                   1      0\n",
      "Actual: 1        428    957\n",
      "        0         83  14975\n"
     ]
    }
   ],
   "source": [
    "model_performance_metrics(true_labels=y_test, predicted_labels=y_pred_xgb_us, classes=[1, 0])"
   ]
  },
  {
   "cell_type": "code",
   "execution_count": 414,
   "metadata": {},
   "outputs": [],
   "source": [
    "y_pred_xgb_us_test = xgb_us.predict(model_test_data)"
   ]
  },
  {
   "cell_type": "code",
   "execution_count": 419,
   "metadata": {},
   "outputs": [
    {
     "data": {
      "text/html": [
       "<div>\n",
       "<style scoped>\n",
       "    .dataframe tbody tr th:only-of-type {\n",
       "        vertical-align: middle;\n",
       "    }\n",
       "\n",
       "    .dataframe tbody tr th {\n",
       "        vertical-align: top;\n",
       "    }\n",
       "\n",
       "    .dataframe thead th {\n",
       "        text-align: right;\n",
       "    }\n",
       "</style>\n",
       "<table border=\"1\" class=\"dataframe\">\n",
       "  <thead>\n",
       "    <tr style=\"text-align: right;\">\n",
       "      <th></th>\n",
       "      <th>education</th>\n",
       "      <th>gender</th>\n",
       "      <th>recruitment_channel</th>\n",
       "      <th>new_Trainings</th>\n",
       "      <th>new_dept</th>\n",
       "      <th>new_rgn</th>\n",
       "      <th>age_group</th>\n",
       "      <th>Rating_cat</th>\n",
       "      <th>Tenure</th>\n",
       "      <th>Training_Score</th>\n",
       "      <th>KPIs_met_gt_80</th>\n",
       "      <th>awards_won</th>\n",
       "      <th>y_pred_xgb</th>\n",
       "      <th>is_promoted</th>\n",
       "      <th>employee_id</th>\n",
       "    </tr>\n",
       "  </thead>\n",
       "  <tbody>\n",
       "    <tr>\n",
       "      <th>0</th>\n",
       "      <td>0</td>\n",
       "      <td>1</td>\n",
       "      <td>2</td>\n",
       "      <td>0</td>\n",
       "      <td>6</td>\n",
       "      <td>7</td>\n",
       "      <td>2</td>\n",
       "      <td>2</td>\n",
       "      <td>0</td>\n",
       "      <td>3</td>\n",
       "      <td>1</td>\n",
       "      <td>0</td>\n",
       "      <td>0</td>\n",
       "      <td>0</td>\n",
       "      <td>8724</td>\n",
       "    </tr>\n",
       "    <tr>\n",
       "      <th>1</th>\n",
       "      <td>0</td>\n",
       "      <td>0</td>\n",
       "      <td>0</td>\n",
       "      <td>0</td>\n",
       "      <td>1</td>\n",
       "      <td>13</td>\n",
       "      <td>2</td>\n",
       "      <td>2</td>\n",
       "      <td>0</td>\n",
       "      <td>1</td>\n",
       "      <td>0</td>\n",
       "      <td>0</td>\n",
       "      <td>0</td>\n",
       "      <td>0</td>\n",
       "      <td>74430</td>\n",
       "    </tr>\n",
       "    <tr>\n",
       "      <th>2</th>\n",
       "      <td>0</td>\n",
       "      <td>1</td>\n",
       "      <td>0</td>\n",
       "      <td>0</td>\n",
       "      <td>5</td>\n",
       "      <td>0</td>\n",
       "      <td>2</td>\n",
       "      <td>0</td>\n",
       "      <td>0</td>\n",
       "      <td>0</td>\n",
       "      <td>0</td>\n",
       "      <td>0</td>\n",
       "      <td>0</td>\n",
       "      <td>0</td>\n",
       "      <td>72255</td>\n",
       "    </tr>\n",
       "    <tr>\n",
       "      <th>3</th>\n",
       "      <td>0</td>\n",
       "      <td>0</td>\n",
       "      <td>0</td>\n",
       "      <td>2</td>\n",
       "      <td>4</td>\n",
       "      <td>0</td>\n",
       "      <td>2</td>\n",
       "      <td>1</td>\n",
       "      <td>2</td>\n",
       "      <td>2</td>\n",
       "      <td>0</td>\n",
       "      <td>0</td>\n",
       "      <td>0</td>\n",
       "      <td>0</td>\n",
       "      <td>38562</td>\n",
       "    </tr>\n",
       "    <tr>\n",
       "      <th>4</th>\n",
       "      <td>0</td>\n",
       "      <td>1</td>\n",
       "      <td>2</td>\n",
       "      <td>0</td>\n",
       "      <td>3</td>\n",
       "      <td>9</td>\n",
       "      <td>2</td>\n",
       "      <td>3</td>\n",
       "      <td>2</td>\n",
       "      <td>2</td>\n",
       "      <td>0</td>\n",
       "      <td>0</td>\n",
       "      <td>0</td>\n",
       "      <td>0</td>\n",
       "      <td>64486</td>\n",
       "    </tr>\n",
       "  </tbody>\n",
       "</table>\n",
       "</div>"
      ],
      "text/plain": [
       "   education  gender  recruitment_channel  new_Trainings  new_dept  new_rgn  \\\n",
       "0          0       1                    2              0         6        7   \n",
       "1          0       0                    0              0         1       13   \n",
       "2          0       1                    0              0         5        0   \n",
       "3          0       0                    0              2         4        0   \n",
       "4          0       1                    2              0         3        9   \n",
       "\n",
       "   age_group  Rating_cat  Tenure  Training_Score  KPIs_met_gt_80  awards_won  \\\n",
       "0          2           2       0               3               1           0   \n",
       "1          2           2       0               1               0           0   \n",
       "2          2           0       0               0               0           0   \n",
       "3          2           1       2               2               0           0   \n",
       "4          2           3       2               2               0           0   \n",
       "\n",
       "   y_pred_xgb  is_promoted  employee_id  \n",
       "0           0            0         8724  \n",
       "1           0            0        74430  \n",
       "2           0            0        72255  \n",
       "3           0            0        38562  \n",
       "4           0            0        64486  "
      ]
     },
     "execution_count": 419,
     "metadata": {},
     "output_type": "execute_result"
    }
   ],
   "source": [
    "model_test_data['is_promoted'] = y_pred_xgb_us_test\n",
    "model_test_data['employee_id'] = raw_test_data_emp_id\n",
    "model_test_data.head()"
   ]
  },
  {
   "cell_type": "code",
   "execution_count": 421,
   "metadata": {},
   "outputs": [
    {
     "data": {
      "text/plain": [
       "0    22725\n",
       "1      765\n",
       "Name: is_promoted, dtype: int64"
      ]
     },
     "execution_count": 421,
     "metadata": {},
     "output_type": "execute_result"
    }
   ],
   "source": [
    "model_test_data.is_promoted.value_counts()"
   ]
  },
  {
   "cell_type": "code",
   "execution_count": 423,
   "metadata": {},
   "outputs": [],
   "source": [
    "model_test_data.to_csv('xgb_sm.csv')"
   ]
  },
  {
   "cell_type": "code",
   "execution_count": 424,
   "metadata": {},
   "outputs": [
    {
     "data": {
      "text/plain": [
       "'C:\\\\Users\\\\anchhabra\\\\HR_Practice_case'"
      ]
     },
     "execution_count": 424,
     "metadata": {},
     "output_type": "execute_result"
    }
   ],
   "source": [
    "os.getcwd()"
   ]
  },
  {
   "cell_type": "code",
   "execution_count": null,
   "metadata": {},
   "outputs": [],
   "source": [
    "# https://github.com/sharmaroshan/HR-Analytics/blob/master/HRAnalytics.ipynb"
   ]
  }
 ],
 "metadata": {
  "kernelspec": {
   "display_name": "Python 3",
   "language": "python",
   "name": "python3"
  },
  "language_info": {
   "codemirror_mode": {
    "name": "ipython",
    "version": 3
   },
   "file_extension": ".py",
   "mimetype": "text/x-python",
   "name": "python",
   "nbconvert_exporter": "python",
   "pygments_lexer": "ipython3",
   "version": "3.7.1"
  }
 },
 "nbformat": 4,
 "nbformat_minor": 2
}
